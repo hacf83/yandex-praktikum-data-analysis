{
 "cells": [
  {
   "cell_type": "code",
   "execution_count": 1,
   "id": "b54fcddd",
   "metadata": {},
   "outputs": [],
   "source": [
    "import pandas as pd\n",
    "import numpy as np\n",
    "from scipy.stats import percentileofscore\n",
    "from statsmodels.stats.weightstats import DescrStatsW, CompareMeans\n",
    "import matplotlib.pyplot as plt\n",
    "import seaborn as sns\n",
    "sns.set_theme(style='darkgrid')\n",
    "sns.set(font_scale=1.2)"
   ]
  },
  {
   "cell_type": "markdown",
   "id": "11d531f2",
   "metadata": {},
   "source": [
    "# Определение перспективного тарифа для телеком-компании"
   ]
  },
  {
   "cell_type": "markdown",
   "id": "8ece0eba",
   "metadata": {},
   "source": [
    "- [Описание проекта](#project_description)\n",
    "- [Загрузка и подготовка данных к анализу](#data_upload_and_preparation)\n",
    "- [Анализ данных](#data_analysis)\n",
    "    - [Минуты разговора](#calls)\n",
    "    - [Количество отправленных сообщений](#messages)\n",
    "    - [Объем интенет-трафика](#internet)\n",
    "    - [Выручка](#revenue)\n",
    "- [Проверка гипотез](#hypothesis_testing)\n",
    "    - [Средняя выручка пользователей тарифов smart и ultra различаются](#hypothesis_1)\n",
    "    - [Средняя выручка пользователей из Москвы отличается от выручки пользователей из других регионов](#hypothesis_2)\n",
    "- [Общий вывод](#conclusion)"
   ]
  },
  {
   "cell_type": "markdown",
   "id": "4b3ab90f",
   "metadata": {},
   "source": [
    "## Описание проекта <a name='project_description'></a>"
   ]
  },
  {
   "cell_type": "markdown",
   "id": "8cc85126",
   "metadata": {},
   "source": [
    "Компания «Мегалайн» – федеральный оператор сотовой связи. Клиентам предлагают два тарифных плана: «Смарт» и «Ультра». Чтобы скорректировать рекламный бюджет, коммерческий департамент хочет понять, какой тариф приносит больше денег."
   ]
  },
  {
   "cell_type": "markdown",
   "id": "126ef364",
   "metadata": {},
   "source": [
    "## Загрузка и подготовка данных к анализу <a name='data_upload_and_preparation'></a>"
   ]
  },
  {
   "cell_type": "markdown",
   "id": "f6185dad",
   "metadata": {},
   "source": [
    "Данные предоставлены за 2018 год."
   ]
  },
  {
   "cell_type": "code",
   "execution_count": 2,
   "id": "4e068679",
   "metadata": {},
   "outputs": [],
   "source": [
    "users = pd.read_csv('datasets/users.csv')\n",
    "users = users.rename(columns={'tariff': 'tariff_name'})\n",
    "tariffs = pd.read_csv('datasets/tariffs.csv')\n",
    "calls = pd.read_csv('datasets/calls.csv')\n",
    "messages = pd.read_csv('datasets/messages.csv')\n",
    "internet = pd.read_csv('datasets/internet.csv', index_col=0)"
   ]
  },
  {
   "cell_type": "markdown",
   "id": "ef44ab8e",
   "metadata": {},
   "source": [
    "<br>"
   ]
  },
  {
   "cell_type": "code",
   "execution_count": 3,
   "id": "625de767",
   "metadata": {},
   "outputs": [
    {
     "data": {
      "text/html": [
       "<div>\n",
       "<style scoped>\n",
       "    .dataframe tbody tr th:only-of-type {\n",
       "        vertical-align: middle;\n",
       "    }\n",
       "\n",
       "    .dataframe tbody tr th {\n",
       "        vertical-align: top;\n",
       "    }\n",
       "\n",
       "    .dataframe thead th {\n",
       "        text-align: right;\n",
       "    }\n",
       "</style>\n",
       "<table border=\"1\" class=\"dataframe\">\n",
       "  <thead>\n",
       "    <tr style=\"text-align: right;\">\n",
       "      <th></th>\n",
       "      <th>user_id</th>\n",
       "      <th>age</th>\n",
       "      <th>churn_date</th>\n",
       "      <th>city</th>\n",
       "      <th>first_name</th>\n",
       "      <th>last_name</th>\n",
       "      <th>reg_date</th>\n",
       "      <th>tariff_name</th>\n",
       "    </tr>\n",
       "  </thead>\n",
       "  <tbody>\n",
       "    <tr>\n",
       "      <th>0</th>\n",
       "      <td>1000</td>\n",
       "      <td>52</td>\n",
       "      <td>NaN</td>\n",
       "      <td>Краснодар</td>\n",
       "      <td>Рафаил</td>\n",
       "      <td>Верещагин</td>\n",
       "      <td>2018-05-25</td>\n",
       "      <td>ultra</td>\n",
       "    </tr>\n",
       "    <tr>\n",
       "      <th>1</th>\n",
       "      <td>1001</td>\n",
       "      <td>41</td>\n",
       "      <td>NaN</td>\n",
       "      <td>Москва</td>\n",
       "      <td>Иван</td>\n",
       "      <td>Ежов</td>\n",
       "      <td>2018-11-01</td>\n",
       "      <td>smart</td>\n",
       "    </tr>\n",
       "    <tr>\n",
       "      <th>2</th>\n",
       "      <td>1002</td>\n",
       "      <td>59</td>\n",
       "      <td>NaN</td>\n",
       "      <td>Стерлитамак</td>\n",
       "      <td>Евгений</td>\n",
       "      <td>Абрамович</td>\n",
       "      <td>2018-06-17</td>\n",
       "      <td>smart</td>\n",
       "    </tr>\n",
       "    <tr>\n",
       "      <th>3</th>\n",
       "      <td>1003</td>\n",
       "      <td>23</td>\n",
       "      <td>NaN</td>\n",
       "      <td>Москва</td>\n",
       "      <td>Белла</td>\n",
       "      <td>Белякова</td>\n",
       "      <td>2018-08-17</td>\n",
       "      <td>ultra</td>\n",
       "    </tr>\n",
       "    <tr>\n",
       "      <th>4</th>\n",
       "      <td>1004</td>\n",
       "      <td>68</td>\n",
       "      <td>NaN</td>\n",
       "      <td>Новокузнецк</td>\n",
       "      <td>Татьяна</td>\n",
       "      <td>Авдеенко</td>\n",
       "      <td>2018-05-14</td>\n",
       "      <td>ultra</td>\n",
       "    </tr>\n",
       "  </tbody>\n",
       "</table>\n",
       "</div>"
      ],
      "text/plain": [
       "   user_id  age churn_date         city first_name  last_name    reg_date  \\\n",
       "0     1000   52        NaN    Краснодар     Рафаил  Верещагин  2018-05-25   \n",
       "1     1001   41        NaN       Москва       Иван       Ежов  2018-11-01   \n",
       "2     1002   59        NaN  Стерлитамак    Евгений  Абрамович  2018-06-17   \n",
       "3     1003   23        NaN       Москва      Белла   Белякова  2018-08-17   \n",
       "4     1004   68        NaN  Новокузнецк    Татьяна   Авдеенко  2018-05-14   \n",
       "\n",
       "  tariff_name  \n",
       "0       ultra  \n",
       "1       smart  \n",
       "2       smart  \n",
       "3       ultra  \n",
       "4       ultra  "
      ]
     },
     "execution_count": 3,
     "metadata": {},
     "output_type": "execute_result"
    }
   ],
   "source": [
    "users.head()"
   ]
  },
  {
   "cell_type": "code",
   "execution_count": 4,
   "id": "83b1cb12",
   "metadata": {},
   "outputs": [
    {
     "name": "stdout",
     "output_type": "stream",
     "text": [
      "<class 'pandas.core.frame.DataFrame'>\n",
      "RangeIndex: 500 entries, 0 to 499\n",
      "Data columns (total 8 columns):\n",
      " #   Column       Non-Null Count  Dtype \n",
      "---  ------       --------------  ----- \n",
      " 0   user_id      500 non-null    int64 \n",
      " 1   age          500 non-null    int64 \n",
      " 2   churn_date   38 non-null     object\n",
      " 3   city         500 non-null    object\n",
      " 4   first_name   500 non-null    object\n",
      " 5   last_name    500 non-null    object\n",
      " 6   reg_date     500 non-null    object\n",
      " 7   tariff_name  500 non-null    object\n",
      "dtypes: int64(2), object(6)\n",
      "memory usage: 31.4+ KB\n"
     ]
    }
   ],
   "source": [
    "users.info()"
   ]
  },
  {
   "cell_type": "markdown",
   "id": "a6dc22c2",
   "metadata": {},
   "source": [
    "Приведем столбцы `reg_date` и `churn_date` к типу `datetime`."
   ]
  },
  {
   "cell_type": "code",
   "execution_count": 5,
   "id": "520bca38",
   "metadata": {},
   "outputs": [],
   "source": [
    "for col in ['reg_date', 'churn_date']:\n",
    "    users[col] = pd.to_datetime(users[col])"
   ]
  },
  {
   "cell_type": "code",
   "execution_count": 6,
   "id": "2fc1baaa",
   "metadata": {},
   "outputs": [
    {
     "data": {
      "text/html": [
       "<div>\n",
       "<style scoped>\n",
       "    .dataframe tbody tr th:only-of-type {\n",
       "        vertical-align: middle;\n",
       "    }\n",
       "\n",
       "    .dataframe tbody tr th {\n",
       "        vertical-align: top;\n",
       "    }\n",
       "\n",
       "    .dataframe thead th {\n",
       "        text-align: right;\n",
       "    }\n",
       "</style>\n",
       "<table border=\"1\" class=\"dataframe\">\n",
       "  <thead>\n",
       "    <tr style=\"text-align: right;\">\n",
       "      <th></th>\n",
       "      <th>messages_included</th>\n",
       "      <th>mb_per_month_included</th>\n",
       "      <th>minutes_included</th>\n",
       "      <th>rub_monthly_fee</th>\n",
       "      <th>rub_per_gb</th>\n",
       "      <th>rub_per_message</th>\n",
       "      <th>rub_per_minute</th>\n",
       "      <th>tariff_name</th>\n",
       "    </tr>\n",
       "  </thead>\n",
       "  <tbody>\n",
       "    <tr>\n",
       "      <th>0</th>\n",
       "      <td>50</td>\n",
       "      <td>15360</td>\n",
       "      <td>500</td>\n",
       "      <td>550</td>\n",
       "      <td>200</td>\n",
       "      <td>3</td>\n",
       "      <td>3</td>\n",
       "      <td>smart</td>\n",
       "    </tr>\n",
       "    <tr>\n",
       "      <th>1</th>\n",
       "      <td>1000</td>\n",
       "      <td>30720</td>\n",
       "      <td>3000</td>\n",
       "      <td>1950</td>\n",
       "      <td>150</td>\n",
       "      <td>1</td>\n",
       "      <td>1</td>\n",
       "      <td>ultra</td>\n",
       "    </tr>\n",
       "  </tbody>\n",
       "</table>\n",
       "</div>"
      ],
      "text/plain": [
       "   messages_included  mb_per_month_included  minutes_included  \\\n",
       "0                 50                  15360               500   \n",
       "1               1000                  30720              3000   \n",
       "\n",
       "   rub_monthly_fee  rub_per_gb  rub_per_message  rub_per_minute tariff_name  \n",
       "0              550         200                3               3       smart  \n",
       "1             1950         150                1               1       ultra  "
      ]
     },
     "execution_count": 6,
     "metadata": {},
     "output_type": "execute_result"
    }
   ],
   "source": [
    "tariffs.head()"
   ]
  },
  {
   "cell_type": "markdown",
   "id": "49a4a996",
   "metadata": {},
   "source": [
    "Переведем объём интернет-трафика, включённого в абонентскую плату, из мегабайт в гигабайты."
   ]
  },
  {
   "cell_type": "code",
   "execution_count": 7,
   "id": "7dd3cab5",
   "metadata": {},
   "outputs": [],
   "source": [
    "tariffs['gb_per_month_included'] = tariffs['mb_per_month_included'] // 1024\n",
    "tariffs = tariffs.drop(columns=['mb_per_month_included'])"
   ]
  },
  {
   "cell_type": "code",
   "execution_count": 8,
   "id": "963ac318",
   "metadata": {},
   "outputs": [
    {
     "data": {
      "text/html": [
       "<div>\n",
       "<style scoped>\n",
       "    .dataframe tbody tr th:only-of-type {\n",
       "        vertical-align: middle;\n",
       "    }\n",
       "\n",
       "    .dataframe tbody tr th {\n",
       "        vertical-align: top;\n",
       "    }\n",
       "\n",
       "    .dataframe thead th {\n",
       "        text-align: right;\n",
       "    }\n",
       "</style>\n",
       "<table border=\"1\" class=\"dataframe\">\n",
       "  <thead>\n",
       "    <tr style=\"text-align: right;\">\n",
       "      <th></th>\n",
       "      <th>id</th>\n",
       "      <th>call_date</th>\n",
       "      <th>duration</th>\n",
       "      <th>user_id</th>\n",
       "    </tr>\n",
       "  </thead>\n",
       "  <tbody>\n",
       "    <tr>\n",
       "      <th>0</th>\n",
       "      <td>1000_0</td>\n",
       "      <td>2018-07-25</td>\n",
       "      <td>0.00</td>\n",
       "      <td>1000</td>\n",
       "    </tr>\n",
       "    <tr>\n",
       "      <th>1</th>\n",
       "      <td>1000_1</td>\n",
       "      <td>2018-08-17</td>\n",
       "      <td>0.00</td>\n",
       "      <td>1000</td>\n",
       "    </tr>\n",
       "    <tr>\n",
       "      <th>2</th>\n",
       "      <td>1000_2</td>\n",
       "      <td>2018-06-11</td>\n",
       "      <td>2.85</td>\n",
       "      <td>1000</td>\n",
       "    </tr>\n",
       "    <tr>\n",
       "      <th>3</th>\n",
       "      <td>1000_3</td>\n",
       "      <td>2018-09-21</td>\n",
       "      <td>13.80</td>\n",
       "      <td>1000</td>\n",
       "    </tr>\n",
       "    <tr>\n",
       "      <th>4</th>\n",
       "      <td>1000_4</td>\n",
       "      <td>2018-12-15</td>\n",
       "      <td>5.18</td>\n",
       "      <td>1000</td>\n",
       "    </tr>\n",
       "  </tbody>\n",
       "</table>\n",
       "</div>"
      ],
      "text/plain": [
       "       id   call_date  duration  user_id\n",
       "0  1000_0  2018-07-25      0.00     1000\n",
       "1  1000_1  2018-08-17      0.00     1000\n",
       "2  1000_2  2018-06-11      2.85     1000\n",
       "3  1000_3  2018-09-21     13.80     1000\n",
       "4  1000_4  2018-12-15      5.18     1000"
      ]
     },
     "execution_count": 8,
     "metadata": {},
     "output_type": "execute_result"
    }
   ],
   "source": [
    "calls.head()"
   ]
  },
  {
   "cell_type": "code",
   "execution_count": 9,
   "id": "6d8e1b51",
   "metadata": {
    "scrolled": true
   },
   "outputs": [
    {
     "name": "stdout",
     "output_type": "stream",
     "text": [
      "<class 'pandas.core.frame.DataFrame'>\n",
      "RangeIndex: 202607 entries, 0 to 202606\n",
      "Data columns (total 4 columns):\n",
      " #   Column     Non-Null Count   Dtype  \n",
      "---  ------     --------------   -----  \n",
      " 0   id         202607 non-null  object \n",
      " 1   call_date  202607 non-null  object \n",
      " 2   duration   202607 non-null  float64\n",
      " 3   user_id    202607 non-null  int64  \n",
      "dtypes: float64(1), int64(1), object(2)\n",
      "memory usage: 6.2+ MB\n"
     ]
    }
   ],
   "source": [
    "calls.info()"
   ]
  },
  {
   "cell_type": "markdown",
   "id": "dab0af6f",
   "metadata": {},
   "source": [
    "Приведем столбец `call_date` к типу `datetime`."
   ]
  },
  {
   "cell_type": "code",
   "execution_count": 10,
   "id": "a9ecd37c",
   "metadata": {},
   "outputs": [],
   "source": [
    "calls['call_date'] = pd.to_datetime(calls['call_date'])"
   ]
  },
  {
   "cell_type": "markdown",
   "id": "de288ac9",
   "metadata": {},
   "source": [
    "Округлим длительность звонка в бо́льшую сторону."
   ]
  },
  {
   "cell_type": "code",
   "execution_count": 11,
   "id": "b937ee9e",
   "metadata": {},
   "outputs": [],
   "source": [
    "calls['duration'] = np.ceil(calls['duration']).astype('int')"
   ]
  },
  {
   "cell_type": "code",
   "execution_count": 12,
   "id": "010af273",
   "metadata": {},
   "outputs": [
    {
     "data": {
      "text/html": [
       "<div>\n",
       "<style scoped>\n",
       "    .dataframe tbody tr th:only-of-type {\n",
       "        vertical-align: middle;\n",
       "    }\n",
       "\n",
       "    .dataframe tbody tr th {\n",
       "        vertical-align: top;\n",
       "    }\n",
       "\n",
       "    .dataframe thead th {\n",
       "        text-align: right;\n",
       "    }\n",
       "</style>\n",
       "<table border=\"1\" class=\"dataframe\">\n",
       "  <thead>\n",
       "    <tr style=\"text-align: right;\">\n",
       "      <th></th>\n",
       "      <th>id</th>\n",
       "      <th>message_date</th>\n",
       "      <th>user_id</th>\n",
       "    </tr>\n",
       "  </thead>\n",
       "  <tbody>\n",
       "    <tr>\n",
       "      <th>0</th>\n",
       "      <td>1000_0</td>\n",
       "      <td>2018-06-27</td>\n",
       "      <td>1000</td>\n",
       "    </tr>\n",
       "    <tr>\n",
       "      <th>1</th>\n",
       "      <td>1000_1</td>\n",
       "      <td>2018-10-08</td>\n",
       "      <td>1000</td>\n",
       "    </tr>\n",
       "    <tr>\n",
       "      <th>2</th>\n",
       "      <td>1000_2</td>\n",
       "      <td>2018-08-04</td>\n",
       "      <td>1000</td>\n",
       "    </tr>\n",
       "    <tr>\n",
       "      <th>3</th>\n",
       "      <td>1000_3</td>\n",
       "      <td>2018-06-16</td>\n",
       "      <td>1000</td>\n",
       "    </tr>\n",
       "    <tr>\n",
       "      <th>4</th>\n",
       "      <td>1000_4</td>\n",
       "      <td>2018-12-05</td>\n",
       "      <td>1000</td>\n",
       "    </tr>\n",
       "  </tbody>\n",
       "</table>\n",
       "</div>"
      ],
      "text/plain": [
       "       id message_date  user_id\n",
       "0  1000_0   2018-06-27     1000\n",
       "1  1000_1   2018-10-08     1000\n",
       "2  1000_2   2018-08-04     1000\n",
       "3  1000_3   2018-06-16     1000\n",
       "4  1000_4   2018-12-05     1000"
      ]
     },
     "execution_count": 12,
     "metadata": {},
     "output_type": "execute_result"
    }
   ],
   "source": [
    "messages.head()"
   ]
  },
  {
   "cell_type": "code",
   "execution_count": 13,
   "id": "c9c788fe",
   "metadata": {},
   "outputs": [
    {
     "name": "stdout",
     "output_type": "stream",
     "text": [
      "<class 'pandas.core.frame.DataFrame'>\n",
      "RangeIndex: 123036 entries, 0 to 123035\n",
      "Data columns (total 3 columns):\n",
      " #   Column        Non-Null Count   Dtype \n",
      "---  ------        --------------   ----- \n",
      " 0   id            123036 non-null  object\n",
      " 1   message_date  123036 non-null  object\n",
      " 2   user_id       123036 non-null  int64 \n",
      "dtypes: int64(1), object(2)\n",
      "memory usage: 2.8+ MB\n"
     ]
    }
   ],
   "source": [
    "messages.info()"
   ]
  },
  {
   "cell_type": "markdown",
   "id": "a63f5b9d",
   "metadata": {},
   "source": [
    "Приведем столбец `message_date` к типу `datetime`."
   ]
  },
  {
   "cell_type": "code",
   "execution_count": 14,
   "id": "48522d9a",
   "metadata": {},
   "outputs": [],
   "source": [
    "messages['message_date'] = pd.to_datetime(messages['message_date'])"
   ]
  },
  {
   "cell_type": "code",
   "execution_count": 15,
   "id": "ca259571",
   "metadata": {},
   "outputs": [
    {
     "data": {
      "text/html": [
       "<div>\n",
       "<style scoped>\n",
       "    .dataframe tbody tr th:only-of-type {\n",
       "        vertical-align: middle;\n",
       "    }\n",
       "\n",
       "    .dataframe tbody tr th {\n",
       "        vertical-align: top;\n",
       "    }\n",
       "\n",
       "    .dataframe thead th {\n",
       "        text-align: right;\n",
       "    }\n",
       "</style>\n",
       "<table border=\"1\" class=\"dataframe\">\n",
       "  <thead>\n",
       "    <tr style=\"text-align: right;\">\n",
       "      <th></th>\n",
       "      <th>id</th>\n",
       "      <th>mb_used</th>\n",
       "      <th>session_date</th>\n",
       "      <th>user_id</th>\n",
       "    </tr>\n",
       "  </thead>\n",
       "  <tbody>\n",
       "    <tr>\n",
       "      <th>0</th>\n",
       "      <td>1000_0</td>\n",
       "      <td>112.95</td>\n",
       "      <td>2018-11-25</td>\n",
       "      <td>1000</td>\n",
       "    </tr>\n",
       "    <tr>\n",
       "      <th>1</th>\n",
       "      <td>1000_1</td>\n",
       "      <td>1052.81</td>\n",
       "      <td>2018-09-07</td>\n",
       "      <td>1000</td>\n",
       "    </tr>\n",
       "    <tr>\n",
       "      <th>2</th>\n",
       "      <td>1000_2</td>\n",
       "      <td>1197.26</td>\n",
       "      <td>2018-06-25</td>\n",
       "      <td>1000</td>\n",
       "    </tr>\n",
       "    <tr>\n",
       "      <th>3</th>\n",
       "      <td>1000_3</td>\n",
       "      <td>550.27</td>\n",
       "      <td>2018-08-22</td>\n",
       "      <td>1000</td>\n",
       "    </tr>\n",
       "    <tr>\n",
       "      <th>4</th>\n",
       "      <td>1000_4</td>\n",
       "      <td>302.56</td>\n",
       "      <td>2018-09-24</td>\n",
       "      <td>1000</td>\n",
       "    </tr>\n",
       "  </tbody>\n",
       "</table>\n",
       "</div>"
      ],
      "text/plain": [
       "       id  mb_used session_date  user_id\n",
       "0  1000_0   112.95   2018-11-25     1000\n",
       "1  1000_1  1052.81   2018-09-07     1000\n",
       "2  1000_2  1197.26   2018-06-25     1000\n",
       "3  1000_3   550.27   2018-08-22     1000\n",
       "4  1000_4   302.56   2018-09-24     1000"
      ]
     },
     "execution_count": 15,
     "metadata": {},
     "output_type": "execute_result"
    }
   ],
   "source": [
    "internet.head()"
   ]
  },
  {
   "cell_type": "code",
   "execution_count": 16,
   "id": "f0f23473",
   "metadata": {},
   "outputs": [
    {
     "name": "stdout",
     "output_type": "stream",
     "text": [
      "<class 'pandas.core.frame.DataFrame'>\n",
      "Int64Index: 149396 entries, 0 to 149395\n",
      "Data columns (total 4 columns):\n",
      " #   Column        Non-Null Count   Dtype  \n",
      "---  ------        --------------   -----  \n",
      " 0   id            149396 non-null  object \n",
      " 1   mb_used       149396 non-null  float64\n",
      " 2   session_date  149396 non-null  object \n",
      " 3   user_id       149396 non-null  int64  \n",
      "dtypes: float64(1), int64(1), object(2)\n",
      "memory usage: 5.7+ MB\n"
     ]
    }
   ],
   "source": [
    "internet.info()"
   ]
  },
  {
   "cell_type": "markdown",
   "id": "a9b9cc2c",
   "metadata": {},
   "source": [
    "Приведем столбец `session_date` к типу `datetime`."
   ]
  },
  {
   "cell_type": "code",
   "execution_count": 17,
   "id": "310bc8ef",
   "metadata": {},
   "outputs": [],
   "source": [
    "internet['session_date'] = pd.to_datetime(internet['session_date'])"
   ]
  },
  {
   "cell_type": "markdown",
   "id": "a9bfb484",
   "metadata": {},
   "source": [
    "<br>"
   ]
  },
  {
   "cell_type": "markdown",
   "id": "d81eee37",
   "metadata": {},
   "source": [
    "Посчитаем для каждого пользователя:"
   ]
  },
  {
   "cell_type": "markdown",
   "id": "a2b253be",
   "metadata": {},
   "source": [
    "* количество сделанных звонков и израсходованных минут разговора по месяцам"
   ]
  },
  {
   "cell_type": "code",
   "execution_count": 18,
   "id": "10a97a6d",
   "metadata": {},
   "outputs": [
    {
     "data": {
      "text/html": [
       "<div>\n",
       "<style scoped>\n",
       "    .dataframe tbody tr th:only-of-type {\n",
       "        vertical-align: middle;\n",
       "    }\n",
       "\n",
       "    .dataframe tbody tr th {\n",
       "        vertical-align: top;\n",
       "    }\n",
       "\n",
       "    .dataframe thead th {\n",
       "        text-align: right;\n",
       "    }\n",
       "</style>\n",
       "<table border=\"1\" class=\"dataframe\">\n",
       "  <thead>\n",
       "    <tr style=\"text-align: right;\">\n",
       "      <th></th>\n",
       "      <th>user_id</th>\n",
       "      <th>month</th>\n",
       "      <th>calls_count</th>\n",
       "      <th>calls_duration</th>\n",
       "    </tr>\n",
       "  </thead>\n",
       "  <tbody>\n",
       "    <tr>\n",
       "      <th>0</th>\n",
       "      <td>1000</td>\n",
       "      <td>August</td>\n",
       "      <td>52</td>\n",
       "      <td>408</td>\n",
       "    </tr>\n",
       "    <tr>\n",
       "      <th>1</th>\n",
       "      <td>1000</td>\n",
       "      <td>December</td>\n",
       "      <td>46</td>\n",
       "      <td>333</td>\n",
       "    </tr>\n",
       "    <tr>\n",
       "      <th>2</th>\n",
       "      <td>1000</td>\n",
       "      <td>July</td>\n",
       "      <td>47</td>\n",
       "      <td>340</td>\n",
       "    </tr>\n",
       "    <tr>\n",
       "      <th>3</th>\n",
       "      <td>1000</td>\n",
       "      <td>June</td>\n",
       "      <td>43</td>\n",
       "      <td>172</td>\n",
       "    </tr>\n",
       "    <tr>\n",
       "      <th>4</th>\n",
       "      <td>1000</td>\n",
       "      <td>May</td>\n",
       "      <td>22</td>\n",
       "      <td>159</td>\n",
       "    </tr>\n",
       "    <tr>\n",
       "      <th>...</th>\n",
       "      <td>...</td>\n",
       "      <td>...</td>\n",
       "      <td>...</td>\n",
       "      <td>...</td>\n",
       "    </tr>\n",
       "    <tr>\n",
       "      <th>3169</th>\n",
       "      <td>1498</td>\n",
       "      <td>September</td>\n",
       "      <td>59</td>\n",
       "      <td>471</td>\n",
       "    </tr>\n",
       "    <tr>\n",
       "      <th>3170</th>\n",
       "      <td>1499</td>\n",
       "      <td>December</td>\n",
       "      <td>69</td>\n",
       "      <td>492</td>\n",
       "    </tr>\n",
       "    <tr>\n",
       "      <th>3171</th>\n",
       "      <td>1499</td>\n",
       "      <td>November</td>\n",
       "      <td>74</td>\n",
       "      <td>612</td>\n",
       "    </tr>\n",
       "    <tr>\n",
       "      <th>3172</th>\n",
       "      <td>1499</td>\n",
       "      <td>October</td>\n",
       "      <td>68</td>\n",
       "      <td>449</td>\n",
       "    </tr>\n",
       "    <tr>\n",
       "      <th>3173</th>\n",
       "      <td>1499</td>\n",
       "      <td>September</td>\n",
       "      <td>9</td>\n",
       "      <td>70</td>\n",
       "    </tr>\n",
       "  </tbody>\n",
       "</table>\n",
       "<p>3174 rows × 4 columns</p>\n",
       "</div>"
      ],
      "text/plain": [
       "      user_id      month  calls_count  calls_duration\n",
       "0        1000     August           52             408\n",
       "1        1000   December           46             333\n",
       "2        1000       July           47             340\n",
       "3        1000       June           43             172\n",
       "4        1000        May           22             159\n",
       "...       ...        ...          ...             ...\n",
       "3169     1498  September           59             471\n",
       "3170     1499   December           69             492\n",
       "3171     1499   November           74             612\n",
       "3172     1499    October           68             449\n",
       "3173     1499  September            9              70\n",
       "\n",
       "[3174 rows x 4 columns]"
      ]
     },
     "execution_count": 18,
     "metadata": {},
     "output_type": "execute_result"
    }
   ],
   "source": [
    "user_calls_by_month = (\n",
    "    calls\n",
    "    .groupby(['user_id', calls['call_date'].dt.month_name()])\n",
    "    .agg({'id': 'count', 'duration': 'sum'})\n",
    "    .reset_index()\n",
    "    .rename(columns={'call_date': 'month', 'id': 'calls_count', 'duration': 'calls_duration'})\n",
    ")\n",
    "\n",
    "user_calls_by_month"
   ]
  },
  {
   "cell_type": "markdown",
   "id": "4f45cd1e",
   "metadata": {},
   "source": [
    "* количество отправленных сообщений по месяцам"
   ]
  },
  {
   "cell_type": "code",
   "execution_count": 19,
   "id": "f028a17c",
   "metadata": {},
   "outputs": [
    {
     "data": {
      "text/html": [
       "<div>\n",
       "<style scoped>\n",
       "    .dataframe tbody tr th:only-of-type {\n",
       "        vertical-align: middle;\n",
       "    }\n",
       "\n",
       "    .dataframe tbody tr th {\n",
       "        vertical-align: top;\n",
       "    }\n",
       "\n",
       "    .dataframe thead th {\n",
       "        text-align: right;\n",
       "    }\n",
       "</style>\n",
       "<table border=\"1\" class=\"dataframe\">\n",
       "  <thead>\n",
       "    <tr style=\"text-align: right;\">\n",
       "      <th></th>\n",
       "      <th>user_id</th>\n",
       "      <th>month</th>\n",
       "      <th>messages_count</th>\n",
       "    </tr>\n",
       "  </thead>\n",
       "  <tbody>\n",
       "    <tr>\n",
       "      <th>0</th>\n",
       "      <td>1000</td>\n",
       "      <td>August</td>\n",
       "      <td>81</td>\n",
       "    </tr>\n",
       "    <tr>\n",
       "      <th>1</th>\n",
       "      <td>1000</td>\n",
       "      <td>December</td>\n",
       "      <td>70</td>\n",
       "    </tr>\n",
       "    <tr>\n",
       "      <th>2</th>\n",
       "      <td>1000</td>\n",
       "      <td>July</td>\n",
       "      <td>75</td>\n",
       "    </tr>\n",
       "    <tr>\n",
       "      <th>3</th>\n",
       "      <td>1000</td>\n",
       "      <td>June</td>\n",
       "      <td>60</td>\n",
       "    </tr>\n",
       "    <tr>\n",
       "      <th>4</th>\n",
       "      <td>1000</td>\n",
       "      <td>May</td>\n",
       "      <td>22</td>\n",
       "    </tr>\n",
       "    <tr>\n",
       "      <th>...</th>\n",
       "      <td>...</td>\n",
       "      <td>...</td>\n",
       "      <td>...</td>\n",
       "    </tr>\n",
       "    <tr>\n",
       "      <th>2712</th>\n",
       "      <td>1498</td>\n",
       "      <td>September</td>\n",
       "      <td>44</td>\n",
       "    </tr>\n",
       "    <tr>\n",
       "      <th>2713</th>\n",
       "      <td>1499</td>\n",
       "      <td>December</td>\n",
       "      <td>66</td>\n",
       "    </tr>\n",
       "    <tr>\n",
       "      <th>2714</th>\n",
       "      <td>1499</td>\n",
       "      <td>November</td>\n",
       "      <td>59</td>\n",
       "    </tr>\n",
       "    <tr>\n",
       "      <th>2715</th>\n",
       "      <td>1499</td>\n",
       "      <td>October</td>\n",
       "      <td>48</td>\n",
       "    </tr>\n",
       "    <tr>\n",
       "      <th>2716</th>\n",
       "      <td>1499</td>\n",
       "      <td>September</td>\n",
       "      <td>11</td>\n",
       "    </tr>\n",
       "  </tbody>\n",
       "</table>\n",
       "<p>2717 rows × 3 columns</p>\n",
       "</div>"
      ],
      "text/plain": [
       "      user_id      month  messages_count\n",
       "0        1000     August              81\n",
       "1        1000   December              70\n",
       "2        1000       July              75\n",
       "3        1000       June              60\n",
       "4        1000        May              22\n",
       "...       ...        ...             ...\n",
       "2712     1498  September              44\n",
       "2713     1499   December              66\n",
       "2714     1499   November              59\n",
       "2715     1499    October              48\n",
       "2716     1499  September              11\n",
       "\n",
       "[2717 rows x 3 columns]"
      ]
     },
     "execution_count": 19,
     "metadata": {},
     "output_type": "execute_result"
    }
   ],
   "source": [
    "user_messages_by_month = (\n",
    "    messages\n",
    "    .groupby(['user_id', messages['message_date'].dt.month_name()])\n",
    "    .agg({'id': 'count'})\n",
    "    .reset_index()\n",
    "    .rename(columns={'message_date': 'month', 'id': 'messages_count'})\n",
    ")\n",
    "\n",
    "user_messages_by_month"
   ]
  },
  {
   "cell_type": "markdown",
   "id": "eb0e83cf",
   "metadata": {},
   "source": [
    "* объем израсходованного интернет-трафика по месяцам"
   ]
  },
  {
   "cell_type": "code",
   "execution_count": 20,
   "id": "7e3ef44c",
   "metadata": {},
   "outputs": [
    {
     "data": {
      "text/html": [
       "<div>\n",
       "<style scoped>\n",
       "    .dataframe tbody tr th:only-of-type {\n",
       "        vertical-align: middle;\n",
       "    }\n",
       "\n",
       "    .dataframe tbody tr th {\n",
       "        vertical-align: top;\n",
       "    }\n",
       "\n",
       "    .dataframe thead th {\n",
       "        text-align: right;\n",
       "    }\n",
       "</style>\n",
       "<table border=\"1\" class=\"dataframe\">\n",
       "  <thead>\n",
       "    <tr style=\"text-align: right;\">\n",
       "      <th></th>\n",
       "      <th>user_id</th>\n",
       "      <th>month</th>\n",
       "      <th>gb_used</th>\n",
       "    </tr>\n",
       "  </thead>\n",
       "  <tbody>\n",
       "    <tr>\n",
       "      <th>0</th>\n",
       "      <td>1000</td>\n",
       "      <td>August</td>\n",
       "      <td>14</td>\n",
       "    </tr>\n",
       "    <tr>\n",
       "      <th>1</th>\n",
       "      <td>1000</td>\n",
       "      <td>December</td>\n",
       "      <td>10</td>\n",
       "    </tr>\n",
       "    <tr>\n",
       "      <th>2</th>\n",
       "      <td>1000</td>\n",
       "      <td>July</td>\n",
       "      <td>14</td>\n",
       "    </tr>\n",
       "    <tr>\n",
       "      <th>3</th>\n",
       "      <td>1000</td>\n",
       "      <td>June</td>\n",
       "      <td>23</td>\n",
       "    </tr>\n",
       "    <tr>\n",
       "      <th>4</th>\n",
       "      <td>1000</td>\n",
       "      <td>May</td>\n",
       "      <td>3</td>\n",
       "    </tr>\n",
       "    <tr>\n",
       "      <th>...</th>\n",
       "      <td>...</td>\n",
       "      <td>...</td>\n",
       "      <td>...</td>\n",
       "    </tr>\n",
       "    <tr>\n",
       "      <th>3198</th>\n",
       "      <td>1498</td>\n",
       "      <td>September</td>\n",
       "      <td>22</td>\n",
       "    </tr>\n",
       "    <tr>\n",
       "      <th>3199</th>\n",
       "      <td>1499</td>\n",
       "      <td>December</td>\n",
       "      <td>13</td>\n",
       "    </tr>\n",
       "    <tr>\n",
       "      <th>3200</th>\n",
       "      <td>1499</td>\n",
       "      <td>November</td>\n",
       "      <td>18</td>\n",
       "    </tr>\n",
       "    <tr>\n",
       "      <th>3201</th>\n",
       "      <td>1499</td>\n",
       "      <td>October</td>\n",
       "      <td>18</td>\n",
       "    </tr>\n",
       "    <tr>\n",
       "      <th>3202</th>\n",
       "      <td>1499</td>\n",
       "      <td>September</td>\n",
       "      <td>2</td>\n",
       "    </tr>\n",
       "  </tbody>\n",
       "</table>\n",
       "<p>3203 rows × 3 columns</p>\n",
       "</div>"
      ],
      "text/plain": [
       "      user_id      month  gb_used\n",
       "0        1000     August       14\n",
       "1        1000   December       10\n",
       "2        1000       July       14\n",
       "3        1000       June       23\n",
       "4        1000        May        3\n",
       "...       ...        ...      ...\n",
       "3198     1498  September       22\n",
       "3199     1499   December       13\n",
       "3200     1499   November       18\n",
       "3201     1499    October       18\n",
       "3202     1499  September        2\n",
       "\n",
       "[3203 rows x 3 columns]"
      ]
     },
     "execution_count": 20,
     "metadata": {},
     "output_type": "execute_result"
    }
   ],
   "source": [
    "user_internet_by_month = (\n",
    "    internet\n",
    "    .groupby(['user_id', internet['session_date'].dt.month_name()])\n",
    "    .agg({'mb_used': lambda x: int(np.ceil(sum(x) / 1024))})\n",
    "    .reset_index()\n",
    "    .rename(columns={'session_date': 'month', 'mb_used': 'gb_used'})\n",
    ")\n",
    "\n",
    "user_internet_by_month"
   ]
  },
  {
   "cell_type": "markdown",
   "id": "e890756c",
   "metadata": {},
   "source": [
    "* помесячную выручку с каждого пользователя"
   ]
  },
  {
   "cell_type": "code",
   "execution_count": 21,
   "id": "d5a49fc7",
   "metadata": {
    "scrolled": false
   },
   "outputs": [
    {
     "data": {
      "text/html": [
       "<div>\n",
       "<style scoped>\n",
       "    .dataframe tbody tr th:only-of-type {\n",
       "        vertical-align: middle;\n",
       "    }\n",
       "\n",
       "    .dataframe tbody tr th {\n",
       "        vertical-align: top;\n",
       "    }\n",
       "\n",
       "    .dataframe thead th {\n",
       "        text-align: right;\n",
       "    }\n",
       "</style>\n",
       "<table border=\"1\" class=\"dataframe\">\n",
       "  <thead>\n",
       "    <tr style=\"text-align: right;\">\n",
       "      <th></th>\n",
       "      <th>user_id</th>\n",
       "      <th>month</th>\n",
       "      <th>revenue</th>\n",
       "    </tr>\n",
       "  </thead>\n",
       "  <tbody>\n",
       "    <tr>\n",
       "      <th>0</th>\n",
       "      <td>1000</td>\n",
       "      <td>August</td>\n",
       "      <td>1950.0</td>\n",
       "    </tr>\n",
       "    <tr>\n",
       "      <th>1</th>\n",
       "      <td>1000</td>\n",
       "      <td>December</td>\n",
       "      <td>1950.0</td>\n",
       "    </tr>\n",
       "    <tr>\n",
       "      <th>2</th>\n",
       "      <td>1000</td>\n",
       "      <td>July</td>\n",
       "      <td>1950.0</td>\n",
       "    </tr>\n",
       "    <tr>\n",
       "      <th>3</th>\n",
       "      <td>1000</td>\n",
       "      <td>June</td>\n",
       "      <td>1950.0</td>\n",
       "    </tr>\n",
       "    <tr>\n",
       "      <th>4</th>\n",
       "      <td>1000</td>\n",
       "      <td>May</td>\n",
       "      <td>1950.0</td>\n",
       "    </tr>\n",
       "    <tr>\n",
       "      <th>...</th>\n",
       "      <td>...</td>\n",
       "      <td>...</td>\n",
       "      <td>...</td>\n",
       "    </tr>\n",
       "    <tr>\n",
       "      <th>3209</th>\n",
       "      <td>1489</td>\n",
       "      <td>August</td>\n",
       "      <td>550.0</td>\n",
       "    </tr>\n",
       "    <tr>\n",
       "      <th>3210</th>\n",
       "      <td>1489</td>\n",
       "      <td>December</td>\n",
       "      <td>950.0</td>\n",
       "    </tr>\n",
       "    <tr>\n",
       "      <th>3211</th>\n",
       "      <td>1489</td>\n",
       "      <td>November</td>\n",
       "      <td>1150.0</td>\n",
       "    </tr>\n",
       "    <tr>\n",
       "      <th>3212</th>\n",
       "      <td>1489</td>\n",
       "      <td>October</td>\n",
       "      <td>1550.0</td>\n",
       "    </tr>\n",
       "    <tr>\n",
       "      <th>3213</th>\n",
       "      <td>1489</td>\n",
       "      <td>September</td>\n",
       "      <td>950.0</td>\n",
       "    </tr>\n",
       "  </tbody>\n",
       "</table>\n",
       "<p>3214 rows × 3 columns</p>\n",
       "</div>"
      ],
      "text/plain": [
       "      user_id      month  revenue\n",
       "0        1000     August   1950.0\n",
       "1        1000   December   1950.0\n",
       "2        1000       July   1950.0\n",
       "3        1000       June   1950.0\n",
       "4        1000        May   1950.0\n",
       "...       ...        ...      ...\n",
       "3209     1489     August    550.0\n",
       "3210     1489   December    950.0\n",
       "3211     1489   November   1150.0\n",
       "3212     1489    October   1550.0\n",
       "3213     1489  September    950.0\n",
       "\n",
       "[3214 rows x 3 columns]"
      ]
     },
     "execution_count": 21,
     "metadata": {},
     "output_type": "execute_result"
    }
   ],
   "source": [
    "def get_revenue(info):\n",
    "    total_fee = info['rub_monthly_fee']\n",
    "    total_fee += max(info['rub_per_minute'] * (info['calls_duration'] - info['minutes_included']), 0) \\\n",
    "               + max(info['rub_per_message'] * (info['messages_count'] - info['messages_included']), 0) \\\n",
    "               + max(info['rub_per_gb'] * (info['gb_used'] - info['gb_per_month_included']), 0)\n",
    "    return total_fee\n",
    "\n",
    "\n",
    "users_monthly_info = (\n",
    "    user_calls_by_month[['user_id', 'month', 'calls_duration']]\n",
    "    .merge(user_messages_by_month, on=['user_id', 'month'], how='outer')\n",
    "    .merge(user_internet_by_month, on=['user_id', 'month'], how='outer')\n",
    "    .fillna(0)\n",
    "    .merge(users[['user_id', 'tariff_name']], on='user_id')\n",
    "    .merge(tariffs, on='tariff_name')\n",
    ")\n",
    "\n",
    "users_monthly_info['revenue'] = users_monthly_info.apply(get_revenue, axis=1)\n",
    "\n",
    "users_monthly_revenue = users_monthly_info[['user_id', 'month', 'revenue']]\n",
    "users_monthly_revenue"
   ]
  },
  {
   "cell_type": "markdown",
   "id": "97dc4b82",
   "metadata": {},
   "source": [
    "## Анализ данных <a name='data_analysis'></a>"
   ]
  },
  {
   "cell_type": "code",
   "execution_count": 22,
   "id": "018ef0d7",
   "metadata": {},
   "outputs": [],
   "source": [
    "def plot_hists(df, col, label, by, suptitle):\n",
    "    df = df.merge(users[['user_id', by]], on='user_id')\n",
    "    fig, ax = plt.subplots(nrows=1, ncols=2, figsize=(15, 5), sharey=True)\n",
    "    for i, (by_name, fc) in enumerate(zip(df[by].unique(), np.array(sns.color_palette('Paired'))[[6, 8]])):\n",
    "        values = df.loc[df[by] == by_name, col]\n",
    "        median, mean = values.agg(['median', 'mean'])\n",
    "        sns.histplot(\n",
    "            values,\n",
    "            stat='density',\n",
    "            bins=int(1.72 * (len(values))**(1/3)),\n",
    "            ax=ax[i],\n",
    "            color=fc\n",
    "        )\n",
    "        patches = ax[i].patches\n",
    "        bin_edges = np.array([patch.get_x() for patch in patches])\n",
    "        ax[i].vlines(x=median, ymin=0, ymax=patches[np.argmax(bin_edges > median) - 1].get_height(), color='green', label='медиана')\n",
    "        ax[i].vlines(x=mean, ymin=0, ymax=patches[np.argmax(bin_edges > mean) - 1].get_height(), color='red', label='среднее')\n",
    "        ax[i].set_xlabel(label)\n",
    "        ax[i].set_ylabel('Плотность частоты')\n",
    "        ax[i].set_title(by_name)\n",
    "        ax[i].legend()\n",
    "    plt.suptitle(suptitle)\n",
    "    plt.show()"
   ]
  },
  {
   "cell_type": "code",
   "execution_count": 23,
   "id": "4c58bd98",
   "metadata": {},
   "outputs": [],
   "source": [
    "def get_col_statistics(df, col, by):\n",
    "    df = df.merge(users[['user_id', by]], on='user_id')\n",
    "    statistics = df.groupby(by)[col].describe().round(2)\n",
    "    return statistics                   "
   ]
  },
  {
   "cell_type": "code",
   "execution_count": 24,
   "id": "3dd542df",
   "metadata": {},
   "outputs": [],
   "source": [
    "def get_col_above_tariff_statistics(df, col, col_included):\n",
    "    df = (\n",
    "        df\n",
    "        .merge(users[['user_id', 'tariff_name']], on='user_id')\n",
    "        .merge(tariffs, on='tariff_name')\n",
    "    )\n",
    "    abobe_tariff_statistics = pd.DataFrame()\n",
    "    for name, group in df.groupby(['tariff_name', col_included]):\n",
    "        tariff_name, included = name\n",
    "        above_tariff = round(100 - percentileofscore(df.loc[df['tariff_name'] == tariff_name, col], included), 1)\n",
    "        abobe_tariff_statistics = abobe_tariff_statistics.append({\n",
    "            'tariff': tariff_name,\n",
    "            col_included: included,\n",
    "            'above_tariff %': above_tariff\n",
    "        }, ignore_index=True)\n",
    "    return abobe_tariff_statistics"
   ]
  },
  {
   "cell_type": "code",
   "execution_count": 25,
   "id": "b17a88c5",
   "metadata": {},
   "outputs": [],
   "source": [
    "def make_monthly_barplot_by_tariff(df, col, label, title):\n",
    "    df = df.merge(users[['user_id', 'tariff_name']], on='user_id')\n",
    "    months = ['January', 'February', 'March', 'April', 'May', 'June',\n",
    "          'July', 'August', 'September', 'October', 'November', 'December']\n",
    "    df['month'] = pd.Categorical(df['month'], categories=months, ordered=True)\n",
    "    df = df.sort_values(['month', 'tariff_name'])\n",
    "    \n",
    "    plt.figure(figsize=(14, 7))\n",
    "    ax = sns.barplot(\n",
    "        x='month', y=col,\n",
    "        data=df,\n",
    "        hue='tariff_name',\n",
    "        errorbar=None,\n",
    "        palette='Set2'\n",
    "    )\n",
    "    ax.set_xlabel('Месяц')\n",
    "    ax.set_ylabel(label)\n",
    "    ax.set_title(title)\n",
    "    plt.legend(title='Тариф')"
   ]
  },
  {
   "cell_type": "markdown",
   "id": "137453ae",
   "metadata": {},
   "source": [
    "### Минуты разговора <a name='calls'></a>"
   ]
  },
  {
   "cell_type": "code",
   "execution_count": 26,
   "id": "560c97b8",
   "metadata": {
    "scrolled": false
   },
   "outputs": [
    {
     "data": {
      "image/png": "[encoded data removed]",
      "text/plain": [
       "<Figure size 1080x360 with 2 Axes>"
      ]
     },
     "metadata": {},
     "output_type": "display_data"
    }
   ],
   "source": [
    "plot_hists(\n",
    "    user_calls_by_month,\n",
    "    'calls_duration', \n",
    "    'Минуты разговора пользователей в месяц',\n",
    "    'tariff_name',\n",
    "    'Гистограммы плотностей минут разговора пользователей в месяц по тарифам'\n",
    ")"
   ]
  },
  {
   "cell_type": "code",
   "execution_count": 27,
   "id": "8968605f",
   "metadata": {},
   "outputs": [
    {
     "data": {
      "text/html": [
       "<div>\n",
       "<style scoped>\n",
       "    .dataframe tbody tr th:only-of-type {\n",
       "        vertical-align: middle;\n",
       "    }\n",
       "\n",
       "    .dataframe tbody tr th {\n",
       "        vertical-align: top;\n",
       "    }\n",
       "\n",
       "    .dataframe thead th {\n",
       "        text-align: right;\n",
       "    }\n",
       "</style>\n",
       "<table border=\"1\" class=\"dataframe\">\n",
       "  <thead>\n",
       "    <tr style=\"text-align: right;\">\n",
       "      <th></th>\n",
       "      <th>count</th>\n",
       "      <th>mean</th>\n",
       "      <th>std</th>\n",
       "      <th>min</th>\n",
       "      <th>25%</th>\n",
       "      <th>50%</th>\n",
       "      <th>75%</th>\n",
       "      <th>max</th>\n",
       "    </tr>\n",
       "    <tr>\n",
       "      <th>tariff_name</th>\n",
       "      <th></th>\n",
       "      <th></th>\n",
       "      <th></th>\n",
       "      <th></th>\n",
       "      <th></th>\n",
       "      <th></th>\n",
       "      <th></th>\n",
       "      <th></th>\n",
       "    </tr>\n",
       "  </thead>\n",
       "  <tbody>\n",
       "    <tr>\n",
       "      <th>smart</th>\n",
       "      <td>2223.0</td>\n",
       "      <td>419.06</td>\n",
       "      <td>189.33</td>\n",
       "      <td>0.0</td>\n",
       "      <td>285.0</td>\n",
       "      <td>423.0</td>\n",
       "      <td>545.5</td>\n",
       "      <td>1435.0</td>\n",
       "    </tr>\n",
       "    <tr>\n",
       "      <th>ultra</th>\n",
       "      <td>951.0</td>\n",
       "      <td>545.45</td>\n",
       "      <td>306.93</td>\n",
       "      <td>0.0</td>\n",
       "      <td>310.0</td>\n",
       "      <td>528.0</td>\n",
       "      <td>756.5</td>\n",
       "      <td>1673.0</td>\n",
       "    </tr>\n",
       "  </tbody>\n",
       "</table>\n",
       "</div>"
      ],
      "text/plain": [
       "              count    mean     std  min    25%    50%    75%     max\n",
       "tariff_name                                                          \n",
       "smart        2223.0  419.06  189.33  0.0  285.0  423.0  545.5  1435.0\n",
       "ultra         951.0  545.45  306.93  0.0  310.0  528.0  756.5  1673.0"
      ]
     },
     "execution_count": 27,
     "metadata": {},
     "output_type": "execute_result"
    }
   ],
   "source": [
    "get_col_statistics(user_calls_by_month, 'calls_duration', 'tariff_name')"
   ]
  },
  {
   "cell_type": "code",
   "execution_count": 28,
   "id": "c2f9ef26",
   "metadata": {},
   "outputs": [
    {
     "data": {
      "text/html": [
       "<div>\n",
       "<style scoped>\n",
       "    .dataframe tbody tr th:only-of-type {\n",
       "        vertical-align: middle;\n",
       "    }\n",
       "\n",
       "    .dataframe tbody tr th {\n",
       "        vertical-align: top;\n",
       "    }\n",
       "\n",
       "    .dataframe thead th {\n",
       "        text-align: right;\n",
       "    }\n",
       "</style>\n",
       "<table border=\"1\" class=\"dataframe\">\n",
       "  <thead>\n",
       "    <tr style=\"text-align: right;\">\n",
       "      <th></th>\n",
       "      <th>tariff</th>\n",
       "      <th>minutes_included</th>\n",
       "      <th>above_tariff %</th>\n",
       "    </tr>\n",
       "  </thead>\n",
       "  <tbody>\n",
       "    <tr>\n",
       "      <th>0</th>\n",
       "      <td>smart</td>\n",
       "      <td>500.0</td>\n",
       "      <td>34.0</td>\n",
       "    </tr>\n",
       "    <tr>\n",
       "      <th>1</th>\n",
       "      <td>ultra</td>\n",
       "      <td>3000.0</td>\n",
       "      <td>0.0</td>\n",
       "    </tr>\n",
       "  </tbody>\n",
       "</table>\n",
       "</div>"
      ],
      "text/plain": [
       "  tariff  minutes_included  above_tariff %\n",
       "0  smart             500.0            34.0\n",
       "1  ultra            3000.0             0.0"
      ]
     },
     "execution_count": 28,
     "metadata": {},
     "output_type": "execute_result"
    }
   ],
   "source": [
    "get_col_above_tariff_statistics(user_calls_by_month, 'calls_duration', 'minutes_included')"
   ]
  },
  {
   "cell_type": "markdown",
   "id": "1105a657",
   "metadata": {},
   "source": [
    "* Распределение по smart-тарифу более-менее симметрично. Распределение по ultra-тарифу скошено вправо\n",
    "\n",
    "* У тарифа ultra медиана, среднее и стандартное отклонение больше\n",
    "\n",
    "* По тарифу smart 34% пользований с дополнительными минутами разговора. По тарифу ultra такого не наблюдается, так как у него в 6 раз больше включенных минут. Максимальное время разговора в 2 раза меньше, чем включено\n",
    "\n",
    "* Нулевые по продолжительности звонки являются пропущенным"
   ]
  },
  {
   "cell_type": "code",
   "execution_count": 29,
   "id": "5b7e6ec0",
   "metadata": {},
   "outputs": [
    {
     "data": {
      "image/png": "[encoded data removed]",
      "text/plain": [
       "<Figure size 1008x504 with 1 Axes>"
      ]
     },
     "metadata": {},
     "output_type": "display_data"
    }
   ],
   "source": [
    "make_monthly_barplot_by_tariff(\n",
    "    user_calls_by_month, \n",
    "    'calls_duration',\n",
    "    'Среднее время разговора',\n",
    "    'Среднее месячное время разговора по тарифам'\n",
    ")"
   ]
  },
  {
   "cell_type": "markdown",
   "id": "5d6e45c5",
   "metadata": {},
   "source": [
    "* В феврале по тарифу ultra среднее время разговора сильно снизилось\n",
    "\n",
    "* Есть положительный тренд среднего времени разговора по обоим тарифам"
   ]
  },
  {
   "cell_type": "markdown",
   "id": "ee90cc36",
   "metadata": {},
   "source": [
    "### Количество отправленных сообщений <a name='messages'></a>"
   ]
  },
  {
   "cell_type": "code",
   "execution_count": 30,
   "id": "c42923e1",
   "metadata": {},
   "outputs": [
    {
     "data": {
      "image/png": "[encoded data removed]",
      "text/plain": [
       "<Figure size 1080x360 with 2 Axes>"
      ]
     },
     "metadata": {},
     "output_type": "display_data"
    }
   ],
   "source": [
    "plot_hists(\n",
    "    user_messages_by_month,\n",
    "    'messages_count', \n",
    "    'Кол-во отправленных пользователей сообщений в месяц',\n",
    "    'tariff_name',\n",
    "    'Гистограммы плотностей кол-ва отправленных пользователей сообщений в месяц по тарифам'\n",
    ")"
   ]
  },
  {
   "cell_type": "code",
   "execution_count": 31,
   "id": "0e05a0bd",
   "metadata": {},
   "outputs": [
    {
     "data": {
      "text/html": [
       "<div>\n",
       "<style scoped>\n",
       "    .dataframe tbody tr th:only-of-type {\n",
       "        vertical-align: middle;\n",
       "    }\n",
       "\n",
       "    .dataframe tbody tr th {\n",
       "        vertical-align: top;\n",
       "    }\n",
       "\n",
       "    .dataframe thead th {\n",
       "        text-align: right;\n",
       "    }\n",
       "</style>\n",
       "<table border=\"1\" class=\"dataframe\">\n",
       "  <thead>\n",
       "    <tr style=\"text-align: right;\">\n",
       "      <th></th>\n",
       "      <th>count</th>\n",
       "      <th>mean</th>\n",
       "      <th>std</th>\n",
       "      <th>min</th>\n",
       "      <th>25%</th>\n",
       "      <th>50%</th>\n",
       "      <th>75%</th>\n",
       "      <th>max</th>\n",
       "    </tr>\n",
       "    <tr>\n",
       "      <th>tariff_name</th>\n",
       "      <th></th>\n",
       "      <th></th>\n",
       "      <th></th>\n",
       "      <th></th>\n",
       "      <th></th>\n",
       "      <th></th>\n",
       "      <th></th>\n",
       "      <th></th>\n",
       "    </tr>\n",
       "  </thead>\n",
       "  <tbody>\n",
       "    <tr>\n",
       "      <th>smart</th>\n",
       "      <td>1922.0</td>\n",
       "      <td>38.72</td>\n",
       "      <td>26.79</td>\n",
       "      <td>1.0</td>\n",
       "      <td>17.0</td>\n",
       "      <td>34.0</td>\n",
       "      <td>55.0</td>\n",
       "      <td>143.0</td>\n",
       "    </tr>\n",
       "    <tr>\n",
       "      <th>ultra</th>\n",
       "      <td>795.0</td>\n",
       "      <td>61.16</td>\n",
       "      <td>45.93</td>\n",
       "      <td>1.0</td>\n",
       "      <td>24.0</td>\n",
       "      <td>51.0</td>\n",
       "      <td>87.5</td>\n",
       "      <td>224.0</td>\n",
       "    </tr>\n",
       "  </tbody>\n",
       "</table>\n",
       "</div>"
      ],
      "text/plain": [
       "              count   mean    std  min   25%   50%   75%    max\n",
       "tariff_name                                                    \n",
       "smart        1922.0  38.72  26.79  1.0  17.0  34.0  55.0  143.0\n",
       "ultra         795.0  61.16  45.93  1.0  24.0  51.0  87.5  224.0"
      ]
     },
     "execution_count": 31,
     "metadata": {},
     "output_type": "execute_result"
    }
   ],
   "source": [
    "get_col_statistics(user_messages_by_month, 'messages_count', 'tariff_name')"
   ]
  },
  {
   "cell_type": "code",
   "execution_count": 32,
   "id": "dd5dbda9",
   "metadata": {},
   "outputs": [
    {
     "data": {
      "text/html": [
       "<div>\n",
       "<style scoped>\n",
       "    .dataframe tbody tr th:only-of-type {\n",
       "        vertical-align: middle;\n",
       "    }\n",
       "\n",
       "    .dataframe tbody tr th {\n",
       "        vertical-align: top;\n",
       "    }\n",
       "\n",
       "    .dataframe thead th {\n",
       "        text-align: right;\n",
       "    }\n",
       "</style>\n",
       "<table border=\"1\" class=\"dataframe\">\n",
       "  <thead>\n",
       "    <tr style=\"text-align: right;\">\n",
       "      <th></th>\n",
       "      <th>tariff</th>\n",
       "      <th>messages_included</th>\n",
       "      <th>above_tariff %</th>\n",
       "    </tr>\n",
       "  </thead>\n",
       "  <tbody>\n",
       "    <tr>\n",
       "      <th>0</th>\n",
       "      <td>smart</td>\n",
       "      <td>50.0</td>\n",
       "      <td>29.8</td>\n",
       "    </tr>\n",
       "    <tr>\n",
       "      <th>1</th>\n",
       "      <td>ultra</td>\n",
       "      <td>1000.0</td>\n",
       "      <td>0.0</td>\n",
       "    </tr>\n",
       "  </tbody>\n",
       "</table>\n",
       "</div>"
      ],
      "text/plain": [
       "  tariff  messages_included  above_tariff %\n",
       "0  smart               50.0            29.8\n",
       "1  ultra             1000.0             0.0"
      ]
     },
     "execution_count": 32,
     "metadata": {},
     "output_type": "execute_result"
    }
   ],
   "source": [
    "get_col_above_tariff_statistics(user_messages_by_month, 'messages_count', 'messages_included')"
   ]
  },
  {
   "cell_type": "markdown",
   "id": "1bc140f3",
   "metadata": {},
   "source": [
    "* Оба распределения скошены вправо\n",
    "\n",
    "* Медиана, среднее и стандартное отклонение больше у тарифа ultra\n",
    "\n",
    "* По тарифу smart около 30% пользований превышают лимит по количеству отправленных сообщений. Как и с минутами разговора у тарифа smart не такие щедрые условия"
   ]
  },
  {
   "cell_type": "code",
   "execution_count": 33,
   "id": "1ec00655",
   "metadata": {},
   "outputs": [
    {
     "data": {
      "image/png": "[encoded data removed]",
      "text/plain": [
       "<Figure size 1008x504 with 1 Axes>"
      ]
     },
     "metadata": {},
     "output_type": "display_data"
    }
   ],
   "source": [
    "make_monthly_barplot_by_tariff(\n",
    "    user_messages_by_month, \n",
    "    'messages_count',\n",
    "    'Среднее кол-во сообщений',\n",
    "    'Среднее месячное кол-во сообщений по тарифам'\n",
    ")"
   ]
  },
  {
   "cell_type": "markdown",
   "id": "538b9875",
   "metadata": {},
   "source": [
    "* В феврале по тарифу ultra также сильно снизилось среднее количество сообщений\n",
    "\n",
    "* У smart-тарифа среднее количество сообщений особо не менялось с мая по ноябрь\n",
    "\n",
    "* В основном динамика среднего количества сообщений положительная по обоим тарифам"
   ]
  },
  {
   "cell_type": "markdown",
   "id": "f4f58303",
   "metadata": {},
   "source": [
    "### Объем интенет-трафика <a name='internet'></a>"
   ]
  },
  {
   "cell_type": "code",
   "execution_count": 34,
   "id": "ffb209b3",
   "metadata": {},
   "outputs": [
    {
     "data": {
      "image/png": "[encoded data removed]",
      "text/plain": [
       "<Figure size 1080x360 with 2 Axes>"
      ]
     },
     "metadata": {},
     "output_type": "display_data"
    }
   ],
   "source": [
    "plot_hists(\n",
    "    user_internet_by_month,\n",
    "    'gb_used', \n",
    "    'Объем интернет-трафика пользователей в месяц',\n",
    "    'tariff_name',\n",
    "    'Гистограммы плотностей объема интернет-трафика пользователей в месяц по тарифам'\n",
    ")"
   ]
  },
  {
   "cell_type": "code",
   "execution_count": 35,
   "id": "eca5e6fc",
   "metadata": {
    "scrolled": true
   },
   "outputs": [
    {
     "data": {
      "text/html": [
       "<div>\n",
       "<style scoped>\n",
       "    .dataframe tbody tr th:only-of-type {\n",
       "        vertical-align: middle;\n",
       "    }\n",
       "\n",
       "    .dataframe tbody tr th {\n",
       "        vertical-align: top;\n",
       "    }\n",
       "\n",
       "    .dataframe thead th {\n",
       "        text-align: right;\n",
       "    }\n",
       "</style>\n",
       "<table border=\"1\" class=\"dataframe\">\n",
       "  <thead>\n",
       "    <tr style=\"text-align: right;\">\n",
       "      <th></th>\n",
       "      <th>count</th>\n",
       "      <th>mean</th>\n",
       "      <th>std</th>\n",
       "      <th>min</th>\n",
       "      <th>25%</th>\n",
       "      <th>50%</th>\n",
       "      <th>75%</th>\n",
       "      <th>max</th>\n",
       "    </tr>\n",
       "    <tr>\n",
       "      <th>tariff_name</th>\n",
       "      <th></th>\n",
       "      <th></th>\n",
       "      <th></th>\n",
       "      <th></th>\n",
       "      <th></th>\n",
       "      <th></th>\n",
       "      <th></th>\n",
       "      <th></th>\n",
       "    </tr>\n",
       "  </thead>\n",
       "  <tbody>\n",
       "    <tr>\n",
       "      <th>smart</th>\n",
       "      <td>2228.0</td>\n",
       "      <td>16.34</td>\n",
       "      <td>5.74</td>\n",
       "      <td>0.0</td>\n",
       "      <td>13.0</td>\n",
       "      <td>17.0</td>\n",
       "      <td>20.0</td>\n",
       "      <td>38.0</td>\n",
       "    </tr>\n",
       "    <tr>\n",
       "      <th>ultra</th>\n",
       "      <td>975.0</td>\n",
       "      <td>19.69</td>\n",
       "      <td>9.70</td>\n",
       "      <td>0.0</td>\n",
       "      <td>12.0</td>\n",
       "      <td>19.0</td>\n",
       "      <td>27.0</td>\n",
       "      <td>49.0</td>\n",
       "    </tr>\n",
       "  </tbody>\n",
       "</table>\n",
       "</div>"
      ],
      "text/plain": [
       "              count   mean   std  min   25%   50%   75%   max\n",
       "tariff_name                                                  \n",
       "smart        2228.0  16.34  5.74  0.0  13.0  17.0  20.0  38.0\n",
       "ultra         975.0  19.69  9.70  0.0  12.0  19.0  27.0  49.0"
      ]
     },
     "execution_count": 35,
     "metadata": {},
     "output_type": "execute_result"
    }
   ],
   "source": [
    "get_col_statistics(user_internet_by_month, 'gb_used', 'tariff_name')"
   ]
  },
  {
   "cell_type": "code",
   "execution_count": 36,
   "id": "bd16eb40",
   "metadata": {
    "scrolled": true
   },
   "outputs": [
    {
     "data": {
      "text/html": [
       "<div>\n",
       "<style scoped>\n",
       "    .dataframe tbody tr th:only-of-type {\n",
       "        vertical-align: middle;\n",
       "    }\n",
       "\n",
       "    .dataframe tbody tr th {\n",
       "        vertical-align: top;\n",
       "    }\n",
       "\n",
       "    .dataframe thead th {\n",
       "        text-align: right;\n",
       "    }\n",
       "</style>\n",
       "<table border=\"1\" class=\"dataframe\">\n",
       "  <thead>\n",
       "    <tr style=\"text-align: right;\">\n",
       "      <th></th>\n",
       "      <th>tariff</th>\n",
       "      <th>gb_per_month_included</th>\n",
       "      <th>above_tariff %</th>\n",
       "    </tr>\n",
       "  </thead>\n",
       "  <tbody>\n",
       "    <tr>\n",
       "      <th>0</th>\n",
       "      <td>smart</td>\n",
       "      <td>15.0</td>\n",
       "      <td>61.7</td>\n",
       "    </tr>\n",
       "    <tr>\n",
       "      <th>1</th>\n",
       "      <td>ultra</td>\n",
       "      <td>30.0</td>\n",
       "      <td>14.6</td>\n",
       "    </tr>\n",
       "  </tbody>\n",
       "</table>\n",
       "</div>"
      ],
      "text/plain": [
       "  tariff  gb_per_month_included  above_tariff %\n",
       "0  smart                   15.0            61.7\n",
       "1  ultra                   30.0            14.6"
      ]
     },
     "execution_count": 36,
     "metadata": {},
     "output_type": "execute_result"
    }
   ],
   "source": [
    "get_col_above_tariff_statistics(user_internet_by_month, 'gb_used', 'gb_per_month_included')"
   ]
  },
  {
   "cell_type": "markdown",
   "id": "111ca9e3",
   "metadata": {},
   "source": [
    "* Оба распределения симметричны\n",
    "\n",
    "* По тарифу ultra медиана, среднее и стандартное отклонение больше, чем по тарифу smart\n",
    "\n",
    "* По обоим тарифам интернет используется сверх пакета. По smart это происходит слишком часто – 2/3 всех выплат"
   ]
  },
  {
   "cell_type": "code",
   "execution_count": 37,
   "id": "aad34d52",
   "metadata": {},
   "outputs": [
    {
     "data": {
      "image/png": "[encoded data removed]",
      "text/plain": [
       "<Figure size 1008x504 with 1 Axes>"
      ]
     },
     "metadata": {},
     "output_type": "display_data"
    }
   ],
   "source": [
    "make_monthly_barplot_by_tariff(\n",
    "    user_internet_by_month, \n",
    "    'gb_used',\n",
    "    'Средний объем интернет-трафика',\n",
    "    'Средний месячный объем интернет-трафика по тарифам'\n",
    ")"
   ]
  },
  {
   "cell_type": "markdown",
   "id": "1ed1799b",
   "metadata": {},
   "source": [
    "* В феврале по тарифу ultra на этот раз пользование услугой не поменялось\n",
    "\n",
    "* В течение года средний объем интернет-трафика в основном увеличивается по обоим тарифам "
   ]
  },
  {
   "cell_type": "markdown",
   "id": "08512309",
   "metadata": {},
   "source": [
    "#### Выводы по услугам\n",
    "\n",
    "* У всех видов услуг меры центральной тенденции и разброса больше у тарифа ultra\n",
    "\n",
    "* По тарифу smart каждый вид услуги периодически использовали сверх пакета, по тарифу ultra только интернет\n",
    "\n",
    "* Предоставленные минуты разговора и количество сообщений в тарифе ultra не используются в полной мере\n",
    "\n",
    "* В феврале по тарифу ultra сильно снизилось среднее время разговора и количество сообщений\n",
    "\n",
    "* В целом наблюдается положительная динамика среднего пользования всеми услугами у обоих тарифов"
   ]
  },
  {
   "cell_type": "markdown",
   "id": "93acec53",
   "metadata": {},
   "source": [
    "###  Выручка <a name='revenue'></a>"
   ]
  },
  {
   "cell_type": "code",
   "execution_count": 38,
   "id": "faa19a51",
   "metadata": {},
   "outputs": [
    {
     "data": {
      "text/plain": [
       "smart    0.702\n",
       "ultra    0.298\n",
       "Name: tariff_name, dtype: float64"
      ]
     },
     "execution_count": 38,
     "metadata": {},
     "output_type": "execute_result"
    }
   ],
   "source": [
    "users['tariff_name'].value_counts(normalize=True)"
   ]
  },
  {
   "cell_type": "markdown",
   "id": "05afb9db",
   "metadata": {},
   "source": [
    "Пользователей тарифа smart больше."
   ]
  },
  {
   "cell_type": "code",
   "execution_count": 39,
   "id": "3e7b9eeb",
   "metadata": {},
   "outputs": [
    {
     "data": {
      "image/png": "[encoded data removed]",
      "text/plain": [
       "<Figure size 1080x360 with 2 Axes>"
      ]
     },
     "metadata": {},
     "output_type": "display_data"
    }
   ],
   "source": [
    "plot_hists(\n",
    "    users_monthly_revenue,\n",
    "    'revenue', \n",
    "    'Выручка пользователей в месяц',\n",
    "    'tariff_name',\n",
    "    'Гистограммы плотностей выручки пользователей в месяц по тарифам'\n",
    ")"
   ]
  },
  {
   "cell_type": "code",
   "execution_count": 40,
   "id": "95fa6df8",
   "metadata": {},
   "outputs": [
    {
     "data": {
      "text/html": [
       "<div>\n",
       "<style scoped>\n",
       "    .dataframe tbody tr th:only-of-type {\n",
       "        vertical-align: middle;\n",
       "    }\n",
       "\n",
       "    .dataframe tbody tr th {\n",
       "        vertical-align: top;\n",
       "    }\n",
       "\n",
       "    .dataframe thead th {\n",
       "        text-align: right;\n",
       "    }\n",
       "</style>\n",
       "<table border=\"1\" class=\"dataframe\">\n",
       "  <thead>\n",
       "    <tr style=\"text-align: right;\">\n",
       "      <th></th>\n",
       "      <th>count</th>\n",
       "      <th>mean</th>\n",
       "      <th>std</th>\n",
       "      <th>min</th>\n",
       "      <th>25%</th>\n",
       "      <th>50%</th>\n",
       "      <th>75%</th>\n",
       "      <th>max</th>\n",
       "    </tr>\n",
       "    <tr>\n",
       "      <th>tariff_name</th>\n",
       "      <th></th>\n",
       "      <th></th>\n",
       "      <th></th>\n",
       "      <th></th>\n",
       "      <th></th>\n",
       "      <th></th>\n",
       "      <th></th>\n",
       "      <th></th>\n",
       "    </tr>\n",
       "  </thead>\n",
       "  <tbody>\n",
       "    <tr>\n",
       "      <th>smart</th>\n",
       "      <td>2229.0</td>\n",
       "      <td>1289.97</td>\n",
       "      <td>818.40</td>\n",
       "      <td>550.0</td>\n",
       "      <td>550.0</td>\n",
       "      <td>1023.0</td>\n",
       "      <td>1750.0</td>\n",
       "      <td>6770.0</td>\n",
       "    </tr>\n",
       "    <tr>\n",
       "      <th>ultra</th>\n",
       "      <td>985.0</td>\n",
       "      <td>2070.15</td>\n",
       "      <td>376.19</td>\n",
       "      <td>1950.0</td>\n",
       "      <td>1950.0</td>\n",
       "      <td>1950.0</td>\n",
       "      <td>1950.0</td>\n",
       "      <td>4800.0</td>\n",
       "    </tr>\n",
       "  </tbody>\n",
       "</table>\n",
       "</div>"
      ],
      "text/plain": [
       "              count     mean     std     min     25%     50%     75%     max\n",
       "tariff_name                                                                 \n",
       "smart        2229.0  1289.97  818.40   550.0   550.0  1023.0  1750.0  6770.0\n",
       "ultra         985.0  2070.15  376.19  1950.0  1950.0  1950.0  1950.0  4800.0"
      ]
     },
     "execution_count": 40,
     "metadata": {},
     "output_type": "execute_result"
    }
   ],
   "source": [
    "get_col_statistics(users_monthly_revenue, 'revenue', 'tariff_name')"
   ]
  },
  {
   "cell_type": "code",
   "execution_count": 41,
   "id": "edc28c2d",
   "metadata": {},
   "outputs": [
    {
     "name": "stdout",
     "output_type": "stream",
     "text": [
      "Доля выплат, которые больше ежемесячной абонентской платы:\n"
     ]
    },
    {
     "data": {
      "text/plain": [
       "tariff_name\n",
       "smart    0.745626\n",
       "ultra    0.136041\n",
       "Name: within_tariff, dtype: float64"
      ]
     },
     "execution_count": 41,
     "metadata": {},
     "output_type": "execute_result"
    }
   ],
   "source": [
    "print('Доля выплат, которые больше ежемесячной абонентской платы:')\n",
    "\n",
    "revenue = (\n",
    "    users_monthly_revenue\n",
    "    .merge(users[['user_id', 'tariff_name']], on='user_id')\n",
    "    .merge(tariffs[['tariff_name', 'rub_monthly_fee']])\n",
    ")\n",
    "revenue['within_tariff'] = revenue['revenue'] == revenue['rub_monthly_fee']\n",
    "1 - revenue.groupby('tariff_name')['within_tariff'].mean()"
   ]
  },
  {
   "cell_type": "markdown",
   "id": "21f109ab",
   "metadata": {},
   "source": [
    "* Оба распределения экспоненциальны\n",
    "\n",
    "* В среднем пользователи тарифа ultra платят немного больше ежемесячной абонентской платы. Средняя ежемесячная плата пользователя smart-тарифа превышает абонентскую в 2 раза\n",
    "\n",
    "* Разброс выплат сильнее по тарифу smart\n",
    "\n",
    "* 74% и 13% выплат больше ежемесячной абонентской платы по smart и ultra соответственно"
   ]
  },
  {
   "cell_type": "code",
   "execution_count": 42,
   "id": "bf4bd9f4",
   "metadata": {},
   "outputs": [],
   "source": [
    "smart_revenue = revenue.loc[revenue['tariff_name'] == 'smart', 'revenue']\n",
    "ultra_revenue = revenue.loc[revenue['tariff_name'] == 'ultra', 'revenue']"
   ]
  },
  {
   "cell_type": "code",
   "execution_count": 43,
   "id": "cfa0ddf4",
   "metadata": {},
   "outputs": [
    {
     "data": {
      "image/png": "[encoded data removed]",
      "text/plain": [
       "<Figure size 1008x504 with 1 Axes>"
      ]
     },
     "metadata": {},
     "output_type": "display_data"
    }
   ],
   "source": [
    "make_monthly_barplot_by_tariff(\n",
    "    users_monthly_revenue, \n",
    "    'revenue',\n",
    "    'Средняя выручка',\n",
    "    'Средняя выручка по тарифам'\n",
    ")"
   ]
  },
  {
   "cell_type": "markdown",
   "id": "f07c1a06",
   "metadata": {},
   "source": [
    "У тарифа ultra средняя выручка по каждому месяцу больше, чем у тарифа smart. Зато средняя выручка ultra-тарифа не так сильно растет как у тарифа smart."
   ]
  },
  {
   "cell_type": "markdown",
   "id": "ff49621c",
   "metadata": {},
   "source": [
    "## Проверка гипотез <a name='hypothesis_testing'></a>"
   ]
  },
  {
   "cell_type": "markdown",
   "id": "d488942a",
   "metadata": {},
   "source": [
    "### Средняя выручка пользователей тарифов smart и ultra различаются <a name='hypothesis_1'></a>"
   ]
  },
  {
   "cell_type": "markdown",
   "id": "79870835",
   "metadata": {},
   "source": [
    "$H_0: \\mu_{smart} = \\mu_{ultra}$\n",
    "\n",
    "$H_1: \\mu_{smart} \\ne \\mu_{ultra}$"
   ]
  },
  {
   "cell_type": "code",
   "execution_count": 44,
   "id": "76e3319e",
   "metadata": {},
   "outputs": [
    {
     "name": "stdout",
     "output_type": "stream",
     "text": [
      "Двусторонний t-тест для сердних\n",
      "p-value: 4.260631393108093e-250\n",
      "\n"
     ]
    }
   ],
   "source": [
    "cm_by_tariff = CompareMeans(DescrStatsW(smart_revenue), DescrStatsW(ultra_revenue))\n",
    "\n",
    "_, pvalue, _ = cm_by_tariff.ttest_ind( \n",
    "    alternative='two-sided',\n",
    "    usevar='unequal'\n",
    ")\n",
    "print('Двусторонний t-тест для сердних')\n",
    "print('p-value:', pvalue)\n",
    "print()"
   ]
  },
  {
   "cell_type": "markdown",
   "id": "00d4c4e1",
   "metadata": {},
   "source": [
    "По сути p-value равно 0, поэтому можем отвергнуть нулевую гипотезу в пользу альтернативной. "
   ]
  },
  {
   "cell_type": "code",
   "execution_count": 45,
   "id": "29da4b0f",
   "metadata": {},
   "outputs": [
    {
     "name": "stdout",
     "output_type": "stream",
     "text": [
      "Доверительные интервалы разницы средних\n",
      "90%: (-814.85419, -745.50332)\n",
      "95%: (-821.50074, -738.85677)\n",
      "99%: (-834.49688, -725.86063)\n"
     ]
    }
   ],
   "source": [
    "print('Доверительные интервалы разницы средних')\n",
    "for cl in [0.9, 0.95, 0.99]:\n",
    "    confidence_interval = tuple(round(bound, 5) for bound in cm_by_tariff.tconfint_diff(alpha=1-cl, usevar='unequal'))\n",
    "    cl = int(cl * 100)\n",
    "    print(f'{cl}%: {confidence_interval}')"
   ]
  },
  {
   "cell_type": "markdown",
   "id": "bbadb085",
   "metadata": {},
   "source": [
    "С 99% вероятностью средняя выручка по smart-тарифу меньше средней выручки по ultra-тарифу на 725-835."
   ]
  },
  {
   "cell_type": "markdown",
   "id": "80b3e589",
   "metadata": {},
   "source": [
    "### Средняя выручка пользователей из Москвы отличается от выручки пользователей из других регионов <a name='hypothesis_2'></a>"
   ]
  },
  {
   "cell_type": "markdown",
   "id": "1069d500",
   "metadata": {},
   "source": [
    "$H_0: \\mu_{Москва} = \\mu_{другие \\; регионы}$\n",
    "\n",
    "$H_1: \\mu_{Москва} \\ne \\mu_{другие \\; регионы}$"
   ]
  },
  {
   "cell_type": "code",
   "execution_count": 46,
   "id": "e53751ed",
   "metadata": {},
   "outputs": [],
   "source": [
    "users['city_category'] = users['city']\n",
    "users.loc[users['city_category'] != 'Москва', 'city_category'] = 'другой регион'"
   ]
  },
  {
   "cell_type": "code",
   "execution_count": 47,
   "id": "4d638945",
   "metadata": {},
   "outputs": [
    {
     "data": {
      "image/png": "[encoded data removed]",
      "text/plain": [
       "<Figure size 1080x360 with 2 Axes>"
      ]
     },
     "metadata": {},
     "output_type": "display_data"
    }
   ],
   "source": [
    "plot_hists(\n",
    "    users_monthly_revenue,\n",
    "    'revenue', \n",
    "    'Выручка пользователей в месяц',\n",
    "    'city_category',\n",
    "    'Гистограммы плотностей выручки пользователей в месяц по городам'\n",
    ")"
   ]
  },
  {
   "cell_type": "code",
   "execution_count": 48,
   "id": "7aa3d0ca",
   "metadata": {},
   "outputs": [
    {
     "data": {
      "text/html": [
       "<div>\n",
       "<style scoped>\n",
       "    .dataframe tbody tr th:only-of-type {\n",
       "        vertical-align: middle;\n",
       "    }\n",
       "\n",
       "    .dataframe tbody tr th {\n",
       "        vertical-align: top;\n",
       "    }\n",
       "\n",
       "    .dataframe thead th {\n",
       "        text-align: right;\n",
       "    }\n",
       "</style>\n",
       "<table border=\"1\" class=\"dataframe\">\n",
       "  <thead>\n",
       "    <tr style=\"text-align: right;\">\n",
       "      <th></th>\n",
       "      <th>count</th>\n",
       "      <th>mean</th>\n",
       "      <th>std</th>\n",
       "      <th>min</th>\n",
       "      <th>25%</th>\n",
       "      <th>50%</th>\n",
       "      <th>75%</th>\n",
       "      <th>max</th>\n",
       "    </tr>\n",
       "    <tr>\n",
       "      <th>city_category</th>\n",
       "      <th></th>\n",
       "      <th></th>\n",
       "      <th></th>\n",
       "      <th></th>\n",
       "      <th></th>\n",
       "      <th></th>\n",
       "      <th></th>\n",
       "      <th></th>\n",
       "    </tr>\n",
       "  </thead>\n",
       "  <tbody>\n",
       "    <tr>\n",
       "      <th>Москва</th>\n",
       "      <td>611.0</td>\n",
       "      <td>1546.71</td>\n",
       "      <td>752.09</td>\n",
       "      <td>550.0</td>\n",
       "      <td>780.5</td>\n",
       "      <td>1750.0</td>\n",
       "      <td>1950.0</td>\n",
       "      <td>5321.0</td>\n",
       "    </tr>\n",
       "    <tr>\n",
       "      <th>другой регион</th>\n",
       "      <td>2603.0</td>\n",
       "      <td>1524.94</td>\n",
       "      <td>808.79</td>\n",
       "      <td>550.0</td>\n",
       "      <td>750.0</td>\n",
       "      <td>1583.0</td>\n",
       "      <td>1950.0</td>\n",
       "      <td>6770.0</td>\n",
       "    </tr>\n",
       "  </tbody>\n",
       "</table>\n",
       "</div>"
      ],
      "text/plain": [
       "                count     mean     std    min    25%     50%     75%     max\n",
       "city_category                                                               \n",
       "Москва          611.0  1546.71  752.09  550.0  780.5  1750.0  1950.0  5321.0\n",
       "другой регион  2603.0  1524.94  808.79  550.0  750.0  1583.0  1950.0  6770.0"
      ]
     },
     "execution_count": 48,
     "metadata": {},
     "output_type": "execute_result"
    }
   ],
   "source": [
    "get_col_statistics(users_monthly_revenue, 'revenue', 'city_category')"
   ]
  },
  {
   "cell_type": "markdown",
   "id": "d15e3a72",
   "metadata": {},
   "source": [
    "Похожие экспоненциальные распределения с пиками у ежемесячных абонентских выплат в 550 и 1950."
   ]
  },
  {
   "cell_type": "code",
   "execution_count": 49,
   "id": "31025bee",
   "metadata": {},
   "outputs": [],
   "source": [
    "revenue = users_monthly_revenue.merge(users[['user_id', 'tariff_name', 'city_category']], on='user_id')\n",
    "moscow_revenue = revenue.loc[revenue['city_category'] == 'Москва', 'revenue']\n",
    "other_regions_revenue = revenue.loc[revenue['city_category'] == 'другой регион', 'revenue']"
   ]
  },
  {
   "cell_type": "code",
   "execution_count": 50,
   "id": "9e5ab33e",
   "metadata": {},
   "outputs": [
    {
     "name": "stdout",
     "output_type": "stream",
     "text": [
      "Двусторонний t-тест для сердних\n",
      "p-value: 0.5257376663729301\n",
      "\n"
     ]
    }
   ],
   "source": [
    "cm_by_city_category = CompareMeans(DescrStatsW(moscow_revenue), DescrStatsW(other_regions_revenue))\n",
    "\n",
    "_, pvalue, _ = cm_by_city_category.ttest_ind( \n",
    "    alternative='two-sided',\n",
    "    usevar='unequal'\n",
    ")\n",
    "print('Двусторонний t-тест для сердних')\n",
    "print('p-value:', pvalue)\n",
    "print()"
   ]
  },
  {
   "cell_type": "markdown",
   "id": "335957d0",
   "metadata": {},
   "source": [
    "Не можем отвергнуть нулевую гипотезу, так как p-value явно выше принятых порогов $\\alpha$."
   ]
  },
  {
   "cell_type": "markdown",
   "id": "b9df2fd7",
   "metadata": {},
   "source": [
    "## Общий вывод <a name='conclusion'></a>"
   ]
  },
  {
   "cell_type": "markdown",
   "id": "bba42b62",
   "metadata": {},
   "source": [
    "Тариф smart:\n",
    "\n",
    "* 70% пользователей\n",
    "\n",
    "* Пользование сверх тарифного пакета встречается по всем видам услуг. Особенно много по интернету – 2/3 всех выплат \n",
    "\n",
    "* Около 75% выплат сверх тарифа\n",
    "\n",
    "* Средняя ежемесячная плата пользователя превышает абонентскую в 2 раза\n",
    "\n",
    "* Среднее количество сообщений особо не менялось с мая по ноябрь\n",
    "\n",
    "Тариф ultra:\n",
    "\n",
    "* 30% пользователей\n",
    "\n",
    "* Сверх тарифного пакета периодически используется только интернет-трафик. Процент таких выплат равен 15%\n",
    "\n",
    "* Звонки и сообщения не используют в полной мере\n",
    "\n",
    "* Почти 90% выплат равны ежемесячной абонентской плате\n",
    "\n",
    "* В среднем пользователи платят немного больше ежемесячной абонентской платы\n",
    "\n",
    "* В феврале сильно снизилось среднее время разговора и количество сообщений"
   ]
  },
  {
   "cell_type": "markdown",
   "id": "5dc2971a",
   "metadata": {},
   "source": [
    "<br>"
   ]
  },
  {
   "cell_type": "markdown",
   "id": "d9c54172",
   "metadata": {},
   "source": [
    "* По всем видам услуг медиана, среднее и разброс больше у тарифа ultra\n",
    "\n",
    "* У каждого тарифа положительная тенденция пользования всеми услугами\n",
    "\n",
    "* В течение года средняя выручка ultra-тарифа не так сильно растет как у тарифа smart\n",
    "\n",
    "* С вероятностью 99% средняя выручка по smart-тарифу меньше средней выручки по ultra-тарифу на 725-835"
   ]
  }
 ],
 "metadata": {
  "ExecuteTimeLog": [
   {
    "duration": 1183,
    "start_time": "2022-08-10T19:47:50.267Z"
   },
   {
    "duration": 941,
    "start_time": "2022-08-10T19:47:51.452Z"
   },
   {
    "duration": 4,
    "start_time": "2022-08-10T19:47:52.395Z"
   },
   {
    "duration": 16,
    "start_time": "2022-08-10T19:47:52.401Z"
   },
   {
    "duration": 4,
    "start_time": "2022-08-10T19:47:52.419Z"
   },
   {
    "duration": 22,
    "start_time": "2022-08-10T19:47:52.424Z"
   },
   {
    "duration": 14,
    "start_time": "2022-08-10T19:47:52.448Z"
   },
   {
    "duration": 13,
    "start_time": "2022-08-10T19:47:52.463Z"
   },
   {
    "duration": 6,
    "start_time": "2022-08-10T19:47:52.478Z"
   },
   {
    "duration": 9,
    "start_time": "2022-08-10T19:47:52.487Z"
   },
   {
    "duration": 6,
    "start_time": "2022-08-10T19:47:52.498Z"
   },
   {
    "duration": 11,
    "start_time": "2022-08-10T19:47:52.506Z"
   },
   {
    "duration": 6,
    "start_time": "2022-08-10T19:47:52.519Z"
   },
   {
    "duration": 15,
    "start_time": "2022-08-10T19:47:52.527Z"
   },
   {
    "duration": 8,
    "start_time": "2022-08-10T19:47:52.543Z"
   },
   {
    "duration": 34,
    "start_time": "2022-08-10T19:47:52.553Z"
   },
   {
    "duration": 39,
    "start_time": "2022-08-10T19:47:52.589Z"
   },
   {
    "duration": 29,
    "start_time": "2022-08-10T19:47:52.629Z"
   },
   {
    "duration": 5,
    "start_time": "2022-08-10T19:47:52.660Z"
   },
   {
    "duration": 39,
    "start_time": "2022-08-10T19:47:52.666Z"
   },
   {
    "duration": 19,
    "start_time": "2022-08-10T19:47:52.707Z"
   },
   {
    "duration": 22,
    "start_time": "2022-08-10T19:47:52.728Z"
   },
   {
    "duration": 47,
    "start_time": "2022-08-10T19:47:52.752Z"
   },
   {
    "duration": 127,
    "start_time": "2022-08-10T19:47:52.801Z"
   },
   {
    "duration": 79,
    "start_time": "2022-08-10T19:47:52.930Z"
   },
   {
    "duration": 132,
    "start_time": "2022-08-10T19:47:53.011Z"
   },
   {
    "duration": 136,
    "start_time": "2022-08-10T19:47:53.144Z"
   },
   {
    "duration": 6,
    "start_time": "2022-08-10T19:47:53.286Z"
   },
   {
    "duration": 7,
    "start_time": "2022-08-10T19:47:53.294Z"
   },
   {
    "duration": 5,
    "start_time": "2022-08-10T19:47:53.303Z"
   },
   {
    "duration": 374,
    "start_time": "2022-08-10T19:47:53.310Z"
   },
   {
    "duration": 23,
    "start_time": "2022-08-10T19:47:53.686Z"
   },
   {
    "duration": 23,
    "start_time": "2022-08-10T19:47:53.711Z"
   },
   {
    "duration": 370,
    "start_time": "2022-08-10T19:47:53.736Z"
   },
   {
    "duration": 23,
    "start_time": "2022-08-10T19:47:54.107Z"
   },
   {
    "duration": 22,
    "start_time": "2022-08-10T19:47:54.132Z"
   },
   {
    "duration": 331,
    "start_time": "2022-08-10T19:47:54.156Z"
   },
   {
    "duration": 22,
    "start_time": "2022-08-10T19:47:54.488Z"
   },
   {
    "duration": 23,
    "start_time": "2022-08-10T19:47:54.512Z"
   },
   {
    "duration": 5,
    "start_time": "2022-08-10T19:47:54.537Z"
   },
   {
    "duration": 345,
    "start_time": "2022-08-10T19:47:54.544Z"
   },
   {
    "duration": 23,
    "start_time": "2022-08-10T19:47:54.890Z"
   },
   {
    "duration": 17,
    "start_time": "2022-08-10T19:47:54.915Z"
   },
   {
    "duration": 4,
    "start_time": "2022-08-10T19:47:54.934Z"
   },
   {
    "duration": 7,
    "start_time": "2022-08-10T19:47:54.940Z"
   },
   {
    "duration": 6,
    "start_time": "2022-08-10T19:47:54.949Z"
   },
   {
    "duration": 34,
    "start_time": "2022-08-10T19:47:54.956Z"
   },
   {
    "duration": 431,
    "start_time": "2022-08-10T19:47:54.991Z"
   },
   {
    "duration": 25,
    "start_time": "2022-08-10T19:47:55.424Z"
   },
   {
    "duration": 9,
    "start_time": "2022-08-10T19:47:55.450Z"
   },
   {
    "duration": 7,
    "start_time": "2022-08-10T19:47:55.460Z"
   },
   {
    "duration": 97,
    "start_time": "2022-08-10T20:16:09.063Z"
   },
   {
    "duration": 11,
    "start_time": "2022-08-10T20:16:44.106Z"
   },
   {
    "duration": 19,
    "start_time": "2022-08-10T20:19:19.135Z"
   },
   {
    "duration": 78,
    "start_time": "2022-08-10T20:19:33.881Z"
   },
   {
    "duration": 82,
    "start_time": "2022-08-10T20:19:43.379Z"
   },
   {
    "duration": 10,
    "start_time": "2022-08-10T20:19:48.728Z"
   },
   {
    "duration": 27,
    "start_time": "2022-08-10T20:20:12.818Z"
   },
   {
    "duration": 22,
    "start_time": "2022-08-10T20:20:41.617Z"
   },
   {
    "duration": 711,
    "start_time": "2022-08-10T20:21:00.717Z"
   },
   {
    "duration": 533,
    "start_time": "2022-08-10T20:21:43.951Z"
   },
   {
    "duration": 515,
    "start_time": "2022-08-10T20:21:49.838Z"
   },
   {
    "duration": 516,
    "start_time": "2022-08-10T20:21:52.331Z"
   },
   {
    "duration": 573,
    "start_time": "2022-08-10T20:22:24.930Z"
   },
   {
    "duration": 659,
    "start_time": "2022-08-10T20:22:29.566Z"
   },
   {
    "duration": 46,
    "start_time": "2022-08-12T11:04:54.092Z"
   },
   {
    "duration": 1296,
    "start_time": "2022-08-12T11:04:58.381Z"
   },
   {
    "duration": 988,
    "start_time": "2022-08-12T11:05:00.945Z"
   },
   {
    "duration": 59,
    "start_time": "2022-08-12T11:08:13.695Z"
   },
   {
    "duration": 3,
    "start_time": "2022-08-12T11:11:09.175Z"
   },
   {
    "duration": 415,
    "start_time": "2022-08-12T11:11:09.180Z"
   },
   {
    "duration": 4,
    "start_time": "2022-08-12T11:11:09.596Z"
   },
   {
    "duration": 28,
    "start_time": "2022-08-12T11:11:09.601Z"
   },
   {
    "duration": 10,
    "start_time": "2022-08-12T11:11:09.631Z"
   },
   {
    "duration": 13,
    "start_time": "2022-08-12T11:11:09.642Z"
   },
   {
    "duration": 11,
    "start_time": "2022-08-12T11:11:09.656Z"
   },
   {
    "duration": 19,
    "start_time": "2022-08-12T11:11:09.669Z"
   },
   {
    "duration": 7,
    "start_time": "2022-08-12T11:11:09.690Z"
   },
   {
    "duration": 8,
    "start_time": "2022-08-12T11:11:09.699Z"
   },
   {
    "duration": 7,
    "start_time": "2022-08-12T11:11:09.709Z"
   },
   {
    "duration": 11,
    "start_time": "2022-08-12T11:11:09.718Z"
   },
   {
    "duration": 15,
    "start_time": "2022-08-12T11:11:09.731Z"
   },
   {
    "duration": 13,
    "start_time": "2022-08-12T11:11:09.747Z"
   },
   {
    "duration": 7,
    "start_time": "2022-08-12T11:11:09.762Z"
   },
   {
    "duration": 11,
    "start_time": "2022-08-12T11:11:09.770Z"
   },
   {
    "duration": 22,
    "start_time": "2022-08-12T11:11:09.783Z"
   },
   {
    "duration": 29,
    "start_time": "2022-08-12T11:11:09.807Z"
   },
   {
    "duration": 5,
    "start_time": "2022-08-12T11:11:09.857Z"
   },
   {
    "duration": 21,
    "start_time": "2022-08-12T11:11:09.864Z"
   },
   {
    "duration": 20,
    "start_time": "2022-08-12T11:11:09.886Z"
   },
   {
    "duration": 20,
    "start_time": "2022-08-12T11:11:09.907Z"
   },
   {
    "duration": 63,
    "start_time": "2022-08-12T11:11:09.929Z"
   },
   {
    "duration": 111,
    "start_time": "2022-08-12T11:11:09.994Z"
   },
   {
    "duration": 75,
    "start_time": "2022-08-12T11:11:10.106Z"
   },
   {
    "duration": 144,
    "start_time": "2022-08-12T11:11:10.182Z"
   },
   {
    "duration": 123,
    "start_time": "2022-08-12T11:11:10.328Z"
   },
   {
    "duration": 125,
    "start_time": "2022-08-12T11:11:23.068Z"
   },
   {
    "duration": 680,
    "start_time": "2022-08-12T11:12:57.019Z"
   },
   {
    "duration": 57,
    "start_time": "2022-08-12T11:14:49.367Z"
   },
   {
    "duration": 3,
    "start_time": "2022-08-12T11:15:03.683Z"
   },
   {
    "duration": 422,
    "start_time": "2022-08-12T11:15:03.687Z"
   },
   {
    "duration": 4,
    "start_time": "2022-08-12T11:15:04.111Z"
   },
   {
    "duration": 18,
    "start_time": "2022-08-12T11:15:04.117Z"
   },
   {
    "duration": 11,
    "start_time": "2022-08-12T11:15:04.137Z"
   },
   {
    "duration": 12,
    "start_time": "2022-08-12T11:15:04.150Z"
   },
   {
    "duration": 6,
    "start_time": "2022-08-12T11:15:04.163Z"
   },
   {
    "duration": 17,
    "start_time": "2022-08-12T11:15:04.171Z"
   },
   {
    "duration": 22,
    "start_time": "2022-08-12T11:15:04.190Z"
   },
   {
    "duration": 24,
    "start_time": "2022-08-12T11:15:04.215Z"
   },
   {
    "duration": 24,
    "start_time": "2022-08-12T11:15:04.241Z"
   },
   {
    "duration": 12,
    "start_time": "2022-08-12T11:15:04.266Z"
   },
   {
    "duration": 12,
    "start_time": "2022-08-12T11:15:04.280Z"
   },
   {
    "duration": 13,
    "start_time": "2022-08-12T11:15:04.294Z"
   },
   {
    "duration": 17,
    "start_time": "2022-08-12T11:15:04.308Z"
   },
   {
    "duration": 11,
    "start_time": "2022-08-12T11:15:04.326Z"
   },
   {
    "duration": 24,
    "start_time": "2022-08-12T11:15:04.339Z"
   },
   {
    "duration": 28,
    "start_time": "2022-08-12T11:15:04.365Z"
   },
   {
    "duration": 4,
    "start_time": "2022-08-12T11:15:04.395Z"
   },
   {
    "duration": 25,
    "start_time": "2022-08-12T11:15:04.401Z"
   },
   {
    "duration": 29,
    "start_time": "2022-08-12T11:15:04.428Z"
   },
   {
    "duration": 19,
    "start_time": "2022-08-12T11:15:04.459Z"
   },
   {
    "duration": 29,
    "start_time": "2022-08-12T11:15:04.480Z"
   },
   {
    "duration": 117,
    "start_time": "2022-08-12T11:15:04.511Z"
   },
   {
    "duration": 71,
    "start_time": "2022-08-12T11:15:04.629Z"
   },
   {
    "duration": 139,
    "start_time": "2022-08-12T11:15:04.702Z"
   },
   {
    "duration": 138,
    "start_time": "2022-08-12T11:15:04.843Z"
   },
   {
    "duration": 6,
    "start_time": "2022-08-12T11:15:04.985Z"
   },
   {
    "duration": 12,
    "start_time": "2022-08-12T11:15:04.993Z"
   },
   {
    "duration": 9,
    "start_time": "2022-08-12T11:15:05.006Z"
   },
   {
    "duration": 513,
    "start_time": "2022-08-12T11:15:05.016Z"
   },
   {
    "duration": 31,
    "start_time": "2022-08-12T11:15:05.531Z"
   },
   {
    "duration": 22,
    "start_time": "2022-08-12T11:15:05.564Z"
   },
   {
    "duration": 445,
    "start_time": "2022-08-12T11:15:05.588Z"
   },
   {
    "duration": 30,
    "start_time": "2022-08-12T11:15:06.034Z"
   },
   {
    "duration": 22,
    "start_time": "2022-08-12T11:15:06.065Z"
   },
   {
    "duration": 402,
    "start_time": "2022-08-12T11:15:06.089Z"
   },
   {
    "duration": 23,
    "start_time": "2022-08-12T11:15:06.493Z"
   },
   {
    "duration": 21,
    "start_time": "2022-08-12T11:15:06.518Z"
   },
   {
    "duration": 314,
    "start_time": "2022-08-12T11:27:20.781Z"
   },
   {
    "duration": 3,
    "start_time": "2022-08-12T11:27:23.947Z"
   },
   {
    "duration": 695,
    "start_time": "2022-08-12T11:27:58.530Z"
   },
   {
    "duration": 4,
    "start_time": "2022-08-12T11:28:15.732Z"
   },
   {
    "duration": 354,
    "start_time": "2022-08-12T11:28:15.968Z"
   },
   {
    "duration": 3,
    "start_time": "2022-08-12T11:29:30.131Z"
   },
   {
    "duration": 33,
    "start_time": "2022-08-12T11:29:31.886Z"
   },
   {
    "duration": 3,
    "start_time": "2022-08-12T11:29:59.992Z"
   },
   {
    "duration": 28,
    "start_time": "2022-08-12T11:30:00.576Z"
   },
   {
    "duration": 5,
    "start_time": "2022-08-12T11:30:45.185Z"
   },
   {
    "duration": 39,
    "start_time": "2022-08-12T11:30:45.418Z"
   },
   {
    "duration": 5,
    "start_time": "2022-08-12T11:31:27.120Z"
   },
   {
    "duration": 263,
    "start_time": "2022-08-12T11:31:27.282Z"
   },
   {
    "duration": 15,
    "start_time": "2022-08-12T11:32:30.918Z"
   },
   {
    "duration": 4,
    "start_time": "2022-08-12T11:36:41.740Z"
   },
   {
    "duration": 261,
    "start_time": "2022-08-12T11:36:41.890Z"
   },
   {
    "duration": 11,
    "start_time": "2022-08-12T11:38:06.967Z"
   },
   {
    "duration": 19,
    "start_time": "2022-08-12T11:38:22.730Z"
   },
   {
    "duration": 9,
    "start_time": "2022-08-12T11:38:58.720Z"
   },
   {
    "duration": 258,
    "start_time": "2022-08-12T11:39:07.663Z"
   },
   {
    "duration": 4,
    "start_time": "2022-08-12T11:41:54.511Z"
   },
   {
    "duration": 278,
    "start_time": "2022-08-12T11:41:55.409Z"
   },
   {
    "duration": 4,
    "start_time": "2022-08-12T11:48:54.328Z"
   },
   {
    "duration": 264,
    "start_time": "2022-08-12T11:48:54.720Z"
   },
   {
    "duration": 4,
    "start_time": "2022-08-12T11:49:03.092Z"
   },
   {
    "duration": 265,
    "start_time": "2022-08-12T11:49:03.328Z"
   },
   {
    "duration": 4,
    "start_time": "2022-08-12T11:51:33.872Z"
   },
   {
    "duration": 291,
    "start_time": "2022-08-12T11:51:34.075Z"
   },
   {
    "duration": 4,
    "start_time": "2022-08-12T11:54:16.238Z"
   },
   {
    "duration": 4,
    "start_time": "2022-08-12T11:54:24.789Z"
   },
   {
    "duration": 294,
    "start_time": "2022-08-12T11:54:25.484Z"
   },
   {
    "duration": 408,
    "start_time": "2022-08-12T11:54:57.240Z"
   },
   {
    "duration": 4,
    "start_time": "2022-08-12T11:55:27.608Z"
   },
   {
    "duration": 379,
    "start_time": "2022-08-12T11:55:32.179Z"
   },
   {
    "duration": 4,
    "start_time": "2022-08-12T11:55:52.970Z"
   },
   {
    "duration": 299,
    "start_time": "2022-08-12T11:56:00.926Z"
   },
   {
    "duration": 473,
    "start_time": "2022-08-12T11:57:44.868Z"
   },
   {
    "duration": 15,
    "start_time": "2022-08-12T11:59:50.715Z"
   },
   {
    "duration": 786,
    "start_time": "2022-08-12T12:00:09.751Z"
   },
   {
    "duration": 121,
    "start_time": "2022-08-12T12:00:17.671Z"
   },
   {
    "duration": 5,
    "start_time": "2022-08-12T12:02:19.467Z"
   },
   {
    "duration": 277,
    "start_time": "2022-08-12T12:02:20.694Z"
   },
   {
    "duration": 5,
    "start_time": "2022-08-12T12:02:25.949Z"
   },
   {
    "duration": 5,
    "start_time": "2022-08-12T12:02:30.123Z"
   },
   {
    "duration": 283,
    "start_time": "2022-08-12T12:02:30.370Z"
   },
   {
    "duration": 5,
    "start_time": "2022-08-12T12:02:48.922Z"
   },
   {
    "duration": 283,
    "start_time": "2022-08-12T12:02:49.126Z"
   },
   {
    "duration": 9,
    "start_time": "2022-08-12T12:03:58.058Z"
   },
   {
    "duration": 5,
    "start_time": "2022-08-12T12:04:00.038Z"
   },
   {
    "duration": 289,
    "start_time": "2022-08-12T12:04:00.217Z"
   },
   {
    "duration": 265,
    "start_time": "2022-08-12T12:04:09.251Z"
   },
   {
    "duration": 292,
    "start_time": "2022-08-12T12:06:02.646Z"
   },
   {
    "duration": 263,
    "start_time": "2022-08-12T12:07:28.913Z"
   },
   {
    "duration": 377,
    "start_time": "2022-08-12T12:10:59.928Z"
   },
   {
    "duration": 228,
    "start_time": "2022-08-12T12:11:21.191Z"
   },
   {
    "duration": 190,
    "start_time": "2022-08-12T12:11:27.695Z"
   },
   {
    "duration": 169,
    "start_time": "2022-08-12T12:11:57.711Z"
   },
   {
    "duration": 252,
    "start_time": "2022-08-12T12:12:36.435Z"
   },
   {
    "duration": 244,
    "start_time": "2022-08-12T12:12:54.727Z"
   },
   {
    "duration": 213,
    "start_time": "2022-08-12T12:13:09.253Z"
   },
   {
    "duration": 218,
    "start_time": "2022-08-12T12:13:18.207Z"
   },
   {
    "duration": 49,
    "start_time": "2022-08-12T12:13:33.858Z"
   },
   {
    "duration": 225,
    "start_time": "2022-08-12T12:13:34.297Z"
   },
   {
    "duration": 6,
    "start_time": "2022-08-12T12:13:56.213Z"
   },
   {
    "duration": 303,
    "start_time": "2022-08-12T12:13:56.549Z"
   },
   {
    "duration": 6,
    "start_time": "2022-08-12T12:14:28.556Z"
   },
   {
    "duration": 304,
    "start_time": "2022-08-12T12:14:28.860Z"
   },
   {
    "duration": 83,
    "start_time": "2022-08-12T12:14:36.117Z"
   },
   {
    "duration": 414,
    "start_time": "2022-08-12T12:14:36.601Z"
   },
   {
    "duration": 5,
    "start_time": "2022-08-12T12:15:02.196Z"
   },
   {
    "duration": 386,
    "start_time": "2022-08-12T12:15:02.420Z"
   },
   {
    "duration": 5,
    "start_time": "2022-08-12T12:15:35.880Z"
   },
   {
    "duration": 401,
    "start_time": "2022-08-12T12:15:36.218Z"
   },
   {
    "duration": 6,
    "start_time": "2022-08-12T12:30:47.290Z"
   },
   {
    "duration": 413,
    "start_time": "2022-08-12T12:30:47.652Z"
   },
   {
    "duration": 7,
    "start_time": "2022-08-12T12:33:04.929Z"
   },
   {
    "duration": 508,
    "start_time": "2022-08-12T12:33:05.109Z"
   },
   {
    "duration": 6,
    "start_time": "2022-08-12T12:37:00.075Z"
   },
   {
    "duration": 321,
    "start_time": "2022-08-12T12:37:01.165Z"
   },
   {
    "duration": 123,
    "start_time": "2022-08-12T12:37:17.502Z"
   },
   {
    "duration": 390,
    "start_time": "2022-08-12T12:37:17.996Z"
   },
   {
    "duration": 6,
    "start_time": "2022-08-12T12:37:41.533Z"
   },
   {
    "duration": 393,
    "start_time": "2022-08-12T12:37:42.071Z"
   },
   {
    "duration": 6,
    "start_time": "2022-08-12T12:37:52.648Z"
   },
   {
    "duration": 407,
    "start_time": "2022-08-12T12:37:52.930Z"
   },
   {
    "duration": 7,
    "start_time": "2022-08-12T12:38:12.370Z"
   },
   {
    "duration": 403,
    "start_time": "2022-08-12T12:38:12.741Z"
   },
   {
    "duration": 6,
    "start_time": "2022-08-12T12:39:21.865Z"
   },
   {
    "duration": 415,
    "start_time": "2022-08-12T12:39:22.767Z"
   },
   {
    "duration": 6,
    "start_time": "2022-08-12T12:40:32.652Z"
   },
   {
    "duration": 547,
    "start_time": "2022-08-12T12:40:32.923Z"
   },
   {
    "duration": 7,
    "start_time": "2022-08-12T12:40:39.852Z"
   },
   {
    "duration": 492,
    "start_time": "2022-08-12T12:40:40.077Z"
   },
   {
    "duration": 9,
    "start_time": "2022-08-12T12:41:32.562Z"
   },
   {
    "duration": 443,
    "start_time": "2022-08-12T12:41:33.236Z"
   },
   {
    "duration": 6,
    "start_time": "2022-08-12T12:41:46.163Z"
   },
   {
    "duration": 381,
    "start_time": "2022-08-12T12:41:46.410Z"
   },
   {
    "duration": 416,
    "start_time": "2022-08-12T12:43:03.265Z"
   },
   {
    "duration": 8,
    "start_time": "2022-08-12T12:43:30.602Z"
   },
   {
    "duration": 373,
    "start_time": "2022-08-12T12:43:30.893Z"
   },
   {
    "duration": 118,
    "start_time": "2022-08-12T12:43:47.286Z"
   },
   {
    "duration": 378,
    "start_time": "2022-08-12T12:43:47.531Z"
   },
   {
    "duration": 6,
    "start_time": "2022-08-12T12:44:44.450Z"
   },
   {
    "duration": 501,
    "start_time": "2022-08-12T12:44:45.067Z"
   },
   {
    "duration": 68,
    "start_time": "2022-08-12T12:45:21.035Z"
   },
   {
    "duration": 420,
    "start_time": "2022-08-12T12:45:21.372Z"
   },
   {
    "duration": 6,
    "start_time": "2022-08-12T12:45:24.995Z"
   },
   {
    "duration": 444,
    "start_time": "2022-08-12T12:45:25.399Z"
   },
   {
    "duration": 7,
    "start_time": "2022-08-12T12:45:40.319Z"
   },
   {
    "duration": 420,
    "start_time": "2022-08-12T12:45:40.521Z"
   },
   {
    "duration": 9,
    "start_time": "2022-08-12T12:46:31.170Z"
   },
   {
    "duration": 515,
    "start_time": "2022-08-12T12:46:31.339Z"
   },
   {
    "duration": 7,
    "start_time": "2022-08-12T12:46:49.789Z"
   },
   {
    "duration": 390,
    "start_time": "2022-08-12T12:46:50.047Z"
   },
   {
    "duration": 7,
    "start_time": "2022-08-12T12:47:14.295Z"
   },
   {
    "duration": 410,
    "start_time": "2022-08-12T12:47:14.517Z"
   },
   {
    "duration": 6,
    "start_time": "2022-08-12T12:47:24.328Z"
   },
   {
    "duration": 413,
    "start_time": "2022-08-12T12:47:24.652Z"
   },
   {
    "duration": 6,
    "start_time": "2022-08-12T12:47:48.541Z"
   },
   {
    "duration": 386,
    "start_time": "2022-08-12T12:47:48.811Z"
   },
   {
    "duration": 7,
    "start_time": "2022-08-12T12:49:49.967Z"
   },
   {
    "duration": 391,
    "start_time": "2022-08-12T12:49:50.528Z"
   },
   {
    "duration": 113,
    "start_time": "2022-08-12T12:51:03.557Z"
   },
   {
    "duration": 470,
    "start_time": "2022-08-12T12:51:04.963Z"
   },
   {
    "duration": 5,
    "start_time": "2022-08-12T12:51:17.936Z"
   },
   {
    "duration": 388,
    "start_time": "2022-08-12T12:51:18.171Z"
   },
   {
    "duration": 6,
    "start_time": "2022-08-12T12:51:29.194Z"
   },
   {
    "duration": 401,
    "start_time": "2022-08-12T12:51:30.353Z"
   },
   {
    "duration": 6,
    "start_time": "2022-08-12T12:54:37.687Z"
   },
   {
    "duration": 690,
    "start_time": "2022-08-12T12:54:38.732Z"
   },
   {
    "duration": 8,
    "start_time": "2022-08-12T12:54:46.000Z"
   },
   {
    "duration": 611,
    "start_time": "2022-08-12T12:54:47.092Z"
   },
   {
    "duration": 6,
    "start_time": "2022-08-12T12:55:12.044Z"
   },
   {
    "duration": 719,
    "start_time": "2022-08-12T12:55:13.867Z"
   },
   {
    "duration": 8,
    "start_time": "2022-08-12T12:55:35.189Z"
   },
   {
    "duration": 592,
    "start_time": "2022-08-12T12:55:35.445Z"
   },
   {
    "duration": 8,
    "start_time": "2022-08-12T12:55:39.452Z"
   },
   {
    "duration": 646,
    "start_time": "2022-08-12T12:55:41.442Z"
   },
   {
    "duration": 6,
    "start_time": "2022-08-12T12:55:44.942Z"
   },
   {
    "duration": 404,
    "start_time": "2022-08-12T12:55:45.413Z"
   },
   {
    "duration": 7,
    "start_time": "2022-08-12T12:56:32.677Z"
   },
   {
    "duration": 675,
    "start_time": "2022-08-12T12:56:32.891Z"
   },
   {
    "duration": 6,
    "start_time": "2022-08-12T12:56:56.338Z"
   },
   {
    "duration": 610,
    "start_time": "2022-08-12T12:56:57.608Z"
   },
   {
    "duration": 113,
    "start_time": "2022-08-12T12:57:01.917Z"
   },
   {
    "duration": 612,
    "start_time": "2022-08-12T12:57:03.165Z"
   },
   {
    "duration": 6,
    "start_time": "2022-08-12T12:59:30.345Z"
   },
   {
    "duration": 305,
    "start_time": "2022-08-12T12:59:30.829Z"
   },
   {
    "duration": 6,
    "start_time": "2022-08-12T12:59:49.799Z"
   },
   {
    "duration": 542,
    "start_time": "2022-08-12T12:59:50.057Z"
   },
   {
    "duration": 6,
    "start_time": "2022-08-12T13:00:03.063Z"
   },
   {
    "duration": 6,
    "start_time": "2022-08-12T13:00:11.073Z"
   },
   {
    "duration": 633,
    "start_time": "2022-08-12T13:00:11.342Z"
   },
   {
    "duration": 6,
    "start_time": "2022-08-12T13:00:28.263Z"
   },
   {
    "duration": 609,
    "start_time": "2022-08-12T13:00:28.566Z"
   },
   {
    "duration": 6,
    "start_time": "2022-08-12T13:00:54.725Z"
   },
   {
    "duration": 587,
    "start_time": "2022-08-12T13:00:54.970Z"
   },
   {
    "duration": 7,
    "start_time": "2022-08-12T13:02:16.279Z"
   },
   {
    "duration": 405,
    "start_time": "2022-08-12T13:02:16.458Z"
   },
   {
    "duration": 7,
    "start_time": "2022-08-12T13:02:39.837Z"
   },
   {
    "duration": 569,
    "start_time": "2022-08-12T13:02:40.422Z"
   },
   {
    "duration": 8,
    "start_time": "2022-08-12T13:04:55.169Z"
   },
   {
    "duration": 435,
    "start_time": "2022-08-12T13:04:55.393Z"
   },
   {
    "duration": 6,
    "start_time": "2022-08-12T13:06:26.832Z"
   },
   {
    "duration": 635,
    "start_time": "2022-08-12T13:06:27.050Z"
   },
   {
    "duration": 7,
    "start_time": "2022-08-12T13:06:42.024Z"
   },
   {
    "duration": 613,
    "start_time": "2022-08-12T13:06:42.272Z"
   },
   {
    "duration": 132,
    "start_time": "2022-08-12T13:06:51.398Z"
   },
   {
    "duration": 7,
    "start_time": "2022-08-12T13:07:10.455Z"
   },
   {
    "duration": 383,
    "start_time": "2022-08-12T13:07:10.647Z"
   },
   {
    "duration": 7,
    "start_time": "2022-08-12T13:07:30.965Z"
   },
   {
    "duration": 412,
    "start_time": "2022-08-12T13:07:31.155Z"
   },
   {
    "duration": 7,
    "start_time": "2022-08-12T13:07:40.934Z"
   },
   {
    "duration": 399,
    "start_time": "2022-08-12T13:07:41.182Z"
   },
   {
    "duration": 7,
    "start_time": "2022-08-12T13:07:47.898Z"
   },
   {
    "duration": 393,
    "start_time": "2022-08-12T13:07:49.438Z"
   },
   {
    "duration": 163,
    "start_time": "2022-08-12T13:08:03.908Z"
   },
   {
    "duration": 431,
    "start_time": "2022-08-12T13:08:04.153Z"
   },
   {
    "duration": 7,
    "start_time": "2022-08-12T13:08:09.948Z"
   },
   {
    "duration": 538,
    "start_time": "2022-08-12T13:08:10.162Z"
   },
   {
    "duration": 10,
    "start_time": "2022-08-12T13:08:38.234Z"
   },
   {
    "duration": 400,
    "start_time": "2022-08-12T13:08:41.270Z"
   },
   {
    "duration": 392,
    "start_time": "2022-08-12T13:08:45.781Z"
   },
   {
    "duration": 389,
    "start_time": "2022-08-12T13:08:56.106Z"
   },
   {
    "duration": 1236,
    "start_time": "2022-08-12T13:10:04.862Z"
   },
   {
    "duration": 426,
    "start_time": "2022-08-12T13:10:06.099Z"
   },
   {
    "duration": 4,
    "start_time": "2022-08-12T13:10:06.527Z"
   },
   {
    "duration": 28,
    "start_time": "2022-08-12T13:10:06.533Z"
   },
   {
    "duration": 7,
    "start_time": "2022-08-12T13:10:06.563Z"
   },
   {
    "duration": 10,
    "start_time": "2022-08-12T13:10:06.571Z"
   },
   {
    "duration": 8,
    "start_time": "2022-08-12T13:10:06.582Z"
   },
   {
    "duration": 27,
    "start_time": "2022-08-12T13:10:06.592Z"
   },
   {
    "duration": 7,
    "start_time": "2022-08-12T13:10:06.621Z"
   },
   {
    "duration": 26,
    "start_time": "2022-08-12T13:10:06.630Z"
   },
   {
    "duration": 14,
    "start_time": "2022-08-12T13:10:06.657Z"
   },
   {
    "duration": 19,
    "start_time": "2022-08-12T13:10:06.673Z"
   },
   {
    "duration": 15,
    "start_time": "2022-08-12T13:10:06.694Z"
   },
   {
    "duration": 48,
    "start_time": "2022-08-12T13:10:06.710Z"
   },
   {
    "duration": 42,
    "start_time": "2022-08-12T13:10:06.760Z"
   },
   {
    "duration": 39,
    "start_time": "2022-08-12T13:10:06.804Z"
   },
   {
    "duration": 50,
    "start_time": "2022-08-12T13:10:06.845Z"
   },
   {
    "duration": 72,
    "start_time": "2022-08-12T13:10:06.897Z"
   },
   {
    "duration": 11,
    "start_time": "2022-08-12T13:10:06.971Z"
   },
   {
    "duration": 40,
    "start_time": "2022-08-12T13:10:06.984Z"
   },
   {
    "duration": 32,
    "start_time": "2022-08-12T13:10:07.026Z"
   },
   {
    "duration": 38,
    "start_time": "2022-08-12T13:10:07.059Z"
   },
   {
    "duration": 31,
    "start_time": "2022-08-12T13:10:07.098Z"
   },
   {
    "duration": 124,
    "start_time": "2022-08-12T13:10:07.130Z"
   },
   {
    "duration": 80,
    "start_time": "2022-08-12T13:10:07.256Z"
   },
   {
    "duration": 132,
    "start_time": "2022-08-12T13:10:07.338Z"
   },
   {
    "duration": 143,
    "start_time": "2022-08-12T13:10:07.471Z"
   },
   {
    "duration": 7,
    "start_time": "2022-08-12T13:10:07.619Z"
   },
   {
    "duration": 140,
    "start_time": "2022-08-12T13:10:07.628Z"
   },
   {
    "duration": 0,
    "start_time": "2022-08-12T13:10:07.770Z"
   },
   {
    "duration": 0,
    "start_time": "2022-08-12T13:10:07.772Z"
   },
   {
    "duration": 0,
    "start_time": "2022-08-12T13:10:07.773Z"
   },
   {
    "duration": 0,
    "start_time": "2022-08-12T13:10:07.774Z"
   },
   {
    "duration": 0,
    "start_time": "2022-08-12T13:10:07.776Z"
   },
   {
    "duration": 0,
    "start_time": "2022-08-12T13:10:07.776Z"
   },
   {
    "duration": 0,
    "start_time": "2022-08-12T13:10:07.778Z"
   },
   {
    "duration": 0,
    "start_time": "2022-08-12T13:10:07.780Z"
   },
   {
    "duration": 0,
    "start_time": "2022-08-12T13:10:07.781Z"
   },
   {
    "duration": 0,
    "start_time": "2022-08-12T13:10:07.782Z"
   },
   {
    "duration": 0,
    "start_time": "2022-08-12T13:10:07.783Z"
   },
   {
    "duration": 0,
    "start_time": "2022-08-12T13:10:07.785Z"
   },
   {
    "duration": 0,
    "start_time": "2022-08-12T13:10:07.787Z"
   },
   {
    "duration": 0,
    "start_time": "2022-08-12T13:10:07.788Z"
   },
   {
    "duration": 0,
    "start_time": "2022-08-12T13:10:07.789Z"
   },
   {
    "duration": 0,
    "start_time": "2022-08-12T13:10:07.790Z"
   },
   {
    "duration": 0,
    "start_time": "2022-08-12T13:10:07.792Z"
   },
   {
    "duration": 0,
    "start_time": "2022-08-12T13:10:07.794Z"
   },
   {
    "duration": 0,
    "start_time": "2022-08-12T13:10:07.795Z"
   },
   {
    "duration": 0,
    "start_time": "2022-08-12T13:10:07.797Z"
   },
   {
    "duration": 0,
    "start_time": "2022-08-12T13:10:07.798Z"
   },
   {
    "duration": 0,
    "start_time": "2022-08-12T13:10:07.799Z"
   },
   {
    "duration": 0,
    "start_time": "2022-08-12T13:10:07.800Z"
   },
   {
    "duration": 0,
    "start_time": "2022-08-12T13:10:07.801Z"
   },
   {
    "duration": 0,
    "start_time": "2022-08-12T13:10:07.802Z"
   },
   {
    "duration": 0,
    "start_time": "2022-08-12T13:10:07.804Z"
   },
   {
    "duration": 0,
    "start_time": "2022-08-12T13:10:07.805Z"
   },
   {
    "duration": 1076,
    "start_time": "2022-08-12T13:11:02.621Z"
   },
   {
    "duration": 414,
    "start_time": "2022-08-12T13:11:03.699Z"
   },
   {
    "duration": 4,
    "start_time": "2022-08-12T13:11:04.115Z"
   },
   {
    "duration": 75,
    "start_time": "2022-08-12T13:11:04.121Z"
   },
   {
    "duration": 43,
    "start_time": "2022-08-12T13:11:04.197Z"
   },
   {
    "duration": 25,
    "start_time": "2022-08-12T13:11:04.242Z"
   },
   {
    "duration": 37,
    "start_time": "2022-08-12T13:11:04.268Z"
   },
   {
    "duration": 28,
    "start_time": "2022-08-12T13:11:04.307Z"
   },
   {
    "duration": 38,
    "start_time": "2022-08-12T13:11:04.336Z"
   },
   {
    "duration": 76,
    "start_time": "2022-08-12T13:11:04.377Z"
   },
   {
    "duration": 11,
    "start_time": "2022-08-12T13:11:04.455Z"
   },
   {
    "duration": 12,
    "start_time": "2022-08-12T13:11:04.467Z"
   },
   {
    "duration": 11,
    "start_time": "2022-08-12T13:11:04.481Z"
   },
   {
    "duration": 29,
    "start_time": "2022-08-12T13:11:04.493Z"
   },
   {
    "duration": 34,
    "start_time": "2022-08-12T13:11:04.523Z"
   },
   {
    "duration": 15,
    "start_time": "2022-08-12T13:11:04.559Z"
   },
   {
    "duration": 33,
    "start_time": "2022-08-12T13:11:04.575Z"
   },
   {
    "duration": 38,
    "start_time": "2022-08-12T13:11:04.609Z"
   },
   {
    "duration": 5,
    "start_time": "2022-08-12T13:11:04.649Z"
   },
   {
    "duration": 33,
    "start_time": "2022-08-12T13:11:04.655Z"
   },
   {
    "duration": 18,
    "start_time": "2022-08-12T13:11:04.689Z"
   },
   {
    "duration": 19,
    "start_time": "2022-08-12T13:11:04.709Z"
   },
   {
    "duration": 56,
    "start_time": "2022-08-12T13:11:04.730Z"
   },
   {
    "duration": 105,
    "start_time": "2022-08-12T13:11:04.787Z"
   },
   {
    "duration": 70,
    "start_time": "2022-08-12T13:11:04.894Z"
   },
   {
    "duration": 137,
    "start_time": "2022-08-12T13:11:04.966Z"
   },
   {
    "duration": 169,
    "start_time": "2022-08-12T13:11:05.105Z"
   },
   {
    "duration": 10,
    "start_time": "2022-08-12T13:11:05.281Z"
   },
   {
    "duration": 23,
    "start_time": "2022-08-12T13:11:05.293Z"
   },
   {
    "duration": 66,
    "start_time": "2022-08-12T13:11:05.318Z"
   },
   {
    "duration": 16,
    "start_time": "2022-08-12T13:11:05.387Z"
   },
   {
    "duration": 453,
    "start_time": "2022-08-12T13:11:05.406Z"
   },
   {
    "duration": 23,
    "start_time": "2022-08-12T13:11:05.860Z"
   },
   {
    "duration": 22,
    "start_time": "2022-08-12T13:11:05.885Z"
   },
   {
    "duration": 264,
    "start_time": "2022-08-12T13:11:05.909Z"
   },
   {
    "duration": 391,
    "start_time": "2022-08-12T13:11:06.175Z"
   },
   {
    "duration": 24,
    "start_time": "2022-08-12T13:11:06.568Z"
   },
   {
    "duration": 22,
    "start_time": "2022-08-12T13:11:06.593Z"
   },
   {
    "duration": 270,
    "start_time": "2022-08-12T13:11:06.617Z"
   },
   {
    "duration": 373,
    "start_time": "2022-08-12T13:11:06.889Z"
   },
   {
    "duration": 23,
    "start_time": "2022-08-12T13:11:07.264Z"
   },
   {
    "duration": 22,
    "start_time": "2022-08-12T13:11:07.289Z"
   },
   {
    "duration": 270,
    "start_time": "2022-08-12T13:11:07.312Z"
   },
   {
    "duration": 6,
    "start_time": "2022-08-12T13:11:07.584Z"
   },
   {
    "duration": 443,
    "start_time": "2022-08-12T13:11:07.591Z"
   },
   {
    "duration": 28,
    "start_time": "2022-08-12T13:11:08.036Z"
   },
   {
    "duration": 16,
    "start_time": "2022-08-12T13:11:08.065Z"
   },
   {
    "duration": 3,
    "start_time": "2022-08-12T13:11:08.083Z"
   },
   {
    "duration": 15,
    "start_time": "2022-08-12T13:11:08.088Z"
   },
   {
    "duration": 13,
    "start_time": "2022-08-12T13:11:08.105Z"
   },
   {
    "duration": 9,
    "start_time": "2022-08-12T13:11:08.120Z"
   },
   {
    "duration": 364,
    "start_time": "2022-08-12T13:11:08.131Z"
   },
   {
    "duration": 24,
    "start_time": "2022-08-12T13:11:08.496Z"
   },
   {
    "duration": 8,
    "start_time": "2022-08-12T13:11:08.522Z"
   },
   {
    "duration": 8,
    "start_time": "2022-08-12T13:11:08.531Z"
   },
   {
    "duration": 5,
    "start_time": "2022-08-12T13:11:56.493Z"
   },
   {
    "duration": 275,
    "start_time": "2022-08-12T13:11:58.721Z"
   },
   {
    "duration": 5,
    "start_time": "2022-08-12T13:12:03.074Z"
   },
   {
    "duration": 304,
    "start_time": "2022-08-12T13:12:05.673Z"
   },
   {
    "duration": 5,
    "start_time": "2022-08-12T13:12:10.736Z"
   },
   {
    "duration": 260,
    "start_time": "2022-08-12T13:12:13.740Z"
   },
   {
    "duration": 4,
    "start_time": "2022-08-12T13:12:21.009Z"
   },
   {
    "duration": 271,
    "start_time": "2022-08-12T13:12:23.696Z"
   },
   {
    "duration": 5,
    "start_time": "2022-08-12T13:12:30.682Z"
   },
   {
    "duration": 291,
    "start_time": "2022-08-12T13:12:33.360Z"
   },
   {
    "duration": 4,
    "start_time": "2022-08-12T13:12:37.489Z"
   },
   {
    "duration": 280,
    "start_time": "2022-08-12T13:12:39.997Z"
   },
   {
    "duration": 266,
    "start_time": "2022-08-12T13:21:09.594Z"
   },
   {
    "duration": 1118,
    "start_time": "2022-08-12T13:21:17.121Z"
   },
   {
    "duration": 413,
    "start_time": "2022-08-12T13:21:18.241Z"
   },
   {
    "duration": 3,
    "start_time": "2022-08-12T13:21:18.656Z"
   },
   {
    "duration": 24,
    "start_time": "2022-08-12T13:21:18.661Z"
   },
   {
    "duration": 21,
    "start_time": "2022-08-12T13:21:18.687Z"
   },
   {
    "duration": 11,
    "start_time": "2022-08-12T13:21:18.710Z"
   },
   {
    "duration": 9,
    "start_time": "2022-08-12T13:21:18.723Z"
   },
   {
    "duration": 10,
    "start_time": "2022-08-12T13:21:18.734Z"
   },
   {
    "duration": 8,
    "start_time": "2022-08-12T13:21:18.745Z"
   },
   {
    "duration": 11,
    "start_time": "2022-08-12T13:21:18.754Z"
   },
   {
    "duration": 5,
    "start_time": "2022-08-12T13:21:18.766Z"
   },
   {
    "duration": 10,
    "start_time": "2022-08-12T13:21:18.772Z"
   },
   {
    "duration": 7,
    "start_time": "2022-08-12T13:21:18.784Z"
   },
   {
    "duration": 13,
    "start_time": "2022-08-12T13:21:18.794Z"
   },
   {
    "duration": 8,
    "start_time": "2022-08-12T13:21:18.808Z"
   },
   {
    "duration": 7,
    "start_time": "2022-08-12T13:21:18.817Z"
   },
   {
    "duration": 31,
    "start_time": "2022-08-12T13:21:18.826Z"
   },
   {
    "duration": 29,
    "start_time": "2022-08-12T13:21:18.858Z"
   },
   {
    "duration": 5,
    "start_time": "2022-08-12T13:21:18.889Z"
   },
   {
    "duration": 18,
    "start_time": "2022-08-12T13:21:18.895Z"
   },
   {
    "duration": 43,
    "start_time": "2022-08-12T13:21:18.914Z"
   },
   {
    "duration": 20,
    "start_time": "2022-08-12T13:21:18.959Z"
   },
   {
    "duration": 23,
    "start_time": "2022-08-12T13:21:18.981Z"
   },
   {
    "duration": 121,
    "start_time": "2022-08-12T13:21:19.006Z"
   },
   {
    "duration": 78,
    "start_time": "2022-08-12T13:21:19.129Z"
   },
   {
    "duration": 155,
    "start_time": "2022-08-12T13:21:19.209Z"
   },
   {
    "duration": 152,
    "start_time": "2022-08-12T13:21:19.366Z"
   },
   {
    "duration": 6,
    "start_time": "2022-08-12T13:21:19.520Z"
   },
   {
    "duration": 11,
    "start_time": "2022-08-12T13:21:19.528Z"
   },
   {
    "duration": 14,
    "start_time": "2022-08-12T13:21:19.540Z"
   },
   {
    "duration": 12,
    "start_time": "2022-08-12T13:21:19.556Z"
   },
   {
    "duration": 393,
    "start_time": "2022-08-12T13:21:19.570Z"
   },
   {
    "duration": 22,
    "start_time": "2022-08-12T13:21:19.965Z"
   },
   {
    "duration": 21,
    "start_time": "2022-08-12T13:21:19.989Z"
   },
   {
    "duration": 285,
    "start_time": "2022-08-12T13:21:20.012Z"
   },
   {
    "duration": 380,
    "start_time": "2022-08-12T13:21:20.298Z"
   },
   {
    "duration": 22,
    "start_time": "2022-08-12T13:21:20.680Z"
   },
   {
    "duration": 29,
    "start_time": "2022-08-12T13:21:20.703Z"
   },
   {
    "duration": 285,
    "start_time": "2022-08-12T13:21:20.733Z"
   },
   {
    "duration": 367,
    "start_time": "2022-08-12T13:21:21.019Z"
   },
   {
    "duration": 24,
    "start_time": "2022-08-12T13:21:21.389Z"
   },
   {
    "duration": 22,
    "start_time": "2022-08-12T13:21:21.414Z"
   },
   {
    "duration": 284,
    "start_time": "2022-08-12T13:21:21.437Z"
   },
   {
    "duration": 7,
    "start_time": "2022-08-12T13:21:21.723Z"
   },
   {
    "duration": 435,
    "start_time": "2022-08-12T13:21:21.731Z"
   },
   {
    "duration": 22,
    "start_time": "2022-08-12T13:21:22.168Z"
   },
   {
    "duration": 16,
    "start_time": "2022-08-12T13:21:22.192Z"
   },
   {
    "duration": 5,
    "start_time": "2022-08-12T13:21:22.209Z"
   },
   {
    "duration": 14,
    "start_time": "2022-08-12T13:21:22.216Z"
   },
   {
    "duration": 27,
    "start_time": "2022-08-12T13:21:22.231Z"
   },
   {
    "duration": 5,
    "start_time": "2022-08-12T13:21:22.259Z"
   },
   {
    "duration": 346,
    "start_time": "2022-08-12T13:21:22.265Z"
   },
   {
    "duration": 23,
    "start_time": "2022-08-12T13:21:22.613Z"
   },
   {
    "duration": 23,
    "start_time": "2022-08-12T13:21:22.638Z"
   },
   {
    "duration": 10,
    "start_time": "2022-08-12T13:21:22.662Z"
   },
   {
    "duration": 4,
    "start_time": "2022-08-12T14:32:04.671Z"
   },
   {
    "duration": 412,
    "start_time": "2022-08-12T14:32:05.425Z"
   },
   {
    "duration": 28,
    "start_time": "2022-08-12T14:32:05.839Z"
   },
   {
    "duration": 26,
    "start_time": "2022-08-12T14:32:06.012Z"
   },
   {
    "duration": 271,
    "start_time": "2022-08-12T14:32:06.482Z"
   },
   {
    "duration": 362,
    "start_time": "2022-08-12T14:32:07.732Z"
   },
   {
    "duration": 23,
    "start_time": "2022-08-12T14:32:08.096Z"
   },
   {
    "duration": 24,
    "start_time": "2022-08-12T14:32:08.259Z"
   },
   {
    "duration": 276,
    "start_time": "2022-08-12T14:32:08.721Z"
   },
   {
    "duration": 451,
    "start_time": "2022-08-12T14:32:09.126Z"
   },
   {
    "duration": 24,
    "start_time": "2022-08-12T14:32:09.579Z"
   },
   {
    "duration": 24,
    "start_time": "2022-08-12T14:32:09.710Z"
   },
   {
    "duration": 271,
    "start_time": "2022-08-12T14:32:10.645Z"
   },
   {
    "duration": 392,
    "start_time": "2022-08-12T16:09:25.517Z"
   },
   {
    "duration": 369,
    "start_time": "2022-08-12T16:11:00.189Z"
   },
   {
    "duration": 1126,
    "start_time": "2022-08-12T16:14:26.764Z"
   },
   {
    "duration": 416,
    "start_time": "2022-08-12T16:14:27.892Z"
   },
   {
    "duration": 5,
    "start_time": "2022-08-12T16:14:28.309Z"
   },
   {
    "duration": 17,
    "start_time": "2022-08-12T16:14:28.316Z"
   },
   {
    "duration": 10,
    "start_time": "2022-08-12T16:14:28.334Z"
   },
   {
    "duration": 15,
    "start_time": "2022-08-12T16:14:28.346Z"
   },
   {
    "duration": 9,
    "start_time": "2022-08-12T16:14:28.362Z"
   },
   {
    "duration": 20,
    "start_time": "2022-08-12T16:14:28.372Z"
   },
   {
    "duration": 8,
    "start_time": "2022-08-12T16:14:28.393Z"
   },
   {
    "duration": 9,
    "start_time": "2022-08-12T16:14:28.404Z"
   },
   {
    "duration": 9,
    "start_time": "2022-08-12T16:14:28.414Z"
   },
   {
    "duration": 9,
    "start_time": "2022-08-12T16:14:28.425Z"
   },
   {
    "duration": 8,
    "start_time": "2022-08-12T16:14:28.436Z"
   },
   {
    "duration": 19,
    "start_time": "2022-08-12T16:14:28.446Z"
   },
   {
    "duration": 10,
    "start_time": "2022-08-12T16:14:28.467Z"
   },
   {
    "duration": 10,
    "start_time": "2022-08-12T16:14:28.478Z"
   },
   {
    "duration": 25,
    "start_time": "2022-08-12T16:14:28.489Z"
   },
   {
    "duration": 49,
    "start_time": "2022-08-12T16:14:28.516Z"
   },
   {
    "duration": 5,
    "start_time": "2022-08-12T16:14:28.566Z"
   },
   {
    "duration": 18,
    "start_time": "2022-08-12T16:14:28.573Z"
   },
   {
    "duration": 18,
    "start_time": "2022-08-12T16:14:28.593Z"
   },
   {
    "duration": 19,
    "start_time": "2022-08-12T16:14:28.613Z"
   },
   {
    "duration": 25,
    "start_time": "2022-08-12T16:14:28.657Z"
   },
   {
    "duration": 123,
    "start_time": "2022-08-12T16:14:28.683Z"
   },
   {
    "duration": 82,
    "start_time": "2022-08-12T16:14:28.808Z"
   },
   {
    "duration": 135,
    "start_time": "2022-08-12T16:14:28.892Z"
   },
   {
    "duration": 155,
    "start_time": "2022-08-12T16:14:29.029Z"
   },
   {
    "duration": 10,
    "start_time": "2022-08-12T16:14:29.189Z"
   },
   {
    "duration": 13,
    "start_time": "2022-08-12T16:14:29.201Z"
   },
   {
    "duration": 13,
    "start_time": "2022-08-12T16:14:29.216Z"
   },
   {
    "duration": 14,
    "start_time": "2022-08-12T16:14:29.231Z"
   },
   {
    "duration": 441,
    "start_time": "2022-08-12T16:14:29.247Z"
   },
   {
    "duration": 24,
    "start_time": "2022-08-12T16:14:29.690Z"
   },
   {
    "duration": 22,
    "start_time": "2022-08-12T16:14:29.716Z"
   },
   {
    "duration": 309,
    "start_time": "2022-08-12T16:14:29.739Z"
   },
   {
    "duration": 401,
    "start_time": "2022-08-12T16:14:30.049Z"
   },
   {
    "duration": 26,
    "start_time": "2022-08-12T16:14:30.452Z"
   },
   {
    "duration": 22,
    "start_time": "2022-08-12T16:14:30.479Z"
   },
   {
    "duration": 303,
    "start_time": "2022-08-12T16:14:30.503Z"
   },
   {
    "duration": 382,
    "start_time": "2022-08-12T16:14:30.808Z"
   },
   {
    "duration": 25,
    "start_time": "2022-08-12T16:14:31.192Z"
   },
   {
    "duration": 40,
    "start_time": "2022-08-12T16:14:31.218Z"
   },
   {
    "duration": 290,
    "start_time": "2022-08-12T16:14:31.260Z"
   },
   {
    "duration": 9,
    "start_time": "2022-08-12T16:14:31.552Z"
   },
   {
    "duration": 439,
    "start_time": "2022-08-12T16:14:31.563Z"
   },
   {
    "duration": 23,
    "start_time": "2022-08-12T16:14:32.005Z"
   },
   {
    "duration": 31,
    "start_time": "2022-08-12T16:14:32.030Z"
   },
   {
    "duration": 4,
    "start_time": "2022-08-12T16:14:32.062Z"
   },
   {
    "duration": 10,
    "start_time": "2022-08-12T16:14:32.068Z"
   },
   {
    "duration": 10,
    "start_time": "2022-08-12T16:14:32.079Z"
   },
   {
    "duration": 6,
    "start_time": "2022-08-12T16:14:32.090Z"
   },
   {
    "duration": 383,
    "start_time": "2022-08-12T16:14:32.097Z"
   },
   {
    "duration": 24,
    "start_time": "2022-08-12T16:14:32.482Z"
   },
   {
    "duration": 9,
    "start_time": "2022-08-12T16:14:32.508Z"
   },
   {
    "duration": 5,
    "start_time": "2022-08-12T16:14:32.519Z"
   },
   {
    "duration": 104,
    "start_time": "2022-08-12T16:17:40.430Z"
   },
   {
    "duration": 313,
    "start_time": "2022-08-12T16:17:59.168Z"
   },
   {
    "duration": 11,
    "start_time": "2022-08-12T16:26:27.632Z"
   },
   {
    "duration": 9,
    "start_time": "2022-08-12T16:26:30.943Z"
   },
   {
    "duration": 325,
    "start_time": "2022-08-12T16:26:33.586Z"
   },
   {
    "duration": 282,
    "start_time": "2022-08-12T16:27:38.546Z"
   },
   {
    "duration": 1129,
    "start_time": "2022-08-12T16:53:51.586Z"
   },
   {
    "duration": 465,
    "start_time": "2022-08-12T16:53:52.717Z"
   },
   {
    "duration": 3,
    "start_time": "2022-08-12T16:53:53.184Z"
   },
   {
    "duration": 16,
    "start_time": "2022-08-12T16:53:53.189Z"
   },
   {
    "duration": 4,
    "start_time": "2022-08-12T16:53:53.206Z"
   },
   {
    "duration": 9,
    "start_time": "2022-08-12T16:53:53.212Z"
   },
   {
    "duration": 6,
    "start_time": "2022-08-12T16:53:53.223Z"
   },
   {
    "duration": 40,
    "start_time": "2022-08-12T16:53:53.231Z"
   },
   {
    "duration": 11,
    "start_time": "2022-08-12T16:53:53.274Z"
   },
   {
    "duration": 8,
    "start_time": "2022-08-12T16:53:53.288Z"
   },
   {
    "duration": 6,
    "start_time": "2022-08-12T16:53:53.297Z"
   },
   {
    "duration": 10,
    "start_time": "2022-08-12T16:53:53.304Z"
   },
   {
    "duration": 11,
    "start_time": "2022-08-12T16:53:53.316Z"
   },
   {
    "duration": 39,
    "start_time": "2022-08-12T16:53:53.328Z"
   },
   {
    "duration": 6,
    "start_time": "2022-08-12T16:53:53.370Z"
   },
   {
    "duration": 9,
    "start_time": "2022-08-12T16:53:53.377Z"
   },
   {
    "duration": 23,
    "start_time": "2022-08-12T16:53:53.388Z"
   },
   {
    "duration": 32,
    "start_time": "2022-08-12T16:53:53.412Z"
   },
   {
    "duration": 7,
    "start_time": "2022-08-12T16:53:53.457Z"
   },
   {
    "duration": 31,
    "start_time": "2022-08-12T16:53:53.467Z"
   },
   {
    "duration": 20,
    "start_time": "2022-08-12T16:53:53.500Z"
   },
   {
    "duration": 20,
    "start_time": "2022-08-12T16:53:53.522Z"
   },
   {
    "duration": 27,
    "start_time": "2022-08-12T16:53:53.564Z"
   },
   {
    "duration": 126,
    "start_time": "2022-08-12T16:53:53.593Z"
   },
   {
    "duration": 81,
    "start_time": "2022-08-12T16:53:53.721Z"
   },
   {
    "duration": 142,
    "start_time": "2022-08-12T16:53:53.804Z"
   },
   {
    "duration": 144,
    "start_time": "2022-08-12T16:53:53.948Z"
   },
   {
    "duration": 6,
    "start_time": "2022-08-12T16:53:54.096Z"
   },
   {
    "duration": 14,
    "start_time": "2022-08-12T16:53:54.104Z"
   },
   {
    "duration": 7,
    "start_time": "2022-08-12T16:53:54.120Z"
   },
   {
    "duration": 6,
    "start_time": "2022-08-12T16:53:54.128Z"
   },
   {
    "duration": 433,
    "start_time": "2022-08-12T16:53:54.136Z"
   },
   {
    "duration": 22,
    "start_time": "2022-08-12T16:53:54.571Z"
   },
   {
    "duration": 21,
    "start_time": "2022-08-12T16:53:54.595Z"
   },
   {
    "duration": 302,
    "start_time": "2022-08-12T16:53:54.617Z"
   },
   {
    "duration": 429,
    "start_time": "2022-08-12T16:53:54.920Z"
   },
   {
    "duration": 35,
    "start_time": "2022-08-12T16:53:55.352Z"
   },
   {
    "duration": 29,
    "start_time": "2022-08-12T16:53:55.390Z"
   },
   {
    "duration": 331,
    "start_time": "2022-08-12T16:53:55.421Z"
   },
   {
    "duration": 383,
    "start_time": "2022-08-12T16:53:55.754Z"
   },
   {
    "duration": 32,
    "start_time": "2022-08-12T16:53:56.139Z"
   },
   {
    "duration": 23,
    "start_time": "2022-08-12T16:53:56.173Z"
   },
   {
    "duration": 304,
    "start_time": "2022-08-12T16:53:56.198Z"
   },
   {
    "duration": 7,
    "start_time": "2022-08-12T16:53:56.503Z"
   },
   {
    "duration": 465,
    "start_time": "2022-08-12T16:53:56.511Z"
   },
   {
    "duration": 23,
    "start_time": "2022-08-12T16:53:56.978Z"
   },
   {
    "duration": 17,
    "start_time": "2022-08-12T16:53:57.003Z"
   },
   {
    "duration": 4,
    "start_time": "2022-08-12T16:53:57.022Z"
   },
   {
    "duration": 329,
    "start_time": "2022-08-12T16:53:57.028Z"
   },
   {
    "duration": 5,
    "start_time": "2022-08-12T16:53:57.369Z"
   },
   {
    "duration": 11,
    "start_time": "2022-08-12T16:53:57.375Z"
   },
   {
    "duration": 9,
    "start_time": "2022-08-12T16:53:57.388Z"
   },
   {
    "duration": 355,
    "start_time": "2022-08-12T16:53:57.398Z"
   },
   {
    "duration": 38,
    "start_time": "2022-08-12T16:53:57.754Z"
   },
   {
    "duration": 10,
    "start_time": "2022-08-12T16:53:57.793Z"
   },
   {
    "duration": 9,
    "start_time": "2022-08-12T16:53:57.804Z"
   },
   {
    "duration": 1140,
    "start_time": "2022-08-12T17:21:47.159Z"
   },
   {
    "duration": 423,
    "start_time": "2022-08-12T17:21:48.301Z"
   },
   {
    "duration": 4,
    "start_time": "2022-08-12T17:21:48.726Z"
   },
   {
    "duration": 20,
    "start_time": "2022-08-12T17:21:48.732Z"
   },
   {
    "duration": 10,
    "start_time": "2022-08-12T17:21:48.753Z"
   },
   {
    "duration": 21,
    "start_time": "2022-08-12T17:21:48.769Z"
   },
   {
    "duration": 13,
    "start_time": "2022-08-12T17:21:48.792Z"
   },
   {
    "duration": 23,
    "start_time": "2022-08-12T17:21:48.807Z"
   },
   {
    "duration": 7,
    "start_time": "2022-08-12T17:21:48.831Z"
   },
   {
    "duration": 41,
    "start_time": "2022-08-12T17:21:48.841Z"
   },
   {
    "duration": 24,
    "start_time": "2022-08-12T17:21:48.884Z"
   },
   {
    "duration": 32,
    "start_time": "2022-08-12T17:21:48.909Z"
   },
   {
    "duration": 10,
    "start_time": "2022-08-12T17:21:48.942Z"
   },
   {
    "duration": 13,
    "start_time": "2022-08-12T17:21:48.953Z"
   },
   {
    "duration": 10,
    "start_time": "2022-08-12T17:21:48.972Z"
   },
   {
    "duration": 11,
    "start_time": "2022-08-12T17:21:48.984Z"
   },
   {
    "duration": 21,
    "start_time": "2022-08-12T17:21:48.997Z"
   },
   {
    "duration": 39,
    "start_time": "2022-08-12T17:21:49.019Z"
   },
   {
    "duration": 8,
    "start_time": "2022-08-12T17:21:49.069Z"
   },
   {
    "duration": 17,
    "start_time": "2022-08-12T17:21:49.079Z"
   },
   {
    "duration": 20,
    "start_time": "2022-08-12T17:21:49.098Z"
   },
   {
    "duration": 18,
    "start_time": "2022-08-12T17:21:49.120Z"
   },
   {
    "duration": 46,
    "start_time": "2022-08-12T17:21:49.140Z"
   },
   {
    "duration": 134,
    "start_time": "2022-08-12T17:21:49.188Z"
   },
   {
    "duration": 75,
    "start_time": "2022-08-12T17:21:49.324Z"
   },
   {
    "duration": 137,
    "start_time": "2022-08-12T17:21:49.400Z"
   },
   {
    "duration": 133,
    "start_time": "2022-08-12T17:21:49.539Z"
   },
   {
    "duration": 7,
    "start_time": "2022-08-12T17:21:49.675Z"
   },
   {
    "duration": 8,
    "start_time": "2022-08-12T17:21:49.683Z"
   },
   {
    "duration": 5,
    "start_time": "2022-08-12T17:21:49.692Z"
   },
   {
    "duration": 6,
    "start_time": "2022-08-12T17:21:49.699Z"
   },
   {
    "duration": 428,
    "start_time": "2022-08-12T17:21:49.707Z"
   },
   {
    "duration": 45,
    "start_time": "2022-08-12T17:21:50.137Z"
   },
   {
    "duration": 21,
    "start_time": "2022-08-12T17:21:50.184Z"
   },
   {
    "duration": 292,
    "start_time": "2022-08-12T17:21:50.206Z"
   },
   {
    "duration": 393,
    "start_time": "2022-08-12T17:21:50.500Z"
   },
   {
    "duration": 22,
    "start_time": "2022-08-12T17:21:50.895Z"
   },
   {
    "duration": 20,
    "start_time": "2022-08-12T17:21:50.919Z"
   },
   {
    "duration": 320,
    "start_time": "2022-08-12T17:21:50.941Z"
   },
   {
    "duration": 388,
    "start_time": "2022-08-12T17:21:51.272Z"
   },
   {
    "duration": 26,
    "start_time": "2022-08-12T17:21:51.662Z"
   },
   {
    "duration": 24,
    "start_time": "2022-08-12T17:21:51.689Z"
   },
   {
    "duration": 310,
    "start_time": "2022-08-12T17:21:51.714Z"
   },
   {
    "duration": 13,
    "start_time": "2022-08-12T17:21:52.026Z"
   },
   {
    "duration": 491,
    "start_time": "2022-08-12T17:21:52.041Z"
   },
   {
    "duration": 38,
    "start_time": "2022-08-12T17:21:52.534Z"
   },
   {
    "duration": 18,
    "start_time": "2022-08-12T17:21:52.574Z"
   },
   {
    "duration": 4,
    "start_time": "2022-08-12T17:21:52.594Z"
   },
   {
    "duration": 327,
    "start_time": "2022-08-12T17:21:52.600Z"
   },
   {
    "duration": 6,
    "start_time": "2022-08-12T17:21:52.929Z"
   },
   {
    "duration": 8,
    "start_time": "2022-08-12T17:21:52.936Z"
   },
   {
    "duration": 16,
    "start_time": "2022-08-12T17:21:52.957Z"
   },
   {
    "duration": 380,
    "start_time": "2022-08-12T17:21:52.974Z"
   },
   {
    "duration": 30,
    "start_time": "2022-08-12T17:21:53.357Z"
   },
   {
    "duration": 9,
    "start_time": "2022-08-12T17:21:53.388Z"
   },
   {
    "duration": 6,
    "start_time": "2022-08-12T17:21:53.399Z"
   },
   {
    "duration": 1179,
    "start_time": "2022-08-12T17:25:32.143Z"
   },
   {
    "duration": 486,
    "start_time": "2022-08-12T17:25:33.324Z"
   },
   {
    "duration": 4,
    "start_time": "2022-08-12T17:25:33.812Z"
   },
   {
    "duration": 16,
    "start_time": "2022-08-12T17:25:33.818Z"
   },
   {
    "duration": 4,
    "start_time": "2022-08-12T17:25:33.836Z"
   },
   {
    "duration": 12,
    "start_time": "2022-08-12T17:25:33.859Z"
   },
   {
    "duration": 14,
    "start_time": "2022-08-12T17:25:33.873Z"
   },
   {
    "duration": 14,
    "start_time": "2022-08-12T17:25:33.888Z"
   },
   {
    "duration": 11,
    "start_time": "2022-08-12T17:25:33.904Z"
   },
   {
    "duration": 10,
    "start_time": "2022-08-12T17:25:33.918Z"
   },
   {
    "duration": 9,
    "start_time": "2022-08-12T17:25:33.929Z"
   },
   {
    "duration": 32,
    "start_time": "2022-08-12T17:25:33.939Z"
   },
   {
    "duration": 4,
    "start_time": "2022-08-12T17:25:33.973Z"
   },
   {
    "duration": 13,
    "start_time": "2022-08-12T17:25:33.979Z"
   },
   {
    "duration": 8,
    "start_time": "2022-08-12T17:25:33.994Z"
   },
   {
    "duration": 7,
    "start_time": "2022-08-12T17:25:34.004Z"
   },
   {
    "duration": 27,
    "start_time": "2022-08-12T17:25:34.013Z"
   },
   {
    "duration": 57,
    "start_time": "2022-08-12T17:25:34.041Z"
   },
   {
    "duration": 7,
    "start_time": "2022-08-12T17:25:34.100Z"
   },
   {
    "duration": 25,
    "start_time": "2022-08-12T17:25:34.108Z"
   },
   {
    "duration": 36,
    "start_time": "2022-08-12T17:25:34.135Z"
   },
   {
    "duration": 21,
    "start_time": "2022-08-12T17:25:34.173Z"
   },
   {
    "duration": 26,
    "start_time": "2022-08-12T17:25:34.196Z"
   },
   {
    "duration": 151,
    "start_time": "2022-08-12T17:25:34.224Z"
   },
   {
    "duration": 93,
    "start_time": "2022-08-12T17:25:34.377Z"
   },
   {
    "duration": 143,
    "start_time": "2022-08-12T17:25:34.471Z"
   },
   {
    "duration": 137,
    "start_time": "2022-08-12T17:25:34.616Z"
   },
   {
    "duration": 14,
    "start_time": "2022-08-12T17:25:34.762Z"
   },
   {
    "duration": 50,
    "start_time": "2022-08-12T17:25:34.777Z"
   },
   {
    "duration": 12,
    "start_time": "2022-08-12T17:25:34.829Z"
   },
   {
    "duration": 11,
    "start_time": "2022-08-12T17:25:34.843Z"
   },
   {
    "duration": 520,
    "start_time": "2022-08-12T17:25:34.855Z"
   },
   {
    "duration": 27,
    "start_time": "2022-08-12T17:25:35.378Z"
   },
   {
    "duration": 34,
    "start_time": "2022-08-12T17:25:35.407Z"
   },
   {
    "duration": 357,
    "start_time": "2022-08-12T17:25:35.443Z"
   },
   {
    "duration": 422,
    "start_time": "2022-08-12T17:25:35.802Z"
   },
   {
    "duration": 46,
    "start_time": "2022-08-12T17:25:36.226Z"
   },
   {
    "duration": 23,
    "start_time": "2022-08-12T17:25:36.274Z"
   },
   {
    "duration": 311,
    "start_time": "2022-08-12T17:25:36.299Z"
   },
   {
    "duration": 410,
    "start_time": "2022-08-12T17:25:36.612Z"
   },
   {
    "duration": 45,
    "start_time": "2022-08-12T17:25:37.024Z"
   },
   {
    "duration": 24,
    "start_time": "2022-08-12T17:25:37.071Z"
   },
   {
    "duration": 310,
    "start_time": "2022-08-12T17:25:37.097Z"
   },
   {
    "duration": 5,
    "start_time": "2022-08-12T17:25:37.409Z"
   },
   {
    "duration": 465,
    "start_time": "2022-08-12T17:25:37.416Z"
   },
   {
    "duration": 22,
    "start_time": "2022-08-12T17:25:37.882Z"
   },
   {
    "duration": 30,
    "start_time": "2022-08-12T17:25:37.906Z"
   },
   {
    "duration": 31,
    "start_time": "2022-08-12T17:25:37.937Z"
   },
   {
    "duration": 314,
    "start_time": "2022-08-12T17:25:37.970Z"
   },
   {
    "duration": 5,
    "start_time": "2022-08-12T17:25:38.286Z"
   },
   {
    "duration": 38,
    "start_time": "2022-08-12T17:25:38.292Z"
   },
   {
    "duration": 25,
    "start_time": "2022-08-12T17:25:38.332Z"
   },
   {
    "duration": 414,
    "start_time": "2022-08-12T17:25:38.360Z"
   },
   {
    "duration": 23,
    "start_time": "2022-08-12T17:25:38.777Z"
   },
   {
    "duration": 8,
    "start_time": "2022-08-12T17:25:38.801Z"
   },
   {
    "duration": 33,
    "start_time": "2022-08-12T17:25:38.811Z"
   }
  ],
  "kernelspec": {
   "display_name": "Python 3 (ipykernel)",
   "language": "python",
   "name": "python3"
  },
  "language_info": {
   "codemirror_mode": {
    "name": "ipython",
    "version": 3
   },
   "file_extension": ".py",
   "mimetype": "text/x-python",
   "name": "python",
   "nbconvert_exporter": "python",
   "pygments_lexer": "ipython3",
   "version": "3.9.7"
  },
  "toc": {
   "base_numbering": 1,
   "nav_menu": {
    "height": "360px",
    "width": "695px"
   },
   "number_sections": true,
   "sideBar": true,
   "skip_h1_title": true,
   "title_cell": "Table of Contents",
   "title_sidebar": "Contents",
   "toc_cell": false,
   "toc_position": {},
   "toc_section_display": true,
   "toc_window_display": false
  }
 },
 "nbformat": 4,
 "nbformat_minor": 5
}
