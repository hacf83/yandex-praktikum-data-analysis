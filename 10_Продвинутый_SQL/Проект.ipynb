{
 "cells": [
  {
   "cell_type": "code",
   "execution_count": 1,
   "metadata": {
    "id": "nlZBlglMDWKe"
   },
   "outputs": [],
   "source": [
    "import pandas as pd\n",
    "import matplotlib.pyplot as plt\n",
    "import seaborn as sns\n",
    "from sqlalchemy import create_engine "
   ]
  },
  {
   "cell_type": "markdown",
   "metadata": {},
   "source": [
    "# Исследование базы данных сервиса Stack Overflow"
   ]
  },
  {
   "cell_type": "markdown",
   "metadata": {},
   "source": [
    "- [Описание проекта](#project_description)\n",
    "- [Подключение к базе данных](#connection)\n",
    "- [Задания](#tasks)\n",
    "    - [Задание 1](#task_1)\n",
    "    - [Задание 2](#task_2)\n",
    "    - [Задание 3](#task_3)\n",
    "    - [Задание 4](#task_4)\n",
    "    - [Задание 5](#task_5)\n",
    "    - [Задание 6](#task_6)\n",
    "    - [Задание 7](#task_7)\n",
    "    - [Задание 8](#task_8)\n",
    "    - [Задание 9](#task_9)\n",
    "    - [Задание 10](#task_10)\n",
    "- [Общий вывод](#general_conclusion)"
   ]
  },
  {
   "cell_type": "markdown",
   "metadata": {},
   "source": [
    "## Описание проекта <a name='project_description'></a>"
   ]
  },
  {
   "cell_type": "markdown",
   "metadata": {},
   "source": [
    "Проект состоит из 10 SQL-запросов к базе данных Stack Overflow.\n",
    "\n",
    "В базе данных хранятся данные о постах за 2008 год, но в таблицах есть информацию и о более поздних оценках, которые эти посты получили."
   ]
  },
  {
   "cell_type": "markdown",
   "metadata": {
    "id": "XnOE3n28DWKg"
   },
   "source": [
    "## Подключение к базе данных <a name='connection'></a>"
   ]
  },
  {
   "cell_type": "code",
   "execution_count": 2,
   "metadata": {
    "id": "6p-yGp7qDWKg"
   },
   "outputs": [],
   "source": [
    "connection_string = 'postgresql://{}:{}@{}:{}/{}'.format(\n",
    "    db_config['user'],\n",
    "    db_config['pwd'],\n",
    "    db_config['host'],\n",
    "    db_config['port'],\n",
    "    db_config['db'],\n",
    ")\n",
    "\n",
    "engine = create_engine(connection_string) "
   ]
  },
  {
   "cell_type": "markdown",
   "metadata": {},
   "source": [
    "## Задания <a name='tasks'></a>"
   ]
  },
  {
   "cell_type": "markdown",
   "metadata": {
    "id": "gnBMXkDBDWKm"
   },
   "source": [
    "### Задание 1 <a name='task_1'></a>"
   ]
  },
  {
   "cell_type": "markdown",
   "metadata": {
    "id": "vHsfOrrNDWKn"
   },
   "source": [
    "Выведите общую сумму просмотров постов за каждый месяц 2008 года. Если данных за какой-либо месяц в базе нет, такой месяц можно пропустить. Результат отсортируйте по убыванию общего количества просмотров."
   ]
  },
  {
   "cell_type": "code",
   "execution_count": 3,
   "metadata": {
    "id": "eWvykcXTDWKo"
   },
   "outputs": [
    {
     "data": {
      "text/html": [
       "<div>\n",
       "<style scoped>\n",
       "    .dataframe tbody tr th:only-of-type {\n",
       "        vertical-align: middle;\n",
       "    }\n",
       "\n",
       "    .dataframe tbody tr th {\n",
       "        vertical-align: top;\n",
       "    }\n",
       "\n",
       "    .dataframe thead th {\n",
       "        text-align: right;\n",
       "    }\n",
       "</style>\n",
       "<table border=\"1\" class=\"dataframe\">\n",
       "  <thead>\n",
       "    <tr style=\"text-align: right;\">\n",
       "      <th></th>\n",
       "      <th>month_date</th>\n",
       "      <th>total_views</th>\n",
       "    </tr>\n",
       "  </thead>\n",
       "  <tbody>\n",
       "    <tr>\n",
       "      <th>0</th>\n",
       "      <td>2008-09-01</td>\n",
       "      <td>452928568</td>\n",
       "    </tr>\n",
       "    <tr>\n",
       "      <th>1</th>\n",
       "      <td>2008-10-01</td>\n",
       "      <td>365400138</td>\n",
       "    </tr>\n",
       "    <tr>\n",
       "      <th>2</th>\n",
       "      <td>2008-11-01</td>\n",
       "      <td>221759651</td>\n",
       "    </tr>\n",
       "    <tr>\n",
       "      <th>3</th>\n",
       "      <td>2008-12-01</td>\n",
       "      <td>197792841</td>\n",
       "    </tr>\n",
       "    <tr>\n",
       "      <th>4</th>\n",
       "      <td>2008-08-01</td>\n",
       "      <td>131367083</td>\n",
       "    </tr>\n",
       "    <tr>\n",
       "      <th>5</th>\n",
       "      <td>2008-07-01</td>\n",
       "      <td>669895</td>\n",
       "    </tr>\n",
       "  </tbody>\n",
       "</table>\n",
       "</div>"
      ],
      "text/plain": [
       "  month_date  total_views\n",
       "0 2008-09-01    452928568\n",
       "1 2008-10-01    365400138\n",
       "2 2008-11-01    221759651\n",
       "3 2008-12-01    197792841\n",
       "4 2008-08-01    131367083\n",
       "5 2008-07-01       669895"
      ]
     },
     "execution_count": 3,
     "metadata": {},
     "output_type": "execute_result"
    }
   ],
   "source": [
    "query_1 = '''\n",
    "SELECT\n",
    "    DATE_TRUNC('month', creation_date) AS month_date,\n",
    "    SUM(views_count) AS total_views\n",
    "FROM stackoverflow.posts\n",
    "GROUP BY month_date\n",
    "ORDER BY total_views DESC\n",
    "'''\n",
    "\n",
    "pd.read_sql_query(query_1, con=engine) "
   ]
  },
  {
   "cell_type": "markdown",
   "metadata": {
    "id": "luxSj17oDWKq"
   },
   "source": [
    "Летом наименьшее количество просмотров, которое возрастает с каждым месяцем. В сентябре пик просмотров постов, скорее всего это связано с началом учебы. Далее количество просмотров постов постепенно уменьшается. Это можно объяснить тем, что сбор данных обрывается в декабре. Посты за сентябрь включают просмотры за 4 месяца, а посты за декабрь – за 1 месяц."
   ]
  },
  {
   "cell_type": "markdown",
   "metadata": {
    "id": "FziIXkn5DWKr"
   },
   "source": [
    "### Задание 2 <a name='task_2'></a>"
   ]
  },
  {
   "cell_type": "markdown",
   "metadata": {
    "id": "fTGESZvYDWKr"
   },
   "source": [
    "Выведите имена самых активных пользователей, которые в первый месяц после регистрации (включая день регистрации) дали больше 100 ответов. Вопросы, которые задавали пользователи, не учитывайте. Для каждого имени пользователя выведите количество уникальных значений `user_id`. Отсортируйте результат по полю с именами в лексикографическом порядке."
   ]
  },
  {
   "cell_type": "code",
   "execution_count": 4,
   "metadata": {
    "id": "fIO-y-YjDWKt"
   },
   "outputs": [
    {
     "data": {
      "text/html": [
       "<div>\n",
       "<style scoped>\n",
       "    .dataframe tbody tr th:only-of-type {\n",
       "        vertical-align: middle;\n",
       "    }\n",
       "\n",
       "    .dataframe tbody tr th {\n",
       "        vertical-align: top;\n",
       "    }\n",
       "\n",
       "    .dataframe thead th {\n",
       "        text-align: right;\n",
       "    }\n",
       "</style>\n",
       "<table border=\"1\" class=\"dataframe\">\n",
       "  <thead>\n",
       "    <tr style=\"text-align: right;\">\n",
       "      <th></th>\n",
       "      <th>display_name</th>\n",
       "      <th>count</th>\n",
       "    </tr>\n",
       "  </thead>\n",
       "  <tbody>\n",
       "    <tr>\n",
       "      <th>0</th>\n",
       "      <td>1800 INFORMATION</td>\n",
       "      <td>1</td>\n",
       "    </tr>\n",
       "    <tr>\n",
       "      <th>1</th>\n",
       "      <td>Adam Bellaire</td>\n",
       "      <td>1</td>\n",
       "    </tr>\n",
       "    <tr>\n",
       "      <th>2</th>\n",
       "      <td>Adam Davis</td>\n",
       "      <td>1</td>\n",
       "    </tr>\n",
       "    <tr>\n",
       "      <th>3</th>\n",
       "      <td>Adam Liss</td>\n",
       "      <td>1</td>\n",
       "    </tr>\n",
       "    <tr>\n",
       "      <th>4</th>\n",
       "      <td>Alan</td>\n",
       "      <td>8</td>\n",
       "    </tr>\n",
       "    <tr>\n",
       "      <th>...</th>\n",
       "      <td>...</td>\n",
       "      <td>...</td>\n",
       "    </tr>\n",
       "    <tr>\n",
       "      <th>71</th>\n",
       "      <td>leppie</td>\n",
       "      <td>1</td>\n",
       "    </tr>\n",
       "    <tr>\n",
       "      <th>72</th>\n",
       "      <td>lomaxx</td>\n",
       "      <td>1</td>\n",
       "    </tr>\n",
       "    <tr>\n",
       "      <th>73</th>\n",
       "      <td>mattlant</td>\n",
       "      <td>1</td>\n",
       "    </tr>\n",
       "    <tr>\n",
       "      <th>74</th>\n",
       "      <td>paxdiablo</td>\n",
       "      <td>1</td>\n",
       "    </tr>\n",
       "    <tr>\n",
       "      <th>75</th>\n",
       "      <td>tzot</td>\n",
       "      <td>1</td>\n",
       "    </tr>\n",
       "  </tbody>\n",
       "</table>\n",
       "<p>76 rows × 2 columns</p>\n",
       "</div>"
      ],
      "text/plain": [
       "        display_name  count\n",
       "0   1800 INFORMATION      1\n",
       "1      Adam Bellaire      1\n",
       "2         Adam Davis      1\n",
       "3          Adam Liss      1\n",
       "4               Alan      8\n",
       "..               ...    ...\n",
       "71            leppie      1\n",
       "72            lomaxx      1\n",
       "73          mattlant      1\n",
       "74         paxdiablo      1\n",
       "75              tzot      1\n",
       "\n",
       "[76 rows x 2 columns]"
      ]
     },
     "execution_count": 4,
     "metadata": {},
     "output_type": "execute_result"
    }
   ],
   "source": [
    "query_2 = '''\n",
    "SELECT\n",
    "    u.display_name,\n",
    "    COUNT(DISTINCT u.id)\n",
    "FROM stackoverflow.users AS u\n",
    "JOIN stackoverflow.posts AS p ON u.id = p.user_id\n",
    "JOIN stackoverflow.post_types AS pt ON p.post_type_id = pt.id\n",
    "WHERE pt.type = 'Answer' \n",
    "    AND p.creation_date >= u.creation_date AND p.creation_date <= u.creation_date + INTERVAL '1 month'\n",
    "GROUP BY u.display_name\n",
    "HAVING COUNT(u.id) > 100\n",
    "ORDER BY u.display_name\n",
    "'''\n",
    "\n",
    "res_2 = pd.read_sql_query(query_2, con=engine)\n",
    "res_2"
   ]
  },
  {
   "cell_type": "code",
   "execution_count": 5,
   "metadata": {
    "id": "CEIGGQ6ODWKy"
   },
   "outputs": [
    {
     "data": {
      "text/html": [
       "<div>\n",
       "<style scoped>\n",
       "    .dataframe tbody tr th:only-of-type {\n",
       "        vertical-align: middle;\n",
       "    }\n",
       "\n",
       "    .dataframe tbody tr th {\n",
       "        vertical-align: top;\n",
       "    }\n",
       "\n",
       "    .dataframe thead th {\n",
       "        text-align: right;\n",
       "    }\n",
       "</style>\n",
       "<table border=\"1\" class=\"dataframe\">\n",
       "  <thead>\n",
       "    <tr style=\"text-align: right;\">\n",
       "      <th></th>\n",
       "      <th>display_name</th>\n",
       "      <th>count</th>\n",
       "    </tr>\n",
       "  </thead>\n",
       "  <tbody>\n",
       "    <tr>\n",
       "      <th>4</th>\n",
       "      <td>Alan</td>\n",
       "      <td>8</td>\n",
       "    </tr>\n",
       "    <tr>\n",
       "      <th>7</th>\n",
       "      <td>Brian</td>\n",
       "      <td>15</td>\n",
       "    </tr>\n",
       "    <tr>\n",
       "      <th>10</th>\n",
       "      <td>Chris</td>\n",
       "      <td>29</td>\n",
       "    </tr>\n",
       "    <tr>\n",
       "      <th>12</th>\n",
       "      <td>Craig</td>\n",
       "      <td>10</td>\n",
       "    </tr>\n",
       "    <tr>\n",
       "      <th>14</th>\n",
       "      <td>Dan</td>\n",
       "      <td>21</td>\n",
       "    </tr>\n",
       "    <tr>\n",
       "      <th>21</th>\n",
       "      <td>Greg</td>\n",
       "      <td>12</td>\n",
       "    </tr>\n",
       "    <tr>\n",
       "      <th>25</th>\n",
       "      <td>Jim</td>\n",
       "      <td>7</td>\n",
       "    </tr>\n",
       "    <tr>\n",
       "      <th>26</th>\n",
       "      <td>Joe</td>\n",
       "      <td>9</td>\n",
       "    </tr>\n",
       "    <tr>\n",
       "      <th>33</th>\n",
       "      <td>Josh</td>\n",
       "      <td>16</td>\n",
       "    </tr>\n",
       "    <tr>\n",
       "      <th>34</th>\n",
       "      <td>Keith</td>\n",
       "      <td>5</td>\n",
       "    </tr>\n",
       "    <tr>\n",
       "      <th>35</th>\n",
       "      <td>Kevin</td>\n",
       "      <td>11</td>\n",
       "    </tr>\n",
       "    <tr>\n",
       "      <th>40</th>\n",
       "      <td>Mark</td>\n",
       "      <td>16</td>\n",
       "    </tr>\n",
       "    <tr>\n",
       "      <th>43</th>\n",
       "      <td>Matt</td>\n",
       "      <td>29</td>\n",
       "    </tr>\n",
       "    <tr>\n",
       "      <th>48</th>\n",
       "      <td>Nick</td>\n",
       "      <td>16</td>\n",
       "    </tr>\n",
       "    <tr>\n",
       "      <th>50</th>\n",
       "      <td>Oli</td>\n",
       "      <td>3</td>\n",
       "    </tr>\n",
       "    <tr>\n",
       "      <th>54</th>\n",
       "      <td>Rob</td>\n",
       "      <td>15</td>\n",
       "    </tr>\n",
       "    <tr>\n",
       "      <th>57</th>\n",
       "      <td>Ryan</td>\n",
       "      <td>10</td>\n",
       "    </tr>\n",
       "    <tr>\n",
       "      <th>62</th>\n",
       "      <td>Tom</td>\n",
       "      <td>19</td>\n",
       "    </tr>\n",
       "    <tr>\n",
       "      <th>70</th>\n",
       "      <td>jfs</td>\n",
       "      <td>3</td>\n",
       "    </tr>\n",
       "  </tbody>\n",
       "</table>\n",
       "</div>"
      ],
      "text/plain": [
       "   display_name  count\n",
       "4          Alan      8\n",
       "7         Brian     15\n",
       "10        Chris     29\n",
       "12        Craig     10\n",
       "14          Dan     21\n",
       "21         Greg     12\n",
       "25          Jim      7\n",
       "26          Joe      9\n",
       "33         Josh     16\n",
       "34        Keith      5\n",
       "35        Kevin     11\n",
       "40         Mark     16\n",
       "43         Matt     29\n",
       "48         Nick     16\n",
       "50          Oli      3\n",
       "54          Rob     15\n",
       "57         Ryan     10\n",
       "62          Tom     19\n",
       "70          jfs      3"
      ]
     },
     "execution_count": 5,
     "metadata": {},
     "output_type": "execute_result"
    }
   ],
   "source": [
    "res_2[res_2['count'] != 1]"
   ]
  },
  {
   "cell_type": "markdown",
   "metadata": {},
   "source": [
    "Некоторые пользователи указывали имя без фамилии, что и привело к большому количеству уникальных пользователей на одно имя пользователя."
   ]
  },
  {
   "cell_type": "markdown",
   "metadata": {
    "id": "JhM2xXj5DWKu"
   },
   "source": [
    "### Задание 3 <a name='task_3'></a>"
   ]
  },
  {
   "cell_type": "markdown",
   "metadata": {
    "id": "IS6xPqyyDWKu"
   },
   "source": [
    "Выведите количество постов за 2008 год по месяцам. Отберите посты от пользователей, которые зарегистрировались в сентябре 2008 года и сделали хотя бы один пост в декабре того же года. Отсортируйте таблицу по значению месяца по убыванию."
   ]
  },
  {
   "cell_type": "code",
   "execution_count": 6,
   "metadata": {
    "id": "kVu0FB8WDWKv"
   },
   "outputs": [
    {
     "data": {
      "text/html": [
       "<div>\n",
       "<style scoped>\n",
       "    .dataframe tbody tr th:only-of-type {\n",
       "        vertical-align: middle;\n",
       "    }\n",
       "\n",
       "    .dataframe tbody tr th {\n",
       "        vertical-align: top;\n",
       "    }\n",
       "\n",
       "    .dataframe thead th {\n",
       "        text-align: right;\n",
       "    }\n",
       "</style>\n",
       "<table border=\"1\" class=\"dataframe\">\n",
       "  <thead>\n",
       "    <tr style=\"text-align: right;\">\n",
       "      <th></th>\n",
       "      <th>month</th>\n",
       "      <th>count</th>\n",
       "    </tr>\n",
       "  </thead>\n",
       "  <tbody>\n",
       "    <tr>\n",
       "      <th>0</th>\n",
       "      <td>2008-12-01</td>\n",
       "      <td>17641</td>\n",
       "    </tr>\n",
       "    <tr>\n",
       "      <th>1</th>\n",
       "      <td>2008-11-01</td>\n",
       "      <td>18294</td>\n",
       "    </tr>\n",
       "    <tr>\n",
       "      <th>2</th>\n",
       "      <td>2008-10-01</td>\n",
       "      <td>27171</td>\n",
       "    </tr>\n",
       "    <tr>\n",
       "      <th>3</th>\n",
       "      <td>2008-09-01</td>\n",
       "      <td>24870</td>\n",
       "    </tr>\n",
       "    <tr>\n",
       "      <th>4</th>\n",
       "      <td>2008-08-01</td>\n",
       "      <td>32</td>\n",
       "    </tr>\n",
       "  </tbody>\n",
       "</table>\n",
       "</div>"
      ],
      "text/plain": [
       "       month  count\n",
       "0 2008-12-01  17641\n",
       "1 2008-11-01  18294\n",
       "2 2008-10-01  27171\n",
       "3 2008-09-01  24870\n",
       "4 2008-08-01     32"
      ]
     },
     "execution_count": 6,
     "metadata": {},
     "output_type": "execute_result"
    }
   ],
   "source": [
    "query_3 = '''\n",
    "SELECT \n",
    "    DATE_TRUNC('month', p.creation_date) AS month,\n",
    "    COUNT(*)\n",
    "FROM stackoverflow.users AS u\n",
    "JOIN stackoverflow.posts AS p ON u.id = p.user_id\n",
    "WHERE u.id IN (\n",
    "    SELECT DISTINCT u.id\n",
    "    FROM stackoverflow.users AS u\n",
    "    JOIN stackoverflow.posts AS p ON u.id = p.user_id\n",
    "    WHERE EXTRACT(MONTH FROM u.creation_date) = 9 AND EXTRACT(MONTH FROM p.creation_date) = 12\n",
    ")\n",
    "GROUP BY month\n",
    "ORDER BY month DESC\n",
    "'''\n",
    "\n",
    "pd.read_sql_query(query_3, con=engine)"
   ]
  },
  {
   "cell_type": "markdown",
   "metadata": {
    "id": "MMVIz4yMlKpN"
   },
   "source": [
    "Есть посты в августе, хотя пользователи зарегистрировались в сентябре. Может быть это связано с тем, что раньше можно было добавлять посты без регистрации. "
   ]
  },
  {
   "cell_type": "markdown",
   "metadata": {
    "id": "5Pcizm0DDWKz"
   },
   "source": [
    "### Задание 4 <a name='task_4'></a>"
   ]
  },
  {
   "cell_type": "markdown",
   "metadata": {
    "id": "KUZPF6vHDWKz"
   },
   "source": [
    "Используя данные о постах, выведите несколько полей:\n",
    "\n",
    "- идентификатор пользователя, который написал пост;\n",
    "- дата создания поста;\n",
    "- количество просмотров у текущего поста;\n",
    "- сумму просмотров постов автора с накоплением.\n",
    "\n",
    "Данные в таблице должны быть отсортированы по возрастанию идентификаторов пользователей, а данные об одном и том же пользователе — по возрастанию даты создания поста."
   ]
  },
  {
   "cell_type": "code",
   "execution_count": 7,
   "metadata": {
    "id": "hDoJhMzfDWK0"
   },
   "outputs": [
    {
     "data": {
      "text/html": [
       "<div>\n",
       "<style scoped>\n",
       "    .dataframe tbody tr th:only-of-type {\n",
       "        vertical-align: middle;\n",
       "    }\n",
       "\n",
       "    .dataframe tbody tr th {\n",
       "        vertical-align: top;\n",
       "    }\n",
       "\n",
       "    .dataframe thead th {\n",
       "        text-align: right;\n",
       "    }\n",
       "</style>\n",
       "<table border=\"1\" class=\"dataframe\">\n",
       "  <thead>\n",
       "    <tr style=\"text-align: right;\">\n",
       "      <th></th>\n",
       "      <th>user_id</th>\n",
       "      <th>creation_date</th>\n",
       "      <th>views_count</th>\n",
       "      <th>cumulative_count</th>\n",
       "    </tr>\n",
       "  </thead>\n",
       "  <tbody>\n",
       "    <tr>\n",
       "      <th>0</th>\n",
       "      <td>1</td>\n",
       "      <td>2008-07-31 23:41:00</td>\n",
       "      <td>480476</td>\n",
       "      <td>480476</td>\n",
       "    </tr>\n",
       "    <tr>\n",
       "      <th>1</th>\n",
       "      <td>1</td>\n",
       "      <td>2008-07-31 23:55:38</td>\n",
       "      <td>136033</td>\n",
       "      <td>616509</td>\n",
       "    </tr>\n",
       "    <tr>\n",
       "      <th>2</th>\n",
       "      <td>1</td>\n",
       "      <td>2008-07-31 23:56:41</td>\n",
       "      <td>0</td>\n",
       "      <td>616509</td>\n",
       "    </tr>\n",
       "    <tr>\n",
       "      <th>3</th>\n",
       "      <td>1</td>\n",
       "      <td>2008-08-04 02:45:08</td>\n",
       "      <td>0</td>\n",
       "      <td>616509</td>\n",
       "    </tr>\n",
       "    <tr>\n",
       "      <th>4</th>\n",
       "      <td>1</td>\n",
       "      <td>2008-08-04 04:31:03</td>\n",
       "      <td>0</td>\n",
       "      <td>616509</td>\n",
       "    </tr>\n",
       "    <tr>\n",
       "      <th>...</th>\n",
       "      <td>...</td>\n",
       "      <td>...</td>\n",
       "      <td>...</td>\n",
       "      <td>...</td>\n",
       "    </tr>\n",
       "    <tr>\n",
       "      <th>243791</th>\n",
       "      <td>5696608</td>\n",
       "      <td>2008-12-23 16:00:37</td>\n",
       "      <td>0</td>\n",
       "      <td>2804</td>\n",
       "    </tr>\n",
       "    <tr>\n",
       "      <th>243792</th>\n",
       "      <td>5696608</td>\n",
       "      <td>2008-12-23 17:35:09</td>\n",
       "      <td>0</td>\n",
       "      <td>2804</td>\n",
       "    </tr>\n",
       "    <tr>\n",
       "      <th>243793</th>\n",
       "      <td>5696608</td>\n",
       "      <td>2008-12-24 01:02:48</td>\n",
       "      <td>0</td>\n",
       "      <td>2804</td>\n",
       "    </tr>\n",
       "    <tr>\n",
       "      <th>243794</th>\n",
       "      <td>5696608</td>\n",
       "      <td>2008-12-30 14:34:45</td>\n",
       "      <td>0</td>\n",
       "      <td>2804</td>\n",
       "    </tr>\n",
       "    <tr>\n",
       "      <th>243795</th>\n",
       "      <td>5696608</td>\n",
       "      <td>2008-12-30 16:32:12</td>\n",
       "      <td>0</td>\n",
       "      <td>2804</td>\n",
       "    </tr>\n",
       "  </tbody>\n",
       "</table>\n",
       "<p>243796 rows × 4 columns</p>\n",
       "</div>"
      ],
      "text/plain": [
       "        user_id       creation_date  views_count  cumulative_count\n",
       "0             1 2008-07-31 23:41:00       480476            480476\n",
       "1             1 2008-07-31 23:55:38       136033            616509\n",
       "2             1 2008-07-31 23:56:41            0            616509\n",
       "3             1 2008-08-04 02:45:08            0            616509\n",
       "4             1 2008-08-04 04:31:03            0            616509\n",
       "...         ...                 ...          ...               ...\n",
       "243791  5696608 2008-12-23 16:00:37            0              2804\n",
       "243792  5696608 2008-12-23 17:35:09            0              2804\n",
       "243793  5696608 2008-12-24 01:02:48            0              2804\n",
       "243794  5696608 2008-12-30 14:34:45            0              2804\n",
       "243795  5696608 2008-12-30 16:32:12            0              2804\n",
       "\n",
       "[243796 rows x 4 columns]"
      ]
     },
     "execution_count": 7,
     "metadata": {},
     "output_type": "execute_result"
    }
   ],
   "source": [
    "query_4 = '''\n",
    "SELECT\n",
    "    user_id,\n",
    "    creation_date,\n",
    "    views_count,\n",
    "    SUM(views_count) OVER(PARTITION BY user_id ORDER BY creation_date) AS cumulative_count\n",
    "FROM stackoverflow.posts\n",
    "ORDER BY user_id, creation_date\n",
    "'''\n",
    "\n",
    "res_4 = pd.read_sql_query(query_4, con=engine)\n",
    "res_4"
   ]
  },
  {
   "cell_type": "markdown",
   "metadata": {},
   "source": [
    "Бывает, что пользователи создают посты, которые никто не смотрит."
   ]
  },
  {
   "cell_type": "markdown",
   "metadata": {
    "id": "N0kHRHvIDWK2"
   },
   "source": [
    "### Задание 5 <a name='task_5'></a>"
   ]
  },
  {
   "cell_type": "markdown",
   "metadata": {
    "id": "gBgvmPtODWK2"
   },
   "source": [
    "Найдите среднее количество постов пользователей в день за август 2008 года. Отберите данные о пользователях, которые опубликовали больше 120 постов за август. Дни без публикаций не учитывайте. \n",
    "\n",
    "Отсортируйте результат по возрастанию среднего количества постов. Значения можно не округлять."
   ]
  },
  {
   "cell_type": "code",
   "execution_count": 8,
   "metadata": {
    "id": "YFyPNz5GDWK3"
   },
   "outputs": [
    {
     "data": {
      "text/html": [
       "<div>\n",
       "<style scoped>\n",
       "    .dataframe tbody tr th:only-of-type {\n",
       "        vertical-align: middle;\n",
       "    }\n",
       "\n",
       "    .dataframe tbody tr th {\n",
       "        vertical-align: top;\n",
       "    }\n",
       "\n",
       "    .dataframe thead th {\n",
       "        text-align: right;\n",
       "    }\n",
       "</style>\n",
       "<table border=\"1\" class=\"dataframe\">\n",
       "  <thead>\n",
       "    <tr style=\"text-align: right;\">\n",
       "      <th></th>\n",
       "      <th>user_id</th>\n",
       "      <th>avg_daily</th>\n",
       "    </tr>\n",
       "  </thead>\n",
       "  <tbody>\n",
       "    <tr>\n",
       "      <th>0</th>\n",
       "      <td>116</td>\n",
       "      <td>4.777778</td>\n",
       "    </tr>\n",
       "    <tr>\n",
       "      <th>1</th>\n",
       "      <td>234</td>\n",
       "      <td>5.208333</td>\n",
       "    </tr>\n",
       "    <tr>\n",
       "      <th>2</th>\n",
       "      <td>91</td>\n",
       "      <td>5.681818</td>\n",
       "    </tr>\n",
       "    <tr>\n",
       "      <th>3</th>\n",
       "      <td>905</td>\n",
       "      <td>7.000000</td>\n",
       "    </tr>\n",
       "    <tr>\n",
       "      <th>4</th>\n",
       "      <td>383</td>\n",
       "      <td>7.277778</td>\n",
       "    </tr>\n",
       "  </tbody>\n",
       "</table>\n",
       "</div>"
      ],
      "text/plain": [
       "   user_id  avg_daily\n",
       "0      116   4.777778\n",
       "1      234   5.208333\n",
       "2       91   5.681818\n",
       "3      905   7.000000\n",
       "4      383   7.277778"
      ]
     },
     "execution_count": 8,
     "metadata": {},
     "output_type": "execute_result"
    }
   ],
   "source": [
    "query_5 = '''\n",
    "WITH posts_in_aughust AS (\n",
    "    SELECT \n",
    "        user_id,\n",
    "        creation_date::date AS day,\n",
    "        COUNT(*) AS number_of_posts\n",
    "    FROM stackoverflow.posts\n",
    "    WHERE user_id IN (\n",
    "        SELECT \n",
    "            user_id\n",
    "        FROM stackoverflow.posts\n",
    "        WHERE EXTRACT(MONTH FROM creation_date) = 8 \n",
    "        GROUP BY user_id\n",
    "        HAVING COUNT(*) > 120\n",
    "    ) AND EXTRACT(MONTH FROM creation_date) = 8\n",
    "    GROUP BY user_id, day\n",
    ")\n",
    "\n",
    "SELECT \n",
    "    user_id,\n",
    "    AVG(number_of_posts) AS avg_daily\n",
    "FROM posts_in_aughust\n",
    "GROUP BY user_id\n",
    "ORDER BY avg_daily\n",
    "'''\n",
    "\n",
    "pd.read_sql_query(query_5, con=engine)"
   ]
  },
  {
   "cell_type": "markdown",
   "metadata": {},
   "source": [
    "Пользователь делал как минимум 5 постов в день."
   ]
  },
  {
   "cell_type": "markdown",
   "metadata": {
    "id": "EQ0dcFH4DWK5"
   },
   "source": [
    "### Задание 6 <a name='task_6'></a>"
   ]
  },
  {
   "cell_type": "markdown",
   "metadata": {
    "id": "c7flfg_hDWK5"
   },
   "source": [
    "Сколько в среднем дней в период с 1 по 7 декабря 2008 года пользователи взаимодействовали с платформой? Для каждого пользователя отберите дни, в которые он или она опубликовали хотя бы один пост."
   ]
  },
  {
   "cell_type": "code",
   "execution_count": 9,
   "metadata": {
    "id": "kZ7LXTr6DWK6"
   },
   "outputs": [
    {
     "data": {
      "text/html": [
       "<div>\n",
       "<style scoped>\n",
       "    .dataframe tbody tr th:only-of-type {\n",
       "        vertical-align: middle;\n",
       "    }\n",
       "\n",
       "    .dataframe tbody tr th {\n",
       "        vertical-align: top;\n",
       "    }\n",
       "\n",
       "    .dataframe thead th {\n",
       "        text-align: right;\n",
       "    }\n",
       "</style>\n",
       "<table border=\"1\" class=\"dataframe\">\n",
       "  <thead>\n",
       "    <tr style=\"text-align: right;\">\n",
       "      <th></th>\n",
       "      <th>result</th>\n",
       "    </tr>\n",
       "  </thead>\n",
       "  <tbody>\n",
       "    <tr>\n",
       "      <th>0</th>\n",
       "      <td>2.0</td>\n",
       "    </tr>\n",
       "  </tbody>\n",
       "</table>\n",
       "</div>"
      ],
      "text/plain": [
       "   result\n",
       "0     2.0"
      ]
     },
     "execution_count": 9,
     "metadata": {},
     "output_type": "execute_result"
    }
   ],
   "source": [
    "query_6 = '''\n",
    "WITH user_activity AS (\n",
    "    SELECT\n",
    "        user_id,\n",
    "        COUNT(DISTINCT creation_date::date) AS days_active\n",
    "    FROM stackoverflow.posts\n",
    "    WHERE creation_date >= '2008-12-01' AND creation_date < '2008-12-08'\n",
    "    GROUP BY user_id\n",
    ")\n",
    "\n",
    "SELECT ROUND(AVG(days_active)) AS result \n",
    "FROM user_activity\n",
    "'''\n",
    "\n",
    "pd.read_sql_query(query_6, con=engine)"
   ]
  },
  {
   "cell_type": "markdown",
   "metadata": {
    "id": "LfUuYz-1DWK8"
   },
   "source": [
    "В первую неделю декабря в среднем активны 2 дня – не то время, когда пользователи часто пользуются платформой."
   ]
  },
  {
   "cell_type": "markdown",
   "metadata": {
    "id": "wfOmqmfLDWK8"
   },
   "source": [
    "### Задание 7 <a name='task_7'></a>"
   ]
  },
  {
   "cell_type": "markdown",
   "metadata": {
    "id": "X4ARQimADWK9"
   },
   "source": [
    "Выведите историю активности каждого пользователя в таком виде: идентификатор пользователя, дата публикации поста. Отсортируйте вывод по возрастанию идентификаторов пользователей, а для каждого пользователя — по возрастанию даты публикации.\n",
    "\n",
    "Добавьте в таблицу новое поле: для каждого поста в нём будет указано название месяца предпоследней публикации пользователя относительно текущей. Если такой публикации нет, укажите `NULL`."
   ]
  },
  {
   "cell_type": "code",
   "execution_count": 10,
   "metadata": {
    "id": "HzI1vhaMDWK-"
   },
   "outputs": [
    {
     "data": {
      "text/html": [
       "<div>\n",
       "<style scoped>\n",
       "    .dataframe tbody tr th:only-of-type {\n",
       "        vertical-align: middle;\n",
       "    }\n",
       "\n",
       "    .dataframe tbody tr th {\n",
       "        vertical-align: top;\n",
       "    }\n",
       "\n",
       "    .dataframe thead th {\n",
       "        text-align: right;\n",
       "    }\n",
       "</style>\n",
       "<table border=\"1\" class=\"dataframe\">\n",
       "  <thead>\n",
       "    <tr style=\"text-align: right;\">\n",
       "      <th></th>\n",
       "      <th>user_id</th>\n",
       "      <th>creation_date</th>\n",
       "      <th>to_char</th>\n",
       "    </tr>\n",
       "  </thead>\n",
       "  <tbody>\n",
       "    <tr>\n",
       "      <th>0</th>\n",
       "      <td>1</td>\n",
       "      <td>2008-07-31 23:41:00</td>\n",
       "      <td>None</td>\n",
       "    </tr>\n",
       "    <tr>\n",
       "      <th>1</th>\n",
       "      <td>1</td>\n",
       "      <td>2008-07-31 23:55:38</td>\n",
       "      <td>None</td>\n",
       "    </tr>\n",
       "    <tr>\n",
       "      <th>2</th>\n",
       "      <td>1</td>\n",
       "      <td>2008-07-31 23:56:41</td>\n",
       "      <td>Jul</td>\n",
       "    </tr>\n",
       "    <tr>\n",
       "      <th>3</th>\n",
       "      <td>1</td>\n",
       "      <td>2008-08-04 02:45:08</td>\n",
       "      <td>Jul</td>\n",
       "    </tr>\n",
       "    <tr>\n",
       "      <th>4</th>\n",
       "      <td>1</td>\n",
       "      <td>2008-08-04 04:31:03</td>\n",
       "      <td>Jul</td>\n",
       "    </tr>\n",
       "    <tr>\n",
       "      <th>...</th>\n",
       "      <td>...</td>\n",
       "      <td>...</td>\n",
       "      <td>...</td>\n",
       "    </tr>\n",
       "    <tr>\n",
       "      <th>243791</th>\n",
       "      <td>5696608</td>\n",
       "      <td>2008-12-23 16:00:37</td>\n",
       "      <td>Dec</td>\n",
       "    </tr>\n",
       "    <tr>\n",
       "      <th>243792</th>\n",
       "      <td>5696608</td>\n",
       "      <td>2008-12-23 17:35:09</td>\n",
       "      <td>Dec</td>\n",
       "    </tr>\n",
       "    <tr>\n",
       "      <th>243793</th>\n",
       "      <td>5696608</td>\n",
       "      <td>2008-12-24 01:02:48</td>\n",
       "      <td>Dec</td>\n",
       "    </tr>\n",
       "    <tr>\n",
       "      <th>243794</th>\n",
       "      <td>5696608</td>\n",
       "      <td>2008-12-30 14:34:45</td>\n",
       "      <td>Dec</td>\n",
       "    </tr>\n",
       "    <tr>\n",
       "      <th>243795</th>\n",
       "      <td>5696608</td>\n",
       "      <td>2008-12-30 16:32:12</td>\n",
       "      <td>Dec</td>\n",
       "    </tr>\n",
       "  </tbody>\n",
       "</table>\n",
       "<p>243796 rows × 3 columns</p>\n",
       "</div>"
      ],
      "text/plain": [
       "        user_id       creation_date to_char\n",
       "0             1 2008-07-31 23:41:00    None\n",
       "1             1 2008-07-31 23:55:38    None\n",
       "2             1 2008-07-31 23:56:41     Jul\n",
       "3             1 2008-08-04 02:45:08     Jul\n",
       "4             1 2008-08-04 04:31:03     Jul\n",
       "...         ...                 ...     ...\n",
       "243791  5696608 2008-12-23 16:00:37     Dec\n",
       "243792  5696608 2008-12-23 17:35:09     Dec\n",
       "243793  5696608 2008-12-24 01:02:48     Dec\n",
       "243794  5696608 2008-12-30 14:34:45     Dec\n",
       "243795  5696608 2008-12-30 16:32:12     Dec\n",
       "\n",
       "[243796 rows x 3 columns]"
      ]
     },
     "execution_count": 10,
     "metadata": {},
     "output_type": "execute_result"
    }
   ],
   "source": [
    "query_7 = '''\n",
    "SELECT\n",
    "    user_id,\n",
    "    creation_date,\n",
    "    TO_CHAR(LAG(creation_date, 2) OVER(PARTITION BY user_id ORDER BY creation_date), 'Mon')\n",
    "FROM stackoverflow.posts\n",
    "'''\n",
    "\n",
    "pd.read_sql_query(query_7, con=engine)"
   ]
  },
  {
   "cell_type": "markdown",
   "metadata": {
    "id": "tf9qq2yzDWK_"
   },
   "source": [
    "### Задание 8 <a name='task_8'></a>"
   ]
  },
  {
   "cell_type": "markdown",
   "metadata": {
    "id": "gfwLVXBYDWLA"
   },
   "source": [
    "Рассчитайте аналог Retention Rate по месяцам для пользователей Stack Overflow. Объедините пользователей в когорты по месяцу их первого поста. Возвращение определяйте по наличию поста в текущем месяце. "
   ]
  },
  {
   "cell_type": "code",
   "execution_count": 11,
   "metadata": {},
   "outputs": [
    {
     "data": {
      "text/html": [
       "<div>\n",
       "<style scoped>\n",
       "    .dataframe tbody tr th:only-of-type {\n",
       "        vertical-align: middle;\n",
       "    }\n",
       "\n",
       "    .dataframe tbody tr th {\n",
       "        vertical-align: top;\n",
       "    }\n",
       "\n",
       "    .dataframe thead th {\n",
       "        text-align: right;\n",
       "    }\n",
       "</style>\n",
       "<table border=\"1\" class=\"dataframe\">\n",
       "  <thead>\n",
       "    <tr style=\"text-align: right;\">\n",
       "      <th></th>\n",
       "      <th>cohort_dt</th>\n",
       "      <th>session_date</th>\n",
       "      <th>users_cnt</th>\n",
       "      <th>cohort_users_cnt</th>\n",
       "      <th>retention_rate</th>\n",
       "    </tr>\n",
       "  </thead>\n",
       "  <tbody>\n",
       "    <tr>\n",
       "      <th>0</th>\n",
       "      <td>2008-07-01</td>\n",
       "      <td>2008-07-01</td>\n",
       "      <td>3</td>\n",
       "      <td>3</td>\n",
       "      <td>100.00</td>\n",
       "    </tr>\n",
       "    <tr>\n",
       "      <th>1</th>\n",
       "      <td>2008-07-01</td>\n",
       "      <td>2008-08-01</td>\n",
       "      <td>2</td>\n",
       "      <td>3</td>\n",
       "      <td>66.67</td>\n",
       "    </tr>\n",
       "    <tr>\n",
       "      <th>2</th>\n",
       "      <td>2008-07-01</td>\n",
       "      <td>2008-09-01</td>\n",
       "      <td>1</td>\n",
       "      <td>3</td>\n",
       "      <td>33.33</td>\n",
       "    </tr>\n",
       "    <tr>\n",
       "      <th>3</th>\n",
       "      <td>2008-07-01</td>\n",
       "      <td>2008-10-01</td>\n",
       "      <td>2</td>\n",
       "      <td>3</td>\n",
       "      <td>66.67</td>\n",
       "    </tr>\n",
       "    <tr>\n",
       "      <th>4</th>\n",
       "      <td>2008-07-01</td>\n",
       "      <td>2008-11-01</td>\n",
       "      <td>1</td>\n",
       "      <td>3</td>\n",
       "      <td>33.33</td>\n",
       "    </tr>\n",
       "    <tr>\n",
       "      <th>5</th>\n",
       "      <td>2008-07-01</td>\n",
       "      <td>2008-12-01</td>\n",
       "      <td>2</td>\n",
       "      <td>3</td>\n",
       "      <td>66.67</td>\n",
       "    </tr>\n",
       "    <tr>\n",
       "      <th>6</th>\n",
       "      <td>2008-08-01</td>\n",
       "      <td>2008-08-01</td>\n",
       "      <td>2151</td>\n",
       "      <td>2151</td>\n",
       "      <td>100.00</td>\n",
       "    </tr>\n",
       "    <tr>\n",
       "      <th>7</th>\n",
       "      <td>2008-08-01</td>\n",
       "      <td>2008-09-01</td>\n",
       "      <td>1571</td>\n",
       "      <td>2151</td>\n",
       "      <td>73.04</td>\n",
       "    </tr>\n",
       "    <tr>\n",
       "      <th>8</th>\n",
       "      <td>2008-08-01</td>\n",
       "      <td>2008-10-01</td>\n",
       "      <td>1275</td>\n",
       "      <td>2151</td>\n",
       "      <td>59.27</td>\n",
       "    </tr>\n",
       "    <tr>\n",
       "      <th>9</th>\n",
       "      <td>2008-08-01</td>\n",
       "      <td>2008-11-01</td>\n",
       "      <td>1050</td>\n",
       "      <td>2151</td>\n",
       "      <td>48.81</td>\n",
       "    </tr>\n",
       "    <tr>\n",
       "      <th>10</th>\n",
       "      <td>2008-08-01</td>\n",
       "      <td>2008-12-01</td>\n",
       "      <td>894</td>\n",
       "      <td>2151</td>\n",
       "      <td>41.56</td>\n",
       "    </tr>\n",
       "    <tr>\n",
       "      <th>11</th>\n",
       "      <td>2008-09-01</td>\n",
       "      <td>2008-09-01</td>\n",
       "      <td>7678</td>\n",
       "      <td>7678</td>\n",
       "      <td>100.00</td>\n",
       "    </tr>\n",
       "    <tr>\n",
       "      <th>12</th>\n",
       "      <td>2008-09-01</td>\n",
       "      <td>2008-10-01</td>\n",
       "      <td>4132</td>\n",
       "      <td>7678</td>\n",
       "      <td>53.82</td>\n",
       "    </tr>\n",
       "    <tr>\n",
       "      <th>13</th>\n",
       "      <td>2008-09-01</td>\n",
       "      <td>2008-11-01</td>\n",
       "      <td>2966</td>\n",
       "      <td>7678</td>\n",
       "      <td>38.63</td>\n",
       "    </tr>\n",
       "    <tr>\n",
       "      <th>14</th>\n",
       "      <td>2008-09-01</td>\n",
       "      <td>2008-12-01</td>\n",
       "      <td>2500</td>\n",
       "      <td>7678</td>\n",
       "      <td>32.56</td>\n",
       "    </tr>\n",
       "    <tr>\n",
       "      <th>15</th>\n",
       "      <td>2008-10-01</td>\n",
       "      <td>2008-10-01</td>\n",
       "      <td>3629</td>\n",
       "      <td>3629</td>\n",
       "      <td>100.00</td>\n",
       "    </tr>\n",
       "    <tr>\n",
       "      <th>16</th>\n",
       "      <td>2008-10-01</td>\n",
       "      <td>2008-11-01</td>\n",
       "      <td>1640</td>\n",
       "      <td>3629</td>\n",
       "      <td>45.19</td>\n",
       "    </tr>\n",
       "    <tr>\n",
       "      <th>17</th>\n",
       "      <td>2008-10-01</td>\n",
       "      <td>2008-12-01</td>\n",
       "      <td>1221</td>\n",
       "      <td>3629</td>\n",
       "      <td>33.65</td>\n",
       "    </tr>\n",
       "    <tr>\n",
       "      <th>18</th>\n",
       "      <td>2008-11-01</td>\n",
       "      <td>2008-11-01</td>\n",
       "      <td>2852</td>\n",
       "      <td>2852</td>\n",
       "      <td>100.00</td>\n",
       "    </tr>\n",
       "    <tr>\n",
       "      <th>19</th>\n",
       "      <td>2008-11-01</td>\n",
       "      <td>2008-12-01</td>\n",
       "      <td>1151</td>\n",
       "      <td>2852</td>\n",
       "      <td>40.36</td>\n",
       "    </tr>\n",
       "    <tr>\n",
       "      <th>20</th>\n",
       "      <td>2008-12-01</td>\n",
       "      <td>2008-12-01</td>\n",
       "      <td>2536</td>\n",
       "      <td>2536</td>\n",
       "      <td>100.00</td>\n",
       "    </tr>\n",
       "  </tbody>\n",
       "</table>\n",
       "</div>"
      ],
      "text/plain": [
       "    cohort_dt session_date  users_cnt  cohort_users_cnt  retention_rate\n",
       "0  2008-07-01   2008-07-01          3                 3          100.00\n",
       "1  2008-07-01   2008-08-01          2                 3           66.67\n",
       "2  2008-07-01   2008-09-01          1                 3           33.33\n",
       "3  2008-07-01   2008-10-01          2                 3           66.67\n",
       "4  2008-07-01   2008-11-01          1                 3           33.33\n",
       "5  2008-07-01   2008-12-01          2                 3           66.67\n",
       "6  2008-08-01   2008-08-01       2151              2151          100.00\n",
       "7  2008-08-01   2008-09-01       1571              2151           73.04\n",
       "8  2008-08-01   2008-10-01       1275              2151           59.27\n",
       "9  2008-08-01   2008-11-01       1050              2151           48.81\n",
       "10 2008-08-01   2008-12-01        894              2151           41.56\n",
       "11 2008-09-01   2008-09-01       7678              7678          100.00\n",
       "12 2008-09-01   2008-10-01       4132              7678           53.82\n",
       "13 2008-09-01   2008-11-01       2966              7678           38.63\n",
       "14 2008-09-01   2008-12-01       2500              7678           32.56\n",
       "15 2008-10-01   2008-10-01       3629              3629          100.00\n",
       "16 2008-10-01   2008-11-01       1640              3629           45.19\n",
       "17 2008-10-01   2008-12-01       1221              3629           33.65\n",
       "18 2008-11-01   2008-11-01       2852              2852          100.00\n",
       "19 2008-11-01   2008-12-01       1151              2852           40.36\n",
       "20 2008-12-01   2008-12-01       2536              2536          100.00"
      ]
     },
     "execution_count": 11,
     "metadata": {},
     "output_type": "execute_result"
    }
   ],
   "source": [
    "query_8 = '''\n",
    "WITH \n",
    "sessions AS (\n",
    "    SELECT\n",
    "        DISTINCT\n",
    "        user_id,\n",
    "        DATE_TRUNC('month', creation_date) AS session_date\n",
    "    FROM stackoverflow.posts\n",
    "),\n",
    "profiles AS (\n",
    "    SELECT\n",
    "        user_id,\n",
    "        MIN(session_date) AS cohort_dt,\n",
    "        COUNT(*) OVER(PARTITION BY MIN(session_date)) AS cohort_users_cnt\n",
    "    FROM sessions\n",
    "    GROUP BY user_id\n",
    ")\n",
    "\n",
    "SELECT\n",
    "    p.cohort_dt,\n",
    "    s.session_date,\n",
    "    COUNT(p.user_id) AS users_cnt,\n",
    "    p.cohort_users_cnt,\n",
    "    ROUND(COUNT(p.user_id) * 100.0 / p.cohort_users_cnt, 2) AS retention_rate\n",
    "FROM profiles AS p\n",
    "JOIN sessions AS s ON p.user_id = s.user_id\n",
    "GROUP BY 1, 2, 4\n",
    "ORDER BY 1, 2, 4\n",
    "'''\n",
    "\n",
    "res_8 = pd.read_sql_query(query_8, con=engine)\n",
    "res_8"
   ]
  },
  {
   "cell_type": "code",
   "execution_count": 12,
   "metadata": {
    "id": "qAEJc8H1DWLC"
   },
   "outputs": [
    {
     "data": {
      "image/png": "[encoded data removed]",
      "text/plain": [
       "<Figure size 720x720 with 2 Axes>"
      ]
     },
     "metadata": {
      "needs_background": "light"
     },
     "output_type": "display_data"
    }
   ],
   "source": [
    "retention = res_8.pivot('cohort_dt', 'session_date', 'retention_rate')\n",
    "retention.index = [str(x)[0:10] for x in retention.index]\n",
    "retention.columns = [str(x)[0:10] for x in retention.columns]\n",
    "\n",
    "plt.figure(figsize=(10, 10))\n",
    "sns.heatmap(retention,\n",
    "            annot=True,\n",
    "            fmt='')\n",
    "plt.xlabel('Месяц поста (лайфтайм)')\n",
    "plt.ylabel('Месяц первого поста (когорта)')\n",
    "plt.title('Retention rate')\n",
    "plt.show()"
   ]
  },
  {
   "cell_type": "markdown",
   "metadata": {
    "id": "EgOfIsI4DWLC"
   },
   "source": [
    "В июльской когорте Retention Rate то падает, то растет, так как размер когорты очень маленький – 3 человека. Stack Overflow начал работать в августе 2008, июль был как приватный тестовый месяц для создателей сайта. У остальных когорт аномалии не наблюдаются."
   ]
  },
  {
   "cell_type": "markdown",
   "metadata": {
    "id": "1k7oPWt5DWLK"
   },
   "source": [
    "### Задание 9 <a name='task_9'></a>"
   ]
  },
  {
   "cell_type": "markdown",
   "metadata": {
    "id": "ALsYVSyRDWLM"
   },
   "source": [
    "На сколько процентов менялось количество постов ежемесячно с 1 сентября по 31 декабря 2008 года? Отобразите таблицу со следующими полями:\n",
    "\n",
    "- номер месяца;\n",
    "- количество постов за месяц;\n",
    "- процент, который показывает, насколько изменилось количество постов в текущем месяце по сравнению с предыдущим.\n",
    "\n",
    "Если постов стало меньше, значение процента должно быть отрицательным, если больше — положительным. Округлите значение процента до двух знаков после запятой."
   ]
  },
  {
   "cell_type": "code",
   "execution_count": 13,
   "metadata": {
    "id": "Mb5pShStDWLN"
   },
   "outputs": [
    {
     "data": {
      "text/html": [
       "<div>\n",
       "<style scoped>\n",
       "    .dataframe tbody tr th:only-of-type {\n",
       "        vertical-align: middle;\n",
       "    }\n",
       "\n",
       "    .dataframe tbody tr th {\n",
       "        vertical-align: top;\n",
       "    }\n",
       "\n",
       "    .dataframe thead th {\n",
       "        text-align: right;\n",
       "    }\n",
       "</style>\n",
       "<table border=\"1\" class=\"dataframe\">\n",
       "  <thead>\n",
       "    <tr style=\"text-align: right;\">\n",
       "      <th></th>\n",
       "      <th>creation_month</th>\n",
       "      <th>posts_count</th>\n",
       "      <th>percentage</th>\n",
       "    </tr>\n",
       "  </thead>\n",
       "  <tbody>\n",
       "    <tr>\n",
       "      <th>0</th>\n",
       "      <td>9.0</td>\n",
       "      <td>70371</td>\n",
       "      <td>NaN</td>\n",
       "    </tr>\n",
       "    <tr>\n",
       "      <th>1</th>\n",
       "      <td>10.0</td>\n",
       "      <td>63102</td>\n",
       "      <td>-10.33</td>\n",
       "    </tr>\n",
       "    <tr>\n",
       "      <th>2</th>\n",
       "      <td>11.0</td>\n",
       "      <td>46975</td>\n",
       "      <td>-25.56</td>\n",
       "    </tr>\n",
       "    <tr>\n",
       "      <th>3</th>\n",
       "      <td>12.0</td>\n",
       "      <td>44592</td>\n",
       "      <td>-5.07</td>\n",
       "    </tr>\n",
       "  </tbody>\n",
       "</table>\n",
       "</div>"
      ],
      "text/plain": [
       "   creation_month  posts_count  percentage\n",
       "0             9.0        70371         NaN\n",
       "1            10.0        63102      -10.33\n",
       "2            11.0        46975      -25.56\n",
       "3            12.0        44592       -5.07"
      ]
     },
     "execution_count": 13,
     "metadata": {},
     "output_type": "execute_result"
    }
   ],
   "source": [
    "query_9 = '''\n",
    "WITH posts_count_by_month AS (\n",
    "    SELECT\n",
    "        EXTRACT(MONTH FROM creation_date) AS creation_month,\n",
    "        COUNT(id) AS posts_count\n",
    "    FROM stackoverflow.posts\n",
    "    WHERE creation_date >= '2008-09-01' AND creation_date < '2009-01-01'\n",
    "    GROUP BY creation_month\n",
    ")\n",
    "\n",
    "SELECT\n",
    "    creation_month,\n",
    "    posts_count,\n",
    "    ROUND((posts_count::numeric / (LAG(posts_count) OVER(ORDER BY creation_month)) - 1) * 100, 2) AS percentage\n",
    "FROM posts_count_by_month\n",
    "\n",
    "'''\n",
    "\n",
    "res_9 = pd.read_sql_query(query_9, con=engine)\n",
    "res_9"
   ]
  },
  {
   "cell_type": "code",
   "execution_count": 14,
   "metadata": {
    "id": "377ABjiVDWLP"
   },
   "outputs": [
    {
     "data": {
      "image/png": "[encoded data removed]",
      "text/plain": [
       "<Figure size 504x504 with 1 Axes>"
      ]
     },
     "metadata": {},
     "output_type": "display_data"
    }
   ],
   "source": [
    "plt.figure(figsize=(7, 7))\n",
    "plt.pie(res_9['posts_count'], labels=res_9['creation_month'], autopct='%1.1f%%')\n",
    "plt.title('Соотношение количества постов ежемесячно с 1 сентября по 31 декабря 2008 года');"
   ]
  },
  {
   "cell_type": "markdown",
   "metadata": {},
   "source": [
    "Количество постов с каждым месяцем падает, наиболее сильное падение произошло в ноябре."
   ]
  },
  {
   "cell_type": "markdown",
   "metadata": {
    "id": "uw7qMtafDWLP"
   },
   "source": [
    "### Задание 10 <a name='task_10'></a>"
   ]
  },
  {
   "cell_type": "markdown",
   "metadata": {
    "id": "oRBpWKx3DWLQ"
   },
   "source": [
    "Выгрузите данные активности пользователя, который опубликовал больше всего постов за всё время. Выведите данные за октябрь 2008 года в таком виде:\n",
    "\n",
    "- номер недели;\n",
    "- дата и время последнего поста, опубликованного на этой неделе."
   ]
  },
  {
   "cell_type": "code",
   "execution_count": 15,
   "metadata": {
    "id": "r5F5fSkwDWLQ"
   },
   "outputs": [
    {
     "data": {
      "text/html": [
       "<div>\n",
       "<style scoped>\n",
       "    .dataframe tbody tr th:only-of-type {\n",
       "        vertical-align: middle;\n",
       "    }\n",
       "\n",
       "    .dataframe tbody tr th {\n",
       "        vertical-align: top;\n",
       "    }\n",
       "\n",
       "    .dataframe thead th {\n",
       "        text-align: right;\n",
       "    }\n",
       "</style>\n",
       "<table border=\"1\" class=\"dataframe\">\n",
       "  <thead>\n",
       "    <tr style=\"text-align: right;\">\n",
       "      <th></th>\n",
       "      <th>week_creation</th>\n",
       "      <th>last_value</th>\n",
       "    </tr>\n",
       "  </thead>\n",
       "  <tbody>\n",
       "    <tr>\n",
       "      <th>0</th>\n",
       "      <td>40.0</td>\n",
       "      <td>2008-10-05 09:00:58</td>\n",
       "    </tr>\n",
       "    <tr>\n",
       "      <th>1</th>\n",
       "      <td>41.0</td>\n",
       "      <td>2008-10-12 21:22:23</td>\n",
       "    </tr>\n",
       "    <tr>\n",
       "      <th>2</th>\n",
       "      <td>42.0</td>\n",
       "      <td>2008-10-19 06:49:30</td>\n",
       "    </tr>\n",
       "    <tr>\n",
       "      <th>3</th>\n",
       "      <td>43.0</td>\n",
       "      <td>2008-10-26 21:44:36</td>\n",
       "    </tr>\n",
       "    <tr>\n",
       "      <th>4</th>\n",
       "      <td>44.0</td>\n",
       "      <td>2008-10-31 22:16:01</td>\n",
       "    </tr>\n",
       "  </tbody>\n",
       "</table>\n",
       "</div>"
      ],
      "text/plain": [
       "   week_creation          last_value\n",
       "0           40.0 2008-10-05 09:00:58\n",
       "1           41.0 2008-10-12 21:22:23\n",
       "2           42.0 2008-10-19 06:49:30\n",
       "3           43.0 2008-10-26 21:44:36\n",
       "4           44.0 2008-10-31 22:16:01"
      ]
     },
     "execution_count": 15,
     "metadata": {},
     "output_type": "execute_result"
    }
   ],
   "source": [
    "query_10 = '''\n",
    "SELECT\n",
    "    DISTINCT\n",
    "    EXTRACT(WEEK FROM creation_date) AS week_creation,\n",
    "    LAST_VALUE(creation_date) OVER(PARTITION BY EXTRACT(WEEK FROM creation_date) ORDER BY creation_date \n",
    "    ROWS BETWEEN UNBOUNDED PRECEDING AND UNBOUNDED FOLLOWING)\n",
    "FROM stackoverflow.posts\n",
    "WHERE EXTRACT(MONTH FROM creation_date) = 10 AND user_id = (\n",
    "    SELECT\n",
    "        user_id\n",
    "    FROM stackoverflow.posts\n",
    "    GROUP BY user_id\n",
    "    ORDER BY COUNT(*) DESC\n",
    "    LIMIT 1\n",
    ")\n",
    "'''\n",
    "\n",
    "pd.read_sql_query(query_10, con=engine)"
   ]
  },
  {
   "cell_type": "markdown",
   "metadata": {},
   "source": [
    "# Общий вывод <a name='general_conclusion'></a>"
   ]
  },
  {
   "cell_type": "markdown",
   "metadata": {},
   "source": [
    "* В сентябре пик просмотров постов, скорее всего это связано с началом учебы. Далее количество просмотров постов постепенно уменьшается\n",
    "\n",
    "* Некоторые пользователи указывали имя без фамилии, что и привело к большому количеству уникальных пользователей на одно имя пользователя\n",
    "\n",
    "* Есть посты в августе, хотя пользователи зарегистрировались в сентябре. Может быть это связано с тем, что раньше можно было добавлять посты без регистрации\n",
    "\n",
    "* Бывает, что пользователи создают посты, которые никто не смотрит\n",
    "\n",
    "* Пользователи, опубликовавшие более 120 постов в августе, в среднем делали 5 и более постов в день\n",
    "\n",
    "* В первую неделю декабря в среднем активны 2 дня – не то время, когда пользователи часто пользуются платформой\n",
    "\n",
    "* В июльской когорте Retention Rate то падает, то растет, так как размер когорты очень маленький – 3 человека, все потому что в этом месяце проводился приватный тест. Далее аномалии не наблюдаются \n",
    "\n",
    "* Количество постов с каждым месяцем падает, наиболее сильное падение произошло в ноябре"
   ]
  }
 ],
 "metadata": {
  "ExecuteTimeLog": [
   {
    "duration": 847,
    "start_time": "2022-06-26T21:02:56.528Z"
   },
   {
    "duration": 4,
    "start_time": "2022-06-26T21:02:57.376Z"
   },
   {
    "duration": 6072,
    "start_time": "2022-06-26T21:02:57.381Z"
   },
   {
    "duration": 215,
    "start_time": "2022-06-26T21:03:03.456Z"
   },
   {
    "duration": 15,
    "start_time": "2022-06-26T21:03:03.673Z"
   },
   {
    "duration": 158,
    "start_time": "2022-06-26T21:03:03.689Z"
   },
   {
    "duration": 3,
    "start_time": "2022-06-26T21:03:03.849Z"
   },
   {
    "duration": 165,
    "start_time": "2022-06-26T21:03:03.854Z"
   },
   {
    "duration": 3,
    "start_time": "2022-06-26T21:03:04.021Z"
   },
   {
    "duration": 152,
    "start_time": "2022-06-26T21:03:04.027Z"
   },
   {
    "duration": 3,
    "start_time": "2022-06-26T21:03:04.180Z"
   },
   {
    "duration": 1099,
    "start_time": "2022-06-26T21:20:18.426Z"
   },
   {
    "duration": 177,
    "start_time": "2022-06-26T21:20:45.653Z"
   },
   {
    "duration": 63,
    "start_time": "2022-06-26T21:20:51.428Z"
   },
   {
    "duration": 1178,
    "start_time": "2022-06-26T21:20:59.608Z"
   },
   {
    "duration": 1226,
    "start_time": "2022-06-26T21:31:30.396Z"
   },
   {
    "duration": 160,
    "start_time": "2022-06-26T21:31:43.445Z"
   },
   {
    "duration": 110,
    "start_time": "2022-06-26T21:32:27.454Z"
   },
   {
    "duration": 92,
    "start_time": "2022-06-26T21:33:23.860Z"
   },
   {
    "duration": 91,
    "start_time": "2022-06-26T21:34:04.766Z"
   },
   {
    "duration": 93,
    "start_time": "2022-06-26T21:34:18.876Z"
   },
   {
    "duration": 93,
    "start_time": "2022-06-26T21:34:51.029Z"
   },
   {
    "duration": 91,
    "start_time": "2022-06-26T21:35:50.520Z"
   },
   {
    "duration": 94,
    "start_time": "2022-06-26T21:36:51.936Z"
   },
   {
    "duration": 7,
    "start_time": "2022-06-26T21:37:01.332Z"
   },
   {
    "duration": 94,
    "start_time": "2022-06-26T21:37:05.939Z"
   },
   {
    "duration": 8,
    "start_time": "2022-06-26T21:37:36.760Z"
   },
   {
    "duration": 12,
    "start_time": "2022-06-26T21:37:39.156Z"
   },
   {
    "duration": 92,
    "start_time": "2022-06-26T21:37:42.304Z"
   },
   {
    "duration": 90,
    "start_time": "2022-06-26T21:37:57.425Z"
   },
   {
    "duration": 98,
    "start_time": "2022-06-26T21:38:27.736Z"
   },
   {
    "duration": 92,
    "start_time": "2022-06-26T21:38:40.931Z"
   },
   {
    "duration": 102,
    "start_time": "2022-06-26T21:39:02.891Z"
   },
   {
    "duration": 77,
    "start_time": "2022-06-26T21:39:08.562Z"
   },
   {
    "duration": 95,
    "start_time": "2022-06-26T21:39:11.599Z"
   },
   {
    "duration": 104,
    "start_time": "2022-06-26T21:40:56.226Z"
   },
   {
    "duration": 115,
    "start_time": "2022-06-26T21:41:12.732Z"
   },
   {
    "duration": 90,
    "start_time": "2022-06-26T21:41:59.509Z"
   },
   {
    "duration": 95,
    "start_time": "2022-06-26T21:42:21.471Z"
   },
   {
    "duration": 111,
    "start_time": "2022-06-26T21:42:50.776Z"
   },
   {
    "duration": 96,
    "start_time": "2022-06-26T21:42:52.880Z"
   },
   {
    "duration": 99,
    "start_time": "2022-06-26T21:43:35.485Z"
   },
   {
    "duration": 87,
    "start_time": "2022-06-26T21:44:11.598Z"
   },
   {
    "duration": 99,
    "start_time": "2022-06-26T21:44:54.912Z"
   },
   {
    "duration": 89,
    "start_time": "2022-06-26T21:45:05.870Z"
   },
   {
    "duration": 87,
    "start_time": "2022-06-26T21:45:31.104Z"
   },
   {
    "duration": 95,
    "start_time": "2022-06-26T21:45:37.068Z"
   },
   {
    "duration": 3,
    "start_time": "2022-06-26T21:53:59.522Z"
   },
   {
    "duration": 7,
    "start_time": "2022-06-26T21:53:59.527Z"
   },
   {
    "duration": 10,
    "start_time": "2022-06-26T21:53:59.536Z"
   },
   {
    "duration": 199,
    "start_time": "2022-06-26T21:53:59.548Z"
   },
   {
    "duration": 19,
    "start_time": "2022-06-26T21:53:59.748Z"
   },
   {
    "duration": 149,
    "start_time": "2022-06-26T21:53:59.769Z"
   },
   {
    "duration": 3,
    "start_time": "2022-06-26T21:53:59.920Z"
   },
   {
    "duration": 173,
    "start_time": "2022-06-26T21:53:59.925Z"
   },
   {
    "duration": 3,
    "start_time": "2022-06-26T21:54:00.100Z"
   },
   {
    "duration": 166,
    "start_time": "2022-06-26T21:54:00.105Z"
   },
   {
    "duration": 3,
    "start_time": "2022-06-26T21:54:00.274Z"
   },
   {
    "duration": 1148,
    "start_time": "2022-06-26T21:54:00.279Z"
   },
   {
    "duration": 93,
    "start_time": "2022-06-26T21:54:01.429Z"
   },
   {
    "duration": 152,
    "start_time": "2022-06-26T21:55:29.504Z"
   },
   {
    "duration": 57,
    "start_time": "2022-06-26T21:55:43.854Z"
   },
   {
    "duration": 89,
    "start_time": "2022-06-26T21:56:19.517Z"
   },
   {
    "duration": 82,
    "start_time": "2022-06-26T21:59:48.061Z"
   },
   {
    "duration": 57,
    "start_time": "2022-06-26T22:00:09.285Z"
   },
   {
    "duration": 88,
    "start_time": "2022-06-26T22:00:44.824Z"
   },
   {
    "duration": 91,
    "start_time": "2022-06-26T22:00:50.583Z"
   },
   {
    "duration": 89,
    "start_time": "2022-06-26T22:01:07.225Z"
   },
   {
    "duration": 93,
    "start_time": "2022-06-26T22:01:35.043Z"
   },
   {
    "duration": 101,
    "start_time": "2022-06-26T22:01:51.145Z"
   },
   {
    "duration": 75,
    "start_time": "2022-06-26T22:01:57.717Z"
   },
   {
    "duration": 57,
    "start_time": "2022-06-26T22:02:32.356Z"
   },
   {
    "duration": 56,
    "start_time": "2022-06-26T22:02:50.245Z"
   },
   {
    "duration": 58,
    "start_time": "2022-06-26T22:02:53.923Z"
   },
   {
    "duration": 1206,
    "start_time": "2022-06-26T22:20:19.884Z"
   },
   {
    "duration": 1030,
    "start_time": "2022-06-26T22:20:55.448Z"
   },
   {
    "duration": 1085,
    "start_time": "2022-06-26T22:21:06.576Z"
   },
   {
    "duration": 1005,
    "start_time": "2022-06-26T22:21:11.322Z"
   },
   {
    "duration": 1111,
    "start_time": "2022-06-26T22:21:22.807Z"
   },
   {
    "duration": 1102,
    "start_time": "2022-06-26T22:21:27.702Z"
   },
   {
    "duration": 1116,
    "start_time": "2022-06-26T22:21:31.798Z"
   },
   {
    "duration": 98,
    "start_time": "2022-06-26T22:31:44.832Z"
   },
   {
    "duration": 110,
    "start_time": "2022-06-26T22:31:53.778Z"
   },
   {
    "duration": 104,
    "start_time": "2022-06-26T22:32:06.921Z"
   },
   {
    "duration": 111,
    "start_time": "2022-06-26T22:32:29.432Z"
   },
   {
    "duration": 130,
    "start_time": "2022-06-26T22:32:40.447Z"
   },
   {
    "duration": 107,
    "start_time": "2022-06-26T22:33:30.524Z"
   },
   {
    "duration": 845,
    "start_time": "2022-06-26T22:34:21.466Z"
   },
   {
    "duration": 103,
    "start_time": "2022-06-26T22:34:39.387Z"
   },
   {
    "duration": 909,
    "start_time": "2022-06-26T22:34:43.123Z"
   },
   {
    "duration": 925,
    "start_time": "2022-06-26T22:35:31.152Z"
   },
   {
    "duration": 886,
    "start_time": "2022-06-26T22:36:15.929Z"
   },
   {
    "duration": 95,
    "start_time": "2022-06-26T22:36:50.029Z"
   },
   {
    "duration": 122,
    "start_time": "2022-06-26T22:47:00.320Z"
   },
   {
    "duration": 88,
    "start_time": "2022-06-26T22:47:10.355Z"
   },
   {
    "duration": 110,
    "start_time": "2022-06-26T22:47:25.938Z"
   },
   {
    "duration": 113,
    "start_time": "2022-06-26T22:47:34.611Z"
   },
   {
    "duration": 122,
    "start_time": "2022-06-26T22:50:55.534Z"
   },
   {
    "duration": 931,
    "start_time": "2022-06-27T04:23:17.721Z"
   },
   {
    "duration": 3,
    "start_time": "2022-06-27T04:23:18.654Z"
   },
   {
    "duration": 10314,
    "start_time": "2022-06-27T04:23:18.658Z"
   },
   {
    "duration": 65,
    "start_time": "2022-06-27T04:23:28.974Z"
   },
   {
    "duration": 18,
    "start_time": "2022-06-27T04:23:29.042Z"
   },
   {
    "duration": 120,
    "start_time": "2022-06-27T04:23:29.062Z"
   },
   {
    "duration": 2,
    "start_time": "2022-06-27T04:23:29.184Z"
   },
   {
    "duration": 139,
    "start_time": "2022-06-27T04:23:29.188Z"
   },
   {
    "duration": 2,
    "start_time": "2022-06-27T04:23:29.329Z"
   },
   {
    "duration": 132,
    "start_time": "2022-06-27T04:23:29.332Z"
   },
   {
    "duration": 4,
    "start_time": "2022-06-27T04:23:29.465Z"
   },
   {
    "duration": 1239,
    "start_time": "2022-06-27T04:23:29.470Z"
   },
   {
    "duration": 58,
    "start_time": "2022-06-27T04:23:30.710Z"
   },
   {
    "duration": 49,
    "start_time": "2022-06-27T04:23:30.770Z"
   },
   {
    "duration": 2,
    "start_time": "2022-06-27T04:23:30.821Z"
   },
   {
    "duration": 1228,
    "start_time": "2022-06-27T04:23:30.827Z"
   },
   {
    "duration": 104,
    "start_time": "2022-06-27T04:24:50.643Z"
   },
   {
    "duration": 236,
    "start_time": "2022-06-27T04:32:20.052Z"
   },
   {
    "duration": 133,
    "start_time": "2022-06-27T04:32:30.409Z"
   },
   {
    "duration": 272,
    "start_time": "2022-06-27T04:32:40.138Z"
   },
   {
    "duration": 288,
    "start_time": "2022-06-27T04:33:00.922Z"
   },
   {
    "duration": 56,
    "start_time": "2022-06-27T04:39:23.264Z"
   },
   {
    "duration": 103,
    "start_time": "2022-06-27T04:43:41.109Z"
   },
   {
    "duration": 98,
    "start_time": "2022-06-27T04:43:45.653Z"
   },
   {
    "duration": 147,
    "start_time": "2022-06-27T04:43:49.276Z"
   },
   {
    "duration": 114,
    "start_time": "2022-06-27T04:44:33.119Z"
   },
   {
    "duration": 189,
    "start_time": "2022-06-27T04:44:39.014Z"
   },
   {
    "duration": 117,
    "start_time": "2022-06-27T04:44:48.667Z"
   },
   {
    "duration": 62,
    "start_time": "2022-06-27T04:46:26.625Z"
   },
   {
    "duration": 91,
    "start_time": "2022-06-27T04:50:27.360Z"
   },
   {
    "duration": 90,
    "start_time": "2022-06-27T04:50:32.394Z"
   },
   {
    "duration": 89,
    "start_time": "2022-06-27T04:50:48.897Z"
   },
   {
    "duration": 130,
    "start_time": "2022-06-27T04:50:57.841Z"
   },
   {
    "duration": 99,
    "start_time": "2022-06-27T04:51:04.782Z"
   },
   {
    "duration": 86,
    "start_time": "2022-06-27T04:51:15.505Z"
   },
   {
    "duration": 105,
    "start_time": "2022-06-27T04:51:23.525Z"
   },
   {
    "duration": 125,
    "start_time": "2022-06-27T04:57:19.651Z"
   },
   {
    "duration": 160,
    "start_time": "2022-06-27T04:57:22.798Z"
   },
   {
    "duration": 12,
    "start_time": "2022-06-27T04:57:40.742Z"
   },
   {
    "duration": 11,
    "start_time": "2022-06-27T04:57:55.940Z"
   },
   {
    "duration": 42,
    "start_time": "2022-06-27T05:07:45.403Z"
   },
   {
    "duration": 74,
    "start_time": "2022-06-27T05:07:52.225Z"
   },
   {
    "duration": 127,
    "start_time": "2022-06-27T05:11:13.442Z"
   },
   {
    "duration": 62,
    "start_time": "2022-06-27T05:11:15.759Z"
   },
   {
    "duration": 138,
    "start_time": "2022-06-27T05:11:37.546Z"
   },
   {
    "duration": 129,
    "start_time": "2022-06-27T05:12:15.075Z"
   },
   {
    "duration": 194,
    "start_time": "2022-06-27T05:12:28.577Z"
   },
   {
    "duration": 141,
    "start_time": "2022-06-27T05:12:30.861Z"
   },
   {
    "duration": 62,
    "start_time": "2022-06-27T05:12:34.897Z"
   },
   {
    "duration": 40,
    "start_time": "2022-06-27T05:12:42.019Z"
   },
   {
    "duration": 1239,
    "start_time": "2022-06-27T05:21:52.210Z"
   },
   {
    "duration": 1194,
    "start_time": "2022-06-27T05:21:58.645Z"
   },
   {
    "duration": 10,
    "start_time": "2022-06-27T05:24:30.057Z"
   },
   {
    "duration": 2309,
    "start_time": "2022-06-27T05:24:36.607Z"
   },
   {
    "duration": 867,
    "start_time": "2022-06-27T05:24:50.307Z"
   },
   {
    "duration": 2238,
    "start_time": "2022-06-27T05:24:56.159Z"
   },
   {
    "duration": 93,
    "start_time": "2022-06-27T05:25:52.097Z"
   },
   {
    "duration": 479,
    "start_time": "2022-06-27T05:39:21.026Z"
   },
   {
    "duration": 294,
    "start_time": "2022-06-27T05:39:40.274Z"
   },
   {
    "duration": 437,
    "start_time": "2022-06-27T05:40:20.142Z"
   },
   {
    "duration": 74,
    "start_time": "2022-06-27T05:49:31.673Z"
   },
   {
    "duration": 205,
    "start_time": "2022-06-27T05:49:34.837Z"
   },
   {
    "duration": 71,
    "start_time": "2022-06-27T05:49:43.895Z"
   },
   {
    "duration": 95,
    "start_time": "2022-06-27T05:49:50.212Z"
   },
   {
    "duration": 97,
    "start_time": "2022-06-27T05:50:15.198Z"
   },
   {
    "duration": 75,
    "start_time": "2022-06-27T05:50:33.466Z"
   },
   {
    "duration": 217,
    "start_time": "2022-06-27T05:50:36.775Z"
   },
   {
    "duration": 122,
    "start_time": "2022-06-27T05:50:41.750Z"
   },
   {
    "duration": 90,
    "start_time": "2022-06-27T05:50:47.667Z"
   },
   {
    "duration": 8,
    "start_time": "2022-06-27T05:51:12.668Z"
   },
   {
    "duration": 9,
    "start_time": "2022-06-27T05:51:28.167Z"
   },
   {
    "duration": 8,
    "start_time": "2022-06-27T05:51:35.090Z"
   },
   {
    "duration": 124,
    "start_time": "2022-06-27T05:51:40.523Z"
   },
   {
    "duration": 85,
    "start_time": "2022-06-27T05:52:30.262Z"
   },
   {
    "duration": 158,
    "start_time": "2022-06-27T05:54:18.649Z"
   },
   {
    "duration": 1291,
    "start_time": "2022-06-27T06:12:55.273Z"
   },
   {
    "duration": 4,
    "start_time": "2022-06-27T06:12:56.567Z"
   },
   {
    "duration": 10354,
    "start_time": "2022-06-27T06:12:56.573Z"
   },
   {
    "duration": 64,
    "start_time": "2022-06-27T06:13:06.929Z"
   },
   {
    "duration": 27,
    "start_time": "2022-06-27T06:13:06.996Z"
   },
   {
    "duration": 123,
    "start_time": "2022-06-27T06:13:07.025Z"
   },
   {
    "duration": 141,
    "start_time": "2022-06-27T06:13:07.150Z"
   },
   {
    "duration": 10,
    "start_time": "2022-06-27T06:13:07.293Z"
   },
   {
    "duration": 139,
    "start_time": "2022-06-27T06:13:07.304Z"
   },
   {
    "duration": 1206,
    "start_time": "2022-06-27T06:13:07.445Z"
   },
   {
    "duration": 71,
    "start_time": "2022-06-27T06:13:08.653Z"
   },
   {
    "duration": 52,
    "start_time": "2022-06-27T06:13:08.726Z"
   },
   {
    "duration": 1120,
    "start_time": "2022-06-27T06:13:08.782Z"
   },
   {
    "duration": 281,
    "start_time": "2022-06-27T06:13:09.905Z"
   },
   {
    "duration": 486,
    "start_time": "2022-06-27T06:13:10.188Z"
   },
   {
    "duration": 70,
    "start_time": "2022-06-27T06:13:10.676Z"
   },
   {
    "duration": 102,
    "start_time": "2022-06-27T06:13:10.747Z"
   },
   {
    "duration": 94,
    "start_time": "2022-06-27T06:13:10.850Z"
   },
   {
    "duration": 85,
    "start_time": "2022-06-27T06:15:45.238Z"
   },
   {
    "duration": 1134,
    "start_time": "2022-06-27T06:15:50.204Z"
   },
   {
    "duration": 1279,
    "start_time": "2022-06-27T06:15:55.717Z"
   },
   {
    "duration": 1107,
    "start_time": "2022-06-27T06:16:07.597Z"
   },
   {
    "duration": 50,
    "start_time": "2022-06-27T10:24:17.663Z"
   },
   {
    "duration": 9,
    "start_time": "2022-06-27T10:26:00.719Z"
   },
   {
    "duration": 1522,
    "start_time": "2022-06-27T10:26:25.508Z"
   },
   {
    "duration": 4,
    "start_time": "2022-06-27T10:26:27.033Z"
   },
   {
    "duration": 12156,
    "start_time": "2022-06-27T10:26:27.040Z"
   },
   {
    "duration": 81,
    "start_time": "2022-06-27T10:26:39.198Z"
   },
   {
    "duration": 14,
    "start_time": "2022-06-27T10:26:39.281Z"
   },
   {
    "duration": 122,
    "start_time": "2022-06-27T10:26:39.296Z"
   },
   {
    "duration": 141,
    "start_time": "2022-06-27T10:26:39.420Z"
   },
   {
    "duration": 10,
    "start_time": "2022-06-27T10:26:39.563Z"
   },
   {
    "duration": 115,
    "start_time": "2022-06-27T10:26:39.574Z"
   },
   {
    "duration": 1229,
    "start_time": "2022-06-27T10:26:39.691Z"
   },
   {
    "duration": 79,
    "start_time": "2022-06-27T10:26:40.922Z"
   },
   {
    "duration": 57,
    "start_time": "2022-06-27T10:26:41.003Z"
   },
   {
    "duration": 1122,
    "start_time": "2022-06-27T10:26:41.062Z"
   },
   {
    "duration": 288,
    "start_time": "2022-06-27T10:26:42.186Z"
   },
   {
    "duration": 590,
    "start_time": "2022-06-27T10:26:42.475Z"
   },
   {
    "duration": 68,
    "start_time": "2022-06-27T10:26:43.069Z"
   },
   {
    "duration": 132,
    "start_time": "2022-06-27T10:26:43.138Z"
   },
   {
    "duration": 93,
    "start_time": "2022-06-27T10:26:43.271Z"
   },
   {
    "duration": 535,
    "start_time": "2022-06-27T10:27:50.446Z"
   },
   {
    "duration": 440,
    "start_time": "2022-06-27T10:27:53.292Z"
   },
   {
    "duration": 504,
    "start_time": "2022-06-27T10:28:05.895Z"
   },
   {
    "duration": 467,
    "start_time": "2022-06-27T10:31:02.818Z"
   },
   {
    "duration": 531,
    "start_time": "2022-06-27T10:31:17.183Z"
   },
   {
    "duration": 222,
    "start_time": "2022-06-27T10:40:48.892Z"
   },
   {
    "duration": 297,
    "start_time": "2022-06-27T10:41:19.979Z"
   },
   {
    "duration": 230,
    "start_time": "2022-06-27T10:43:02.596Z"
   },
   {
    "duration": 230,
    "start_time": "2022-06-27T10:43:13.929Z"
   },
   {
    "duration": 433,
    "start_time": "2022-06-27T10:43:51.773Z"
   },
   {
    "duration": 204,
    "start_time": "2022-06-27T10:44:27.695Z"
   },
   {
    "duration": 471,
    "start_time": "2022-06-27T10:44:31.488Z"
   },
   {
    "duration": 202,
    "start_time": "2022-06-27T10:45:05.789Z"
   },
   {
    "duration": 206,
    "start_time": "2022-06-27T10:45:55.247Z"
   },
   {
    "duration": 1435,
    "start_time": "2022-06-27T11:06:11.647Z"
   },
   {
    "duration": 3,
    "start_time": "2022-06-27T11:06:13.084Z"
   },
   {
    "duration": 10740,
    "start_time": "2022-06-27T11:06:13.089Z"
   },
   {
    "duration": 61,
    "start_time": "2022-06-27T11:06:23.831Z"
   },
   {
    "duration": 14,
    "start_time": "2022-06-27T11:06:23.895Z"
   },
   {
    "duration": 120,
    "start_time": "2022-06-27T11:06:23.910Z"
   },
   {
    "duration": 147,
    "start_time": "2022-06-27T11:06:24.032Z"
   },
   {
    "duration": 10,
    "start_time": "2022-06-27T11:06:24.181Z"
   },
   {
    "duration": 134,
    "start_time": "2022-06-27T11:06:24.193Z"
   },
   {
    "duration": 1189,
    "start_time": "2022-06-27T11:06:24.331Z"
   },
   {
    "duration": 90,
    "start_time": "2022-06-27T11:06:25.522Z"
   },
   {
    "duration": 42,
    "start_time": "2022-06-27T11:06:25.614Z"
   },
   {
    "duration": 1081,
    "start_time": "2022-06-27T11:06:25.657Z"
   },
   {
    "duration": 231,
    "start_time": "2022-06-27T11:06:26.741Z"
   },
   {
    "duration": 479,
    "start_time": "2022-06-27T11:06:26.974Z"
   },
   {
    "duration": 69,
    "start_time": "2022-06-27T11:06:27.455Z"
   },
   {
    "duration": 111,
    "start_time": "2022-06-27T11:06:27.534Z"
   },
   {
    "duration": 106,
    "start_time": "2022-06-27T11:06:27.647Z"
   }
  ],
  "colab": {
   "name": "AdvansedSQLProjectTemplate.ipynb",
   "provenance": []
  },
  "kernelspec": {
   "display_name": "Python 3 (ipykernel)",
   "language": "python",
   "name": "python3"
  },
  "language_info": {
   "codemirror_mode": {
    "name": "ipython",
    "version": 3
   },
   "file_extension": ".py",
   "mimetype": "text/x-python",
   "name": "python",
   "nbconvert_exporter": "python",
   "pygments_lexer": "ipython3",
   "version": "3.9.7"
  },
  "toc": {
   "base_numbering": 1,
   "nav_menu": {},
   "number_sections": true,
   "sideBar": true,
   "skip_h1_title": true,
   "title_cell": "Table of Contents",
   "title_sidebar": "Contents",
   "toc_cell": false,
   "toc_position": {},
   "toc_section_display": true,
   "toc_window_display": false
  }
 },
 "nbformat": 4,
 "nbformat_minor": 1
}
