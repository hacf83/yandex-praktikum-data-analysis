{
 "cells": [
  {
   "cell_type": "code",
   "execution_count": 1,
   "id": "508f1bda",
   "metadata": {},
   "outputs": [],
   "source": [
    "import pandas as pd\n",
    "import numpy as np\n",
    "from datetime import timedelta\n",
    "from statsmodels.stats.proportion import proportions_ztest\n",
    "from statsmodels.stats.power import zt_ind_solve_power\n",
    "import matplotlib.pyplot as plt\n",
    "import seaborn as sns\n",
    "from plotly import graph_objects as go"
   ]
  },
  {
   "cell_type": "code",
   "execution_count": 2,
   "id": "4d85a086",
   "metadata": {},
   "outputs": [],
   "source": [
    "sns.set(font_scale=1.2, palette='Set2')"
   ]
  },
  {
   "cell_type": "markdown",
   "id": "4a6da259",
   "metadata": {},
   "source": [
    "# A/B-тестирование внедрения улучшенной рекомендательной системы"
   ]
  },
  {
   "cell_type": "markdown",
   "id": "3539ed08",
   "metadata": {},
   "source": [
    "1. [Описание проекта](#project_description)\n",
    "\n",
    "2. [Описание и предобработка данных](#data_description_and_preparation)\n",
    "\n",
    "3. [Оценка корректности проведения AB-теста](#check_of_the_correctness)\n",
    "\n",
    "4. [Исследовательский анализ данных](#EDA)\n",
    "\n",
    "5. [Оценка результатов A/B-теста](#results_analysis)\n",
    "\n",
    "6. [Общий вывод](#overall_conclusion)"
   ]
  },
  {
   "cell_type": "markdown",
   "id": "2945c645",
   "metadata": {},
   "source": [
    "## Описание проекта <a id='project_description'></a>"
   ]
  },
  {
   "cell_type": "markdown",
   "id": "a65f916f",
   "metadata": {},
   "source": [
    "Было проведено тестирование изменений, связанных с внедрением улучшенной рекомендательной системы. Ожидается, что за 14 дней с момента регистрации пользователи покажут улучшение каждой метрики не менее, чем на 10%:\n",
    "\n",
    "* конверсия в просмотр карточки товара\n",
    "\n",
    "* конверсия в просмотр корзины\n",
    "\n",
    "* конверсия в покупку\n",
    "\n",
    "Задачи:\n",
    "\n",
    "* оценить корректность проведения теста\n",
    "\n",
    "* проанализировать результаты теста"
   ]
  },
  {
   "cell_type": "markdown",
   "id": "4c15dfdb",
   "metadata": {},
   "source": [
    "## Описание и предобаботка данных <a id='data_description_and_preparation'></a>"
   ]
  },
  {
   "cell_type": "markdown",
   "id": "deaa2422",
   "metadata": {},
   "source": [
    "Таблица `marketing_events` – календарь маркетинговых событий на 2020 год:\n",
    "\n",
    "* `name` – название маркетингового события\n",
    "\n",
    "* `regions` – регионы, в которых проводилась рекламная кампания\n",
    "\n",
    "* `start_dt` – дата начала кампании\n",
    "\n",
    "* `finish_dt` – дата завершения кампании"
   ]
  },
  {
   "cell_type": "code",
   "execution_count": 3,
   "id": "1b5391c5",
   "metadata": {},
   "outputs": [],
   "source": [
    "marketing_events = pd.read_csv(\n",
    "    '../datasets/ab_project_marketing_events.csv', \n",
    "    parse_dates=['start_dt', 'finish_dt']\n",
    ")"
   ]
  },
  {
   "cell_type": "code",
   "execution_count": 4,
   "id": "cd953eee",
   "metadata": {},
   "outputs": [
    {
     "data": {
      "text/html": [
       "<div>\n",
       "<style scoped>\n",
       "    .dataframe tbody tr th:only-of-type {\n",
       "        vertical-align: middle;\n",
       "    }\n",
       "\n",
       "    .dataframe tbody tr th {\n",
       "        vertical-align: top;\n",
       "    }\n",
       "\n",
       "    .dataframe thead th {\n",
       "        text-align: right;\n",
       "    }\n",
       "</style>\n",
       "<table border=\"1\" class=\"dataframe\">\n",
       "  <thead>\n",
       "    <tr style=\"text-align: right;\">\n",
       "      <th></th>\n",
       "      <th>name</th>\n",
       "      <th>regions</th>\n",
       "      <th>start_dt</th>\n",
       "      <th>finish_dt</th>\n",
       "    </tr>\n",
       "  </thead>\n",
       "  <tbody>\n",
       "    <tr>\n",
       "      <th>0</th>\n",
       "      <td>Christmas&amp;New Year Promo</td>\n",
       "      <td>EU, N.America</td>\n",
       "      <td>2020-12-25</td>\n",
       "      <td>2021-01-03</td>\n",
       "    </tr>\n",
       "    <tr>\n",
       "      <th>1</th>\n",
       "      <td>St. Valentine's Day Giveaway</td>\n",
       "      <td>EU, CIS, APAC, N.America</td>\n",
       "      <td>2020-02-14</td>\n",
       "      <td>2020-02-16</td>\n",
       "    </tr>\n",
       "    <tr>\n",
       "      <th>2</th>\n",
       "      <td>St. Patric's Day Promo</td>\n",
       "      <td>EU, N.America</td>\n",
       "      <td>2020-03-17</td>\n",
       "      <td>2020-03-19</td>\n",
       "    </tr>\n",
       "    <tr>\n",
       "      <th>3</th>\n",
       "      <td>Easter Promo</td>\n",
       "      <td>EU, CIS, APAC, N.America</td>\n",
       "      <td>2020-04-12</td>\n",
       "      <td>2020-04-19</td>\n",
       "    </tr>\n",
       "    <tr>\n",
       "      <th>4</th>\n",
       "      <td>4th of July Promo</td>\n",
       "      <td>N.America</td>\n",
       "      <td>2020-07-04</td>\n",
       "      <td>2020-07-11</td>\n",
       "    </tr>\n",
       "  </tbody>\n",
       "</table>\n",
       "</div>"
      ],
      "text/plain": [
       "                           name                   regions   start_dt  \\\n",
       "0      Christmas&New Year Promo             EU, N.America 2020-12-25   \n",
       "1  St. Valentine's Day Giveaway  EU, CIS, APAC, N.America 2020-02-14   \n",
       "2        St. Patric's Day Promo             EU, N.America 2020-03-17   \n",
       "3                  Easter Promo  EU, CIS, APAC, N.America 2020-04-12   \n",
       "4             4th of July Promo                 N.America 2020-07-04   \n",
       "\n",
       "   finish_dt  \n",
       "0 2021-01-03  \n",
       "1 2020-02-16  \n",
       "2 2020-03-19  \n",
       "3 2020-04-19  \n",
       "4 2020-07-11  "
      ]
     },
     "execution_count": 4,
     "metadata": {},
     "output_type": "execute_result"
    }
   ],
   "source": [
    "marketing_events.head()"
   ]
  },
  {
   "cell_type": "code",
   "execution_count": 5,
   "id": "4a94f67f",
   "metadata": {},
   "outputs": [
    {
     "name": "stdout",
     "output_type": "stream",
     "text": [
      "<class 'pandas.core.frame.DataFrame'>\n",
      "RangeIndex: 14 entries, 0 to 13\n",
      "Data columns (total 4 columns):\n",
      " #   Column     Non-Null Count  Dtype         \n",
      "---  ------     --------------  -----         \n",
      " 0   name       14 non-null     object        \n",
      " 1   regions    14 non-null     object        \n",
      " 2   start_dt   14 non-null     datetime64[ns]\n",
      " 3   finish_dt  14 non-null     datetime64[ns]\n",
      "dtypes: datetime64[ns](2), object(2)\n",
      "memory usage: 576.0+ bytes\n"
     ]
    }
   ],
   "source": [
    "marketing_events.info()"
   ]
  },
  {
   "cell_type": "code",
   "execution_count": 6,
   "id": "df0cce1c",
   "metadata": {},
   "outputs": [
    {
     "name": "stdout",
     "output_type": "stream",
     "text": [
      "Кол-во дубликатов: 0\n"
     ]
    }
   ],
   "source": [
    "print(f'Кол-во дубликатов: {marketing_events.duplicated().sum()}')"
   ]
  },
  {
   "cell_type": "code",
   "execution_count": 7,
   "id": "a7a0139f",
   "metadata": {},
   "outputs": [
    {
     "name": "stdout",
     "output_type": "stream",
     "text": [
      "Количество маркетинговых кампаний по регионам за все время:\n",
      "APAC: 9\n",
      "EU: 7\n",
      "CIS: 7\n",
      "N.America: 6\n"
     ]
    }
   ],
   "source": [
    "marketeng_events_in_regions = {}\n",
    "for regions in marketing_events['regions']:\n",
    "    for region in regions.split(', '):\n",
    "        if region not in marketeng_events_in_regions:\n",
    "            marketeng_events_in_regions[region] = 0\n",
    "        marketeng_events_in_regions[region] += 1\n",
    "        \n",
    "print('Количество маркетинговых кампаний по регионам за все время:')\n",
    "for region, marketing_events_count in sorted(marketeng_events_in_regions.items(), key=lambda item: -item[1]):\n",
    "    print(f'{region}: {marketing_events_count}')"
   ]
  },
  {
   "cell_type": "markdown",
   "id": "ec363c68",
   "metadata": {},
   "source": [
    "<br>"
   ]
  },
  {
   "cell_type": "markdown",
   "id": "a9748907",
   "metadata": {},
   "source": [
    "Таблица `users` – все пользователи, зарегистрировавшиеся в интернет-магазине:\n",
    "\n",
    "* `user_id` – идентификатор пользователя\n",
    "\n",
    "* `first_date` – дата регистрации\n",
    "\n",
    "* `region` – регион пользователя\n",
    "\n",
    "* `device` – устройство, с которого происходила регистрация"
   ]
  },
  {
   "cell_type": "code",
   "execution_count": 8,
   "id": "d695d5f5",
   "metadata": {},
   "outputs": [],
   "source": [
    "users = pd.read_csv('../datasets/final_ab_new_users.csv', parse_dates=['first_date'])"
   ]
  },
  {
   "cell_type": "code",
   "execution_count": 9,
   "id": "e00cdd31",
   "metadata": {},
   "outputs": [
    {
     "data": {
      "text/html": [
       "<div>\n",
       "<style scoped>\n",
       "    .dataframe tbody tr th:only-of-type {\n",
       "        vertical-align: middle;\n",
       "    }\n",
       "\n",
       "    .dataframe tbody tr th {\n",
       "        vertical-align: top;\n",
       "    }\n",
       "\n",
       "    .dataframe thead th {\n",
       "        text-align: right;\n",
       "    }\n",
       "</style>\n",
       "<table border=\"1\" class=\"dataframe\">\n",
       "  <thead>\n",
       "    <tr style=\"text-align: right;\">\n",
       "      <th></th>\n",
       "      <th>user_id</th>\n",
       "      <th>first_date</th>\n",
       "      <th>region</th>\n",
       "      <th>device</th>\n",
       "    </tr>\n",
       "  </thead>\n",
       "  <tbody>\n",
       "    <tr>\n",
       "      <th>0</th>\n",
       "      <td>D72A72121175D8BE</td>\n",
       "      <td>2020-12-07</td>\n",
       "      <td>EU</td>\n",
       "      <td>PC</td>\n",
       "    </tr>\n",
       "    <tr>\n",
       "      <th>1</th>\n",
       "      <td>F1C668619DFE6E65</td>\n",
       "      <td>2020-12-07</td>\n",
       "      <td>N.America</td>\n",
       "      <td>Android</td>\n",
       "    </tr>\n",
       "    <tr>\n",
       "      <th>2</th>\n",
       "      <td>2E1BF1D4C37EA01F</td>\n",
       "      <td>2020-12-07</td>\n",
       "      <td>EU</td>\n",
       "      <td>PC</td>\n",
       "    </tr>\n",
       "    <tr>\n",
       "      <th>3</th>\n",
       "      <td>50734A22C0C63768</td>\n",
       "      <td>2020-12-07</td>\n",
       "      <td>EU</td>\n",
       "      <td>iPhone</td>\n",
       "    </tr>\n",
       "    <tr>\n",
       "      <th>4</th>\n",
       "      <td>E1BDDCE0DAFA2679</td>\n",
       "      <td>2020-12-07</td>\n",
       "      <td>N.America</td>\n",
       "      <td>iPhone</td>\n",
       "    </tr>\n",
       "  </tbody>\n",
       "</table>\n",
       "</div>"
      ],
      "text/plain": [
       "            user_id first_date     region   device\n",
       "0  D72A72121175D8BE 2020-12-07         EU       PC\n",
       "1  F1C668619DFE6E65 2020-12-07  N.America  Android\n",
       "2  2E1BF1D4C37EA01F 2020-12-07         EU       PC\n",
       "3  50734A22C0C63768 2020-12-07         EU   iPhone\n",
       "4  E1BDDCE0DAFA2679 2020-12-07  N.America   iPhone"
      ]
     },
     "execution_count": 9,
     "metadata": {},
     "output_type": "execute_result"
    }
   ],
   "source": [
    "users.head()"
   ]
  },
  {
   "cell_type": "code",
   "execution_count": 10,
   "id": "19bad520",
   "metadata": {},
   "outputs": [
    {
     "name": "stdout",
     "output_type": "stream",
     "text": [
      "<class 'pandas.core.frame.DataFrame'>\n",
      "RangeIndex: 61733 entries, 0 to 61732\n",
      "Data columns (total 4 columns):\n",
      " #   Column      Non-Null Count  Dtype         \n",
      "---  ------      --------------  -----         \n",
      " 0   user_id     61733 non-null  object        \n",
      " 1   first_date  61733 non-null  datetime64[ns]\n",
      " 2   region      61733 non-null  object        \n",
      " 3   device      61733 non-null  object        \n",
      "dtypes: datetime64[ns](1), object(3)\n",
      "memory usage: 1.9+ MB\n"
     ]
    }
   ],
   "source": [
    "users.info()"
   ]
  },
  {
   "cell_type": "code",
   "execution_count": 11,
   "id": "e228193e",
   "metadata": {},
   "outputs": [
    {
     "name": "stdout",
     "output_type": "stream",
     "text": [
      "Кол-во дубликатов: 0\n"
     ]
    }
   ],
   "source": [
    "print(f'Кол-во дубликатов: {users.duplicated().sum()}')"
   ]
  },
  {
   "cell_type": "code",
   "execution_count": 12,
   "id": "d626020c",
   "metadata": {},
   "outputs": [
    {
     "name": "stdout",
     "output_type": "stream",
     "text": [
      "Распределение пользователей по столбцу region:\n",
      "EU           0.749518\n",
      "N.America    0.148300\n",
      "CIS          0.051107\n",
      "APAC         0.051075\n",
      "Name: region, dtype: float64\n",
      "\n",
      "Распределение пользователей по столбцу device:\n",
      "Android    0.445791\n",
      "PC         0.252685\n",
      "iPhone     0.202971\n",
      "Mac        0.098553\n",
      "Name: device, dtype: float64\n",
      "\n"
     ]
    }
   ],
   "source": [
    "for col in ['region', 'device']:\n",
    "    print(f'Распределение пользователей по столбцу {col}:')\n",
    "    print(users[col].value_counts(normalize=True), end='\\n\\n')"
   ]
  },
  {
   "cell_type": "markdown",
   "id": "b82f9de0",
   "metadata": {},
   "source": [
    "<br>"
   ]
  },
  {
   "cell_type": "markdown",
   "id": "a9f4f9c1",
   "metadata": {},
   "source": [
    "Таблица `user_events` – события новых пользователей:\n",
    "\n",
    "* `user_id` – идентификатор пользователя\n",
    "\n",
    "* `event_dt` – дата и время события\n",
    "\n",
    "* `event_name` – тип события\n",
    "\n",
    "* `details` – дополнительные данные о событии. Например, для покупок, `purchase`, в этом поле хранится стоимость покупки в долларах"
   ]
  },
  {
   "cell_type": "code",
   "execution_count": 13,
   "id": "0d382be2",
   "metadata": {},
   "outputs": [],
   "source": [
    "user_events = pd.read_csv('../datasets/final_ab_events.csv', parse_dates=['event_dt'])"
   ]
  },
  {
   "cell_type": "code",
   "execution_count": 14,
   "id": "f5e40fdc",
   "metadata": {},
   "outputs": [
    {
     "data": {
      "text/html": [
       "<div>\n",
       "<style scoped>\n",
       "    .dataframe tbody tr th:only-of-type {\n",
       "        vertical-align: middle;\n",
       "    }\n",
       "\n",
       "    .dataframe tbody tr th {\n",
       "        vertical-align: top;\n",
       "    }\n",
       "\n",
       "    .dataframe thead th {\n",
       "        text-align: right;\n",
       "    }\n",
       "</style>\n",
       "<table border=\"1\" class=\"dataframe\">\n",
       "  <thead>\n",
       "    <tr style=\"text-align: right;\">\n",
       "      <th></th>\n",
       "      <th>user_id</th>\n",
       "      <th>event_dt</th>\n",
       "      <th>event_name</th>\n",
       "      <th>details</th>\n",
       "    </tr>\n",
       "  </thead>\n",
       "  <tbody>\n",
       "    <tr>\n",
       "      <th>0</th>\n",
       "      <td>E1BDDCE0DAFA2679</td>\n",
       "      <td>2020-12-07 20:22:03</td>\n",
       "      <td>purchase</td>\n",
       "      <td>99.99</td>\n",
       "    </tr>\n",
       "    <tr>\n",
       "      <th>1</th>\n",
       "      <td>7B6452F081F49504</td>\n",
       "      <td>2020-12-07 09:22:53</td>\n",
       "      <td>purchase</td>\n",
       "      <td>9.99</td>\n",
       "    </tr>\n",
       "    <tr>\n",
       "      <th>2</th>\n",
       "      <td>9CD9F34546DF254C</td>\n",
       "      <td>2020-12-07 12:59:29</td>\n",
       "      <td>purchase</td>\n",
       "      <td>4.99</td>\n",
       "    </tr>\n",
       "    <tr>\n",
       "      <th>3</th>\n",
       "      <td>96F27A054B191457</td>\n",
       "      <td>2020-12-07 04:02:40</td>\n",
       "      <td>purchase</td>\n",
       "      <td>4.99</td>\n",
       "    </tr>\n",
       "    <tr>\n",
       "      <th>4</th>\n",
       "      <td>1FD7660FDF94CA1F</td>\n",
       "      <td>2020-12-07 10:15:09</td>\n",
       "      <td>purchase</td>\n",
       "      <td>4.99</td>\n",
       "    </tr>\n",
       "  </tbody>\n",
       "</table>\n",
       "</div>"
      ],
      "text/plain": [
       "            user_id            event_dt event_name  details\n",
       "0  E1BDDCE0DAFA2679 2020-12-07 20:22:03   purchase    99.99\n",
       "1  7B6452F081F49504 2020-12-07 09:22:53   purchase     9.99\n",
       "2  9CD9F34546DF254C 2020-12-07 12:59:29   purchase     4.99\n",
       "3  96F27A054B191457 2020-12-07 04:02:40   purchase     4.99\n",
       "4  1FD7660FDF94CA1F 2020-12-07 10:15:09   purchase     4.99"
      ]
     },
     "execution_count": 14,
     "metadata": {},
     "output_type": "execute_result"
    }
   ],
   "source": [
    "user_events.head()"
   ]
  },
  {
   "cell_type": "code",
   "execution_count": 15,
   "id": "f5dbd5be",
   "metadata": {},
   "outputs": [
    {
     "name": "stdout",
     "output_type": "stream",
     "text": [
      "<class 'pandas.core.frame.DataFrame'>\n",
      "RangeIndex: 440317 entries, 0 to 440316\n",
      "Data columns (total 4 columns):\n",
      " #   Column      Non-Null Count   Dtype         \n",
      "---  ------      --------------   -----         \n",
      " 0   user_id     440317 non-null  object        \n",
      " 1   event_dt    440317 non-null  datetime64[ns]\n",
      " 2   event_name  440317 non-null  object        \n",
      " 3   details     62740 non-null   float64       \n",
      "dtypes: datetime64[ns](1), float64(1), object(2)\n",
      "memory usage: 13.4+ MB\n"
     ]
    }
   ],
   "source": [
    "user_events.info()"
   ]
  },
  {
   "cell_type": "code",
   "execution_count": 16,
   "id": "62af4ab3",
   "metadata": {},
   "outputs": [
    {
     "name": "stdout",
     "output_type": "stream",
     "text": [
      "Кол-во дубликатов: 0\n"
     ]
    }
   ],
   "source": [
    "print(f'Кол-во дубликатов: {user_events.duplicated().sum()}')"
   ]
  },
  {
   "cell_type": "markdown",
   "id": "cbbc3923",
   "metadata": {},
   "source": [
    "Как и должно быть пропусков в `details` нет только у события покупки:"
   ]
  },
  {
   "cell_type": "code",
   "execution_count": 17,
   "id": "510462a4",
   "metadata": {
    "scrolled": true
   },
   "outputs": [
    {
     "data": {
      "text/plain": [
       "event_name\n",
       "login           189552\n",
       "product_cart     62462\n",
       "product_page    125563\n",
       "purchase             0\n",
       "Name: details, dtype: int64"
      ]
     },
     "execution_count": 17,
     "metadata": {},
     "output_type": "execute_result"
    }
   ],
   "source": [
    "user_events['details'].isnull().groupby(user_events['event_name']).sum()"
   ]
  },
  {
   "cell_type": "markdown",
   "id": "62d169f6",
   "metadata": {},
   "source": [
    "<br>"
   ]
  },
  {
   "cell_type": "markdown",
   "id": "e51b7263",
   "metadata": {},
   "source": [
    "Таблица `participants` – участники тестов:\n",
    "\n",
    "* `user_id` – идентификатор пользователя\n",
    "\n",
    "* `ab_test` – название теста\n",
    "\n",
    "* `group` – группа пользователя"
   ]
  },
  {
   "cell_type": "code",
   "execution_count": 18,
   "id": "6c20ff88",
   "metadata": {},
   "outputs": [],
   "source": [
    "participants = pd.read_csv('../datasets/final_ab_participants.csv')"
   ]
  },
  {
   "cell_type": "code",
   "execution_count": 19,
   "id": "43fdc25e",
   "metadata": {},
   "outputs": [
    {
     "data": {
      "text/html": [
       "<div>\n",
       "<style scoped>\n",
       "    .dataframe tbody tr th:only-of-type {\n",
       "        vertical-align: middle;\n",
       "    }\n",
       "\n",
       "    .dataframe tbody tr th {\n",
       "        vertical-align: top;\n",
       "    }\n",
       "\n",
       "    .dataframe thead th {\n",
       "        text-align: right;\n",
       "    }\n",
       "</style>\n",
       "<table border=\"1\" class=\"dataframe\">\n",
       "  <thead>\n",
       "    <tr style=\"text-align: right;\">\n",
       "      <th></th>\n",
       "      <th>user_id</th>\n",
       "      <th>group</th>\n",
       "      <th>ab_test</th>\n",
       "    </tr>\n",
       "  </thead>\n",
       "  <tbody>\n",
       "    <tr>\n",
       "      <th>0</th>\n",
       "      <td>D1ABA3E2887B6A73</td>\n",
       "      <td>A</td>\n",
       "      <td>recommender_system_test</td>\n",
       "    </tr>\n",
       "    <tr>\n",
       "      <th>1</th>\n",
       "      <td>A7A3664BD6242119</td>\n",
       "      <td>A</td>\n",
       "      <td>recommender_system_test</td>\n",
       "    </tr>\n",
       "    <tr>\n",
       "      <th>2</th>\n",
       "      <td>DABC14FDDFADD29E</td>\n",
       "      <td>A</td>\n",
       "      <td>recommender_system_test</td>\n",
       "    </tr>\n",
       "    <tr>\n",
       "      <th>3</th>\n",
       "      <td>04988C5DF189632E</td>\n",
       "      <td>A</td>\n",
       "      <td>recommender_system_test</td>\n",
       "    </tr>\n",
       "    <tr>\n",
       "      <th>4</th>\n",
       "      <td>482F14783456D21B</td>\n",
       "      <td>B</td>\n",
       "      <td>recommender_system_test</td>\n",
       "    </tr>\n",
       "  </tbody>\n",
       "</table>\n",
       "</div>"
      ],
      "text/plain": [
       "            user_id group                  ab_test\n",
       "0  D1ABA3E2887B6A73     A  recommender_system_test\n",
       "1  A7A3664BD6242119     A  recommender_system_test\n",
       "2  DABC14FDDFADD29E     A  recommender_system_test\n",
       "3  04988C5DF189632E     A  recommender_system_test\n",
       "4  482F14783456D21B     B  recommender_system_test"
      ]
     },
     "execution_count": 19,
     "metadata": {},
     "output_type": "execute_result"
    }
   ],
   "source": [
    "participants.head()"
   ]
  },
  {
   "cell_type": "code",
   "execution_count": 20,
   "id": "960eda5f",
   "metadata": {},
   "outputs": [
    {
     "name": "stdout",
     "output_type": "stream",
     "text": [
      "<class 'pandas.core.frame.DataFrame'>\n",
      "RangeIndex: 18268 entries, 0 to 18267\n",
      "Data columns (total 3 columns):\n",
      " #   Column   Non-Null Count  Dtype \n",
      "---  ------   --------------  ----- \n",
      " 0   user_id  18268 non-null  object\n",
      " 1   group    18268 non-null  object\n",
      " 2   ab_test  18268 non-null  object\n",
      "dtypes: object(3)\n",
      "memory usage: 428.3+ KB\n"
     ]
    }
   ],
   "source": [
    "participants.info()"
   ]
  },
  {
   "cell_type": "code",
   "execution_count": 21,
   "id": "8c1ee66c",
   "metadata": {},
   "outputs": [
    {
     "name": "stdout",
     "output_type": "stream",
     "text": [
      "Кол-во дубликатов: 0\n"
     ]
    }
   ],
   "source": [
    "print(f'Кол-во дубликатов: {participants.duplicated().sum()}')"
   ]
  },
  {
   "cell_type": "code",
   "execution_count": 22,
   "id": "1d1253e4",
   "metadata": {},
   "outputs": [
    {
     "name": "stdout",
     "output_type": "stream",
     "text": [
      "Распределение пользователей по группам в рамках кажого теста:\n"
     ]
    },
    {
     "data": {
      "text/plain": [
       "ab_test                  group\n",
       "interface_eu_test        A        0.504107\n",
       "                         B        0.495893\n",
       "recommender_system_test  A        0.570661\n",
       "                         B        0.429339\n",
       "Name: group, dtype: float64"
      ]
     },
     "execution_count": 22,
     "metadata": {},
     "output_type": "execute_result"
    }
   ],
   "source": [
    "print('Распределение пользователей по группам в рамках кажого теста:')\n",
    "participants.groupby('ab_test')['group'].value_counts(normalize=True)"
   ]
  },
  {
   "cell_type": "markdown",
   "id": "2e81a676",
   "metadata": {},
   "source": [
    "## Оценка корректности проведения A/B-теста <a id='check_of_the_correctness'></a>"
   ]
  },
  {
   "cell_type": "markdown",
   "id": "0b2e7c6e",
   "metadata": {},
   "source": [
    "Проверим соответсвие данных требованиям технического задания:"
   ]
  },
  {
   "cell_type": "markdown",
   "id": "05493898",
   "metadata": {},
   "source": [
    "* Набор новых пользователей проводился с 2020-12-07 по 2020-12-21"
   ]
  },
  {
   "cell_type": "code",
   "execution_count": 23,
   "id": "01b672c5",
   "metadata": {},
   "outputs": [
    {
     "data": {
      "text/html": [
       "<div>\n",
       "<style scoped>\n",
       "    .dataframe tbody tr th:only-of-type {\n",
       "        vertical-align: middle;\n",
       "    }\n",
       "\n",
       "    .dataframe tbody tr th {\n",
       "        vertical-align: top;\n",
       "    }\n",
       "\n",
       "    .dataframe thead th {\n",
       "        text-align: right;\n",
       "    }\n",
       "</style>\n",
       "<table border=\"1\" class=\"dataframe\">\n",
       "  <thead>\n",
       "    <tr style=\"text-align: right;\">\n",
       "      <th></th>\n",
       "      <th>first_date</th>\n",
       "    </tr>\n",
       "  </thead>\n",
       "  <tbody>\n",
       "    <tr>\n",
       "      <th>min</th>\n",
       "      <td>2020-12-07</td>\n",
       "    </tr>\n",
       "    <tr>\n",
       "      <th>max</th>\n",
       "      <td>2020-12-21</td>\n",
       "    </tr>\n",
       "  </tbody>\n",
       "</table>\n",
       "</div>"
      ],
      "text/plain": [
       "    first_date\n",
       "min 2020-12-07\n",
       "max 2020-12-21"
      ]
     },
     "execution_count": 23,
     "metadata": {},
     "output_type": "execute_result"
    }
   ],
   "source": [
    "(\n",
    "    participants[participants['ab_test'] == 'recommender_system_test']\n",
    "    .merge(users, on='user_id')\n",
    "    .agg({'first_date': ['min', 'max']})\n",
    ")"
   ]
  },
  {
   "cell_type": "markdown",
   "id": "bd95df22",
   "metadata": {},
   "source": [
    "Все верно."
   ]
  },
  {
   "cell_type": "markdown",
   "id": "9c2016d3",
   "metadata": {},
   "source": [
    "* тест проводился с 2020-12-07 по 2021-01-04"
   ]
  },
  {
   "cell_type": "code",
   "execution_count": 24,
   "id": "a2fd1ab8",
   "metadata": {},
   "outputs": [
    {
     "data": {
      "text/html": [
       "<div>\n",
       "<style scoped>\n",
       "    .dataframe tbody tr th:only-of-type {\n",
       "        vertical-align: middle;\n",
       "    }\n",
       "\n",
       "    .dataframe tbody tr th {\n",
       "        vertical-align: top;\n",
       "    }\n",
       "\n",
       "    .dataframe thead th {\n",
       "        text-align: right;\n",
       "    }\n",
       "</style>\n",
       "<table border=\"1\" class=\"dataframe\">\n",
       "  <thead>\n",
       "    <tr style=\"text-align: right;\">\n",
       "      <th></th>\n",
       "      <th>event_dt</th>\n",
       "    </tr>\n",
       "  </thead>\n",
       "  <tbody>\n",
       "    <tr>\n",
       "      <th>min</th>\n",
       "      <td>2020-12-07 00:05:57</td>\n",
       "    </tr>\n",
       "    <tr>\n",
       "      <th>max</th>\n",
       "      <td>2020-12-30 12:42:57</td>\n",
       "    </tr>\n",
       "  </tbody>\n",
       "</table>\n",
       "</div>"
      ],
      "text/plain": [
       "               event_dt\n",
       "min 2020-12-07 00:05:57\n",
       "max 2020-12-30 12:42:57"
      ]
     },
     "execution_count": 24,
     "metadata": {},
     "output_type": "execute_result"
    }
   ],
   "source": [
    "(\n",
    "    participants[participants['ab_test'] == 'recommender_system_test']\n",
    "    .merge(user_events, on='user_id')\n",
    "    .agg({'event_dt': ['min', 'max']})\n",
    ")"
   ]
  },
  {
   "cell_type": "markdown",
   "id": "78aa7d93",
   "metadata": {},
   "source": [
    "Отсутствуют логи по последним дням. Может логи перестали собирать или добавлять, может пользователи просто не совершали никаких действий."
   ]
  },
  {
   "cell_type": "markdown",
   "id": "52cb1f8d",
   "metadata": {},
   "source": [
    "* аудитория: 15% новых пользователей из региона EU"
   ]
  },
  {
   "cell_type": "code",
   "execution_count": 25,
   "id": "1400182a",
   "metadata": {},
   "outputs": [
    {
     "data": {
      "text/plain": [
       "0.13725956343202939"
      ]
     },
     "execution_count": 25,
     "metadata": {},
     "output_type": "execute_result"
    }
   ],
   "source": [
    "eu_users = users[users['region'] == 'EU']\n",
    "\n",
    "len(\n",
    "    participants[participants['ab_test'] == 'recommender_system_test']\n",
    "    .merge(eu_users, on='user_id')\n",
    ") / len(eu_users)"
   ]
  },
  {
   "cell_type": "markdown",
   "id": "5ce2520e",
   "metadata": {},
   "source": [
    "Получилось чуть меньше, чем планировалось – около 14%."
   ]
  },
  {
   "cell_type": "markdown",
   "id": "3bf920c5",
   "metadata": {},
   "source": [
    "* ожидаемое количество участников теста: 6000"
   ]
  },
  {
   "cell_type": "code",
   "execution_count": 26,
   "id": "b646512d",
   "metadata": {
    "scrolled": true
   },
   "outputs": [
    {
     "data": {
      "text/plain": [
       "3675"
      ]
     },
     "execution_count": 26,
     "metadata": {},
     "output_type": "execute_result"
    }
   ],
   "source": [
    "n_participants = (\n",
    "    participants.loc[participants['ab_test'] == 'recommender_system_test']\n",
    "    .merge(user_events, on='user_id')['user_id'].nunique()\n",
    ")\n",
    "\n",
    "n_participants"
   ]
  },
  {
   "cell_type": "markdown",
   "id": "da36b2ce",
   "metadata": {},
   "source": [
    "В тестировании поучаствовало в 1,6 раза меньше пользователей, чем планировалось."
   ]
  },
  {
   "cell_type": "markdown",
   "id": "240600e3",
   "metadata": {},
   "source": [
    "<br>"
   ]
  },
  {
   "cell_type": "markdown",
   "id": "39e40877",
   "metadata": {},
   "source": [
    "Проверим другие обязательные и важные условия корректного проведения A/B-теста:"
   ]
  },
  {
   "cell_type": "markdown",
   "id": "21abbc1d",
   "metadata": {},
   "source": [
    "* отсутствие пользователей, участвующих в двух группах теста одновременно"
   ]
  },
  {
   "cell_type": "code",
   "execution_count": 27,
   "id": "989b4a1b",
   "metadata": {},
   "outputs": [
    {
     "name": "stdout",
     "output_type": "stream",
     "text": [
      "Кол-во пользователей, принявших участие в двух группах теста: 0\n"
     ]
    }
   ],
   "source": [
    "rs_group_A = participants.loc[\n",
    "    (participants['ab_test'] == 'recommender_system_test') & (participants['group'] == 'A'),\n",
    "    'user_id'\n",
    "]\n",
    "\n",
    "rs_group_B = participants.loc[\n",
    "    (participants['ab_test'] == 'recommender_system_test') & (participants['group'] == 'B'),\n",
    "    'user_id'\n",
    "]\n",
    "\n",
    "were_in_two_groups_of_rs_test = set(rs_group_A) & set(rs_group_B)\n",
    "\n",
    "print(f'Кол-во пользователей, принявших участие в двух группах теста: {len(were_in_two_groups_of_rs_test)}')"
   ]
  },
  {
   "cell_type": "markdown",
   "id": "abaae5c9",
   "metadata": {},
   "source": [
    "Все верно."
   ]
  },
  {
   "cell_type": "markdown",
   "id": "45da519d",
   "metadata": {},
   "source": [
    "* отсутствие пользователей, участвующих в конкурирующих тестах\n",
    "\n",
    "Результаты могут быть искажены, если пользователь из нашего теста также попал в группу B теста по изменению интерфейса."
   ]
  },
  {
   "cell_type": "code",
   "execution_count": 28,
   "id": "1f162b1c",
   "metadata": {},
   "outputs": [
    {
     "name": "stdout",
     "output_type": "stream",
     "text": [
      "Доля пользователей, участвующих в нашем тесте и группе B из теста по изменению интерфейса: 0.213\n"
     ]
    }
   ],
   "source": [
    "rs = participants.loc[\n",
    "    participants['ab_test'] == 'recommender_system_test',\n",
    "    'user_id'\n",
    "]\n",
    "\n",
    "i_eu_group_B = participants.loc[\n",
    "    (participants['ab_test'] == 'interface_eu_test') & (participants['group'] == 'B'),\n",
    "    'user_id'\n",
    "]\n",
    "\n",
    "were_in_rs_test_and_i_eu_group_B_pct = len(set(rs) & set(i_eu_group_B)) / n_participants\n",
    "\n",
    "print(\n",
    "    'Доля пользователей, участвующих в нашем тесте и группе B из теста по изменению интерфейса:', \n",
    "    f'{were_in_rs_test_and_i_eu_group_B_pct:.3f}'\n",
    ")"
   ]
  },
  {
   "cell_type": "markdown",
   "id": "6ecbb0ed",
   "metadata": {},
   "source": [
    "Каждый четвертый пользователь принял участие в конкурирующем тесте."
   ]
  },
  {
   "cell_type": "markdown",
   "id": "3241e785",
   "metadata": {},
   "source": [
    "* репрезентативность групп по признакам"
   ]
  },
  {
   "cell_type": "code",
   "execution_count": 29,
   "id": "19af2877",
   "metadata": {},
   "outputs": [],
   "source": [
    "def check_sample_ration_mismatch(col):\n",
    "    rs_users = (\n",
    "        participants[participants['ab_test'] == 'recommender_system_test']\n",
    "        .merge(users, on='user_id')\n",
    "    )\n",
    "    \n",
    "    groups_distribution_by_col = pd.crosstab(\n",
    "        index=rs_users['group'],\n",
    "        columns=rs_users[col],\n",
    "        values=rs_users['user_id'],\n",
    "        aggfunc='count', normalize='index'\n",
    "    )\n",
    "    \n",
    "    print(f'Распределение пользователей групп по признаку {col}:')\n",
    "    display(groups_distribution_by_col)\n",
    "    "
   ]
  },
  {
   "cell_type": "code",
   "execution_count": 30,
   "id": "360369d5",
   "metadata": {},
   "outputs": [
    {
     "name": "stdout",
     "output_type": "stream",
     "text": [
      "Распределение пользователей групп по признаку region:\n"
     ]
    },
    {
     "data": {
      "text/html": [
       "<div>\n",
       "<style scoped>\n",
       "    .dataframe tbody tr th:only-of-type {\n",
       "        vertical-align: middle;\n",
       "    }\n",
       "\n",
       "    .dataframe tbody tr th {\n",
       "        vertical-align: top;\n",
       "    }\n",
       "\n",
       "    .dataframe thead th {\n",
       "        text-align: right;\n",
       "    }\n",
       "</style>\n",
       "<table border=\"1\" class=\"dataframe\">\n",
       "  <thead>\n",
       "    <tr style=\"text-align: right;\">\n",
       "      <th>region</th>\n",
       "      <th>APAC</th>\n",
       "      <th>CIS</th>\n",
       "      <th>EU</th>\n",
       "      <th>N.America</th>\n",
       "    </tr>\n",
       "    <tr>\n",
       "      <th>group</th>\n",
       "      <th></th>\n",
       "      <th></th>\n",
       "      <th></th>\n",
       "      <th></th>\n",
       "    </tr>\n",
       "  </thead>\n",
       "  <tbody>\n",
       "    <tr>\n",
       "      <th>A</th>\n",
       "      <td>0.009676</td>\n",
       "      <td>0.006538</td>\n",
       "      <td>0.950314</td>\n",
       "      <td>0.033473</td>\n",
       "    </tr>\n",
       "    <tr>\n",
       "      <th>B</th>\n",
       "      <td>0.012165</td>\n",
       "      <td>0.010428</td>\n",
       "      <td>0.944387</td>\n",
       "      <td>0.033021</td>\n",
       "    </tr>\n",
       "  </tbody>\n",
       "</table>\n",
       "</div>"
      ],
      "text/plain": [
       "region      APAC       CIS        EU  N.America\n",
       "group                                          \n",
       "A       0.009676  0.006538  0.950314   0.033473\n",
       "B       0.012165  0.010428  0.944387   0.033021"
      ]
     },
     "metadata": {},
     "output_type": "display_data"
    }
   ],
   "source": [
    "check_sample_ration_mismatch('region')"
   ]
  },
  {
   "cell_type": "code",
   "execution_count": 31,
   "id": "6d1670eb",
   "metadata": {},
   "outputs": [
    {
     "name": "stdout",
     "output_type": "stream",
     "text": [
      "Распределение пользователей групп по признаку device:\n"
     ]
    },
    {
     "data": {
      "text/html": [
       "<div>\n",
       "<style scoped>\n",
       "    .dataframe tbody tr th:only-of-type {\n",
       "        vertical-align: middle;\n",
       "    }\n",
       "\n",
       "    .dataframe tbody tr th {\n",
       "        vertical-align: top;\n",
       "    }\n",
       "\n",
       "    .dataframe thead th {\n",
       "        text-align: right;\n",
       "    }\n",
       "</style>\n",
       "<table border=\"1\" class=\"dataframe\">\n",
       "  <thead>\n",
       "    <tr style=\"text-align: right;\">\n",
       "      <th>device</th>\n",
       "      <th>Android</th>\n",
       "      <th>Mac</th>\n",
       "      <th>PC</th>\n",
       "      <th>iPhone</th>\n",
       "    </tr>\n",
       "    <tr>\n",
       "      <th>group</th>\n",
       "      <th></th>\n",
       "      <th></th>\n",
       "      <th></th>\n",
       "      <th></th>\n",
       "    </tr>\n",
       "  </thead>\n",
       "  <tbody>\n",
       "    <tr>\n",
       "      <th>A</th>\n",
       "      <td>0.437238</td>\n",
       "      <td>0.097542</td>\n",
       "      <td>0.264383</td>\n",
       "      <td>0.200837</td>\n",
       "    </tr>\n",
       "    <tr>\n",
       "      <th>B</th>\n",
       "      <td>0.455683</td>\n",
       "      <td>0.090372</td>\n",
       "      <td>0.241919</td>\n",
       "      <td>0.212026</td>\n",
       "    </tr>\n",
       "  </tbody>\n",
       "</table>\n",
       "</div>"
      ],
      "text/plain": [
       "device   Android       Mac        PC    iPhone\n",
       "group                                         \n",
       "A       0.437238  0.097542  0.264383  0.200837\n",
       "B       0.455683  0.090372  0.241919  0.212026"
      ]
     },
     "metadata": {},
     "output_type": "display_data"
    }
   ],
   "source": [
    "check_sample_ration_mismatch('device')"
   ]
  },
  {
   "cell_type": "markdown",
   "id": "ec4f2c0f",
   "metadata": {},
   "source": [
    "Пользователи групп распределены примерно одинаково по признакам региона и устройства. Также видно, что аудитория нашего теста не польностью состоит из пользователей региона EU."
   ]
  },
  {
   "cell_type": "markdown",
   "id": "bc316da1",
   "metadata": {},
   "source": [
    "* распределение сплитов по дням примерно одинаковое"
   ]
  },
  {
   "cell_type": "code",
   "execution_count": 32,
   "id": "bafd5a43",
   "metadata": {},
   "outputs": [
    {
     "data": {
      "image/png": "[encoded data removed]",
      "text/plain": [
       "<Figure size 936x360 with 1 Axes>"
      ]
     },
     "metadata": {},
     "output_type": "display_data"
    }
   ],
   "source": [
    "splits_by_date = (\n",
    "    participants[\n",
    "        (participants['ab_test'] == 'recommender_system_test') & \n",
    "        (participants['user_id'].isin(user_events['user_id'].unique()))\n",
    "    ]\n",
    "    .merge(users, on='user_id')\n",
    "    .groupby('first_date')['group'].value_counts(normalize=True)\n",
    "    .rename('pct_of_group')\n",
    "    .reset_index()\n",
    ")\n",
    "\n",
    "plt.figure(figsize=(13, 5))\n",
    "sns.lineplot(data=splits_by_date, x='first_date', y='pct_of_group', hue='group')\n",
    "plt.title('Распределение сплитов по дням');"
   ]
  },
  {
   "cell_type": "markdown",
   "id": "200745f2",
   "metadata": {},
   "source": [
    "Наблюдается цикличность в привлечении пользователей. Сначала распределение по группам стремится к 50/50, затем происходит перевес в пользу группы A и снова попытка соблюсти баланс групп. С увеличением времени теста дисбаланс в рамках каждого цикла становится все больше. С 17 декабря по конец теста сохраняется дисбаланс 85/15."
   ]
  },
  {
   "cell_type": "markdown",
   "id": "fb1168d1",
   "metadata": {},
   "source": [
    "* время теста не совпадает с маркетинговыми и другими активностями"
   ]
  },
  {
   "cell_type": "code",
   "execution_count": 33,
   "id": "3070b176",
   "metadata": {},
   "outputs": [
    {
     "data": {
      "text/html": [
       "<div>\n",
       "<style scoped>\n",
       "    .dataframe tbody tr th:only-of-type {\n",
       "        vertical-align: middle;\n",
       "    }\n",
       "\n",
       "    .dataframe tbody tr th {\n",
       "        vertical-align: top;\n",
       "    }\n",
       "\n",
       "    .dataframe thead th {\n",
       "        text-align: right;\n",
       "    }\n",
       "</style>\n",
       "<table border=\"1\" class=\"dataframe\">\n",
       "  <thead>\n",
       "    <tr style=\"text-align: right;\">\n",
       "      <th></th>\n",
       "      <th>name</th>\n",
       "      <th>regions</th>\n",
       "      <th>start_dt</th>\n",
       "      <th>finish_dt</th>\n",
       "    </tr>\n",
       "  </thead>\n",
       "  <tbody>\n",
       "    <tr>\n",
       "      <th>6</th>\n",
       "      <td>Chinese New Year Promo</td>\n",
       "      <td>APAC</td>\n",
       "      <td>2020-01-25</td>\n",
       "      <td>2020-02-07</td>\n",
       "    </tr>\n",
       "    <tr>\n",
       "      <th>1</th>\n",
       "      <td>St. Valentine's Day Giveaway</td>\n",
       "      <td>EU, CIS, APAC, N.America</td>\n",
       "      <td>2020-02-14</td>\n",
       "      <td>2020-02-16</td>\n",
       "    </tr>\n",
       "    <tr>\n",
       "      <th>8</th>\n",
       "      <td>International Women's Day Promo</td>\n",
       "      <td>EU, CIS, APAC</td>\n",
       "      <td>2020-03-08</td>\n",
       "      <td>2020-03-10</td>\n",
       "    </tr>\n",
       "    <tr>\n",
       "      <th>2</th>\n",
       "      <td>St. Patric's Day Promo</td>\n",
       "      <td>EU, N.America</td>\n",
       "      <td>2020-03-17</td>\n",
       "      <td>2020-03-19</td>\n",
       "    </tr>\n",
       "    <tr>\n",
       "      <th>3</th>\n",
       "      <td>Easter Promo</td>\n",
       "      <td>EU, CIS, APAC, N.America</td>\n",
       "      <td>2020-04-12</td>\n",
       "      <td>2020-04-19</td>\n",
       "    </tr>\n",
       "    <tr>\n",
       "      <th>7</th>\n",
       "      <td>Labor day (May 1st) Ads Campaign</td>\n",
       "      <td>EU, CIS, APAC</td>\n",
       "      <td>2020-05-01</td>\n",
       "      <td>2020-05-03</td>\n",
       "    </tr>\n",
       "    <tr>\n",
       "      <th>9</th>\n",
       "      <td>Victory Day CIS (May 9th) Event</td>\n",
       "      <td>CIS</td>\n",
       "      <td>2020-05-09</td>\n",
       "      <td>2020-05-11</td>\n",
       "    </tr>\n",
       "    <tr>\n",
       "      <th>11</th>\n",
       "      <td>Dragon Boat Festival Giveaway</td>\n",
       "      <td>APAC</td>\n",
       "      <td>2020-06-25</td>\n",
       "      <td>2020-07-01</td>\n",
       "    </tr>\n",
       "    <tr>\n",
       "      <th>4</th>\n",
       "      <td>4th of July Promo</td>\n",
       "      <td>N.America</td>\n",
       "      <td>2020-07-04</td>\n",
       "      <td>2020-07-11</td>\n",
       "    </tr>\n",
       "    <tr>\n",
       "      <th>13</th>\n",
       "      <td>Chinese Moon Festival</td>\n",
       "      <td>APAC</td>\n",
       "      <td>2020-10-01</td>\n",
       "      <td>2020-10-07</td>\n",
       "    </tr>\n",
       "    <tr>\n",
       "      <th>12</th>\n",
       "      <td>Single's Day Gift Promo</td>\n",
       "      <td>APAC</td>\n",
       "      <td>2020-11-11</td>\n",
       "      <td>2020-11-12</td>\n",
       "    </tr>\n",
       "    <tr>\n",
       "      <th>5</th>\n",
       "      <td>Black Friday Ads Campaign</td>\n",
       "      <td>EU, CIS, APAC, N.America</td>\n",
       "      <td>2020-11-26</td>\n",
       "      <td>2020-12-01</td>\n",
       "    </tr>\n",
       "    <tr>\n",
       "      <th>0</th>\n",
       "      <td>Christmas&amp;New Year Promo</td>\n",
       "      <td>EU, N.America</td>\n",
       "      <td>2020-12-25</td>\n",
       "      <td>2021-01-03</td>\n",
       "    </tr>\n",
       "    <tr>\n",
       "      <th>10</th>\n",
       "      <td>CIS New Year Gift Lottery</td>\n",
       "      <td>CIS</td>\n",
       "      <td>2020-12-30</td>\n",
       "      <td>2021-01-07</td>\n",
       "    </tr>\n",
       "  </tbody>\n",
       "</table>\n",
       "</div>"
      ],
      "text/plain": [
       "                                name                   regions   start_dt  \\\n",
       "6             Chinese New Year Promo                      APAC 2020-01-25   \n",
       "1       St. Valentine's Day Giveaway  EU, CIS, APAC, N.America 2020-02-14   \n",
       "8    International Women's Day Promo             EU, CIS, APAC 2020-03-08   \n",
       "2             St. Patric's Day Promo             EU, N.America 2020-03-17   \n",
       "3                       Easter Promo  EU, CIS, APAC, N.America 2020-04-12   \n",
       "7   Labor day (May 1st) Ads Campaign             EU, CIS, APAC 2020-05-01   \n",
       "9    Victory Day CIS (May 9th) Event                       CIS 2020-05-09   \n",
       "11     Dragon Boat Festival Giveaway                      APAC 2020-06-25   \n",
       "4                  4th of July Promo                 N.America 2020-07-04   \n",
       "13             Chinese Moon Festival                      APAC 2020-10-01   \n",
       "12           Single's Day Gift Promo                      APAC 2020-11-11   \n",
       "5          Black Friday Ads Campaign  EU, CIS, APAC, N.America 2020-11-26   \n",
       "0           Christmas&New Year Promo             EU, N.America 2020-12-25   \n",
       "10         CIS New Year Gift Lottery                       CIS 2020-12-30   \n",
       "\n",
       "    finish_dt  \n",
       "6  2020-02-07  \n",
       "1  2020-02-16  \n",
       "8  2020-03-10  \n",
       "2  2020-03-19  \n",
       "3  2020-04-19  \n",
       "7  2020-05-03  \n",
       "9  2020-05-11  \n",
       "11 2020-07-01  \n",
       "4  2020-07-11  \n",
       "13 2020-10-07  \n",
       "12 2020-11-12  \n",
       "5  2020-12-01  \n",
       "0  2021-01-03  \n",
       "10 2021-01-07  "
      ]
     },
     "execution_count": 33,
     "metadata": {},
     "output_type": "execute_result"
    }
   ],
   "source": [
    "marketing_events.sort_values(by=['start_dt', 'finish_dt'])"
   ]
  },
  {
   "cell_type": "markdown",
   "id": "021708a6",
   "metadata": {},
   "source": [
    "По времени и аудитории наш тест пересекается с маркетинговой активностью Christmas&New Year Promo:"
   ]
  },
  {
   "cell_type": "code",
   "execution_count": 34,
   "id": "a3b009d1",
   "metadata": {},
   "outputs": [
    {
     "data": {
      "text/plain": [
       "name         Christmas&New Year Promo\n",
       "regions                 EU, N.America\n",
       "start_dt          2020-12-25 00:00:00\n",
       "finish_dt         2021-01-03 00:00:00\n",
       "Name: 0, dtype: object"
      ]
     },
     "execution_count": 34,
     "metadata": {},
     "output_type": "execute_result"
    }
   ],
   "source": [
    "marketing_events.loc[0]"
   ]
  },
  {
   "cell_type": "markdown",
   "id": "fdb72c36",
   "metadata": {},
   "source": [
    "Посмотрим, какая доля пользователей совершила хотя бы одно действие во время этой маркетинговой активности:"
   ]
  },
  {
   "cell_type": "code",
   "execution_count": 35,
   "id": "418b3d20",
   "metadata": {},
   "outputs": [
    {
     "name": "stdout",
     "output_type": "stream",
     "text": [
      "Christmas&New Year Promo:\n"
     ]
    },
    {
     "data": {
      "text/html": [
       "<div>\n",
       "<style scoped>\n",
       "    .dataframe tbody tr th:only-of-type {\n",
       "        vertical-align: middle;\n",
       "    }\n",
       "\n",
       "    .dataframe tbody tr th {\n",
       "        vertical-align: top;\n",
       "    }\n",
       "\n",
       "    .dataframe thead th {\n",
       "        text-align: right;\n",
       "    }\n",
       "</style>\n",
       "<table border=\"1\" class=\"dataframe\">\n",
       "  <thead>\n",
       "    <tr style=\"text-align: right;\">\n",
       "      <th></th>\n",
       "      <th>n_users</th>\n",
       "    </tr>\n",
       "    <tr>\n",
       "      <th>ab_test</th>\n",
       "      <th></th>\n",
       "    </tr>\n",
       "  </thead>\n",
       "  <tbody>\n",
       "    <tr>\n",
       "      <th>interface_eu_test</th>\n",
       "      <td>4065</td>\n",
       "    </tr>\n",
       "    <tr>\n",
       "      <th>recommender_system_test</th>\n",
       "      <td>1220</td>\n",
       "    </tr>\n",
       "  </tbody>\n",
       "</table>\n",
       "</div>"
      ],
      "text/plain": [
       "                         n_users\n",
       "ab_test                         \n",
       "interface_eu_test           4065\n",
       "recommender_system_test     1220"
      ]
     },
     "metadata": {},
     "output_type": "display_data"
    },
    {
     "name": "stdout",
     "output_type": "stream",
     "text": [
      "\n"
     ]
    }
   ],
   "source": [
    "marketing_event = marketing_events.loc[0]\n",
    "marketing_regions = marketing_event['regions'].split(', ')\n",
    "users_in_regions = users[users['region'].isin(marketing_regions)]\n",
    "users_affected_by_marketing_event = (\n",
    "    user_events.loc[\n",
    "        user_events['event_dt'].between(\n",
    "            marketing_event['start_dt'], marketing_event['finish_dt'], inclusive='left'\n",
    "        ),\n",
    "        ['user_id']\n",
    "    ]\n",
    "    .merge(users_in_regions['user_id'], on='user_id')\n",
    "    .merge(participants, on='user_id')\n",
    "    .groupby('ab_test')\n",
    "    .agg({'user_id': 'nunique'})\n",
    "    .rename(columns={'user_id': 'n_users'})\n",
    ")\n",
    "marketing_name = marketing_event['name']\n",
    "print(f'{marketing_name}:')\n",
    "if not users_affected_by_marketing_event.empty:\n",
    "    display(users_affected_by_marketing_event)\n",
    "else:\n",
    "    print('ни один пользователь не совершил хотя бы одно действие')\n",
    "print()"
   ]
  },
  {
   "cell_type": "code",
   "execution_count": 36,
   "id": "46319a4b",
   "metadata": {},
   "outputs": [
    {
     "data": {
      "text/plain": [
       "0.33197278911564626"
      ]
     },
     "execution_count": 36,
     "metadata": {},
     "output_type": "execute_result"
    }
   ],
   "source": [
    "1220 / n_participants"
   ]
  },
  {
   "cell_type": "markdown",
   "id": "c6a665eb",
   "metadata": {},
   "source": [
    "Каждый третий пользователь совершил хотя бы одно действие во время маркетинговой активности Christmas&New Year Promo."
   ]
  },
  {
   "cell_type": "markdown",
   "id": "fe55f1fc",
   "metadata": {},
   "source": [
    "* отсутствие пробелов в событиях пользователей\n",
    "\n",
    "Например, если пользователь совершил покупку, у него обязательно должны быть события просмотра карточки и корзины."
   ]
  },
  {
   "cell_type": "code",
   "execution_count": 37,
   "id": "43938c5f",
   "metadata": {},
   "outputs": [
    {
     "data": {
      "text/html": [
       "<div>\n",
       "<style scoped>\n",
       "    .dataframe tbody tr th:only-of-type {\n",
       "        vertical-align: middle;\n",
       "    }\n",
       "\n",
       "    .dataframe tbody tr th {\n",
       "        vertical-align: top;\n",
       "    }\n",
       "\n",
       "    .dataframe thead th {\n",
       "        text-align: right;\n",
       "    }\n",
       "</style>\n",
       "<table border=\"1\" class=\"dataframe\">\n",
       "  <thead>\n",
       "    <tr style=\"text-align: right;\">\n",
       "      <th></th>\n",
       "      <th>event_name</th>\n",
       "      <th>login</th>\n",
       "      <th>product_cart</th>\n",
       "      <th>product_page</th>\n",
       "      <th>purchase</th>\n",
       "    </tr>\n",
       "    <tr>\n",
       "      <th>group</th>\n",
       "      <th>user_id</th>\n",
       "      <th></th>\n",
       "      <th></th>\n",
       "      <th></th>\n",
       "      <th></th>\n",
       "    </tr>\n",
       "  </thead>\n",
       "  <tbody>\n",
       "    <tr>\n",
       "      <th rowspan=\"5\" valign=\"top\">A</th>\n",
       "      <th>0010A1C096941592</th>\n",
       "      <td>4.0</td>\n",
       "      <td>0.0</td>\n",
       "      <td>4.0</td>\n",
       "      <td>4.0</td>\n",
       "    </tr>\n",
       "    <tr>\n",
       "      <th>00341D8401F0F665</th>\n",
       "      <td>2.0</td>\n",
       "      <td>0.0</td>\n",
       "      <td>0.0</td>\n",
       "      <td>0.0</td>\n",
       "    </tr>\n",
       "    <tr>\n",
       "      <th>003DF44D7589BBD4</th>\n",
       "      <td>5.0</td>\n",
       "      <td>5.0</td>\n",
       "      <td>5.0</td>\n",
       "      <td>0.0</td>\n",
       "    </tr>\n",
       "    <tr>\n",
       "      <th>00505E15A9D81546</th>\n",
       "      <td>5.0</td>\n",
       "      <td>0.0</td>\n",
       "      <td>0.0</td>\n",
       "      <td>0.0</td>\n",
       "    </tr>\n",
       "    <tr>\n",
       "      <th>006E3E4E232CE760</th>\n",
       "      <td>3.0</td>\n",
       "      <td>0.0</td>\n",
       "      <td>3.0</td>\n",
       "      <td>0.0</td>\n",
       "    </tr>\n",
       "    <tr>\n",
       "      <th>...</th>\n",
       "      <th>...</th>\n",
       "      <td>...</td>\n",
       "      <td>...</td>\n",
       "      <td>...</td>\n",
       "      <td>...</td>\n",
       "    </tr>\n",
       "    <tr>\n",
       "      <th rowspan=\"5\" valign=\"top\">B</th>\n",
       "      <th>FE76759FE6BF8C68</th>\n",
       "      <td>5.0</td>\n",
       "      <td>5.0</td>\n",
       "      <td>5.0</td>\n",
       "      <td>5.0</td>\n",
       "    </tr>\n",
       "    <tr>\n",
       "      <th>FE8F9858BBE502D9</th>\n",
       "      <td>1.0</td>\n",
       "      <td>1.0</td>\n",
       "      <td>0.0</td>\n",
       "      <td>0.0</td>\n",
       "    </tr>\n",
       "    <tr>\n",
       "      <th>FEA0C585A53E7027</th>\n",
       "      <td>1.0</td>\n",
       "      <td>1.0</td>\n",
       "      <td>1.0</td>\n",
       "      <td>0.0</td>\n",
       "    </tr>\n",
       "    <tr>\n",
       "      <th>FF8CF7057415EB29</th>\n",
       "      <td>2.0</td>\n",
       "      <td>0.0</td>\n",
       "      <td>2.0</td>\n",
       "      <td>0.0</td>\n",
       "    </tr>\n",
       "    <tr>\n",
       "      <th>FFF28D02B1EACBE1</th>\n",
       "      <td>3.0</td>\n",
       "      <td>3.0</td>\n",
       "      <td>3.0</td>\n",
       "      <td>0.0</td>\n",
       "    </tr>\n",
       "  </tbody>\n",
       "</table>\n",
       "<p>3675 rows × 4 columns</p>\n",
       "</div>"
      ],
      "text/plain": [
       "event_name              login  product_cart  product_page  purchase\n",
       "group user_id                                                      \n",
       "A     0010A1C096941592    4.0           0.0           4.0       4.0\n",
       "      00341D8401F0F665    2.0           0.0           0.0       0.0\n",
       "      003DF44D7589BBD4    5.0           5.0           5.0       0.0\n",
       "      00505E15A9D81546    5.0           0.0           0.0       0.0\n",
       "      006E3E4E232CE760    3.0           0.0           3.0       0.0\n",
       "...                       ...           ...           ...       ...\n",
       "B     FE76759FE6BF8C68    5.0           5.0           5.0       5.0\n",
       "      FE8F9858BBE502D9    1.0           1.0           0.0       0.0\n",
       "      FEA0C585A53E7027    1.0           1.0           1.0       0.0\n",
       "      FF8CF7057415EB29    2.0           0.0           2.0       0.0\n",
       "      FFF28D02B1EACBE1    3.0           3.0           3.0       0.0\n",
       "\n",
       "[3675 rows x 4 columns]"
      ]
     },
     "execution_count": 37,
     "metadata": {},
     "output_type": "execute_result"
    }
   ],
   "source": [
    "rs_users = (\n",
    "    participants.loc[participants['ab_test'] == 'recommender_system_test', ['user_id', 'group']]\n",
    "    .merge(user_events, on='user_id')\n",
    ")\n",
    "\n",
    "events_count_by_user = (\n",
    "    pd.pivot_table(\n",
    "        data=rs_users, \n",
    "        index=['group', 'user_id'], \n",
    "        columns='event_name', \n",
    "        values='event_dt', \n",
    "        aggfunc='count'\n",
    "    ).fillna(0)\n",
    ")\n",
    "\n",
    "events_count_by_user"
   ]
  },
  {
   "cell_type": "markdown",
   "id": "a9c31241",
   "metadata": {},
   "source": [
    "Уже на этой таблице видны пропуски событий. Например, у первого пользователя отсуствует событи просмотра корзины, хотя он совершил 4 покупки.\n",
    "\n",
    "Посчитаем, сколько таких несостыковок по событиям:"
   ]
  },
  {
   "cell_type": "code",
   "execution_count": 38,
   "id": "a8fda3ae",
   "metadata": {},
   "outputs": [
    {
     "data": {
      "text/html": [
       "<div>\n",
       "<style scoped>\n",
       "    .dataframe tbody tr th:only-of-type {\n",
       "        vertical-align: middle;\n",
       "    }\n",
       "\n",
       "    .dataframe tbody tr th {\n",
       "        vertical-align: top;\n",
       "    }\n",
       "\n",
       "    .dataframe thead th {\n",
       "        text-align: right;\n",
       "    }\n",
       "</style>\n",
       "<table border=\"1\" class=\"dataframe\">\n",
       "  <thead>\n",
       "    <tr style=\"text-align: right;\">\n",
       "      <th></th>\n",
       "      <th>wrong_difference</th>\n",
       "      <th>events_count</th>\n",
       "      <th>events_pct</th>\n",
       "    </tr>\n",
       "  </thead>\n",
       "  <tbody>\n",
       "    <tr>\n",
       "      <th>0</th>\n",
       "      <td>login &lt; product_page</td>\n",
       "      <td>0</td>\n",
       "      <td>0.0</td>\n",
       "    </tr>\n",
       "    <tr>\n",
       "      <th>1</th>\n",
       "      <td>product_page &lt; product_cart</td>\n",
       "      <td>394</td>\n",
       "      <td>0.015953</td>\n",
       "    </tr>\n",
       "    <tr>\n",
       "      <th>2</th>\n",
       "      <td>product_cart &lt; purchase</td>\n",
       "      <td>787</td>\n",
       "      <td>0.031865</td>\n",
       "    </tr>\n",
       "  </tbody>\n",
       "</table>\n",
       "</div>"
      ],
      "text/plain": [
       "              wrong_difference events_count events_pct\n",
       "0         login < product_page            0        0.0\n",
       "1  product_page < product_cart          394   0.015953\n",
       "2      product_cart < purchase          787   0.031865"
      ]
     },
     "execution_count": 38,
     "metadata": {},
     "output_type": "execute_result"
    }
   ],
   "source": [
    "missed_events = pd.DataFrame(columns=['wrong_difference', 'events_count'])\n",
    "events_order = ['login', 'product_page', 'product_cart', 'purchase']\n",
    "\n",
    "for i in range(len(events_order) - 1):\n",
    "    wrong_difference = events_order[i] + ' < ' + events_order[i + 1]\n",
    "    events_count = sum(events_count_by_user[events_order[i]] < events_count_by_user[events_order[i + 1]])\n",
    "    missed_events = missed_events.append(\n",
    "        {'wrong_difference': wrong_difference, 'events_count': events_count}, \n",
    "        ignore_index=True\n",
    "    )\n",
    "    \n",
    "missed_events['events_pct'] = missed_events['events_count'] / len(rs_users)\n",
    "\n",
    "missed_events"
   ]
  },
  {
   "cell_type": "markdown",
   "id": "c169b66b",
   "metadata": {},
   "source": [
    "Пропусков событий немного."
   ]
  },
  {
   "cell_type": "markdown",
   "id": "05f87c88",
   "metadata": {},
   "source": [
    "<br>"
   ]
  },
  {
   "cell_type": "markdown",
   "id": "59cee526",
   "metadata": {},
   "source": [
    "Теперь решим, что делать с ошибками в требованиях ТЗ и условиях правильного проведения A/B-теста, которые можно скорректировать."
   ]
  },
  {
   "cell_type": "code",
   "execution_count": 39,
   "id": "41f7ca99",
   "metadata": {},
   "outputs": [],
   "source": [
    "df = (\n",
    "    participants.loc[participants['ab_test'] == 'recommender_system_test', ['user_id', 'group']]\n",
    "    .merge(users[['user_id', 'first_date', 'region']], on='user_id')\n",
    "    .merge(user_events[['user_id', 'event_dt', 'event_name']], on='user_id')\n",
    ")"
   ]
  },
  {
   "cell_type": "markdown",
   "id": "8876ff56",
   "metadata": {},
   "source": [
    "* аудитория теста не состоит полностью из пользователей региона EU\n",
    "\n",
    "* наличие пользователей, участвующих в конкурирующих тестах\n",
    "\n",
    "* наличие пользователей, совершивших хотя бы одно действие во время маркетинговой активности Christmas&New Year Promo"
   ]
  },
  {
   "cell_type": "code",
   "execution_count": 40,
   "id": "f6c3510b",
   "metadata": {},
   "outputs": [
    {
     "name": "stdout",
     "output_type": "stream",
     "text": [
      "Распределение пользователей по региону:\n"
     ]
    },
    {
     "data": {
      "text/plain": [
       "EU           0.947211\n",
       "N.America    0.032381\n",
       "APAC         0.012245\n",
       "CIS          0.008163\n",
       "Name: region, dtype: float64"
      ]
     },
     "execution_count": 40,
     "metadata": {},
     "output_type": "execute_result"
    }
   ],
   "source": [
    "print('Распределение пользователей по региону:')\n",
    "df[['user_id', 'region']].drop_duplicates()['region'].value_counts(normalize=True)"
   ]
  },
  {
   "cell_type": "code",
   "execution_count": 41,
   "id": "81ad7e8a",
   "metadata": {},
   "outputs": [
    {
     "name": "stdout",
     "output_type": "stream",
     "text": [
      "Доля пользователей, участвующих в нашем тесте и группе B из теста по изменению интерфейса: 0.117\n"
     ]
    }
   ],
   "source": [
    "were_in_rs_test_and_i_eu_group_B_pct = df.loc[df['user_id'].isin(set(rs) & set(i_eu_group_B)), 'user_id'].nunique() \\\n",
    "/ df['user_id'].nunique()\n",
    "\n",
    "print(\n",
    "    'Доля пользователей, участвующих в нашем тесте и группе B из теста по изменению интерфейса:', \n",
    "    f'{were_in_rs_test_and_i_eu_group_B_pct:.3f}'\n",
    ")"
   ]
  },
  {
   "cell_type": "code",
   "execution_count": 42,
   "id": "b2840e68",
   "metadata": {},
   "outputs": [
    {
     "name": "stdout",
     "output_type": "stream",
     "text": [
      "Доля пользователей, сделавших хотя бы одно действие во время маркетинговой активности Christmas&New Year Promo:\n",
      "0.34\n"
     ]
    }
   ],
   "source": [
    "had_events_during_marketing_event = df.loc[df['event_dt'] >= pd.to_datetime('2020-12-25'), 'user_id'].unique()\n",
    "had_events_during_marketing_event_pct = len(had_events_during_marketing_event) / df['user_id'].nunique()\n",
    "\n",
    "print(\n",
    "    'Доля пользователей, сделавших хотя бы одно действие во время маркетинговой активности Christmas&New Year Promo:', \n",
    "    f'{had_events_during_marketing_event_pct:.2f}',\n",
    "    sep='\\n'\n",
    ")"
   ]
  },
  {
   "cell_type": "code",
   "execution_count": 43,
   "id": "781fe3cd",
   "metadata": {},
   "outputs": [
    {
     "name": "stdout",
     "output_type": "stream",
     "text": [
      "Доля пользователей, попавших под влияние маркетинговой кампании:\n"
     ]
    },
    {
     "data": {
      "text/plain": [
       "group\n",
       "A    0.365854\n",
       "B    0.256466\n",
       "dtype: float64"
      ]
     },
     "execution_count": 43,
     "metadata": {},
     "output_type": "execute_result"
    }
   ],
   "source": [
    "print('Доля пользователей, попавших под влияние маркетинговой кампании:')\n",
    "df.groupby('group').apply(lambda x: x.loc[x['event_dt'] >= pd.to_datetime('2020-12-25'), 'user_id'].nunique()) \\\n",
    "/ df.groupby('group')['user_id'].nunique()"
   ]
  },
  {
   "cell_type": "markdown",
   "id": "d98bb2b2",
   "metadata": {},
   "source": [
    "Допустимо оставить пользователей только из региона EU и удалить пользователей, принявших участие в конкурирующих тестах, так как тогда выборка несильно уменьшится. Пользователей, попавших под воздействие маркетинговой кампании, около трети выборки. Перед нами выбор меньшего из двух зол: сильно сократить выборку или оставить влияние маркетинговой кампании. Поскольку размер выборку изначально меньше указанного в ТЗ и было решено удалить других пользователей, этих оставим."
   ]
  },
  {
   "cell_type": "code",
   "execution_count": 44,
   "id": "099b3d39",
   "metadata": {},
   "outputs": [],
   "source": [
    "df = df[(df['region'] == 'EU') & (~df['user_id'].isin(set(rs) & set(i_eu_group_B)))]"
   ]
  },
  {
   "cell_type": "markdown",
   "id": "8649956c",
   "metadata": {},
   "source": [
    "* пропуски логов событий\n",
    "\n",
    "Заполним пропуски на текущем этапе следующим первым непропущенным значением"
   ]
  },
  {
   "cell_type": "code",
   "execution_count": 45,
   "id": "311eb8f6",
   "metadata": {},
   "outputs": [],
   "source": [
    "events_count_by_user.columns.names = [None]\n",
    "events_count_by_user.columns = events_order\n",
    "events_count_by_user.reset_index(inplace=True)\n",
    "\n",
    "events_count_by_user = events_count_by_user.fillna(method='bfill', axis=1).fillna(0)"
   ]
  },
  {
   "cell_type": "markdown",
   "id": "64062cbe",
   "metadata": {},
   "source": [
    "<br>"
   ]
  },
  {
   "cell_type": "markdown",
   "id": "1b1174da",
   "metadata": {},
   "source": [
    "По ТЗ эффект нужно измерять за 14 дней с момента регистрации, поэтому стоит удалить все события, которые произошли позднее 14 дня с момента регистрации."
   ]
  },
  {
   "cell_type": "code",
   "execution_count": 46,
   "id": "525e5f85",
   "metadata": {},
   "outputs": [
    {
     "name": "stdout",
     "output_type": "stream",
     "text": [
      "Доля событий через 14 дней после регистрации: 0.035\n"
     ]
    }
   ],
   "source": [
    "events_after_14_days = sum(df['event_dt'] - df['first_date'] >= timedelta(days=14)) / len(df)\n",
    "\n",
    "print(f'Доля событий через 14 дней после регистрации: {events_after_14_days:.3f}')"
   ]
  },
  {
   "cell_type": "code",
   "execution_count": 47,
   "id": "52e14037",
   "metadata": {},
   "outputs": [],
   "source": [
    "df = df[df['event_dt'] - df['first_date'] < timedelta(days=14)]"
   ]
  },
  {
   "cell_type": "markdown",
   "id": "467b292b",
   "metadata": {},
   "source": [
    "<br>"
   ]
  },
  {
   "cell_type": "code",
   "execution_count": 48,
   "id": "221c047f",
   "metadata": {},
   "outputs": [
    {
     "name": "stdout",
     "output_type": "stream",
     "text": [
      "Доля оставшихся пользователей после предобработки: 0.83\n"
     ]
    }
   ],
   "source": [
    "n_users = df['user_id'].nunique()\n",
    "print(f'Доля оставшихся пользователей после предобработки: {n_users/3675:.2f}')"
   ]
  },
  {
   "cell_type": "markdown",
   "id": "b6c44783",
   "metadata": {},
   "source": [
    "## Исследовательский анализ данных <a id='EDA'></a>"
   ]
  },
  {
   "cell_type": "markdown",
   "id": "701dd7ab",
   "metadata": {},
   "source": [
    "###  Кол-во событий на пользователя"
   ]
  },
  {
   "cell_type": "code",
   "execution_count": 49,
   "id": "387d2e88",
   "metadata": {},
   "outputs": [],
   "source": [
    "events_count_by_user['total_events'] = events_count_by_user[events_order].sum(axis=1)"
   ]
  },
  {
   "cell_type": "code",
   "execution_count": 50,
   "id": "848530dc",
   "metadata": {},
   "outputs": [
    {
     "data": {
      "image/png": "[encoded data removed]",
      "text/plain": [
       "<Figure size 720x360 with 1 Axes>"
      ]
     },
     "metadata": {},
     "output_type": "display_data"
    }
   ],
   "source": [
    "plt.figure(figsize=(10, 5))\n",
    "sns.histplot(data=events_count_by_user, x='total_events', hue='group', discrete=True, kde=True)\n",
    "plt.title('Кол-во событий на пользователя');"
   ]
  },
  {
   "cell_type": "markdown",
   "id": "e378178d",
   "metadata": {},
   "source": [
    "Количество событий на пользователя распределено примерно одинаково по группам."
   ]
  },
  {
   "cell_type": "markdown",
   "id": "c568478b",
   "metadata": {},
   "source": [
    "### Кол-во событий по дням"
   ]
  },
  {
   "cell_type": "code",
   "execution_count": 51,
   "id": "75bec3fc",
   "metadata": {},
   "outputs": [],
   "source": [
    "df['event_date'] = df['event_dt'].dt.date\n",
    "\n",
    "events_count_by_date_and_group = (\n",
    "    df.groupby(['group', 'event_date'], as_index=False)\n",
    "    .agg({'event_name': 'count'})\n",
    "    .rename(columns={'event_name': 'total_events'})\n",
    ")"
   ]
  },
  {
   "cell_type": "code",
   "execution_count": 52,
   "id": "cad2a221",
   "metadata": {},
   "outputs": [
    {
     "data": {
      "image/png": "[encoded data removed]",
      "text/plain": [
       "<Figure size 720x360 with 1 Axes>"
      ]
     },
     "metadata": {},
     "output_type": "display_data"
    }
   ],
   "source": [
    "plt.figure(figsize=(10, 5))\n",
    "sns.lineplot(data=events_count_by_date_and_group, x='event_date', y='total_events', hue='group')\n",
    "plt.title('Кол-во событий по дням');"
   ]
  },
  {
   "cell_type": "markdown",
   "id": "82be6e85",
   "metadata": {},
   "source": [
    "14 декабря произошел аномальный скачок числа событий у группы A."
   ]
  },
  {
   "cell_type": "code",
   "execution_count": 53,
   "id": "4513c689",
   "metadata": {},
   "outputs": [],
   "source": [
    "users_without_events_by_date = (\n",
    "    users[~users['user_id'].isin(df['user_id'].unique())]\n",
    "    .merge(participants[participants['ab_test'] == 'recommender_system_test'], on='user_id')\n",
    "    .groupby(['first_date', 'group'], as_index=False)\n",
    "    .agg({'user_id': 'count'})\n",
    "    .rename(columns={'user_id': 'n_users'})\n",
    ")"
   ]
  },
  {
   "cell_type": "code",
   "execution_count": 54,
   "id": "129c5216",
   "metadata": {},
   "outputs": [
    {
     "data": {
      "image/png": "[encoded data removed]",
      "text/plain": [
       "<Figure size 720x360 with 1 Axes>"
      ]
     },
     "metadata": {},
     "output_type": "display_data"
    }
   ],
   "source": [
    "plt.figure(figsize=(10, 5))\n",
    "sns.lineplot(data=users_without_events_by_date, x='first_date', y='n_users', hue='group')\n",
    "plt.xticks(rotation=30)\n",
    "plt.title('Кол-во пользователей без событий по дате регистрации');"
   ]
  },
  {
   "cell_type": "markdown",
   "id": "8f629023",
   "metadata": {},
   "source": [
    "По каждой дате регистрации есть пользователи без событий. Скорее всего был баг из-за которого события не учитывались. 14 декабря число пользователей без событий резко снизилось в группе A (как раз когда у нас аномально увеличилось количество событий у группы A). Скорее всего баг поправили, но только у группы A."
   ]
  },
  {
   "cell_type": "markdown",
   "id": "00f50793",
   "metadata": {},
   "source": [
    "### Конверсия"
   ]
  },
  {
   "cell_type": "code",
   "execution_count": 55,
   "id": "a382f234",
   "metadata": {},
   "outputs": [
    {
     "data": {
      "text/html": [
       "<div>\n",
       "<style scoped>\n",
       "    .dataframe tbody tr th:only-of-type {\n",
       "        vertical-align: middle;\n",
       "    }\n",
       "\n",
       "    .dataframe tbody tr th {\n",
       "        vertical-align: top;\n",
       "    }\n",
       "\n",
       "    .dataframe thead th {\n",
       "        text-align: right;\n",
       "    }\n",
       "</style>\n",
       "<table border=\"1\" class=\"dataframe\">\n",
       "  <thead>\n",
       "    <tr style=\"text-align: right;\">\n",
       "      <th></th>\n",
       "      <th>group</th>\n",
       "      <th>event_date</th>\n",
       "      <th>login</th>\n",
       "      <th>product_page</th>\n",
       "      <th>product_cart</th>\n",
       "      <th>purchase</th>\n",
       "      <th>n</th>\n",
       "    </tr>\n",
       "  </thead>\n",
       "  <tbody>\n",
       "    <tr>\n",
       "      <th>0</th>\n",
       "      <td>A</td>\n",
       "      <td>2020-12-07</td>\n",
       "      <td>1.0</td>\n",
       "      <td>0.786885</td>\n",
       "      <td>0.467213</td>\n",
       "      <td>0.278689</td>\n",
       "      <td>122.0</td>\n",
       "    </tr>\n",
       "    <tr>\n",
       "      <th>1</th>\n",
       "      <td>A</td>\n",
       "      <td>2020-12-08</td>\n",
       "      <td>1.0</td>\n",
       "      <td>0.815686</td>\n",
       "      <td>0.443137</td>\n",
       "      <td>0.247059</td>\n",
       "      <td>255.0</td>\n",
       "    </tr>\n",
       "    <tr>\n",
       "      <th>2</th>\n",
       "      <td>A</td>\n",
       "      <td>2020-12-09</td>\n",
       "      <td>1.0</td>\n",
       "      <td>0.812346</td>\n",
       "      <td>0.464198</td>\n",
       "      <td>0.261728</td>\n",
       "      <td>405.0</td>\n",
       "    </tr>\n",
       "    <tr>\n",
       "      <th>3</th>\n",
       "      <td>A</td>\n",
       "      <td>2020-12-10</td>\n",
       "      <td>1.0</td>\n",
       "      <td>0.800370</td>\n",
       "      <td>0.473198</td>\n",
       "      <td>0.266174</td>\n",
       "      <td>541.0</td>\n",
       "    </tr>\n",
       "    <tr>\n",
       "      <th>4</th>\n",
       "      <td>A</td>\n",
       "      <td>2020-12-11</td>\n",
       "      <td>1.0</td>\n",
       "      <td>0.791908</td>\n",
       "      <td>0.468208</td>\n",
       "      <td>0.260116</td>\n",
       "      <td>692.0</td>\n",
       "    </tr>\n",
       "  </tbody>\n",
       "</table>\n",
       "</div>"
      ],
      "text/plain": [
       "  group  event_date  login  product_page  product_cart  purchase      n\n",
       "0     A  2020-12-07    1.0      0.786885      0.467213  0.278689  122.0\n",
       "1     A  2020-12-08    1.0      0.815686      0.443137  0.247059  255.0\n",
       "2     A  2020-12-09    1.0      0.812346      0.464198  0.261728  405.0\n",
       "3     A  2020-12-10    1.0      0.800370      0.473198  0.266174  541.0\n",
       "4     A  2020-12-11    1.0      0.791908      0.468208  0.260116  692.0"
      ]
     },
     "metadata": {},
     "output_type": "display_data"
    },
    {
     "data": {
      "text/html": [
       "<div>\n",
       "<style scoped>\n",
       "    .dataframe tbody tr th:only-of-type {\n",
       "        vertical-align: middle;\n",
       "    }\n",
       "\n",
       "    .dataframe tbody tr th {\n",
       "        vertical-align: top;\n",
       "    }\n",
       "\n",
       "    .dataframe thead th {\n",
       "        text-align: right;\n",
       "    }\n",
       "</style>\n",
       "<table border=\"1\" class=\"dataframe\">\n",
       "  <thead>\n",
       "    <tr style=\"text-align: right;\">\n",
       "      <th></th>\n",
       "      <th>group</th>\n",
       "      <th>event_date</th>\n",
       "      <th>name</th>\n",
       "      <th>conversion</th>\n",
       "    </tr>\n",
       "  </thead>\n",
       "  <tbody>\n",
       "    <tr>\n",
       "      <th>0</th>\n",
       "      <td>A</td>\n",
       "      <td>2020-12-07</td>\n",
       "      <td>product_page</td>\n",
       "      <td>0.786885</td>\n",
       "    </tr>\n",
       "    <tr>\n",
       "      <th>1</th>\n",
       "      <td>A</td>\n",
       "      <td>2020-12-08</td>\n",
       "      <td>product_page</td>\n",
       "      <td>0.815686</td>\n",
       "    </tr>\n",
       "    <tr>\n",
       "      <th>2</th>\n",
       "      <td>A</td>\n",
       "      <td>2020-12-09</td>\n",
       "      <td>product_page</td>\n",
       "      <td>0.812346</td>\n",
       "    </tr>\n",
       "    <tr>\n",
       "      <th>3</th>\n",
       "      <td>A</td>\n",
       "      <td>2020-12-10</td>\n",
       "      <td>product_page</td>\n",
       "      <td>0.800370</td>\n",
       "    </tr>\n",
       "    <tr>\n",
       "      <th>4</th>\n",
       "      <td>A</td>\n",
       "      <td>2020-12-11</td>\n",
       "      <td>product_page</td>\n",
       "      <td>0.791908</td>\n",
       "    </tr>\n",
       "  </tbody>\n",
       "</table>\n",
       "</div>"
      ],
      "text/plain": [
       "  group  event_date          name  conversion\n",
       "0     A  2020-12-07  product_page    0.786885\n",
       "1     A  2020-12-08  product_page    0.815686\n",
       "2     A  2020-12-09  product_page    0.812346\n",
       "3     A  2020-12-10  product_page    0.800370\n",
       "4     A  2020-12-11  product_page    0.791908"
      ]
     },
     "metadata": {},
     "output_type": "display_data"
    }
   ],
   "source": [
    "# подчсет количества типов событий у пользователей по дням\n",
    "events_count_by_user_and_date = pd.pivot_table(\n",
    "    data=df, \n",
    "    index=['group', 'event_date', 'user_id'], \n",
    "    columns='event_name', \n",
    "    values='event_dt', \n",
    "    aggfunc='count'\n",
    ")\n",
    "\n",
    "# заполнение пропусков в событиях\n",
    "events_count_by_user_and_date = events_count_by_user_and_date[events_order]\n",
    "events_count_by_user_and_date = events_count_by_user_and_date.fillna(method='bfill', axis=1).fillna(0)\n",
    "\n",
    "# подсчет количества событий по дням и группам\n",
    "events_count_by_user_and_date.columns.names = [None]\n",
    "events_count_by_user_and_date.reset_index(inplace=True)\n",
    "events_count_by_date = (\n",
    "    events_count_by_user_and_date.sort_values(by='event_date')\n",
    "    .groupby(['group', 'event_date'])[events_order].sum()\n",
    ")\n",
    "\n",
    "# подсчет кумулятивного количества событий по дням и группам\n",
    "cum_events_count_by_date = events_count_by_date.groupby('group').cumsum()\n",
    "cum_conversions_by_date_1 = cum_events_count_by_date.div(cum_events_count_by_date['login'], axis=0)\n",
    "cum_conversions_by_date_1['n'] = cum_events_count_by_date['login']\n",
    "cum_conversions_by_date_1.reset_index(inplace=True)\n",
    "\n",
    "cum_conversions_by_date_2 = pd.melt(\n",
    "    cum_conversions_by_date_1, \n",
    "    id_vars=['group', 'event_date'], value_vars=['product_page', 'product_cart', 'purchase'], \n",
    "    var_name='name', value_name='conversion'\n",
    ")\n",
    "\n",
    "display(cum_conversions_by_date_1.head())\n",
    "display(cum_conversions_by_date_2.head())"
   ]
  },
  {
   "cell_type": "code",
   "execution_count": 56,
   "id": "649aa963",
   "metadata": {},
   "outputs": [
    {
     "data": {
      "image/png": "[encoded data removed]",
      "text/plain": [
       "<Figure size 1338.12x504 with 2 Axes>"
      ]
     },
     "metadata": {},
     "output_type": "display_data"
    }
   ],
   "source": [
    "g = sns.FacetGrid(data=cum_conversions_by_date_2, col='group', sharex=True, height=7, aspect=1.2)\n",
    "g.map_dataframe(sns.lineplot, x='event_date', y='conversion', hue='name')\n",
    "g.add_legend()\n",
    "g.fig.suptitle('Изменение конверсий по группам');"
   ]
  },
  {
   "cell_type": "markdown",
   "id": "637f89e5",
   "metadata": {},
   "source": [
    "По всем этапам видно, что в первые дни конверсия больше у группы B, затем конверсия стабильно лучше в группе A."
   ]
  },
  {
   "cell_type": "code",
   "execution_count": 57,
   "id": "58b4ca20",
   "metadata": {},
   "outputs": [
    {
     "data": {
      "text/html": [
       "<div>\n",
       "<style scoped>\n",
       "    .dataframe tbody tr th:only-of-type {\n",
       "        vertical-align: middle;\n",
       "    }\n",
       "\n",
       "    .dataframe tbody tr th {\n",
       "        vertical-align: top;\n",
       "    }\n",
       "\n",
       "    .dataframe thead th {\n",
       "        text-align: right;\n",
       "    }\n",
       "</style>\n",
       "<table border=\"1\" class=\"dataframe\">\n",
       "  <thead>\n",
       "    <tr style=\"text-align: right;\">\n",
       "      <th></th>\n",
       "      <th>group</th>\n",
       "      <th>event_name</th>\n",
       "      <th>n_users</th>\n",
       "    </tr>\n",
       "  </thead>\n",
       "  <tbody>\n",
       "    <tr>\n",
       "      <th>0</th>\n",
       "      <td>A</td>\n",
       "      <td>login</td>\n",
       "      <td>2279</td>\n",
       "    </tr>\n",
       "    <tr>\n",
       "      <th>4</th>\n",
       "      <td>B</td>\n",
       "      <td>login</td>\n",
       "      <td>771</td>\n",
       "    </tr>\n",
       "    <tr>\n",
       "      <th>2</th>\n",
       "      <td>A</td>\n",
       "      <td>product_page</td>\n",
       "      <td>1863</td>\n",
       "    </tr>\n",
       "    <tr>\n",
       "      <th>6</th>\n",
       "      <td>B</td>\n",
       "      <td>product_page</td>\n",
       "      <td>583</td>\n",
       "    </tr>\n",
       "    <tr>\n",
       "      <th>1</th>\n",
       "      <td>A</td>\n",
       "      <td>product_cart</td>\n",
       "      <td>1186</td>\n",
       "    </tr>\n",
       "    <tr>\n",
       "      <th>5</th>\n",
       "      <td>B</td>\n",
       "      <td>product_cart</td>\n",
       "      <td>367</td>\n",
       "    </tr>\n",
       "    <tr>\n",
       "      <th>3</th>\n",
       "      <td>A</td>\n",
       "      <td>purchase</td>\n",
       "      <td>734</td>\n",
       "    </tr>\n",
       "    <tr>\n",
       "      <th>7</th>\n",
       "      <td>B</td>\n",
       "      <td>purchase</td>\n",
       "      <td>219</td>\n",
       "    </tr>\n",
       "  </tbody>\n",
       "</table>\n",
       "</div>"
      ],
      "text/plain": [
       "  group    event_name  n_users\n",
       "0     A         login     2279\n",
       "4     B         login      771\n",
       "2     A  product_page     1863\n",
       "6     B  product_page      583\n",
       "1     A  product_cart     1186\n",
       "5     B  product_cart      367\n",
       "3     A      purchase      734\n",
       "7     B      purchase      219"
      ]
     },
     "execution_count": 57,
     "metadata": {},
     "output_type": "execute_result"
    }
   ],
   "source": [
    "events_count_by_user = pd.melt(\n",
    "    frame=events_count_by_user_and_date, \n",
    "    id_vars=['group', 'user_id'],\n",
    "    value_vars=events_order,\n",
    "    var_name='event_name',\n",
    "    value_name='events_count'\n",
    ")\n",
    "events_count_by_user = events_count_by_user[events_count_by_user['events_count'] > 0]\n",
    "\n",
    "funnel = (\n",
    "    events_count_by_user\n",
    "    .groupby(['group', 'event_name'])\n",
    "    .agg({'user_id': 'nunique'})\n",
    "    .rename(columns={'user_id': 'n_users'})\n",
    "    .reset_index()\n",
    ")\n",
    "\n",
    "funnel = funnel.sort_values('event_name', key=lambda s: s.apply(events_order.index))\n",
    "\n",
    "funnel"
   ]
  },
  {
   "cell_type": "code",
   "execution_count": 58,
   "id": "da843676",
   "metadata": {},
   "outputs": [
    {
     "data": {
      "image/svg+xml": [
       "<svg class=\"main-svg\" xmlns=\"http://www.w3.org/2000/svg\" xmlns:xlink=\"http://www.w3.org/1999/xlink\" width=\"700\" height=\"500\" style=\"\" viewBox=\"0 0 700 500\"><rect x=\"0\" y=\"0\" width=\"700\" height=\"500\" style=\"fill: rgb(255, 255, 255); fill-opacity: 1;\"/><defs id=\"defs-17b100\"><g class=\"clips\"><clipPath id=\"clip17b100xyplot\" class=\"plotclip\"><rect width=\"524\" height=\"320\"/></clipPath><clipPath class=\"axesclip\" id=\"clip17b100x\"><rect x=\"96\" y=\"0\" width=\"524\" height=\"500\"/></clipPath><clipPath class=\"axesclip\" id=\"clip17b100y\"><rect x=\"0\" y=\"100\" width=\"700\" height=\"320\"/></clipPath><clipPath class=\"axesclip\" id=\"clip17b100xy\"><rect x=\"96\" y=\"100\" width=\"524\" height=\"320\"/></clipPath></g><g class=\"gradients\"/><g class=\"patterns\"/></defs><g class=\"bglayer\"><rect class=\"bg\" x=\"96\" y=\"100\" width=\"524\" height=\"320\" style=\"fill: rgb(229, 236, 246); fill-opacity: 1; stroke-width: 0;\"/></g><g class=\"layer-below\"><g class=\"imagelayer\"/><g class=\"shapelayer\"/></g><g class=\"cartesianlayer\"><g class=\"subplot xy\"><g class=\"layer-subplot\"><g class=\"shapelayer\"/><g class=\"imagelayer\"/></g><g class=\"gridlayer\"><g class=\"x\"/><g class=\"y\"/></g><g class=\"zerolinelayer\"/><path class=\"xlines-below\"/><path class=\"ylines-below\"/><g class=\"overlines-below\"/><g class=\"xaxislayer-below\"/><g class=\"yaxislayer-below\"/><g class=\"overaxes-below\"/><g class=\"plot\" transform=\"translate(96,100)\" clip-path=\"url(#clip17b100xyplot)\"><g class=\"funnellayer mlayer\"><g class=\"trace bars\" style=\"opacity: 1;\"><g class=\"regions\"><g class=\"region\"><path d=\"M26.2,72L72.9,88H360.96L378.59,72Z\" style=\"stroke-width: 0; fill: rgb(99, 110, 250); fill-opacity: 0.5;\"/></g><g class=\"region\"><path d=\"M72.9,152L141.94,168H325.32L360.96,152Z\" style=\"stroke-width: 0; fill: rgb(99, 110, 250); fill-opacity: 0.5;\"/></g><g class=\"region\"><path d=\"M141.94,232L188.32,248H301.82L325.32,232Z\" style=\"stroke-width: 0; fill: rgb(99, 110, 250); fill-opacity: 0.5;\"/></g><g class=\"region\"><path d=\"M0,0Z\" style=\"stroke-width: 0; fill: rgb(99, 110, 250); fill-opacity: 0.5;\"/></g></g><g class=\"points\"><g class=\"point\"><path d=\"M26.2,8V72H378.59V8Z\" style=\"vector-effect: non-scaling-stroke; fill: rgb(99, 110, 250); fill-opacity: 1; stroke: rgb(68, 68, 68); stroke-opacity: 1; stroke-width: 0px; opacity: 1;\"/><text class=\"bartext bartext-inside\" text-anchor=\"middle\" data-notex=\"1\" x=\"0\" y=\"0\" style=\"font-family: 'Open Sans', verdana, arial, sans-serif; font-size: 12px; fill: rgb(255, 255, 255); fill-opacity: 1; white-space: pre;\" transform=\"translate(202.39499999999998,36.9453125)\"><tspan class=\"line\" dy=\"0em\" x=\"0\" y=\"0\">2279</tspan><tspan class=\"line\" dy=\"1.3em\" x=\"0\" y=\"0\">100%</tspan></text></g><g class=\"point\"><path d=\"M72.9,88V152H360.96V88Z\" style=\"vector-effect: non-scaling-stroke; fill: rgb(99, 110, 250); fill-opacity: 1; stroke: rgb(68, 68, 68); stroke-opacity: 1; stroke-width: 0px; opacity: 1;\"/><text class=\"bartext bartext-inside\" text-anchor=\"middle\" data-notex=\"1\" x=\"0\" y=\"0\" style=\"font-family: 'Open Sans', verdana, arial, sans-serif; font-size: 12px; fill: rgb(255, 255, 255); fill-opacity: 1; white-space: pre;\" transform=\"translate(216.93,116.9453125)\"><tspan class=\"line\" dy=\"0em\" x=\"0\" y=\"0\">1863</tspan><tspan class=\"line\" dy=\"1.3em\" x=\"0\" y=\"0\">82%</tspan></text></g><g class=\"point\"><path d=\"M141.94,168V232H325.32V168Z\" style=\"vector-effect: non-scaling-stroke; fill: rgb(99, 110, 250); fill-opacity: 1; stroke: rgb(68, 68, 68); stroke-opacity: 1; stroke-width: 0px; opacity: 1;\"/><text class=\"bartext bartext-inside\" text-anchor=\"middle\" data-notex=\"1\" x=\"0\" y=\"0\" style=\"font-family: 'Open Sans', verdana, arial, sans-serif; font-size: 12px; fill: rgb(255, 255, 255); fill-opacity: 1; white-space: pre;\" transform=\"translate(233.63,196.9453125)\"><tspan class=\"line\" dy=\"0em\" x=\"0\" y=\"0\">1186</tspan><tspan class=\"line\" dy=\"1.3em\" x=\"0\" y=\"0\">52%</tspan></text></g><g class=\"point\"><path d=\"M188.32,248V312H301.82V248Z\" style=\"vector-effect: non-scaling-stroke; fill: rgb(99, 110, 250); fill-opacity: 1; stroke: rgb(68, 68, 68); stroke-opacity: 1; stroke-width: 0px; opacity: 1;\"/><text class=\"bartext bartext-inside\" text-anchor=\"middle\" data-notex=\"1\" x=\"0\" y=\"0\" style=\"font-family: 'Open Sans', verdana, arial, sans-serif; font-size: 12px; fill: rgb(255, 255, 255); fill-opacity: 1; white-space: pre;\" transform=\"translate(245.07,276.9453125)\"><tspan class=\"line\" dy=\"0em\" x=\"0\" y=\"0\">734</tspan><tspan class=\"line\" dy=\"1.3em\" x=\"0\" y=\"0\">32%</tspan></text></g></g></g><g class=\"trace bars\" style=\"opacity: 1;\"><g class=\"regions\"><g class=\"region\"><path d=\"M378.59,72L360.96,88H451.1L497.8,72Z\" style=\"stroke-width: 0; fill: rgb(239, 85, 59); fill-opacity: 0.5;\"/></g><g class=\"region\"><path d=\"M360.96,152L325.32,168H382.06L451.1,152Z\" style=\"stroke-width: 0; fill: rgb(239, 85, 59); fill-opacity: 0.5;\"/></g><g class=\"region\"><path d=\"M325.32,232L301.82,248H335.68L382.06,232Z\" style=\"stroke-width: 0; fill: rgb(239, 85, 59); fill-opacity: 0.5;\"/></g><g class=\"region\"><path d=\"M0,0Z\" style=\"stroke-width: 0; fill: rgb(239, 85, 59); fill-opacity: 0.5;\"/></g></g><g class=\"points\"><g class=\"point\"><path d=\"M378.59,8V72H497.8V8Z\" style=\"vector-effect: non-scaling-stroke; fill: rgb(239, 85, 59); fill-opacity: 1; stroke: rgb(68, 68, 68); stroke-opacity: 1; stroke-width: 0px; opacity: 1;\"/><text class=\"bartext bartext-inside\" text-anchor=\"middle\" data-notex=\"1\" x=\"0\" y=\"0\" style=\"font-family: 'Open Sans', verdana, arial, sans-serif; font-size: 12px; fill: rgb(68, 68, 68); fill-opacity: 1; white-space: pre;\" transform=\"translate(438.195,36.9453125)\"><tspan class=\"line\" dy=\"0em\" x=\"0\" y=\"0\">771</tspan><tspan class=\"line\" dy=\"1.3em\" x=\"0\" y=\"0\">100%</tspan></text></g><g class=\"point\"><path d=\"M360.96,88V152H451.1V88Z\" style=\"vector-effect: non-scaling-stroke; fill: rgb(239, 85, 59); fill-opacity: 1; stroke: rgb(68, 68, 68); stroke-opacity: 1; stroke-width: 0px; opacity: 1;\"/><text class=\"bartext bartext-inside\" text-anchor=\"middle\" data-notex=\"1\" x=\"0\" y=\"0\" style=\"font-family: 'Open Sans', verdana, arial, sans-serif; font-size: 12px; fill: rgb(68, 68, 68); fill-opacity: 1; white-space: pre;\" transform=\"translate(406.03,116.9453125)\"><tspan class=\"line\" dy=\"0em\" x=\"0\" y=\"0\">583</tspan><tspan class=\"line\" dy=\"1.3em\" x=\"0\" y=\"0\">76%</tspan></text></g><g class=\"point\"><path d=\"M325.32,168V232H382.06V168Z\" style=\"vector-effect: non-scaling-stroke; fill: rgb(239, 85, 59); fill-opacity: 1; stroke: rgb(68, 68, 68); stroke-opacity: 1; stroke-width: 0px; opacity: 1;\"/><text class=\"bartext bartext-inside\" text-anchor=\"middle\" data-notex=\"1\" x=\"0\" y=\"0\" style=\"font-family: 'Open Sans', verdana, arial, sans-serif; font-size: 12px; fill: rgb(68, 68, 68); fill-opacity: 1; white-space: pre;\" transform=\"translate(353.69,196.9453125)\"><tspan class=\"line\" dy=\"0em\" x=\"0\" y=\"0\">367</tspan><tspan class=\"line\" dy=\"1.3em\" x=\"0\" y=\"0\">48%</tspan></text></g><g class=\"point\"><path d=\"M301.82,248V312H335.68V248Z\" style=\"vector-effect: non-scaling-stroke; fill: rgb(239, 85, 59); fill-opacity: 1; stroke: rgb(68, 68, 68); stroke-opacity: 1; stroke-width: 0px; opacity: 1;\"/><text class=\"bartext bartext-outside\" text-anchor=\"middle\" data-notex=\"1\" x=\"0\" y=\"0\" style=\"font-family: 'Open Sans', verdana, arial, sans-serif; font-size: 12px; fill: rgb(42, 63, 95); fill-opacity: 1; white-space: pre;\" transform=\"translate(352.77375,276.9453125)\"><tspan class=\"line\" dy=\"0em\" x=\"0\" y=\"0\">219</tspan><tspan class=\"line\" dy=\"1.3em\" x=\"0\" y=\"0\">28%</tspan></text></g></g></g></g></g><g class=\"overplot\"/><path class=\"xlines-above crisp\" d=\"M0,0\" style=\"fill: none;\"/><path class=\"ylines-above crisp\" d=\"M0,0\" style=\"fill: none;\"/><g class=\"overlines-above\"/><g class=\"xaxislayer-above\"/><g class=\"yaxislayer-above\"><g class=\"ytick\"><text text-anchor=\"end\" x=\"95\" y=\"4.199999999999999\" transform=\"translate(0,380)\" style=\"font-family: 'Open Sans', verdana, arial, sans-serif; font-size: 12px; fill: rgb(42, 63, 95); fill-opacity: 1; white-space: pre; opacity: 1;\">purchase</text></g><g class=\"ytick\"><text text-anchor=\"end\" x=\"95\" y=\"4.199999999999999\" transform=\"translate(0,300)\" style=\"font-family: 'Open Sans', verdana, arial, sans-serif; font-size: 12px; fill: rgb(42, 63, 95); fill-opacity: 1; white-space: pre; opacity: 1;\">product_cart</text></g><g class=\"ytick\"><text text-anchor=\"end\" x=\"95\" y=\"4.199999999999999\" transform=\"translate(0,220)\" style=\"font-family: 'Open Sans', verdana, arial, sans-serif; font-size: 12px; fill: rgb(42, 63, 95); fill-opacity: 1; white-space: pre; opacity: 1;\">product_page</text></g><g class=\"ytick\"><text text-anchor=\"end\" x=\"95\" y=\"4.199999999999999\" transform=\"translate(0,140)\" style=\"font-family: 'Open Sans', verdana, arial, sans-serif; font-size: 12px; fill: rgb(42, 63, 95); fill-opacity: 1; white-space: pre; opacity: 1;\">login</text></g></g><g class=\"overaxes-above\"/></g></g><g class=\"polarlayer\"/><g class=\"smithlayer\"/><g class=\"ternarylayer\"/><g class=\"geolayer\"/><g class=\"funnelarealayer\"/><g class=\"pielayer\"/><g class=\"iciclelayer\"/><g class=\"treemaplayer\"/><g class=\"sunburstlayer\"/><g class=\"glimages\"/><defs id=\"topdefs-17b100\"><g class=\"clips\"/><clipPath id=\"legend17b100\"><rect width=\"54\" height=\"48\" x=\"0\" y=\"0\"/></clipPath></defs><g class=\"layer-above\"><g class=\"imagelayer\"/><g class=\"shapelayer\"/></g><g class=\"infolayer\"><g class=\"legend\" pointer-events=\"all\" transform=\"translate(630.48,100)\"><rect class=\"bg\" shape-rendering=\"crispEdges\" style=\"stroke: rgb(68, 68, 68); stroke-opacity: 1; fill: rgb(255, 255, 255); fill-opacity: 1; stroke-width: 0px;\" width=\"54\" height=\"48\" x=\"0\" y=\"0\"/><g class=\"scrollbox\" transform=\"\" clip-path=\"url(#legend17b100)\"><g class=\"groups\"><g class=\"traces\" transform=\"translate(0,14.5)\" style=\"opacity: 1;\"><text class=\"legendtext\" text-anchor=\"start\" x=\"40\" y=\"4.680000000000001\" style=\"font-family: 'Open Sans', verdana, arial, sans-serif; font-size: 12px; fill: rgb(42, 63, 95); fill-opacity: 1; white-space: pre;\">A</text><g class=\"layers\" style=\"opacity: 1;\"><g class=\"legendfill\"/><g class=\"legendlines\"/><g class=\"legendsymbols\"><g class=\"legendpoints\"><path class=\"legendfunnel\" d=\"M6,6H-6V-6H6Z\" transform=\"translate(20,0)\" style=\"stroke-width: 0px; fill: rgb(99, 110, 250); fill-opacity: 1;\"/></g></g></g><rect class=\"legendtoggle\" x=\"0\" y=\"-9.5\" width=\"48.234375\" height=\"19\" style=\"fill: rgb(0, 0, 0); fill-opacity: 0;\"/></g><g class=\"traces\" transform=\"translate(0,33.5)\" style=\"opacity: 1;\"><text class=\"legendtext\" text-anchor=\"start\" x=\"40\" y=\"4.680000000000001\" style=\"font-family: 'Open Sans', verdana, arial, sans-serif; font-size: 12px; fill: rgb(42, 63, 95); fill-opacity: 1; white-space: pre;\">B</text><g class=\"layers\" style=\"opacity: 1;\"><g class=\"legendfill\"/><g class=\"legendlines\"/><g class=\"legendsymbols\"><g class=\"legendpoints\"><path class=\"legendfunnel\" d=\"M6,6H-6V-6H6Z\" transform=\"translate(20,0)\" style=\"stroke-width: 0px; fill: rgb(239, 85, 59); fill-opacity: 1;\"/></g></g></g><rect class=\"legendtoggle\" x=\"0\" y=\"-9.5\" width=\"48.234375\" height=\"19\" style=\"fill: rgb(0, 0, 0); fill-opacity: 0;\"/></g></g></g><rect class=\"scrollbar\" rx=\"20\" ry=\"3\" width=\"0\" height=\"0\" style=\"fill: rgb(128, 139, 164); fill-opacity: 1;\" x=\"0\" y=\"0\"/></g><g class=\"g-gtitle\"><text class=\"gtitle\" x=\"35\" y=\"50\" text-anchor=\"start\" dy=\"0em\" style=\"font-family: 'Open Sans', verdana, arial, sans-serif; font-size: 17px; fill: rgb(42, 63, 95); opacity: 1; font-weight: normal; white-space: pre;\">Воронка</text></g><g class=\"g-ytitle\"/></g></svg>"
      ]
     },
     "metadata": {},
     "output_type": "display_data"
    }
   ],
   "source": [
    "fig = go.Figure()\n",
    "fig.add_trace(go.Funnel(\n",
    "    name='A',\n",
    "    y=events_order,\n",
    "    x=funnel.loc[funnel['group'] == 'A', 'n_users'],\n",
    "    textinfo=\"value+percent initial\")\n",
    ")\n",
    "fig.add_trace(go.Funnel(\n",
    "    name='B',\n",
    "    y=events_order,\n",
    "    x=funnel.loc[funnel['group'] == 'B', 'n_users'],\n",
    "    textinfo=\"value+percent initial\")\n",
    ")\n",
    "fig.update_layout(title={'text': 'Воронка'})\n",
    "fig.show('svg')"
   ]
  },
  {
   "cell_type": "markdown",
   "id": "1a396b0a",
   "metadata": {},
   "source": [
    "На всех этапах воронка уже у группы B."
   ]
  },
  {
   "cell_type": "markdown",
   "id": "1d612628",
   "metadata": {},
   "source": [
    "## Оценка результатов A/B-теста <a id='results_analysis'></a>"
   ]
  },
  {
   "cell_type": "markdown",
   "id": "dd019347",
   "metadata": {},
   "source": [
    "Проверим гипотезы\n",
    "\n",
    "* о различии конверсии в просмотр карточки продукта между группами\n",
    "\n",
    "    $H_0: p_{product\\_page\\_A} = p_{product\\_page\\_B}$\n",
    "\n",
    "    $H_1: p_{product\\_page\\_A} \\ne p_{product\\_page\\_B}$\n",
    "    \n",
    "    \n",
    "* о различии конверсии в просмотр корзины между группами\n",
    "\n",
    "    $H_0: p_{product\\_cart\\_A} = p_{product\\_cart\\_B}$\n",
    "\n",
    "    $H_1: p_{product\\_cart\\_A} \\ne p_{product\\_cart\\_B}$\n",
    "    \n",
    "    \n",
    "* о различии конверсии в покупку между группами\n",
    "\n",
    "    $H_0: p_{product\\_purchase\\_A} = p_{product\\_purchase\\_B}$\n",
    "\n",
    "    $H_1: p_{product\\_purchase\\_A} \\ne p_{product\\_purchase\\_B}$\n",
    "    \n",
    "Для этого используем z-тест пропорций (т.к. меет дело с биномиальным распределением) и уровень значимости 0.05."
   ]
  },
  {
   "cell_type": "code",
   "execution_count": 59,
   "id": "43103247",
   "metadata": {},
   "outputs": [
    {
     "data": {
      "text/html": [
       "<div>\n",
       "<style scoped>\n",
       "    .dataframe tbody tr th:only-of-type {\n",
       "        vertical-align: middle;\n",
       "    }\n",
       "\n",
       "    .dataframe tbody tr th {\n",
       "        vertical-align: top;\n",
       "    }\n",
       "\n",
       "    .dataframe thead th {\n",
       "        text-align: right;\n",
       "    }\n",
       "</style>\n",
       "<table border=\"1\" class=\"dataframe\">\n",
       "  <thead>\n",
       "    <tr style=\"text-align: right;\">\n",
       "      <th></th>\n",
       "      <th>event_date</th>\n",
       "      <th>login_A</th>\n",
       "      <th>login_B</th>\n",
       "      <th>product_cart_A</th>\n",
       "      <th>product_cart_B</th>\n",
       "      <th>product_page_A</th>\n",
       "      <th>product_page_B</th>\n",
       "      <th>purchase_A</th>\n",
       "      <th>purchase_B</th>\n",
       "      <th>login_lift</th>\n",
       "      <th>product_page_lift</th>\n",
       "      <th>product_cart_lift</th>\n",
       "      <th>purchase_lift</th>\n",
       "    </tr>\n",
       "  </thead>\n",
       "  <tbody>\n",
       "    <tr>\n",
       "      <th>0</th>\n",
       "      <td>2020-12-07</td>\n",
       "      <td>122.0</td>\n",
       "      <td>142.0</td>\n",
       "      <td>57.0</td>\n",
       "      <td>75.0</td>\n",
       "      <td>96.0</td>\n",
       "      <td>119.0</td>\n",
       "      <td>34.0</td>\n",
       "      <td>54.0</td>\n",
       "      <td>0.0</td>\n",
       "      <td>0.064994</td>\n",
       "      <td>0.130467</td>\n",
       "      <td>0.364540</td>\n",
       "    </tr>\n",
       "    <tr>\n",
       "      <th>1</th>\n",
       "      <td>2020-12-08</td>\n",
       "      <td>255.0</td>\n",
       "      <td>241.0</td>\n",
       "      <td>113.0</td>\n",
       "      <td>121.0</td>\n",
       "      <td>208.0</td>\n",
       "      <td>190.0</td>\n",
       "      <td>63.0</td>\n",
       "      <td>82.0</td>\n",
       "      <td>0.0</td>\n",
       "      <td>-0.033474</td>\n",
       "      <td>0.133000</td>\n",
       "      <td>0.377198</td>\n",
       "    </tr>\n",
       "    <tr>\n",
       "      <th>2</th>\n",
       "      <td>2020-12-09</td>\n",
       "      <td>405.0</td>\n",
       "      <td>379.0</td>\n",
       "      <td>188.0</td>\n",
       "      <td>182.0</td>\n",
       "      <td>329.0</td>\n",
       "      <td>296.0</td>\n",
       "      <td>106.0</td>\n",
       "      <td>114.0</td>\n",
       "      <td>0.0</td>\n",
       "      <td>-0.038583</td>\n",
       "      <td>0.034497</td>\n",
       "      <td>0.149251</td>\n",
       "    </tr>\n",
       "    <tr>\n",
       "      <th>3</th>\n",
       "      <td>2020-12-10</td>\n",
       "      <td>541.0</td>\n",
       "      <td>488.0</td>\n",
       "      <td>256.0</td>\n",
       "      <td>224.0</td>\n",
       "      <td>433.0</td>\n",
       "      <td>374.0</td>\n",
       "      <td>144.0</td>\n",
       "      <td>136.0</td>\n",
       "      <td>0.0</td>\n",
       "      <td>-0.042451</td>\n",
       "      <td>-0.029969</td>\n",
       "      <td>0.047017</td>\n",
       "    </tr>\n",
       "    <tr>\n",
       "      <th>4</th>\n",
       "      <td>2020-12-11</td>\n",
       "      <td>692.0</td>\n",
       "      <td>560.0</td>\n",
       "      <td>324.0</td>\n",
       "      <td>248.0</td>\n",
       "      <td>548.0</td>\n",
       "      <td>417.0</td>\n",
       "      <td>180.0</td>\n",
       "      <td>148.0</td>\n",
       "      <td>0.0</td>\n",
       "      <td>-0.059685</td>\n",
       "      <td>-0.054145</td>\n",
       "      <td>0.016032</td>\n",
       "    </tr>\n",
       "  </tbody>\n",
       "</table>\n",
       "</div>"
      ],
      "text/plain": [
       "   event_date  login_A  login_B  product_cart_A  product_cart_B  \\\n",
       "0  2020-12-07    122.0    142.0            57.0            75.0   \n",
       "1  2020-12-08    255.0    241.0           113.0           121.0   \n",
       "2  2020-12-09    405.0    379.0           188.0           182.0   \n",
       "3  2020-12-10    541.0    488.0           256.0           224.0   \n",
       "4  2020-12-11    692.0    560.0           324.0           248.0   \n",
       "\n",
       "   product_page_A  product_page_B  purchase_A  purchase_B  login_lift  \\\n",
       "0            96.0           119.0        34.0        54.0         0.0   \n",
       "1           208.0           190.0        63.0        82.0         0.0   \n",
       "2           329.0           296.0       106.0       114.0         0.0   \n",
       "3           433.0           374.0       144.0       136.0         0.0   \n",
       "4           548.0           417.0       180.0       148.0         0.0   \n",
       "\n",
       "   product_page_lift  product_cart_lift  purchase_lift  \n",
       "0           0.064994           0.130467       0.364540  \n",
       "1          -0.033474           0.133000       0.377198  \n",
       "2          -0.038583           0.034497       0.149251  \n",
       "3          -0.042451          -0.029969       0.047017  \n",
       "4          -0.059685          -0.054145       0.016032  "
      ]
     },
     "execution_count": 59,
     "metadata": {},
     "output_type": "execute_result"
    }
   ],
   "source": [
    "cum_events_count_by_date.reset_index(inplace=True)\n",
    "cum_events_count_by_date = pd.pivot_table(data=cum_events_count_by_date, index='event_date', columns='group')\n",
    "cum_events_count_by_date.columns = cum_events_count_by_date.columns.map('_'.join)\n",
    "cum_events_count_by_date.reset_index(inplace=True)\n",
    "for event_name in events_order:\n",
    "    cum_events_count_by_date[event_name + '_lift'] = (\n",
    "        cum_events_count_by_date[event_name + '_B'] / cum_events_count_by_date['login_B'] \\\n",
    "        - cum_events_count_by_date[event_name + '_A'] / cum_events_count_by_date['login_A']\n",
    "    ) / (cum_events_count_by_date[event_name + '_A'] / cum_events_count_by_date['login_A'])\n",
    "\n",
    "cum_events_count_by_date.head()"
   ]
  },
  {
   "cell_type": "code",
   "execution_count": 60,
   "id": "96416ae0",
   "metadata": {},
   "outputs": [],
   "source": [
    "def get_results(col):\n",
    "    fig, axes = plt.subplots(nrows=3, ncols=1, figsize=(10, 18))\n",
    "    \n",
    "    # график изменения конверсии по дням\n",
    "    sns.lineplot(\n",
    "        data=cum_conversions_by_date_1,\n",
    "        x='event_date',\n",
    "        y=col,\n",
    "        hue='group',\n",
    "        ax=axes[0]\n",
    "    )\n",
    "    axes[0].set_title('Изменение конверсии по дням')\n",
    "    \n",
    "    # график изменения лифта\n",
    "    sns.lineplot(\n",
    "        data=cum_events_count_by_date,\n",
    "        x='event_date',\n",
    "        y=col+'_lift',\n",
    "        ax=axes[1]\n",
    "    )\n",
    "    axes[1].set_title('Изменение лифта по дням')\n",
    "    \n",
    "    # график изменения p-value по дням\n",
    "    data = cum_events_count_by_date[['event_date', 'login_A', 'login_B', col + '_A', col + '_B']].copy()\n",
    "    data['p-value'] = data.apply(\n",
    "        lambda day: proportions_ztest(\n",
    "            count=np.array([day[col + '_A'], day[col + '_B']]),\n",
    "            nobs=np.array([day['login_A'], day['login_B']])\n",
    "        )[1], axis=1\n",
    "    )\n",
    "    sns.lineplot(data=data, x='event_date', y='p-value')\n",
    "    axes[2].axhline(y=0.05, color='r', linestyle='--', label='$\\u03B1=0.05$')\n",
    "    axes[2].set_title('Изменение p-value по дням')\n",
    "    \n",
    "    fig.subplots_adjust(hspace=0.4)\n",
    "    plt.show()\n",
    "    \n",
    "    \n",
    "    # информация про лифт, эффект и mde\n",
    "    last_day = cum_conversions_by_date_1.sort_values(by='event_date')[-2:]\n",
    "    last_day_A = last_day[last_day['group'] == 'A']\n",
    "    last_day_B = last_day[last_day['group'] == 'B']\n",
    "\n",
    "    conversion_A = last_day_A[col].values\n",
    "    conversion_B = last_day_B[col].values\n",
    "    \n",
    "    lift = (conversion_B - conversion_A) / conversion_A\n",
    "    effect_size = (conversion_B - conversion_A) / np.sqrt(conversion_A * (1 - conversion_A))\n",
    "    mde = zt_ind_solve_power(\n",
    "        nobs1=last_day_A['n'].values, \n",
    "        ratio=last_day_B['n'].values / last_day_A['n'].values, \n",
    "        alpha=0.05, power=0.8\n",
    "    )\n",
    "\n",
    "    display(pd.DataFrame({'lift': lift, 'effect_size': effect_size, 'mde': mde}))"
   ]
  },
  {
   "cell_type": "code",
   "execution_count": 61,
   "id": "d115c8a4",
   "metadata": {},
   "outputs": [
    {
     "data": {
      "image/png": "[encoded data removed]",
      "text/plain": [
       "<Figure size 720x1296 with 3 Axes>"
      ]
     },
     "metadata": {},
     "output_type": "display_data"
    },
    {
     "data": {
      "text/html": [
       "<div>\n",
       "<style scoped>\n",
       "    .dataframe tbody tr th:only-of-type {\n",
       "        vertical-align: middle;\n",
       "    }\n",
       "\n",
       "    .dataframe tbody tr th {\n",
       "        vertical-align: top;\n",
       "    }\n",
       "\n",
       "    .dataframe thead th {\n",
       "        text-align: right;\n",
       "    }\n",
       "</style>\n",
       "<table border=\"1\" class=\"dataframe\">\n",
       "  <thead>\n",
       "    <tr style=\"text-align: right;\">\n",
       "      <th></th>\n",
       "      <th>lift</th>\n",
       "      <th>effect_size</th>\n",
       "      <th>mde</th>\n",
       "    </tr>\n",
       "  </thead>\n",
       "  <tbody>\n",
       "    <tr>\n",
       "      <th>0</th>\n",
       "      <td>-0.10409</td>\n",
       "      <td>-0.215557</td>\n",
       "      <td>0.070921</td>\n",
       "    </tr>\n",
       "  </tbody>\n",
       "</table>\n",
       "</div>"
      ],
      "text/plain": [
       "      lift  effect_size       mde\n",
       "0 -0.10409    -0.215557  0.070921"
      ]
     },
     "metadata": {},
     "output_type": "display_data"
    }
   ],
   "source": [
    "get_results('product_page')"
   ]
  },
  {
   "cell_type": "markdown",
   "id": "67408bff",
   "metadata": {},
   "source": [
    "Размер эффекта по модулю больше mde и p-value устойчиво меньше 0.05. Можно считать, что эффект закономерен."
   ]
  },
  {
   "cell_type": "code",
   "execution_count": 62,
   "id": "a4fe55e8",
   "metadata": {},
   "outputs": [
    {
     "data": {
      "image/png": "[encoded data removed]",
      "text/plain": [
       "<Figure size 720x1296 with 3 Axes>"
      ]
     },
     "metadata": {},
     "output_type": "display_data"
    },
    {
     "data": {
      "text/html": [
       "<div>\n",
       "<style scoped>\n",
       "    .dataframe tbody tr th:only-of-type {\n",
       "        vertical-align: middle;\n",
       "    }\n",
       "\n",
       "    .dataframe tbody tr th {\n",
       "        vertical-align: top;\n",
       "    }\n",
       "\n",
       "    .dataframe thead th {\n",
       "        text-align: right;\n",
       "    }\n",
       "</style>\n",
       "<table border=\"1\" class=\"dataframe\">\n",
       "  <thead>\n",
       "    <tr style=\"text-align: right;\">\n",
       "      <th></th>\n",
       "      <th>lift</th>\n",
       "      <th>effect_size</th>\n",
       "      <th>mde</th>\n",
       "    </tr>\n",
       "  </thead>\n",
       "  <tbody>\n",
       "    <tr>\n",
       "      <th>0</th>\n",
       "      <td>-0.129553</td>\n",
       "      <td>-0.133578</td>\n",
       "      <td>0.070921</td>\n",
       "    </tr>\n",
       "  </tbody>\n",
       "</table>\n",
       "</div>"
      ],
      "text/plain": [
       "       lift  effect_size       mde\n",
       "0 -0.129553    -0.133578  0.070921"
      ]
     },
     "metadata": {},
     "output_type": "display_data"
    }
   ],
   "source": [
    "get_results('product_cart')"
   ]
  },
  {
   "cell_type": "markdown",
   "id": "d94d0dd3",
   "metadata": {},
   "source": [
    "Размер эффекта по модулю больше mde и p-value устойчиво меньше 0.05. Можно считать, что эффект закономерен."
   ]
  },
  {
   "cell_type": "code",
   "execution_count": 63,
   "id": "4ae80f7e",
   "metadata": {},
   "outputs": [
    {
     "data": {
      "image/png": "[encoded data removed]",
      "text/plain": [
       "<Figure size 720x1296 with 3 Axes>"
      ]
     },
     "metadata": {},
     "output_type": "display_data"
    },
    {
     "data": {
      "text/html": [
       "<div>\n",
       "<style scoped>\n",
       "    .dataframe tbody tr th:only-of-type {\n",
       "        vertical-align: middle;\n",
       "    }\n",
       "\n",
       "    .dataframe tbody tr th {\n",
       "        vertical-align: top;\n",
       "    }\n",
       "\n",
       "    .dataframe thead th {\n",
       "        text-align: right;\n",
       "    }\n",
       "</style>\n",
       "<table border=\"1\" class=\"dataframe\">\n",
       "  <thead>\n",
       "    <tr style=\"text-align: right;\">\n",
       "      <th></th>\n",
       "      <th>lift</th>\n",
       "      <th>effect_size</th>\n",
       "      <th>mde</th>\n",
       "    </tr>\n",
       "  </thead>\n",
       "  <tbody>\n",
       "    <tr>\n",
       "      <th>0</th>\n",
       "      <td>-0.171234</td>\n",
       "      <td>-0.116119</td>\n",
       "      <td>0.070921</td>\n",
       "    </tr>\n",
       "  </tbody>\n",
       "</table>\n",
       "</div>"
      ],
      "text/plain": [
       "       lift  effect_size       mde\n",
       "0 -0.171234    -0.116119  0.070921"
      ]
     },
     "metadata": {},
     "output_type": "display_data"
    }
   ],
   "source": [
    "get_results('purchase')"
   ]
  },
  {
   "cell_type": "markdown",
   "id": "4eabe5f8",
   "metadata": {},
   "source": [
    "Размер эффекта по модулю больше mde и p-value устойчиво меньше 0.05. Можно считать, что эффект закономерен."
   ]
  },
  {
   "cell_type": "markdown",
   "id": "52654b87",
   "metadata": {},
   "source": [
    "## Общий вывод <a id='overall_conclusion'></a>"
   ]
  },
  {
   "cell_type": "markdown",
   "id": "f43cc6d9",
   "metadata": {},
   "source": [
    "В проведении теста были обнаружены следующие ошибки:\n",
    "    \n",
    "* отсутствуют логи с 2020-12-31 по 2021-01-04\n",
    "\n",
    "* новых пользователей из региона EU чуть меньше, чем планировалось (13,7% вместо 15%)\n",
    "\n",
    "* аудитория не польностью состоит из пользователей региона EU\n",
    "\n",
    "* в 1,6 раза меньше пользователей, чем ожидалось\n",
    "\n",
    "* распределение сплитов по дням разное\n",
    "\n",
    "* каждый четвертый пользователь принял участие в конкурирующем тесте\n",
    "\n",
    "* каждый третий пользователь совершил хотя бы одно действие во время маркетинговой активности Christmas&New Year Promo\n",
    "\n",
    "* есть пропуски промежуточных событий\n",
    "\n",
    "* по каждой дате регистрации есть пользователи без событий. 14 декабря число пользователей без событий резко снизилось в группе A, скорее всего баг поправили только у группы A\n",
    "\n",
    "<br>\n",
    "\n",
    "Принятые меры по корректировке ошибок:\n",
    "\n",
    "* удаление пользователей из регионов кроме EU\n",
    "\n",
    "* удаление пользователей, принявших участие в конкрирующем тесте\n",
    "\n",
    "* восстановление пропусков промежуточных событий\n",
    "\n",
    "* удаление событий, которые произошли позднее 14 дня с момента регистрации\n",
    "\n",
    "Пользователей, попавших под воздействие маркетинговой кампании, было решено не удалять, так как размер выборки тогда сократился бы очень сильно и у нас уже меньше пользователей, чем требовалось по ТЗ.\n",
    "\n",
    "<br>\n",
    "\n",
    "Пришлось удалить много наблюдений, часть ошибок не было возможным исправить. Как итог, к результатам теста мало доверия. Рекомендуется исправить все ошибки и перезапустить тест.\n",
    "\n",
    "<br>\n",
    "\n",
    "Метрики показали статистически значимое ухудщение:\n",
    "\n",
    "|metric|lift|\n",
    "|---|---|\n",
    "|product_page_conversion|-0.10409|\n",
    "|product_cart_conversion|-0.129553|\n",
    "|purchase_conversion|-0.171234|"
   ]
  }
 ],
 "metadata": {
  "ExecuteTimeLog": [
   {
    "duration": 1096,
    "start_time": "2022-11-22T10:57:53.110Z"
   },
   {
    "duration": 4,
    "start_time": "2022-11-22T10:57:54.209Z"
   },
   {
    "duration": 74,
    "start_time": "2022-11-22T10:57:54.215Z"
   },
   {
    "duration": 16,
    "start_time": "2022-11-22T10:57:54.292Z"
   },
   {
    "duration": 13,
    "start_time": "2022-11-22T10:57:54.310Z"
   },
   {
    "duration": 184,
    "start_time": "2022-11-22T10:57:54.324Z"
   },
   {
    "duration": 8,
    "start_time": "2022-11-22T10:57:54.509Z"
   },
   {
    "duration": 22,
    "start_time": "2022-11-22T10:57:54.519Z"
   },
   {
    "duration": 603,
    "start_time": "2022-11-22T10:57:54.542Z"
   },
   {
    "duration": 9,
    "start_time": "2022-11-22T10:57:55.148Z"
   },
   {
    "duration": 52,
    "start_time": "2022-11-22T10:57:55.158Z"
   },
   {
    "duration": 70,
    "start_time": "2022-11-22T10:57:55.211Z"
   },
   {
    "duration": 9,
    "start_time": "2022-11-22T10:57:55.283Z"
   },
   {
    "duration": 22,
    "start_time": "2022-11-22T10:57:55.294Z"
   },
   {
    "duration": 15,
    "start_time": "2022-11-22T10:57:55.318Z"
   },
   {
    "duration": 29,
    "start_time": "2022-11-22T10:57:55.335Z"
   },
   {
    "duration": 23,
    "start_time": "2022-11-22T10:57:55.366Z"
   },
   {
    "duration": 128,
    "start_time": "2022-11-22T10:57:55.391Z"
   },
   {
    "duration": 9,
    "start_time": "2022-11-22T10:57:55.521Z"
   },
   {
    "duration": 10,
    "start_time": "2022-11-22T10:57:55.532Z"
   },
   {
    "duration": 10,
    "start_time": "2022-11-22T10:57:55.544Z"
   },
   {
    "duration": 12,
    "start_time": "2022-11-22T10:57:55.555Z"
   },
   {
    "duration": 55,
    "start_time": "2022-11-22T10:57:55.568Z"
   },
   {
    "duration": 40,
    "start_time": "2022-11-22T10:57:55.625Z"
   },
   {
    "duration": 12,
    "start_time": "2022-11-22T10:57:55.667Z"
   },
   {
    "duration": 10,
    "start_time": "2022-11-22T10:57:55.680Z"
   },
   {
    "duration": 106,
    "start_time": "2022-11-22T10:57:55.692Z"
   },
   {
    "duration": 143,
    "start_time": "2022-11-22T10:57:55.801Z"
   },
   {
    "duration": 18,
    "start_time": "2022-11-22T10:57:55.946Z"
   },
   {
    "duration": 171,
    "start_time": "2022-11-22T10:57:55.965Z"
   },
   {
    "duration": 6,
    "start_time": "2022-11-22T10:57:56.138Z"
   },
   {
    "duration": 15,
    "start_time": "2022-11-22T10:57:56.145Z"
   },
   {
    "duration": 6,
    "start_time": "2022-11-22T10:57:56.161Z"
   },
   {
    "duration": 303,
    "start_time": "2022-11-22T10:57:56.169Z"
   },
   {
    "duration": 8,
    "start_time": "2022-11-22T10:57:56.473Z"
   },
   {
    "duration": 10,
    "start_time": "2022-11-22T10:57:56.482Z"
   },
   {
    "duration": 5,
    "start_time": "2022-11-22T10:57:56.494Z"
   },
   {
    "duration": 311,
    "start_time": "2022-11-22T10:57:56.500Z"
   },
   {
    "duration": 333,
    "start_time": "2022-11-22T10:57:56.812Z"
   },
   {
    "duration": 683,
    "start_time": "2022-11-22T10:57:57.146Z"
   },
   {
    "duration": 500,
    "start_time": "2022-11-22T10:57:57.831Z"
   },
   {
    "duration": 14,
    "start_time": "2022-11-22T10:57:58.332Z"
   },
   {
    "duration": 8,
    "start_time": "2022-11-22T10:57:58.347Z"
   },
   {
    "duration": 701,
    "start_time": "2022-11-22T10:57:58.356Z"
   },
   {
    "duration": 619,
    "start_time": "2022-11-22T10:57:59.058Z"
   },
   {
    "duration": 672,
    "start_time": "2022-11-22T10:57:59.679Z"
   },
   {
    "duration": 14,
    "start_time": "2022-11-22T11:17:36.887Z"
   },
   {
    "duration": 100,
    "start_time": "2022-11-22T11:20:25.637Z"
   },
   {
    "duration": 8,
    "start_time": "2022-11-22T11:20:38.981Z"
   },
   {
    "duration": 8,
    "start_time": "2022-11-22T11:20:43.761Z"
   },
   {
    "duration": 3,
    "start_time": "2022-11-22T11:20:50.943Z"
   },
   {
    "duration": 4,
    "start_time": "2022-11-22T11:20:54.362Z"
   },
   {
    "duration": 3,
    "start_time": "2022-11-22T11:20:59.107Z"
   },
   {
    "duration": 652,
    "start_time": "2022-11-22T11:35:41.491Z"
   },
   {
    "duration": 689,
    "start_time": "2022-11-22T11:35:52.192Z"
   },
   {
    "duration": 14,
    "start_time": "2022-11-22T11:37:14.997Z"
   },
   {
    "duration": 18,
    "start_time": "2022-11-22T11:37:30.816Z"
   },
   {
    "duration": 43,
    "start_time": "2022-11-22T14:00:19.934Z"
   },
   {
    "duration": 1317,
    "start_time": "2022-11-22T14:00:59.984Z"
   },
   {
    "duration": 4,
    "start_time": "2022-11-22T14:01:01.303Z"
   },
   {
    "duration": 68,
    "start_time": "2022-11-22T14:01:21.834Z"
   },
   {
    "duration": 25,
    "start_time": "2022-11-22T14:01:42.018Z"
   },
   {
    "duration": 12,
    "start_time": "2022-11-22T14:01:42.454Z"
   },
   {
    "duration": 10,
    "start_time": "2022-11-22T14:20:32.860Z"
   },
   {
    "duration": 483,
    "start_time": "2022-11-22T14:20:34.422Z"
   },
   {
    "duration": 8,
    "start_time": "2022-11-22T14:20:34.977Z"
   },
   {
    "duration": 14,
    "start_time": "2022-11-22T14:20:35.472Z"
   },
   {
    "duration": 1860,
    "start_time": "2022-11-22T14:20:37.586Z"
   },
   {
    "duration": 9,
    "start_time": "2022-11-22T14:20:39.448Z"
   },
   {
    "duration": 53,
    "start_time": "2022-11-22T14:20:39.459Z"
   },
   {
    "duration": 107,
    "start_time": "2022-11-22T14:20:39.679Z"
   },
   {
    "duration": 6,
    "start_time": "2022-11-22T14:20:42.069Z"
   },
   {
    "duration": 11,
    "start_time": "2022-11-22T14:20:42.707Z"
   },
   {
    "duration": 5,
    "start_time": "2022-11-22T14:21:24.277Z"
   },
   {
    "duration": 28,
    "start_time": "2022-11-22T14:22:08.301Z"
   },
   {
    "duration": 27,
    "start_time": "2022-11-22T14:22:11.708Z"
   },
   {
    "duration": 59,
    "start_time": "2022-11-22T14:22:56.004Z"
   },
   {
    "duration": 6,
    "start_time": "2022-11-22T14:24:29.854Z"
   },
   {
    "duration": 1282,
    "start_time": "2022-11-22T14:24:48.890Z"
   },
   {
    "duration": 34,
    "start_time": "2022-11-22T14:24:53.705Z"
   },
   {
    "duration": 15,
    "start_time": "2022-11-22T14:28:04.062Z"
   },
   {
    "duration": 17,
    "start_time": "2022-11-22T14:28:10.261Z"
   },
   {
    "duration": 10,
    "start_time": "2022-11-22T14:28:12.725Z"
   },
   {
    "duration": 10,
    "start_time": "2022-11-22T14:28:19.431Z"
   },
   {
    "duration": 10,
    "start_time": "2022-11-22T14:28:22.976Z"
   },
   {
    "duration": 9,
    "start_time": "2022-11-22T14:28:25.485Z"
   },
   {
    "duration": 10,
    "start_time": "2022-11-22T14:29:26.460Z"
   },
   {
    "duration": 8,
    "start_time": "2022-11-22T14:29:34.418Z"
   },
   {
    "duration": 153,
    "start_time": "2022-11-22T14:30:14.772Z"
   },
   {
    "duration": 160,
    "start_time": "2022-11-22T14:30:17.742Z"
   },
   {
    "duration": 10,
    "start_time": "2022-11-22T14:30:54.248Z"
   },
   {
    "duration": 6,
    "start_time": "2022-11-22T14:31:50.423Z"
   },
   {
    "duration": 12,
    "start_time": "2022-11-22T15:04:23.713Z"
   },
   {
    "duration": 34,
    "start_time": "2022-11-22T15:04:48.612Z"
   },
   {
    "duration": 34,
    "start_time": "2022-11-22T15:06:44.096Z"
   },
   {
    "duration": 133,
    "start_time": "2022-11-22T15:07:00.748Z"
   },
   {
    "duration": 33,
    "start_time": "2022-11-22T15:08:34.888Z"
   },
   {
    "duration": 2721,
    "start_time": "2022-11-22T15:12:20.836Z"
   },
   {
    "duration": 29,
    "start_time": "2022-11-22T15:12:34.826Z"
   },
   {
    "duration": 30,
    "start_time": "2022-11-22T15:12:44.075Z"
   },
   {
    "duration": 9,
    "start_time": "2022-11-22T15:12:44.213Z"
   },
   {
    "duration": 261,
    "start_time": "2022-11-22T15:17:17.176Z"
   },
   {
    "duration": 110,
    "start_time": "2022-11-22T15:17:36.268Z"
   },
   {
    "duration": 122,
    "start_time": "2022-11-22T15:37:18.799Z"
   },
   {
    "duration": 10,
    "start_time": "2022-11-22T15:37:24.987Z"
   },
   {
    "duration": 10,
    "start_time": "2022-11-22T15:37:28.357Z"
   },
   {
    "duration": 4,
    "start_time": "2022-11-22T15:40:50.649Z"
   },
   {
    "duration": 11,
    "start_time": "2022-11-22T15:42:59.812Z"
   },
   {
    "duration": 11,
    "start_time": "2022-11-22T15:43:17.846Z"
   },
   {
    "duration": 9,
    "start_time": "2022-11-22T15:45:51.337Z"
   },
   {
    "duration": 16,
    "start_time": "2022-11-22T15:46:05.286Z"
   },
   {
    "duration": 23,
    "start_time": "2022-11-22T15:46:14.434Z"
   },
   {
    "duration": 18,
    "start_time": "2022-11-22T15:48:55.897Z"
   },
   {
    "duration": 23,
    "start_time": "2022-11-22T15:50:06.803Z"
   },
   {
    "duration": 18,
    "start_time": "2022-11-22T15:50:10.108Z"
   },
   {
    "duration": 20,
    "start_time": "2022-11-22T15:50:22.046Z"
   },
   {
    "duration": 23,
    "start_time": "2022-11-22T15:50:51.063Z"
   },
   {
    "duration": 22,
    "start_time": "2022-11-22T15:51:07.137Z"
   },
   {
    "duration": 18,
    "start_time": "2022-11-22T15:51:24.626Z"
   },
   {
    "duration": 19,
    "start_time": "2022-11-22T15:51:31.146Z"
   },
   {
    "duration": 21,
    "start_time": "2022-11-22T15:51:46.931Z"
   },
   {
    "duration": 16,
    "start_time": "2022-11-22T16:08:14.645Z"
   },
   {
    "duration": 143,
    "start_time": "2022-11-22T16:08:26.663Z"
   },
   {
    "duration": 15,
    "start_time": "2022-11-22T16:08:27.709Z"
   },
   {
    "duration": 18,
    "start_time": "2022-11-22T16:08:33.233Z"
   },
   {
    "duration": 149,
    "start_time": "2022-11-22T16:32:26.012Z"
   },
   {
    "duration": 8,
    "start_time": "2022-11-22T16:34:13.512Z"
   },
   {
    "duration": 8,
    "start_time": "2022-11-22T16:34:29.621Z"
   },
   {
    "duration": 3,
    "start_time": "2022-11-22T16:34:36.676Z"
   },
   {
    "duration": 10,
    "start_time": "2022-11-22T16:34:56.578Z"
   },
   {
    "duration": 9,
    "start_time": "2022-11-22T16:37:15.095Z"
   },
   {
    "duration": 9,
    "start_time": "2022-11-22T16:37:18.705Z"
   },
   {
    "duration": 82,
    "start_time": "2022-11-22T16:37:47.686Z"
   },
   {
    "duration": 8,
    "start_time": "2022-11-22T16:38:02.171Z"
   },
   {
    "duration": 7,
    "start_time": "2022-11-22T16:38:59.049Z"
   },
   {
    "duration": 1099,
    "start_time": "2022-11-22T16:39:12.523Z"
   },
   {
    "duration": 3,
    "start_time": "2022-11-22T16:39:13.624Z"
   },
   {
    "duration": 31,
    "start_time": "2022-11-22T16:39:13.629Z"
   },
   {
    "duration": 11,
    "start_time": "2022-11-22T16:39:13.662Z"
   },
   {
    "duration": 10,
    "start_time": "2022-11-22T16:39:13.675Z"
   },
   {
    "duration": 6,
    "start_time": "2022-11-22T16:39:13.687Z"
   },
   {
    "duration": 85,
    "start_time": "2022-11-22T16:39:13.694Z"
   },
   {
    "duration": 9,
    "start_time": "2022-11-22T16:39:13.781Z"
   },
   {
    "duration": 15,
    "start_time": "2022-11-22T16:39:13.792Z"
   },
   {
    "duration": 9,
    "start_time": "2022-11-22T16:39:13.812Z"
   },
   {
    "duration": 29,
    "start_time": "2022-11-22T16:39:13.822Z"
   },
   {
    "duration": 512,
    "start_time": "2022-11-22T16:39:13.853Z"
   },
   {
    "duration": 9,
    "start_time": "2022-11-22T16:39:14.367Z"
   },
   {
    "duration": 51,
    "start_time": "2022-11-22T16:39:14.380Z"
   },
   {
    "duration": 40,
    "start_time": "2022-11-22T16:39:14.433Z"
   },
   {
    "duration": 194,
    "start_time": "2022-11-22T16:39:14.475Z"
   },
   {
    "duration": 40,
    "start_time": "2022-11-22T16:39:14.671Z"
   },
   {
    "duration": 8,
    "start_time": "2022-11-22T16:39:14.713Z"
   },
   {
    "duration": 12,
    "start_time": "2022-11-22T16:39:14.722Z"
   },
   {
    "duration": 5,
    "start_time": "2022-11-22T16:39:14.735Z"
   },
   {
    "duration": 14,
    "start_time": "2022-11-22T16:39:14.741Z"
   },
   {
    "duration": 56,
    "start_time": "2022-11-22T16:39:14.757Z"
   },
   {
    "duration": 148,
    "start_time": "2022-11-22T16:39:14.815Z"
   },
   {
    "duration": 31,
    "start_time": "2022-11-22T16:39:14.964Z"
   },
   {
    "duration": 135,
    "start_time": "2022-11-22T16:39:14.997Z"
   },
   {
    "duration": 12,
    "start_time": "2022-11-22T16:39:15.133Z"
   },
   {
    "duration": 10,
    "start_time": "2022-11-22T16:39:15.146Z"
   },
   {
    "duration": 4,
    "start_time": "2022-11-22T16:39:15.158Z"
   },
   {
    "duration": 68,
    "start_time": "2022-11-22T16:39:15.164Z"
   },
   {
    "duration": 42,
    "start_time": "2022-11-22T16:39:15.234Z"
   },
   {
    "duration": 10,
    "start_time": "2022-11-22T16:39:15.278Z"
   },
   {
    "duration": 26,
    "start_time": "2022-11-22T16:39:15.289Z"
   },
   {
    "duration": 110,
    "start_time": "2022-11-22T16:39:15.316Z"
   },
   {
    "duration": 4,
    "start_time": "2022-11-22T16:39:15.428Z"
   },
   {
    "duration": 168,
    "start_time": "2022-11-22T16:39:15.434Z"
   },
   {
    "duration": 25,
    "start_time": "2022-11-22T16:39:15.603Z"
   },
   {
    "duration": 165,
    "start_time": "2022-11-22T16:39:15.629Z"
   },
   {
    "duration": 18,
    "start_time": "2022-11-22T16:39:15.795Z"
   },
   {
    "duration": 9,
    "start_time": "2022-11-22T16:39:15.814Z"
   },
   {
    "duration": 7,
    "start_time": "2022-11-22T16:39:15.824Z"
   },
   {
    "duration": 5,
    "start_time": "2022-11-22T16:39:15.834Z"
   },
   {
    "duration": 310,
    "start_time": "2022-11-22T16:39:15.840Z"
   },
   {
    "duration": 8,
    "start_time": "2022-11-22T16:39:16.151Z"
   },
   {
    "duration": 10,
    "start_time": "2022-11-22T16:39:16.161Z"
   },
   {
    "duration": 5,
    "start_time": "2022-11-22T16:39:16.172Z"
   },
   {
    "duration": 302,
    "start_time": "2022-11-22T16:39:16.178Z"
   },
   {
    "duration": 349,
    "start_time": "2022-11-22T16:39:16.482Z"
   },
   {
    "duration": 825,
    "start_time": "2022-11-22T16:39:16.833Z"
   },
   {
    "duration": 509,
    "start_time": "2022-11-22T16:39:17.660Z"
   },
   {
    "duration": 13,
    "start_time": "2022-11-22T16:39:18.170Z"
   },
   {
    "duration": 7,
    "start_time": "2022-11-22T16:39:18.185Z"
   },
   {
    "duration": 792,
    "start_time": "2022-11-22T16:39:18.193Z"
   },
   {
    "duration": 711,
    "start_time": "2022-11-22T16:39:18.986Z"
   },
   {
    "duration": 642,
    "start_time": "2022-11-22T16:39:19.698Z"
   },
   {
    "duration": 8,
    "start_time": "2022-11-22T16:40:54.996Z"
   },
   {
    "duration": 9,
    "start_time": "2022-11-22T16:41:04.817Z"
   },
   {
    "duration": 1173,
    "start_time": "2022-11-22T16:43:09.301Z"
   },
   {
    "duration": 4,
    "start_time": "2022-11-22T16:43:10.476Z"
   },
   {
    "duration": 33,
    "start_time": "2022-11-22T16:43:10.481Z"
   },
   {
    "duration": 10,
    "start_time": "2022-11-22T16:43:10.516Z"
   },
   {
    "duration": 22,
    "start_time": "2022-11-22T16:43:10.528Z"
   },
   {
    "duration": 10,
    "start_time": "2022-11-22T16:43:10.551Z"
   },
   {
    "duration": 80,
    "start_time": "2022-11-22T16:43:10.562Z"
   },
   {
    "duration": 8,
    "start_time": "2022-11-22T16:43:10.643Z"
   },
   {
    "duration": 17,
    "start_time": "2022-11-22T16:43:10.653Z"
   },
   {
    "duration": 16,
    "start_time": "2022-11-22T16:43:10.671Z"
   },
   {
    "duration": 43,
    "start_time": "2022-11-22T16:43:10.689Z"
   },
   {
    "duration": 486,
    "start_time": "2022-11-22T16:43:10.734Z"
   },
   {
    "duration": 8,
    "start_time": "2022-11-22T16:43:11.222Z"
   },
   {
    "duration": 48,
    "start_time": "2022-11-22T16:43:11.232Z"
   },
   {
    "duration": 37,
    "start_time": "2022-11-22T16:43:11.282Z"
   },
   {
    "duration": 170,
    "start_time": "2022-11-22T16:43:11.321Z"
   },
   {
    "duration": 26,
    "start_time": "2022-11-22T16:43:11.493Z"
   },
   {
    "duration": 7,
    "start_time": "2022-11-22T16:43:11.520Z"
   },
   {
    "duration": 12,
    "start_time": "2022-11-22T16:43:11.529Z"
   },
   {
    "duration": 5,
    "start_time": "2022-11-22T16:43:11.542Z"
   },
   {
    "duration": 12,
    "start_time": "2022-11-22T16:43:11.548Z"
   },
   {
    "duration": 34,
    "start_time": "2022-11-22T16:43:11.561Z"
   },
   {
    "duration": 127,
    "start_time": "2022-11-22T16:43:11.613Z"
   },
   {
    "duration": 29,
    "start_time": "2022-11-22T16:43:11.742Z"
   },
   {
    "duration": 131,
    "start_time": "2022-11-22T16:43:11.772Z"
   },
   {
    "duration": 14,
    "start_time": "2022-11-22T16:43:11.905Z"
   },
   {
    "duration": 10,
    "start_time": "2022-11-22T16:43:11.920Z"
   },
   {
    "duration": 5,
    "start_time": "2022-11-22T16:43:11.932Z"
   },
   {
    "duration": 47,
    "start_time": "2022-11-22T16:43:11.938Z"
   },
   {
    "duration": 61,
    "start_time": "2022-11-22T16:43:11.986Z"
   },
   {
    "duration": 9,
    "start_time": "2022-11-22T16:43:12.049Z"
   },
   {
    "duration": 11,
    "start_time": "2022-11-22T16:43:12.060Z"
   },
   {
    "duration": 116,
    "start_time": "2022-11-22T16:43:12.072Z"
   },
   {
    "duration": 4,
    "start_time": "2022-11-22T16:43:12.189Z"
   },
   {
    "duration": 160,
    "start_time": "2022-11-22T16:43:12.194Z"
   },
   {
    "duration": 20,
    "start_time": "2022-11-22T16:43:12.355Z"
   },
   {
    "duration": 162,
    "start_time": "2022-11-22T16:43:12.376Z"
   },
   {
    "duration": 8,
    "start_time": "2022-11-22T16:43:12.540Z"
   },
   {
    "duration": 14,
    "start_time": "2022-11-22T16:43:12.549Z"
   },
   {
    "duration": 14,
    "start_time": "2022-11-22T16:43:12.564Z"
   },
   {
    "duration": 5,
    "start_time": "2022-11-22T16:43:12.581Z"
   },
   {
    "duration": 298,
    "start_time": "2022-11-22T16:45:04.215Z"
   },
   {
    "duration": 11,
    "start_time": "2022-11-22T16:47:46.954Z"
   },
   {
    "duration": 12,
    "start_time": "2022-11-22T16:47:47.168Z"
   },
   {
    "duration": 15,
    "start_time": "2022-11-22T16:49:32.392Z"
   },
   {
    "duration": 15,
    "start_time": "2022-11-22T16:49:59.114Z"
   },
   {
    "duration": 6,
    "start_time": "2022-11-22T16:50:35.126Z"
   },
   {
    "duration": 96,
    "start_time": "2022-11-22T16:50:43.588Z"
   },
   {
    "duration": 2,
    "start_time": "2022-11-22T16:51:41.616Z"
   },
   {
    "duration": 10,
    "start_time": "2022-11-22T16:51:57.604Z"
   },
   {
    "duration": 11,
    "start_time": "2022-11-22T16:52:01.676Z"
   },
   {
    "duration": 11,
    "start_time": "2022-11-22T16:52:06.401Z"
   },
   {
    "duration": 7,
    "start_time": "2022-11-22T16:52:14.918Z"
   },
   {
    "duration": 1165,
    "start_time": "2022-11-22T16:54:05.110Z"
   },
   {
    "duration": 4,
    "start_time": "2022-11-22T16:54:06.277Z"
   },
   {
    "duration": 43,
    "start_time": "2022-11-22T16:54:06.282Z"
   },
   {
    "duration": 12,
    "start_time": "2022-11-22T16:54:06.327Z"
   },
   {
    "duration": 31,
    "start_time": "2022-11-22T16:54:06.340Z"
   },
   {
    "duration": 23,
    "start_time": "2022-11-22T16:54:06.372Z"
   },
   {
    "duration": 85,
    "start_time": "2022-11-22T16:54:06.397Z"
   },
   {
    "duration": 9,
    "start_time": "2022-11-22T16:54:06.484Z"
   },
   {
    "duration": 22,
    "start_time": "2022-11-22T16:54:06.494Z"
   },
   {
    "duration": 17,
    "start_time": "2022-11-22T16:54:06.520Z"
   },
   {
    "duration": 32,
    "start_time": "2022-11-22T16:54:06.539Z"
   },
   {
    "duration": 529,
    "start_time": "2022-11-22T16:54:06.573Z"
   },
   {
    "duration": 10,
    "start_time": "2022-11-22T16:54:07.104Z"
   },
   {
    "duration": 43,
    "start_time": "2022-11-22T16:54:07.116Z"
   },
   {
    "duration": 37,
    "start_time": "2022-11-22T16:54:07.160Z"
   },
   {
    "duration": 183,
    "start_time": "2022-11-22T16:54:07.198Z"
   },
   {
    "duration": 36,
    "start_time": "2022-11-22T16:54:07.382Z"
   },
   {
    "duration": 7,
    "start_time": "2022-11-22T16:54:07.419Z"
   },
   {
    "duration": 12,
    "start_time": "2022-11-22T16:54:07.428Z"
   },
   {
    "duration": 5,
    "start_time": "2022-11-22T16:54:07.441Z"
   },
   {
    "duration": 13,
    "start_time": "2022-11-22T16:54:07.448Z"
   },
   {
    "duration": 55,
    "start_time": "2022-11-22T16:54:07.463Z"
   },
   {
    "duration": 138,
    "start_time": "2022-11-22T16:54:07.519Z"
   },
   {
    "duration": 30,
    "start_time": "2022-11-22T16:54:07.659Z"
   },
   {
    "duration": 138,
    "start_time": "2022-11-22T16:54:07.691Z"
   },
   {
    "duration": 10,
    "start_time": "2022-11-22T16:54:07.830Z"
   },
   {
    "duration": 11,
    "start_time": "2022-11-22T16:54:07.841Z"
   },
   {
    "duration": 4,
    "start_time": "2022-11-22T16:54:07.854Z"
   },
   {
    "duration": 63,
    "start_time": "2022-11-22T16:54:07.859Z"
   },
   {
    "duration": 49,
    "start_time": "2022-11-22T16:54:07.924Z"
   },
   {
    "duration": 12,
    "start_time": "2022-11-22T16:54:07.975Z"
   },
   {
    "duration": 32,
    "start_time": "2022-11-22T16:54:07.988Z"
   },
   {
    "duration": 107,
    "start_time": "2022-11-22T16:54:08.022Z"
   },
   {
    "duration": 4,
    "start_time": "2022-11-22T16:54:08.130Z"
   },
   {
    "duration": 161,
    "start_time": "2022-11-22T16:54:08.135Z"
   },
   {
    "duration": 23,
    "start_time": "2022-11-22T16:54:08.297Z"
   },
   {
    "duration": 160,
    "start_time": "2022-11-22T16:54:08.321Z"
   },
   {
    "duration": 10,
    "start_time": "2022-11-22T16:54:08.482Z"
   },
   {
    "duration": 20,
    "start_time": "2022-11-22T16:54:08.493Z"
   },
   {
    "duration": 7,
    "start_time": "2022-11-22T16:54:08.514Z"
   },
   {
    "duration": 7,
    "start_time": "2022-11-22T16:54:08.523Z"
   },
   {
    "duration": 319,
    "start_time": "2022-11-22T16:54:08.532Z"
   },
   {
    "duration": 9,
    "start_time": "2022-11-22T16:54:08.852Z"
   },
   {
    "duration": 11,
    "start_time": "2022-11-22T16:54:08.863Z"
   },
   {
    "duration": 6,
    "start_time": "2022-11-22T17:01:16.876Z"
   },
   {
    "duration": 90,
    "start_time": "2022-11-22T17:01:22.140Z"
   },
   {
    "duration": 7,
    "start_time": "2022-11-22T17:01:28.476Z"
   },
   {
    "duration": 6,
    "start_time": "2022-11-22T17:01:55.141Z"
   },
   {
    "duration": 6,
    "start_time": "2022-11-22T17:07:45.356Z"
   },
   {
    "duration": 5,
    "start_time": "2022-11-22T17:10:01.016Z"
   },
   {
    "duration": 9,
    "start_time": "2022-11-22T17:10:03.083Z"
   },
   {
    "duration": 11,
    "start_time": "2022-11-22T17:10:03.848Z"
   },
   {
    "duration": 1079,
    "start_time": "2022-11-22T17:10:21.958Z"
   },
   {
    "duration": 3,
    "start_time": "2022-11-22T17:10:23.039Z"
   },
   {
    "duration": 28,
    "start_time": "2022-11-22T17:10:23.044Z"
   },
   {
    "duration": 11,
    "start_time": "2022-11-22T17:10:23.073Z"
   },
   {
    "duration": 9,
    "start_time": "2022-11-22T17:10:23.086Z"
   },
   {
    "duration": 7,
    "start_time": "2022-11-22T17:10:23.096Z"
   },
   {
    "duration": 71,
    "start_time": "2022-11-22T17:10:23.104Z"
   },
   {
    "duration": 7,
    "start_time": "2022-11-22T17:10:23.177Z"
   },
   {
    "duration": 16,
    "start_time": "2022-11-22T17:10:23.186Z"
   },
   {
    "duration": 13,
    "start_time": "2022-11-22T17:10:23.204Z"
   },
   {
    "duration": 29,
    "start_time": "2022-11-22T17:10:23.218Z"
   },
   {
    "duration": 507,
    "start_time": "2022-11-22T17:10:23.248Z"
   },
   {
    "duration": 9,
    "start_time": "2022-11-22T17:10:23.757Z"
   },
   {
    "duration": 50,
    "start_time": "2022-11-22T17:10:23.768Z"
   },
   {
    "duration": 39,
    "start_time": "2022-11-22T17:10:23.820Z"
   },
   {
    "duration": 180,
    "start_time": "2022-11-22T17:10:23.860Z"
   },
   {
    "duration": 25,
    "start_time": "2022-11-22T17:10:24.042Z"
   },
   {
    "duration": 7,
    "start_time": "2022-11-22T17:10:24.068Z"
   },
   {
    "duration": 15,
    "start_time": "2022-11-22T17:10:24.076Z"
   },
   {
    "duration": 9,
    "start_time": "2022-11-22T17:10:24.092Z"
   },
   {
    "duration": 13,
    "start_time": "2022-11-22T17:10:24.102Z"
   },
   {
    "duration": 35,
    "start_time": "2022-11-22T17:10:24.116Z"
   },
   {
    "duration": 138,
    "start_time": "2022-11-22T17:10:24.153Z"
   },
   {
    "duration": 38,
    "start_time": "2022-11-22T17:10:24.293Z"
   },
   {
    "duration": 128,
    "start_time": "2022-11-22T17:10:24.332Z"
   },
   {
    "duration": 10,
    "start_time": "2022-11-22T17:10:24.462Z"
   },
   {
    "duration": 10,
    "start_time": "2022-11-22T17:10:24.474Z"
   },
   {
    "duration": 4,
    "start_time": "2022-11-22T17:10:24.485Z"
   },
   {
    "duration": 63,
    "start_time": "2022-11-22T17:10:24.490Z"
   },
   {
    "duration": 45,
    "start_time": "2022-11-22T17:10:24.554Z"
   },
   {
    "duration": 21,
    "start_time": "2022-11-22T17:10:24.601Z"
   },
   {
    "duration": 13,
    "start_time": "2022-11-22T17:10:24.624Z"
   },
   {
    "duration": 133,
    "start_time": "2022-11-22T17:10:24.638Z"
   },
   {
    "duration": 3,
    "start_time": "2022-11-22T17:10:24.772Z"
   },
   {
    "duration": 163,
    "start_time": "2022-11-22T17:10:24.777Z"
   },
   {
    "duration": 20,
    "start_time": "2022-11-22T17:10:24.942Z"
   },
   {
    "duration": 162,
    "start_time": "2022-11-22T17:10:24.964Z"
   },
   {
    "duration": 8,
    "start_time": "2022-11-22T17:10:25.128Z"
   },
   {
    "duration": 13,
    "start_time": "2022-11-22T17:10:25.138Z"
   },
   {
    "duration": 7,
    "start_time": "2022-11-22T17:10:25.152Z"
   },
   {
    "duration": 5,
    "start_time": "2022-11-22T17:10:25.162Z"
   },
   {
    "duration": 318,
    "start_time": "2022-11-22T17:10:25.168Z"
   },
   {
    "duration": 6,
    "start_time": "2022-11-22T17:10:25.487Z"
   },
   {
    "duration": 6,
    "start_time": "2022-11-22T17:10:25.494Z"
   },
   {
    "duration": 17,
    "start_time": "2022-11-22T17:10:25.502Z"
   },
   {
    "duration": 10,
    "start_time": "2022-11-22T17:10:25.521Z"
   },
   {
    "duration": 5,
    "start_time": "2022-11-22T17:10:25.532Z"
   },
   {
    "duration": 308,
    "start_time": "2022-11-22T17:10:25.539Z"
   },
   {
    "duration": 338,
    "start_time": "2022-11-22T17:10:25.848Z"
   },
   {
    "duration": 809,
    "start_time": "2022-11-22T17:10:26.188Z"
   },
   {
    "duration": 489,
    "start_time": "2022-11-22T17:10:26.998Z"
   },
   {
    "duration": 24,
    "start_time": "2022-11-22T17:10:27.489Z"
   },
   {
    "duration": 8,
    "start_time": "2022-11-22T17:10:27.514Z"
   },
   {
    "duration": 755,
    "start_time": "2022-11-22T17:10:27.524Z"
   },
   {
    "duration": 670,
    "start_time": "2022-11-22T17:10:28.281Z"
   },
   {
    "duration": 610,
    "start_time": "2022-11-22T17:10:28.953Z"
   },
   {
    "duration": 5,
    "start_time": "2022-11-22T17:17:15.026Z"
   },
   {
    "duration": 5,
    "start_time": "2022-11-22T17:19:00.679Z"
   },
   {
    "duration": 4,
    "start_time": "2022-11-22T17:25:05.543Z"
   },
   {
    "duration": 3,
    "start_time": "2022-11-22T17:29:13.946Z"
   },
   {
    "duration": 10,
    "start_time": "2022-11-22T17:29:13.950Z"
   },
   {
    "duration": 28,
    "start_time": "2022-11-22T17:29:13.961Z"
   },
   {
    "duration": 8,
    "start_time": "2022-11-22T17:29:13.990Z"
   },
   {
    "duration": 9,
    "start_time": "2022-11-22T17:29:14.000Z"
   },
   {
    "duration": 7,
    "start_time": "2022-11-22T17:29:14.011Z"
   },
   {
    "duration": 69,
    "start_time": "2022-11-22T17:29:14.019Z"
   },
   {
    "duration": 8,
    "start_time": "2022-11-22T17:29:14.089Z"
   },
   {
    "duration": 21,
    "start_time": "2022-11-22T17:29:14.099Z"
   },
   {
    "duration": 8,
    "start_time": "2022-11-22T17:29:14.122Z"
   },
   {
    "duration": 26,
    "start_time": "2022-11-22T17:29:14.131Z"
   },
   {
    "duration": 464,
    "start_time": "2022-11-22T17:29:14.159Z"
   },
   {
    "duration": 9,
    "start_time": "2022-11-22T17:29:14.626Z"
   },
   {
    "duration": 54,
    "start_time": "2022-11-22T17:29:14.636Z"
   },
   {
    "duration": 42,
    "start_time": "2022-11-22T17:29:14.692Z"
   },
   {
    "duration": 151,
    "start_time": "2022-11-22T17:29:14.735Z"
   },
   {
    "duration": 25,
    "start_time": "2022-11-22T17:29:14.888Z"
   },
   {
    "duration": 8,
    "start_time": "2022-11-22T17:29:14.914Z"
   },
   {
    "duration": 21,
    "start_time": "2022-11-22T17:29:14.924Z"
   },
   {
    "duration": 10,
    "start_time": "2022-11-22T17:29:14.947Z"
   },
   {
    "duration": 22,
    "start_time": "2022-11-22T17:29:14.959Z"
   },
   {
    "duration": 37,
    "start_time": "2022-11-22T17:29:14.982Z"
   },
   {
    "duration": 109,
    "start_time": "2022-11-22T17:29:15.021Z"
   },
   {
    "duration": 28,
    "start_time": "2022-11-22T17:29:15.132Z"
   },
   {
    "duration": 111,
    "start_time": "2022-11-22T17:29:15.161Z"
   },
   {
    "duration": 11,
    "start_time": "2022-11-22T17:29:15.273Z"
   },
   {
    "duration": 10,
    "start_time": "2022-11-22T17:29:15.285Z"
   },
   {
    "duration": 4,
    "start_time": "2022-11-22T17:29:15.312Z"
   },
   {
    "duration": 46,
    "start_time": "2022-11-22T17:29:15.318Z"
   },
   {
    "duration": 64,
    "start_time": "2022-11-22T17:29:15.365Z"
   },
   {
    "duration": 11,
    "start_time": "2022-11-22T17:29:15.431Z"
   },
   {
    "duration": 10,
    "start_time": "2022-11-22T17:29:15.443Z"
   },
   {
    "duration": 113,
    "start_time": "2022-11-22T17:29:15.454Z"
   },
   {
    "duration": 4,
    "start_time": "2022-11-22T17:29:15.569Z"
   },
   {
    "duration": 142,
    "start_time": "2022-11-22T17:29:15.575Z"
   },
   {
    "duration": 18,
    "start_time": "2022-11-22T17:29:15.719Z"
   },
   {
    "duration": 145,
    "start_time": "2022-11-22T17:29:15.740Z"
   },
   {
    "duration": 8,
    "start_time": "2022-11-22T17:29:15.887Z"
   },
   {
    "duration": 16,
    "start_time": "2022-11-22T17:29:15.897Z"
   },
   {
    "duration": 6,
    "start_time": "2022-11-22T17:29:15.914Z"
   },
   {
    "duration": 6,
    "start_time": "2022-11-22T17:29:15.922Z"
   },
   {
    "duration": 313,
    "start_time": "2022-11-22T17:29:15.930Z"
   },
   {
    "duration": 6,
    "start_time": "2022-11-22T17:29:16.244Z"
   },
   {
    "duration": 287,
    "start_time": "2022-11-22T17:29:16.251Z"
   },
   {
    "duration": 11,
    "start_time": "2022-11-22T17:29:24.350Z"
   },
   {
    "duration": 4,
    "start_time": "2022-11-22T17:32:48.425Z"
   },
   {
    "duration": 3,
    "start_time": "2022-11-22T18:03:01.217Z"
   },
   {
    "duration": 25,
    "start_time": "2022-11-22T18:03:01.222Z"
   },
   {
    "duration": 36,
    "start_time": "2022-11-22T18:03:01.249Z"
   },
   {
    "duration": 9,
    "start_time": "2022-11-22T18:03:01.287Z"
   },
   {
    "duration": 33,
    "start_time": "2022-11-22T18:03:01.298Z"
   },
   {
    "duration": 11,
    "start_time": "2022-11-22T18:03:01.332Z"
   },
   {
    "duration": 74,
    "start_time": "2022-11-22T18:03:01.345Z"
   },
   {
    "duration": 9,
    "start_time": "2022-11-22T18:03:01.421Z"
   },
   {
    "duration": 20,
    "start_time": "2022-11-22T18:03:01.431Z"
   },
   {
    "duration": 9,
    "start_time": "2022-11-22T18:03:01.453Z"
   },
   {
    "duration": 29,
    "start_time": "2022-11-22T18:03:01.464Z"
   },
   {
    "duration": 510,
    "start_time": "2022-11-22T18:03:01.495Z"
   },
   {
    "duration": 9,
    "start_time": "2022-11-22T18:03:02.008Z"
   },
   {
    "duration": 46,
    "start_time": "2022-11-22T18:03:02.019Z"
   },
   {
    "duration": 47,
    "start_time": "2022-11-22T18:03:02.067Z"
   },
   {
    "duration": 154,
    "start_time": "2022-11-22T18:03:02.116Z"
   },
   {
    "duration": 34,
    "start_time": "2022-11-22T18:03:02.272Z"
   },
   {
    "duration": 7,
    "start_time": "2022-11-22T18:03:02.308Z"
   },
   {
    "duration": 13,
    "start_time": "2022-11-22T18:03:02.316Z"
   },
   {
    "duration": 6,
    "start_time": "2022-11-22T18:03:02.331Z"
   },
   {
    "duration": 11,
    "start_time": "2022-11-22T18:03:02.339Z"
   },
   {
    "duration": 34,
    "start_time": "2022-11-22T18:03:02.351Z"
   },
   {
    "duration": 132,
    "start_time": "2022-11-22T18:03:02.387Z"
   },
   {
    "duration": 32,
    "start_time": "2022-11-22T18:03:02.520Z"
   },
   {
    "duration": 127,
    "start_time": "2022-11-22T18:03:02.553Z"
   },
   {
    "duration": 87,
    "start_time": "2022-11-22T18:03:02.682Z"
   },
   {
    "duration": 10,
    "start_time": "2022-11-22T18:03:02.771Z"
   },
   {
    "duration": 4,
    "start_time": "2022-11-22T18:03:02.783Z"
   },
   {
    "duration": 65,
    "start_time": "2022-11-22T18:03:02.788Z"
   },
   {
    "duration": 45,
    "start_time": "2022-11-22T18:03:02.855Z"
   },
   {
    "duration": 12,
    "start_time": "2022-11-22T18:03:02.913Z"
   },
   {
    "duration": 10,
    "start_time": "2022-11-22T18:03:02.927Z"
   },
   {
    "duration": 111,
    "start_time": "2022-11-22T18:03:02.939Z"
   },
   {
    "duration": 4,
    "start_time": "2022-11-22T18:03:03.052Z"
   },
   {
    "duration": 147,
    "start_time": "2022-11-22T18:03:03.057Z"
   },
   {
    "duration": 23,
    "start_time": "2022-11-22T18:03:03.206Z"
   },
   {
    "duration": 150,
    "start_time": "2022-11-22T18:03:03.232Z"
   },
   {
    "duration": 10,
    "start_time": "2022-11-22T18:03:03.383Z"
   },
   {
    "duration": 22,
    "start_time": "2022-11-22T18:03:03.394Z"
   },
   {
    "duration": 7,
    "start_time": "2022-11-22T18:03:03.417Z"
   },
   {
    "duration": 10,
    "start_time": "2022-11-22T18:03:03.425Z"
   },
   {
    "duration": 309,
    "start_time": "2022-11-22T18:03:03.436Z"
   },
   {
    "duration": 6,
    "start_time": "2022-11-22T18:03:03.746Z"
   },
   {
    "duration": 6,
    "start_time": "2022-11-22T18:03:03.753Z"
   },
   {
    "duration": 4,
    "start_time": "2022-11-22T18:03:03.760Z"
   },
   {
    "duration": 14,
    "start_time": "2022-11-22T18:03:03.765Z"
   },
   {
    "duration": 9,
    "start_time": "2022-11-22T18:03:03.781Z"
   },
   {
    "duration": 23,
    "start_time": "2022-11-22T18:03:03.792Z"
   },
   {
    "duration": 329,
    "start_time": "2022-11-22T18:03:03.817Z"
   },
   {
    "duration": 279,
    "start_time": "2022-11-22T18:03:04.148Z"
   },
   {
    "duration": 11,
    "start_time": "2022-11-22T18:03:12.806Z"
   },
   {
    "duration": 18,
    "start_time": "2022-11-22T18:03:50.504Z"
   },
   {
    "duration": 75,
    "start_time": "2022-11-22T18:05:26.037Z"
   },
   {
    "duration": 254,
    "start_time": "2022-11-22T18:05:30.997Z"
   },
   {
    "duration": 256,
    "start_time": "2022-11-22T18:05:43.284Z"
   },
   {
    "duration": 280,
    "start_time": "2022-11-22T18:06:24.034Z"
   },
   {
    "duration": 281,
    "start_time": "2022-11-22T18:06:29.433Z"
   },
   {
    "duration": 273,
    "start_time": "2022-11-22T18:07:20.374Z"
   },
   {
    "duration": 351,
    "start_time": "2022-11-22T18:08:49.602Z"
   },
   {
    "duration": 269,
    "start_time": "2022-11-22T18:09:07.718Z"
   },
   {
    "duration": 297,
    "start_time": "2022-11-22T18:11:46.640Z"
   },
   {
    "duration": 16,
    "start_time": "2022-11-22T18:14:04.831Z"
   },
   {
    "duration": 21,
    "start_time": "2022-11-22T18:14:30.934Z"
   },
   {
    "duration": 10,
    "start_time": "2022-11-22T18:14:45.489Z"
   },
   {
    "duration": 20,
    "start_time": "2022-11-22T18:15:00.930Z"
   },
   {
    "duration": 9,
    "start_time": "2022-11-22T18:18:12.250Z"
   },
   {
    "duration": 25,
    "start_time": "2022-11-22T18:18:34.674Z"
   },
   {
    "duration": 6,
    "start_time": "2022-11-22T18:18:38.499Z"
   },
   {
    "duration": 6,
    "start_time": "2022-11-22T18:19:20.531Z"
   },
   {
    "duration": 776,
    "start_time": "2022-11-22T18:19:21.726Z"
   },
   {
    "duration": 588,
    "start_time": "2022-11-22T18:19:23.004Z"
   },
   {
    "duration": 32,
    "start_time": "2022-11-22T18:19:23.594Z"
   },
   {
    "duration": 18,
    "start_time": "2022-11-22T18:19:30.206Z"
   },
   {
    "duration": 108,
    "start_time": "2022-11-22T18:22:36.480Z"
   },
   {
    "duration": 358,
    "start_time": "2022-11-22T18:22:52.692Z"
   },
   {
    "duration": 5,
    "start_time": "2022-11-22T18:23:46.302Z"
   },
   {
    "duration": 10,
    "start_time": "2022-11-22T18:27:24.090Z"
   },
   {
    "duration": 850,
    "start_time": "2022-11-22T18:27:49.276Z"
   },
   {
    "duration": 15,
    "start_time": "2022-11-22T18:28:00.102Z"
   },
   {
    "duration": 11,
    "start_time": "2022-11-22T18:28:20.341Z"
   },
   {
    "duration": 6,
    "start_time": "2022-11-22T18:28:25.157Z"
   },
   {
    "duration": 13,
    "start_time": "2022-11-22T18:28:32.076Z"
   },
   {
    "duration": 6,
    "start_time": "2022-11-22T18:28:37.173Z"
   },
   {
    "duration": 6,
    "start_time": "2022-11-22T18:28:51.854Z"
   },
   {
    "duration": 64,
    "start_time": "2022-11-22T18:30:50.291Z"
   },
   {
    "duration": 54,
    "start_time": "2022-11-22T18:31:14.161Z"
   },
   {
    "duration": 48,
    "start_time": "2022-11-22T18:31:25.618Z"
   },
   {
    "duration": 8,
    "start_time": "2022-11-22T20:01:22.143Z"
   },
   {
    "duration": 1200,
    "start_time": "2022-11-22T20:01:37.514Z"
   },
   {
    "duration": 4,
    "start_time": "2022-11-22T20:01:38.716Z"
   },
   {
    "duration": 58,
    "start_time": "2022-11-22T20:01:38.721Z"
   },
   {
    "duration": 11,
    "start_time": "2022-11-22T20:01:38.781Z"
   },
   {
    "duration": 16,
    "start_time": "2022-11-22T20:01:38.794Z"
   },
   {
    "duration": 34,
    "start_time": "2022-11-22T20:01:38.811Z"
   },
   {
    "duration": 73,
    "start_time": "2022-11-22T20:01:38.847Z"
   },
   {
    "duration": 8,
    "start_time": "2022-11-22T20:01:38.921Z"
   },
   {
    "duration": 19,
    "start_time": "2022-11-22T20:01:38.931Z"
   },
   {
    "duration": 9,
    "start_time": "2022-11-22T20:01:38.952Z"
   },
   {
    "duration": 34,
    "start_time": "2022-11-22T20:01:38.963Z"
   },
   {
    "duration": 528,
    "start_time": "2022-11-22T20:01:38.998Z"
   },
   {
    "duration": 9,
    "start_time": "2022-11-22T20:01:39.528Z"
   },
   {
    "duration": 40,
    "start_time": "2022-11-22T20:01:39.540Z"
   },
   {
    "duration": 53,
    "start_time": "2022-11-22T20:01:39.582Z"
   },
   {
    "duration": 172,
    "start_time": "2022-11-22T20:01:39.637Z"
   },
   {
    "duration": 34,
    "start_time": "2022-11-22T20:01:39.812Z"
   },
   {
    "duration": 7,
    "start_time": "2022-11-22T20:01:39.848Z"
   },
   {
    "duration": 12,
    "start_time": "2022-11-22T20:01:39.856Z"
   },
   {
    "duration": 7,
    "start_time": "2022-11-22T20:01:39.870Z"
   },
   {
    "duration": 11,
    "start_time": "2022-11-22T20:01:39.879Z"
   },
   {
    "duration": 38,
    "start_time": "2022-11-22T20:01:39.891Z"
   },
   {
    "duration": 140,
    "start_time": "2022-11-22T20:01:39.930Z"
   },
   {
    "duration": 31,
    "start_time": "2022-11-22T20:01:40.072Z"
   },
   {
    "duration": 136,
    "start_time": "2022-11-22T20:01:40.104Z"
   },
   {
    "duration": 11,
    "start_time": "2022-11-22T20:01:40.242Z"
   },
   {
    "duration": 14,
    "start_time": "2022-11-22T20:01:40.255Z"
   },
   {
    "duration": 8,
    "start_time": "2022-11-22T20:01:40.270Z"
   },
   {
    "duration": 74,
    "start_time": "2022-11-22T20:01:40.280Z"
   },
   {
    "duration": 67,
    "start_time": "2022-11-22T20:01:40.356Z"
   },
   {
    "duration": 12,
    "start_time": "2022-11-22T20:01:40.424Z"
   },
   {
    "duration": 17,
    "start_time": "2022-11-22T20:01:40.437Z"
   },
   {
    "duration": 109,
    "start_time": "2022-11-22T20:01:40.456Z"
   },
   {
    "duration": 3,
    "start_time": "2022-11-22T20:01:40.567Z"
   },
   {
    "duration": 154,
    "start_time": "2022-11-22T20:01:40.571Z"
   },
   {
    "duration": 19,
    "start_time": "2022-11-22T20:01:40.727Z"
   },
   {
    "duration": 160,
    "start_time": "2022-11-22T20:01:40.747Z"
   },
   {
    "duration": 9,
    "start_time": "2022-11-22T20:01:40.912Z"
   },
   {
    "duration": 16,
    "start_time": "2022-11-22T20:01:40.922Z"
   },
   {
    "duration": 7,
    "start_time": "2022-11-22T20:01:40.941Z"
   },
   {
    "duration": 9,
    "start_time": "2022-11-22T20:01:40.952Z"
   },
   {
    "duration": 314,
    "start_time": "2022-11-22T20:01:40.963Z"
   },
   {
    "duration": 6,
    "start_time": "2022-11-22T20:01:41.278Z"
   },
   {
    "duration": 5,
    "start_time": "2022-11-22T20:01:41.285Z"
   },
   {
    "duration": 10,
    "start_time": "2022-11-22T20:01:41.291Z"
   },
   {
    "duration": 15,
    "start_time": "2022-11-22T20:01:41.303Z"
   },
   {
    "duration": 10,
    "start_time": "2022-11-22T20:01:41.319Z"
   },
   {
    "duration": 5,
    "start_time": "2022-11-22T20:01:41.330Z"
   },
   {
    "duration": 318,
    "start_time": "2022-11-22T20:01:41.336Z"
   },
   {
    "duration": 340,
    "start_time": "2022-11-22T20:01:41.655Z"
   },
   {
    "duration": 274,
    "start_time": "2022-11-22T20:01:41.997Z"
   },
   {
    "duration": 6,
    "start_time": "2022-11-22T20:01:42.272Z"
   },
   {
    "duration": 778,
    "start_time": "2022-11-22T20:01:42.280Z"
   },
   {
    "duration": 482,
    "start_time": "2022-11-22T20:01:43.059Z"
   },
   {
    "duration": 10,
    "start_time": "2022-11-22T20:01:43.543Z"
   },
   {
    "duration": 422,
    "start_time": "2022-11-22T20:01:43.554Z"
   },
   {
    "duration": 14,
    "start_time": "2022-11-22T20:01:43.978Z"
   },
   {
    "duration": 21,
    "start_time": "2022-11-22T20:01:43.994Z"
   },
   {
    "duration": 741,
    "start_time": "2022-11-22T20:01:44.017Z"
   },
   {
    "duration": 604,
    "start_time": "2022-11-22T20:01:44.759Z"
   },
   {
    "duration": 605,
    "start_time": "2022-11-22T20:01:45.365Z"
   },
   {
    "duration": 7,
    "start_time": "2022-11-22T20:01:45.971Z"
   },
   {
    "duration": 1230,
    "start_time": "2022-11-22T20:02:02.800Z"
   },
   {
    "duration": 4,
    "start_time": "2022-11-22T20:02:04.032Z"
   },
   {
    "duration": 32,
    "start_time": "2022-11-22T20:02:04.038Z"
   },
   {
    "duration": 13,
    "start_time": "2022-11-22T20:02:04.073Z"
   },
   {
    "duration": 12,
    "start_time": "2022-11-22T20:02:04.087Z"
   },
   {
    "duration": 11,
    "start_time": "2022-11-22T20:02:04.101Z"
   },
   {
    "duration": 96,
    "start_time": "2022-11-22T20:02:04.114Z"
   },
   {
    "duration": 10,
    "start_time": "2022-11-22T20:02:04.211Z"
   },
   {
    "duration": 27,
    "start_time": "2022-11-22T20:02:04.222Z"
   },
   {
    "duration": 9,
    "start_time": "2022-11-22T20:02:04.251Z"
   },
   {
    "duration": 28,
    "start_time": "2022-11-22T20:02:04.261Z"
   },
   {
    "duration": 527,
    "start_time": "2022-11-22T20:02:04.291Z"
   },
   {
    "duration": 8,
    "start_time": "2022-11-22T20:02:04.820Z"
   },
   {
    "duration": 40,
    "start_time": "2022-11-22T20:02:04.830Z"
   },
   {
    "duration": 52,
    "start_time": "2022-11-22T20:02:04.871Z"
   },
   {
    "duration": 194,
    "start_time": "2022-11-22T20:02:04.924Z"
   },
   {
    "duration": 36,
    "start_time": "2022-11-22T20:02:05.119Z"
   },
   {
    "duration": 7,
    "start_time": "2022-11-22T20:02:05.157Z"
   },
   {
    "duration": 13,
    "start_time": "2022-11-22T20:02:05.165Z"
   },
   {
    "duration": 7,
    "start_time": "2022-11-22T20:02:05.179Z"
   },
   {
    "duration": 10,
    "start_time": "2022-11-22T20:02:05.187Z"
   },
   {
    "duration": 37,
    "start_time": "2022-11-22T20:02:05.199Z"
   },
   {
    "duration": 141,
    "start_time": "2022-11-22T20:02:05.238Z"
   },
   {
    "duration": 41,
    "start_time": "2022-11-22T20:02:05.381Z"
   },
   {
    "duration": 130,
    "start_time": "2022-11-22T20:02:05.423Z"
   },
   {
    "duration": 10,
    "start_time": "2022-11-22T20:02:05.554Z"
   },
   {
    "duration": 11,
    "start_time": "2022-11-22T20:02:05.565Z"
   },
   {
    "duration": 4,
    "start_time": "2022-11-22T20:02:05.579Z"
   },
   {
    "duration": 62,
    "start_time": "2022-11-22T20:02:05.584Z"
   },
   {
    "duration": 42,
    "start_time": "2022-11-22T20:02:05.647Z"
   },
   {
    "duration": 28,
    "start_time": "2022-11-22T20:02:05.691Z"
   },
   {
    "duration": 11,
    "start_time": "2022-11-22T20:02:05.720Z"
   },
   {
    "duration": 107,
    "start_time": "2022-11-22T20:02:05.732Z"
   },
   {
    "duration": 3,
    "start_time": "2022-11-22T20:02:05.841Z"
   },
   {
    "duration": 160,
    "start_time": "2022-11-22T20:02:05.845Z"
   },
   {
    "duration": 19,
    "start_time": "2022-11-22T20:02:06.007Z"
   },
   {
    "duration": 152,
    "start_time": "2022-11-22T20:02:06.028Z"
   },
   {
    "duration": 9,
    "start_time": "2022-11-22T20:02:06.181Z"
   },
   {
    "duration": 22,
    "start_time": "2022-11-22T20:02:06.191Z"
   },
   {
    "duration": 7,
    "start_time": "2022-11-22T20:02:06.215Z"
   },
   {
    "duration": 7,
    "start_time": "2022-11-22T20:02:06.223Z"
   },
   {
    "duration": 336,
    "start_time": "2022-11-22T20:02:06.231Z"
   },
   {
    "duration": 7,
    "start_time": "2022-11-22T20:02:06.569Z"
   },
   {
    "duration": 5,
    "start_time": "2022-11-22T20:02:06.578Z"
   },
   {
    "duration": 8,
    "start_time": "2022-11-22T20:02:06.585Z"
   },
   {
    "duration": 24,
    "start_time": "2022-11-22T20:02:06.595Z"
   },
   {
    "duration": 12,
    "start_time": "2022-11-22T20:02:06.621Z"
   },
   {
    "duration": 6,
    "start_time": "2022-11-22T20:02:06.635Z"
   },
   {
    "duration": 349,
    "start_time": "2022-11-22T20:02:06.643Z"
   },
   {
    "duration": 337,
    "start_time": "2022-11-22T20:02:06.993Z"
   },
   {
    "duration": 271,
    "start_time": "2022-11-22T20:02:07.332Z"
   },
   {
    "duration": 10,
    "start_time": "2022-11-22T20:02:07.605Z"
   },
   {
    "duration": 788,
    "start_time": "2022-11-22T20:02:07.616Z"
   },
   {
    "duration": 486,
    "start_time": "2022-11-22T20:02:08.406Z"
   },
   {
    "duration": 10,
    "start_time": "2022-11-22T20:02:08.893Z"
   },
   {
    "duration": 424,
    "start_time": "2022-11-22T20:02:08.904Z"
   },
   {
    "duration": 16,
    "start_time": "2022-11-22T20:02:09.330Z"
   },
   {
    "duration": 7,
    "start_time": "2022-11-22T20:02:09.348Z"
   },
   {
    "duration": 781,
    "start_time": "2022-11-22T20:02:09.356Z"
   },
   {
    "duration": 654,
    "start_time": "2022-11-22T20:02:10.139Z"
   },
   {
    "duration": 608,
    "start_time": "2022-11-22T20:02:10.794Z"
   },
   {
    "duration": 13,
    "start_time": "2022-11-22T20:02:11.404Z"
   },
   {
    "duration": 1382,
    "start_time": "2022-11-23T05:22:20.881Z"
   },
   {
    "duration": 4,
    "start_time": "2022-11-23T05:22:22.265Z"
   },
   {
    "duration": 76,
    "start_time": "2022-11-23T05:22:22.271Z"
   },
   {
    "duration": 12,
    "start_time": "2022-11-23T05:22:22.349Z"
   },
   {
    "duration": 11,
    "start_time": "2022-11-23T05:22:22.362Z"
   },
   {
    "duration": 10,
    "start_time": "2022-11-23T05:22:22.375Z"
   },
   {
    "duration": 229,
    "start_time": "2022-11-23T05:22:22.387Z"
   },
   {
    "duration": 10,
    "start_time": "2022-11-23T05:22:22.618Z"
   },
   {
    "duration": 27,
    "start_time": "2022-11-23T05:22:22.630Z"
   },
   {
    "duration": 10,
    "start_time": "2022-11-23T05:22:22.660Z"
   },
   {
    "duration": 44,
    "start_time": "2022-11-23T05:22:22.672Z"
   },
   {
    "duration": 1553,
    "start_time": "2022-11-23T05:22:22.718Z"
   },
   {
    "duration": 9,
    "start_time": "2022-11-23T05:22:24.272Z"
   },
   {
    "duration": 38,
    "start_time": "2022-11-23T05:22:24.282Z"
   },
   {
    "duration": 35,
    "start_time": "2022-11-23T05:22:24.322Z"
   },
   {
    "duration": 166,
    "start_time": "2022-11-23T05:22:24.359Z"
   },
   {
    "duration": 114,
    "start_time": "2022-11-23T05:22:24.527Z"
   },
   {
    "duration": 8,
    "start_time": "2022-11-23T05:22:24.643Z"
   },
   {
    "duration": 22,
    "start_time": "2022-11-23T05:22:24.653Z"
   },
   {
    "duration": 15,
    "start_time": "2022-11-23T05:22:24.677Z"
   },
   {
    "duration": 14,
    "start_time": "2022-11-23T05:22:24.693Z"
   },
   {
    "duration": 34,
    "start_time": "2022-11-23T05:22:24.709Z"
   },
   {
    "duration": 128,
    "start_time": "2022-11-23T05:22:24.745Z"
   },
   {
    "duration": 31,
    "start_time": "2022-11-23T05:22:24.874Z"
   },
   {
    "duration": 122,
    "start_time": "2022-11-23T05:22:24.913Z"
   },
   {
    "duration": 10,
    "start_time": "2022-11-23T05:22:25.036Z"
   },
   {
    "duration": 11,
    "start_time": "2022-11-23T05:22:25.047Z"
   },
   {
    "duration": 4,
    "start_time": "2022-11-23T05:22:25.061Z"
   },
   {
    "duration": 61,
    "start_time": "2022-11-23T05:22:25.066Z"
   },
   {
    "duration": 43,
    "start_time": "2022-11-23T05:22:25.129Z"
   },
   {
    "duration": 10,
    "start_time": "2022-11-23T05:22:25.174Z"
   },
   {
    "duration": 10,
    "start_time": "2022-11-23T05:22:25.185Z"
   },
   {
    "duration": 117,
    "start_time": "2022-11-23T05:22:25.196Z"
   },
   {
    "duration": 4,
    "start_time": "2022-11-23T05:22:25.314Z"
   },
   {
    "duration": 160,
    "start_time": "2022-11-23T05:22:25.319Z"
   },
   {
    "duration": 19,
    "start_time": "2022-11-23T05:22:25.480Z"
   },
   {
    "duration": 158,
    "start_time": "2022-11-23T05:22:25.500Z"
   },
   {
    "duration": 8,
    "start_time": "2022-11-23T05:22:25.660Z"
   },
   {
    "duration": 10,
    "start_time": "2022-11-23T05:22:25.670Z"
   },
   {
    "duration": 7,
    "start_time": "2022-11-23T05:22:25.681Z"
   },
   {
    "duration": 25,
    "start_time": "2022-11-23T05:22:25.689Z"
   },
   {
    "duration": 313,
    "start_time": "2022-11-23T05:22:25.716Z"
   },
   {
    "duration": 6,
    "start_time": "2022-11-23T05:22:26.030Z"
   },
   {
    "duration": 12,
    "start_time": "2022-11-23T05:22:26.037Z"
   },
   {
    "duration": 4,
    "start_time": "2022-11-23T05:22:26.051Z"
   },
   {
    "duration": 9,
    "start_time": "2022-11-23T05:22:26.056Z"
   },
   {
    "duration": 32,
    "start_time": "2022-11-23T05:22:26.066Z"
   },
   {
    "duration": 4,
    "start_time": "2022-11-23T05:22:26.100Z"
   },
   {
    "duration": 302,
    "start_time": "2022-11-23T05:22:26.106Z"
   },
   {
    "duration": 422,
    "start_time": "2022-11-23T05:22:26.409Z"
   },
   {
    "duration": 289,
    "start_time": "2022-11-23T05:22:26.833Z"
   },
   {
    "duration": 6,
    "start_time": "2022-11-23T05:22:27.124Z"
   },
   {
    "duration": 735,
    "start_time": "2022-11-23T05:22:27.131Z"
   },
   {
    "duration": 508,
    "start_time": "2022-11-23T05:22:27.867Z"
   },
   {
    "duration": 10,
    "start_time": "2022-11-23T05:22:28.376Z"
   },
   {
    "duration": 445,
    "start_time": "2022-11-23T05:22:28.387Z"
   },
   {
    "duration": 16,
    "start_time": "2022-11-23T05:22:28.834Z"
   },
   {
    "duration": 7,
    "start_time": "2022-11-23T05:22:28.852Z"
   },
   {
    "duration": 837,
    "start_time": "2022-11-23T05:22:28.861Z"
   },
   {
    "duration": 684,
    "start_time": "2022-11-23T05:22:29.700Z"
   },
   {
    "duration": 731,
    "start_time": "2022-11-23T05:22:30.386Z"
   },
   {
    "duration": 8,
    "start_time": "2022-11-23T05:22:31.118Z"
   },
   {
    "duration": 1441,
    "start_time": "2022-11-23T09:09:53.307Z"
   },
   {
    "duration": 5,
    "start_time": "2022-11-23T09:09:54.749Z"
   },
   {
    "duration": 88,
    "start_time": "2022-11-23T09:09:54.756Z"
   },
   {
    "duration": 15,
    "start_time": "2022-11-23T09:09:54.846Z"
   },
   {
    "duration": 12,
    "start_time": "2022-11-23T09:09:54.862Z"
   },
   {
    "duration": 10,
    "start_time": "2022-11-23T09:09:54.876Z"
   },
   {
    "duration": 200,
    "start_time": "2022-11-23T09:09:54.888Z"
   },
   {
    "duration": 25,
    "start_time": "2022-11-23T09:09:55.090Z"
   },
   {
    "duration": 20,
    "start_time": "2022-11-23T09:09:55.117Z"
   },
   {
    "duration": 22,
    "start_time": "2022-11-23T09:09:55.141Z"
   },
   {
    "duration": 43,
    "start_time": "2022-11-23T09:09:55.165Z"
   },
   {
    "duration": 822,
    "start_time": "2022-11-23T09:09:55.210Z"
   },
   {
    "duration": 17,
    "start_time": "2022-11-23T09:09:56.035Z"
   },
   {
    "duration": 85,
    "start_time": "2022-11-23T09:09:56.054Z"
   },
   {
    "duration": 81,
    "start_time": "2022-11-23T09:09:56.141Z"
   },
   {
    "duration": 238,
    "start_time": "2022-11-23T09:09:56.224Z"
   },
   {
    "duration": 88,
    "start_time": "2022-11-23T09:09:56.464Z"
   },
   {
    "duration": 7,
    "start_time": "2022-11-23T09:09:56.554Z"
   },
   {
    "duration": 15,
    "start_time": "2022-11-23T09:09:56.563Z"
   },
   {
    "duration": 10,
    "start_time": "2022-11-23T09:09:56.581Z"
   },
   {
    "duration": 22,
    "start_time": "2022-11-23T09:09:56.593Z"
   },
   {
    "duration": 41,
    "start_time": "2022-11-23T09:09:56.619Z"
   },
   {
    "duration": 166,
    "start_time": "2022-11-23T09:09:56.662Z"
   },
   {
    "duration": 39,
    "start_time": "2022-11-23T09:09:56.830Z"
   },
   {
    "duration": 176,
    "start_time": "2022-11-23T09:09:56.870Z"
   },
   {
    "duration": 12,
    "start_time": "2022-11-23T09:09:57.048Z"
   },
   {
    "duration": 17,
    "start_time": "2022-11-23T09:09:57.061Z"
   },
   {
    "duration": 141,
    "start_time": "2022-11-23T09:09:57.101Z"
   },
   {
    "duration": 0,
    "start_time": "2022-11-23T09:09:57.244Z"
   },
   {
    "duration": 1,
    "start_time": "2022-11-23T09:09:57.245Z"
   },
   {
    "duration": 0,
    "start_time": "2022-11-23T09:09:57.247Z"
   },
   {
    "duration": 0,
    "start_time": "2022-11-23T09:09:57.249Z"
   },
   {
    "duration": 0,
    "start_time": "2022-11-23T09:09:57.250Z"
   },
   {
    "duration": 0,
    "start_time": "2022-11-23T09:09:57.252Z"
   },
   {
    "duration": 0,
    "start_time": "2022-11-23T09:09:57.253Z"
   },
   {
    "duration": 0,
    "start_time": "2022-11-23T09:09:57.256Z"
   },
   {
    "duration": 0,
    "start_time": "2022-11-23T09:09:57.257Z"
   },
   {
    "duration": 0,
    "start_time": "2022-11-23T09:09:57.258Z"
   },
   {
    "duration": 0,
    "start_time": "2022-11-23T09:09:57.261Z"
   },
   {
    "duration": 0,
    "start_time": "2022-11-23T09:09:57.262Z"
   },
   {
    "duration": 0,
    "start_time": "2022-11-23T09:09:57.263Z"
   },
   {
    "duration": 0,
    "start_time": "2022-11-23T09:09:57.264Z"
   },
   {
    "duration": 0,
    "start_time": "2022-11-23T09:09:57.298Z"
   },
   {
    "duration": 0,
    "start_time": "2022-11-23T09:09:57.299Z"
   },
   {
    "duration": 0,
    "start_time": "2022-11-23T09:09:57.300Z"
   },
   {
    "duration": 0,
    "start_time": "2022-11-23T09:09:57.301Z"
   },
   {
    "duration": 0,
    "start_time": "2022-11-23T09:09:57.301Z"
   },
   {
    "duration": 0,
    "start_time": "2022-11-23T09:09:57.302Z"
   },
   {
    "duration": 0,
    "start_time": "2022-11-23T09:09:57.303Z"
   },
   {
    "duration": 0,
    "start_time": "2022-11-23T09:09:57.304Z"
   },
   {
    "duration": 0,
    "start_time": "2022-11-23T09:09:57.311Z"
   },
   {
    "duration": 0,
    "start_time": "2022-11-23T09:09:57.313Z"
   },
   {
    "duration": 0,
    "start_time": "2022-11-23T09:09:57.314Z"
   },
   {
    "duration": 0,
    "start_time": "2022-11-23T09:09:57.316Z"
   },
   {
    "duration": 0,
    "start_time": "2022-11-23T09:09:57.318Z"
   },
   {
    "duration": 0,
    "start_time": "2022-11-23T09:09:57.319Z"
   },
   {
    "duration": 0,
    "start_time": "2022-11-23T09:09:57.321Z"
   },
   {
    "duration": 0,
    "start_time": "2022-11-23T09:09:57.322Z"
   },
   {
    "duration": 0,
    "start_time": "2022-11-23T09:09:57.324Z"
   },
   {
    "duration": 0,
    "start_time": "2022-11-23T09:09:57.325Z"
   },
   {
    "duration": 0,
    "start_time": "2022-11-23T09:09:57.327Z"
   },
   {
    "duration": 0,
    "start_time": "2022-11-23T09:09:57.329Z"
   },
   {
    "duration": 0,
    "start_time": "2022-11-23T09:09:57.331Z"
   },
   {
    "duration": 14,
    "start_time": "2022-11-23T09:10:09.716Z"
   },
   {
    "duration": 6,
    "start_time": "2022-11-23T09:10:17.626Z"
   },
   {
    "duration": 26,
    "start_time": "2022-11-23T09:10:26.788Z"
   },
   {
    "duration": 4,
    "start_time": "2022-11-23T09:11:18.958Z"
   },
   {
    "duration": 20,
    "start_time": "2022-11-23T09:11:18.964Z"
   },
   {
    "duration": 66,
    "start_time": "2022-11-23T09:11:18.986Z"
   },
   {
    "duration": 10,
    "start_time": "2022-11-23T09:11:19.055Z"
   },
   {
    "duration": 22,
    "start_time": "2022-11-23T09:11:19.068Z"
   },
   {
    "duration": 47,
    "start_time": "2022-11-23T09:11:19.092Z"
   },
   {
    "duration": 114,
    "start_time": "2022-11-23T09:11:19.141Z"
   },
   {
    "duration": 11,
    "start_time": "2022-11-23T09:11:19.257Z"
   },
   {
    "duration": 73,
    "start_time": "2022-11-23T09:11:19.270Z"
   },
   {
    "duration": 26,
    "start_time": "2022-11-23T09:11:19.345Z"
   },
   {
    "duration": 42,
    "start_time": "2022-11-23T09:11:19.374Z"
   },
   {
    "duration": 604,
    "start_time": "2022-11-23T09:11:19.418Z"
   },
   {
    "duration": 11,
    "start_time": "2022-11-23T09:11:20.023Z"
   },
   {
    "duration": 69,
    "start_time": "2022-11-23T09:11:20.035Z"
   },
   {
    "duration": 38,
    "start_time": "2022-11-23T09:11:20.113Z"
   },
   {
    "duration": 211,
    "start_time": "2022-11-23T09:11:20.153Z"
   },
   {
    "duration": 44,
    "start_time": "2022-11-23T09:11:20.369Z"
   },
   {
    "duration": 8,
    "start_time": "2022-11-23T09:11:20.414Z"
   },
   {
    "duration": 20,
    "start_time": "2022-11-23T09:11:20.424Z"
   },
   {
    "duration": 11,
    "start_time": "2022-11-23T09:11:20.446Z"
   },
   {
    "duration": 15,
    "start_time": "2022-11-23T09:11:20.459Z"
   },
   {
    "duration": 70,
    "start_time": "2022-11-23T09:11:20.475Z"
   },
   {
    "duration": 182,
    "start_time": "2022-11-23T09:11:20.548Z"
   },
   {
    "duration": 33,
    "start_time": "2022-11-23T09:11:20.732Z"
   },
   {
    "duration": 152,
    "start_time": "2022-11-23T09:11:20.766Z"
   },
   {
    "duration": 13,
    "start_time": "2022-11-23T09:11:20.920Z"
   },
   {
    "duration": 14,
    "start_time": "2022-11-23T09:11:20.934Z"
   },
   {
    "duration": 5,
    "start_time": "2022-11-23T09:11:20.951Z"
   },
   {
    "duration": 103,
    "start_time": "2022-11-23T09:11:20.959Z"
   },
   {
    "duration": 98,
    "start_time": "2022-11-23T09:11:21.065Z"
   },
   {
    "duration": 12,
    "start_time": "2022-11-23T09:11:21.165Z"
   },
   {
    "duration": 34,
    "start_time": "2022-11-23T09:11:21.179Z"
   },
   {
    "duration": 122,
    "start_time": "2022-11-23T09:11:21.218Z"
   },
   {
    "duration": 5,
    "start_time": "2022-11-23T09:11:21.342Z"
   },
   {
    "duration": 196,
    "start_time": "2022-11-23T09:11:21.349Z"
   },
   {
    "duration": 21,
    "start_time": "2022-11-23T09:11:21.547Z"
   },
   {
    "duration": 188,
    "start_time": "2022-11-23T09:11:21.570Z"
   },
   {
    "duration": 11,
    "start_time": "2022-11-23T09:11:21.760Z"
   },
   {
    "duration": 35,
    "start_time": "2022-11-23T09:11:21.773Z"
   },
   {
    "duration": 11,
    "start_time": "2022-11-23T09:11:21.813Z"
   },
   {
    "duration": 9,
    "start_time": "2022-11-23T09:11:21.826Z"
   },
   {
    "duration": 380,
    "start_time": "2022-11-23T09:11:21.836Z"
   },
   {
    "duration": 7,
    "start_time": "2022-11-23T09:11:22.218Z"
   },
   {
    "duration": 13,
    "start_time": "2022-11-23T09:11:22.227Z"
   },
   {
    "duration": 7,
    "start_time": "2022-11-23T09:11:22.242Z"
   },
   {
    "duration": 19,
    "start_time": "2022-11-23T09:11:22.251Z"
   },
   {
    "duration": 41,
    "start_time": "2022-11-23T09:11:22.272Z"
   },
   {
    "duration": 10,
    "start_time": "2022-11-23T09:11:22.315Z"
   },
   {
    "duration": 388,
    "start_time": "2022-11-23T09:11:22.327Z"
   },
   {
    "duration": 423,
    "start_time": "2022-11-23T09:11:22.717Z"
   },
   {
    "duration": 347,
    "start_time": "2022-11-23T09:11:23.142Z"
   },
   {
    "duration": 25,
    "start_time": "2022-11-23T09:11:23.491Z"
   },
   {
    "duration": 1068,
    "start_time": "2022-11-23T09:11:23.517Z"
   },
   {
    "duration": 648,
    "start_time": "2022-11-23T09:11:24.586Z"
   },
   {
    "duration": 12,
    "start_time": "2022-11-23T09:11:25.236Z"
   },
   {
    "duration": 499,
    "start_time": "2022-11-23T09:11:25.250Z"
   },
   {
    "duration": 22,
    "start_time": "2022-11-23T09:11:25.751Z"
   },
   {
    "duration": 41,
    "start_time": "2022-11-23T09:11:25.775Z"
   },
   {
    "duration": 980,
    "start_time": "2022-11-23T09:11:25.817Z"
   },
   {
    "duration": 758,
    "start_time": "2022-11-23T09:11:26.799Z"
   },
   {
    "duration": 798,
    "start_time": "2022-11-23T09:11:27.559Z"
   },
   {
    "duration": 10,
    "start_time": "2022-11-23T09:11:28.360Z"
   },
   {
    "duration": 67,
    "start_time": "2022-11-23T09:18:57.234Z"
   },
   {
    "duration": 5,
    "start_time": "2022-11-23T09:19:04.941Z"
   },
   {
    "duration": 11,
    "start_time": "2022-11-23T09:19:04.949Z"
   },
   {
    "duration": 49,
    "start_time": "2022-11-23T09:19:04.962Z"
   },
   {
    "duration": 9,
    "start_time": "2022-11-23T09:19:05.013Z"
   },
   {
    "duration": 17,
    "start_time": "2022-11-23T09:19:05.025Z"
   },
   {
    "duration": 15,
    "start_time": "2022-11-23T09:19:05.045Z"
   },
   {
    "duration": 96,
    "start_time": "2022-11-23T09:19:05.062Z"
   },
   {
    "duration": 10,
    "start_time": "2022-11-23T09:19:05.160Z"
   },
   {
    "duration": 41,
    "start_time": "2022-11-23T09:19:05.172Z"
   },
   {
    "duration": 17,
    "start_time": "2022-11-23T09:19:05.215Z"
   },
   {
    "duration": 33,
    "start_time": "2022-11-23T09:19:05.234Z"
   },
   {
    "duration": 642,
    "start_time": "2022-11-23T09:19:05.384Z"
   },
   {
    "duration": 15,
    "start_time": "2022-11-23T09:19:06.029Z"
   },
   {
    "duration": 55,
    "start_time": "2022-11-23T09:19:06.046Z"
   },
   {
    "duration": 54,
    "start_time": "2022-11-23T09:19:06.105Z"
   },
   {
    "duration": 230,
    "start_time": "2022-11-23T09:19:06.162Z"
   },
   {
    "duration": 52,
    "start_time": "2022-11-23T09:19:06.396Z"
   },
   {
    "duration": 9,
    "start_time": "2022-11-23T09:19:06.450Z"
   },
   {
    "duration": 18,
    "start_time": "2022-11-23T09:19:06.460Z"
   },
   {
    "duration": 9,
    "start_time": "2022-11-23T09:19:06.480Z"
   },
   {
    "duration": 20,
    "start_time": "2022-11-23T09:19:06.491Z"
   },
   {
    "duration": 47,
    "start_time": "2022-11-23T09:19:06.512Z"
   },
   {
    "duration": 157,
    "start_time": "2022-11-23T09:19:06.561Z"
   },
   {
    "duration": 42,
    "start_time": "2022-11-23T09:19:06.720Z"
   },
   {
    "duration": 137,
    "start_time": "2022-11-23T09:19:06.763Z"
   },
   {
    "duration": 16,
    "start_time": "2022-11-23T09:19:06.906Z"
   },
   {
    "duration": 15,
    "start_time": "2022-11-23T09:19:06.923Z"
   },
   {
    "duration": 9,
    "start_time": "2022-11-23T09:19:06.940Z"
   },
   {
    "duration": 78,
    "start_time": "2022-11-23T09:19:06.950Z"
   },
   {
    "duration": 46,
    "start_time": "2022-11-23T09:19:07.032Z"
   },
   {
    "duration": 36,
    "start_time": "2022-11-23T09:19:07.079Z"
   },
   {
    "duration": 9,
    "start_time": "2022-11-23T09:19:07.116Z"
   },
   {
    "duration": 125,
    "start_time": "2022-11-23T09:19:07.127Z"
   },
   {
    "duration": 4,
    "start_time": "2022-11-23T09:19:07.254Z"
   },
   {
    "duration": 173,
    "start_time": "2022-11-23T09:19:07.259Z"
   },
   {
    "duration": 21,
    "start_time": "2022-11-23T09:19:07.434Z"
   },
   {
    "duration": 180,
    "start_time": "2022-11-23T09:19:07.456Z"
   },
   {
    "duration": 14,
    "start_time": "2022-11-23T09:19:07.637Z"
   },
   {
    "duration": 0,
    "start_time": "2022-11-23T09:19:07.653Z"
   },
   {
    "duration": 0,
    "start_time": "2022-11-23T09:19:07.655Z"
   },
   {
    "duration": 0,
    "start_time": "2022-11-23T09:19:07.656Z"
   },
   {
    "duration": 0,
    "start_time": "2022-11-23T09:19:07.658Z"
   },
   {
    "duration": 0,
    "start_time": "2022-11-23T09:19:07.660Z"
   },
   {
    "duration": 0,
    "start_time": "2022-11-23T09:19:07.661Z"
   },
   {
    "duration": 0,
    "start_time": "2022-11-23T09:19:07.663Z"
   },
   {
    "duration": 0,
    "start_time": "2022-11-23T09:19:07.695Z"
   },
   {
    "duration": 0,
    "start_time": "2022-11-23T09:19:07.700Z"
   },
   {
    "duration": 0,
    "start_time": "2022-11-23T09:19:07.701Z"
   },
   {
    "duration": 0,
    "start_time": "2022-11-23T09:19:07.705Z"
   },
   {
    "duration": 0,
    "start_time": "2022-11-23T09:19:07.707Z"
   },
   {
    "duration": 0,
    "start_time": "2022-11-23T09:19:07.708Z"
   },
   {
    "duration": 0,
    "start_time": "2022-11-23T09:19:07.709Z"
   },
   {
    "duration": 0,
    "start_time": "2022-11-23T09:19:07.710Z"
   },
   {
    "duration": 0,
    "start_time": "2022-11-23T09:19:07.712Z"
   },
   {
    "duration": 0,
    "start_time": "2022-11-23T09:19:07.716Z"
   },
   {
    "duration": 0,
    "start_time": "2022-11-23T09:19:07.718Z"
   },
   {
    "duration": 0,
    "start_time": "2022-11-23T09:19:07.719Z"
   },
   {
    "duration": 0,
    "start_time": "2022-11-23T09:19:07.721Z"
   },
   {
    "duration": 0,
    "start_time": "2022-11-23T09:19:07.722Z"
   },
   {
    "duration": 0,
    "start_time": "2022-11-23T09:19:07.724Z"
   },
   {
    "duration": 0,
    "start_time": "2022-11-23T09:19:07.725Z"
   },
   {
    "duration": 0,
    "start_time": "2022-11-23T09:19:07.727Z"
   },
   {
    "duration": 0,
    "start_time": "2022-11-23T09:19:07.728Z"
   },
   {
    "duration": 8,
    "start_time": "2022-11-23T09:19:11.870Z"
   },
   {
    "duration": 10,
    "start_time": "2022-11-23T09:19:15.484Z"
   },
   {
    "duration": 10,
    "start_time": "2022-11-23T09:19:15.779Z"
   },
   {
    "duration": 8,
    "start_time": "2022-11-23T09:19:20.779Z"
   },
   {
    "duration": 9,
    "start_time": "2022-11-23T09:19:21.514Z"
   },
   {
    "duration": 7,
    "start_time": "2022-11-23T09:19:23.968Z"
   },
   {
    "duration": 374,
    "start_time": "2022-11-23T09:24:38.549Z"
   },
   {
    "duration": 8,
    "start_time": "2022-11-23T09:24:40.127Z"
   },
   {
    "duration": 6,
    "start_time": "2022-11-23T09:24:40.137Z"
   },
   {
    "duration": 5,
    "start_time": "2022-11-23T09:24:42.964Z"
   },
   {
    "duration": 17,
    "start_time": "2022-11-23T09:24:44.123Z"
   },
   {
    "duration": 11,
    "start_time": "2022-11-23T09:24:47.525Z"
   },
   {
    "duration": 10,
    "start_time": "2022-11-23T09:30:24.354Z"
   },
   {
    "duration": 14,
    "start_time": "2022-11-23T09:30:24.826Z"
   },
   {
    "duration": 10,
    "start_time": "2022-11-23T09:30:25.792Z"
   },
   {
    "duration": 365,
    "start_time": "2022-11-23T09:30:26.368Z"
   },
   {
    "duration": 338,
    "start_time": "2022-11-23T09:30:29.519Z"
   },
   {
    "duration": 360,
    "start_time": "2022-11-23T09:30:29.991Z"
   },
   {
    "duration": 8,
    "start_time": "2022-11-23T09:30:33.458Z"
   },
   {
    "duration": 1078,
    "start_time": "2022-11-23T09:31:52.074Z"
   },
   {
    "duration": 628,
    "start_time": "2022-11-23T09:31:54.885Z"
   },
   {
    "duration": 11,
    "start_time": "2022-11-23T09:31:55.568Z"
   },
   {
    "duration": 72,
    "start_time": "2022-11-23T09:31:56.746Z"
   },
   {
    "duration": 13,
    "start_time": "2022-11-23T09:33:22.080Z"
   },
   {
    "duration": 999,
    "start_time": "2022-11-23T09:33:42.551Z"
   },
   {
    "duration": 11,
    "start_time": "2022-11-23T09:33:46.815Z"
   },
   {
    "duration": 3,
    "start_time": "2022-11-23T09:33:49.589Z"
   },
   {
    "duration": 21,
    "start_time": "2022-11-23T09:33:49.594Z"
   },
   {
    "duration": 32,
    "start_time": "2022-11-23T09:33:49.617Z"
   },
   {
    "duration": 9,
    "start_time": "2022-11-23T09:33:49.651Z"
   },
   {
    "duration": 16,
    "start_time": "2022-11-23T09:33:49.662Z"
   },
   {
    "duration": 12,
    "start_time": "2022-11-23T09:33:49.680Z"
   },
   {
    "duration": 88,
    "start_time": "2022-11-23T09:33:49.694Z"
   },
   {
    "duration": 9,
    "start_time": "2022-11-23T09:33:49.783Z"
   },
   {
    "duration": 36,
    "start_time": "2022-11-23T09:33:49.794Z"
   },
   {
    "duration": 10,
    "start_time": "2022-11-23T09:33:49.833Z"
   },
   {
    "duration": 32,
    "start_time": "2022-11-23T09:33:49.845Z"
   },
   {
    "duration": 628,
    "start_time": "2022-11-23T09:33:49.879Z"
   },
   {
    "duration": 14,
    "start_time": "2022-11-23T09:33:50.508Z"
   },
   {
    "duration": 72,
    "start_time": "2022-11-23T09:33:50.523Z"
   },
   {
    "duration": 38,
    "start_time": "2022-11-23T09:33:50.597Z"
   },
   {
    "duration": 207,
    "start_time": "2022-11-23T09:33:50.637Z"
   },
   {
    "duration": 40,
    "start_time": "2022-11-23T09:33:50.845Z"
   },
   {
    "duration": 10,
    "start_time": "2022-11-23T09:33:50.888Z"
   },
   {
    "duration": 64,
    "start_time": "2022-11-23T09:33:50.902Z"
   },
   {
    "duration": 24,
    "start_time": "2022-11-23T09:33:50.969Z"
   },
   {
    "duration": 43,
    "start_time": "2022-11-23T09:33:51.000Z"
   },
   {
    "duration": 41,
    "start_time": "2022-11-23T09:33:51.045Z"
   },
   {
    "duration": 129,
    "start_time": "2022-11-23T09:33:51.087Z"
   },
   {
    "duration": 34,
    "start_time": "2022-11-23T09:33:51.220Z"
   },
   {
    "duration": 130,
    "start_time": "2022-11-23T09:33:51.258Z"
   },
   {
    "duration": 25,
    "start_time": "2022-11-23T09:33:51.390Z"
   },
   {
    "duration": 74,
    "start_time": "2022-11-23T09:33:51.417Z"
   },
   {
    "duration": 24,
    "start_time": "2022-11-23T09:33:51.493Z"
   },
   {
    "duration": 62,
    "start_time": "2022-11-23T09:33:51.520Z"
   },
   {
    "duration": 58,
    "start_time": "2022-11-23T09:33:51.584Z"
   },
   {
    "duration": 11,
    "start_time": "2022-11-23T09:33:51.644Z"
   },
   {
    "duration": 33,
    "start_time": "2022-11-23T09:33:51.657Z"
   },
   {
    "duration": 148,
    "start_time": "2022-11-23T09:33:51.692Z"
   },
   {
    "duration": 4,
    "start_time": "2022-11-23T09:33:51.842Z"
   },
   {
    "duration": 189,
    "start_time": "2022-11-23T09:33:51.848Z"
   },
   {
    "duration": 21,
    "start_time": "2022-11-23T09:33:52.038Z"
   },
   {
    "duration": 200,
    "start_time": "2022-11-23T09:33:52.061Z"
   },
   {
    "duration": 11,
    "start_time": "2022-11-23T09:33:52.263Z"
   },
   {
    "duration": 58,
    "start_time": "2022-11-23T09:33:52.276Z"
   },
   {
    "duration": 30,
    "start_time": "2022-11-23T09:33:52.336Z"
   },
   {
    "duration": 33,
    "start_time": "2022-11-23T09:33:52.368Z"
   },
   {
    "duration": 354,
    "start_time": "2022-11-23T09:33:52.413Z"
   },
   {
    "duration": 7,
    "start_time": "2022-11-23T09:33:52.769Z"
   },
   {
    "duration": 43,
    "start_time": "2022-11-23T09:33:52.777Z"
   },
   {
    "duration": 21,
    "start_time": "2022-11-23T09:33:52.822Z"
   },
   {
    "duration": 29,
    "start_time": "2022-11-23T09:33:52.845Z"
   },
   {
    "duration": 24,
    "start_time": "2022-11-23T09:33:52.875Z"
   },
   {
    "duration": 24,
    "start_time": "2022-11-23T09:33:52.900Z"
   },
   {
    "duration": 361,
    "start_time": "2022-11-23T09:33:52.926Z"
   },
   {
    "duration": 333,
    "start_time": "2022-11-23T09:33:53.288Z"
   },
   {
    "duration": 426,
    "start_time": "2022-11-23T09:33:53.623Z"
   },
   {
    "duration": 8,
    "start_time": "2022-11-23T09:33:54.051Z"
   },
   {
    "duration": 13,
    "start_time": "2022-11-23T09:33:54.061Z"
   },
   {
    "duration": 0,
    "start_time": "2022-11-23T09:33:54.076Z"
   },
   {
    "duration": 0,
    "start_time": "2022-11-23T09:33:54.077Z"
   },
   {
    "duration": 0,
    "start_time": "2022-11-23T09:33:54.078Z"
   },
   {
    "duration": 0,
    "start_time": "2022-11-23T09:33:54.096Z"
   },
   {
    "duration": 0,
    "start_time": "2022-11-23T09:33:54.097Z"
   },
   {
    "duration": 0,
    "start_time": "2022-11-23T09:33:54.098Z"
   },
   {
    "duration": 0,
    "start_time": "2022-11-23T09:33:54.101Z"
   },
   {
    "duration": 1,
    "start_time": "2022-11-23T09:33:54.101Z"
   },
   {
    "duration": 0,
    "start_time": "2022-11-23T09:33:54.102Z"
   },
   {
    "duration": 0,
    "start_time": "2022-11-23T09:33:54.103Z"
   },
   {
    "duration": 19,
    "start_time": "2022-11-23T09:33:56.800Z"
   },
   {
    "duration": 949,
    "start_time": "2022-11-23T09:34:07.236Z"
   },
   {
    "duration": 654,
    "start_time": "2022-11-23T09:34:11.324Z"
   },
   {
    "duration": 35,
    "start_time": "2022-11-23T09:34:11.980Z"
   },
   {
    "duration": 63,
    "start_time": "2022-11-23T09:34:14.987Z"
   },
   {
    "duration": 18,
    "start_time": "2022-11-23T09:38:59.266Z"
   },
   {
    "duration": 13,
    "start_time": "2022-11-23T09:38:59.507Z"
   },
   {
    "duration": 863,
    "start_time": "2022-11-23T09:38:59.860Z"
   },
   {
    "duration": 796,
    "start_time": "2022-11-23T09:39:00.980Z"
   },
   {
    "duration": 707,
    "start_time": "2022-11-23T09:39:02.864Z"
   },
   {
    "duration": 9,
    "start_time": "2022-11-23T09:40:15.432Z"
   },
   {
    "duration": 1774,
    "start_time": "2022-11-23T09:52:44.381Z"
   },
   {
    "duration": 5,
    "start_time": "2022-11-23T09:52:46.158Z"
   },
   {
    "duration": 131,
    "start_time": "2022-11-23T09:52:46.165Z"
   },
   {
    "duration": 16,
    "start_time": "2022-11-23T09:52:46.298Z"
   },
   {
    "duration": 15,
    "start_time": "2022-11-23T09:52:46.317Z"
   },
   {
    "duration": 25,
    "start_time": "2022-11-23T09:52:46.334Z"
   },
   {
    "duration": 357,
    "start_time": "2022-11-23T09:52:46.360Z"
   },
   {
    "duration": 9,
    "start_time": "2022-11-23T09:52:46.719Z"
   },
   {
    "duration": 34,
    "start_time": "2022-11-23T09:52:46.731Z"
   },
   {
    "duration": 44,
    "start_time": "2022-11-23T09:52:46.767Z"
   },
   {
    "duration": 36,
    "start_time": "2022-11-23T09:52:46.812Z"
   },
   {
    "duration": 2142,
    "start_time": "2022-11-23T09:52:46.849Z"
   },
   {
    "duration": 11,
    "start_time": "2022-11-23T09:52:48.993Z"
   },
   {
    "duration": 73,
    "start_time": "2022-11-23T09:52:49.006Z"
   },
   {
    "duration": 47,
    "start_time": "2022-11-23T09:52:49.086Z"
   },
   {
    "duration": 258,
    "start_time": "2022-11-23T09:52:49.135Z"
   },
   {
    "duration": 142,
    "start_time": "2022-11-23T09:52:49.396Z"
   },
   {
    "duration": 8,
    "start_time": "2022-11-23T09:52:49.540Z"
   },
   {
    "duration": 55,
    "start_time": "2022-11-23T09:52:49.549Z"
   },
   {
    "duration": 11,
    "start_time": "2022-11-23T09:52:49.606Z"
   },
   {
    "duration": 16,
    "start_time": "2022-11-23T09:52:49.619Z"
   },
   {
    "duration": 67,
    "start_time": "2022-11-23T09:52:49.637Z"
   },
   {
    "duration": 211,
    "start_time": "2022-11-23T09:52:49.706Z"
   },
   {
    "duration": 15,
    "start_time": "2022-11-23T09:52:49.921Z"
   },
   {
    "duration": 25,
    "start_time": "2022-11-23T09:52:58.770Z"
   },
   {
    "duration": 174,
    "start_time": "2022-11-23T09:53:44.071Z"
   },
   {
    "duration": 42,
    "start_time": "2022-11-23T09:53:59.174Z"
   },
   {
    "duration": 19,
    "start_time": "2022-11-23T10:04:51.288Z"
   },
   {
    "duration": 31,
    "start_time": "2022-11-23T10:05:06.280Z"
   },
   {
    "duration": 20,
    "start_time": "2022-11-23T10:05:10.386Z"
   },
   {
    "duration": 16,
    "start_time": "2022-11-23T10:05:13.009Z"
   },
   {
    "duration": 538,
    "start_time": "2022-11-23T10:05:24.243Z"
   },
   {
    "duration": 20,
    "start_time": "2022-11-23T10:05:54.213Z"
   },
   {
    "duration": 38,
    "start_time": "2022-11-23T10:07:14.098Z"
   },
   {
    "duration": 47,
    "start_time": "2022-11-23T10:07:21.336Z"
   },
   {
    "duration": 10,
    "start_time": "2022-11-23T10:07:48.593Z"
   },
   {
    "duration": 6,
    "start_time": "2022-11-23T10:07:52.678Z"
   },
   {
    "duration": 18,
    "start_time": "2022-11-23T10:07:52.687Z"
   },
   {
    "duration": 30,
    "start_time": "2022-11-23T10:07:52.706Z"
   },
   {
    "duration": 9,
    "start_time": "2022-11-23T10:07:52.738Z"
   },
   {
    "duration": 51,
    "start_time": "2022-11-23T10:07:52.749Z"
   },
   {
    "duration": 9,
    "start_time": "2022-11-23T10:07:52.801Z"
   },
   {
    "duration": 107,
    "start_time": "2022-11-23T10:07:52.812Z"
   },
   {
    "duration": 9,
    "start_time": "2022-11-23T10:07:52.921Z"
   },
   {
    "duration": 86,
    "start_time": "2022-11-23T10:07:52.931Z"
   },
   {
    "duration": 18,
    "start_time": "2022-11-23T10:07:53.018Z"
   },
   {
    "duration": 97,
    "start_time": "2022-11-23T10:07:53.038Z"
   },
   {
    "duration": 696,
    "start_time": "2022-11-23T10:07:53.137Z"
   },
   {
    "duration": 13,
    "start_time": "2022-11-23T10:07:53.837Z"
   },
   {
    "duration": 91,
    "start_time": "2022-11-23T10:07:53.852Z"
   },
   {
    "duration": 64,
    "start_time": "2022-11-23T10:07:53.945Z"
   },
   {
    "duration": 245,
    "start_time": "2022-11-23T10:07:54.010Z"
   },
   {
    "duration": 52,
    "start_time": "2022-11-23T10:07:54.260Z"
   },
   {
    "duration": 8,
    "start_time": "2022-11-23T10:07:54.314Z"
   },
   {
    "duration": 14,
    "start_time": "2022-11-23T10:07:54.324Z"
   },
   {
    "duration": 17,
    "start_time": "2022-11-23T10:07:54.340Z"
   },
   {
    "duration": 51,
    "start_time": "2022-11-23T10:07:54.359Z"
   },
   {
    "duration": 51,
    "start_time": "2022-11-23T10:07:54.412Z"
   },
   {
    "duration": 177,
    "start_time": "2022-11-23T10:07:54.465Z"
   },
   {
    "duration": 56,
    "start_time": "2022-11-23T10:07:54.644Z"
   },
   {
    "duration": 168,
    "start_time": "2022-11-23T10:07:54.702Z"
   },
   {
    "duration": 26,
    "start_time": "2022-11-23T10:07:54.872Z"
   },
   {
    "duration": 22,
    "start_time": "2022-11-23T10:07:54.900Z"
   },
   {
    "duration": 8,
    "start_time": "2022-11-23T10:07:54.924Z"
   },
   {
    "duration": 97,
    "start_time": "2022-11-23T10:07:54.935Z"
   },
   {
    "duration": 77,
    "start_time": "2022-11-23T10:07:55.035Z"
   },
   {
    "duration": 12,
    "start_time": "2022-11-23T10:07:55.114Z"
   },
   {
    "duration": 14,
    "start_time": "2022-11-23T10:07:55.127Z"
   },
   {
    "duration": 154,
    "start_time": "2022-11-23T10:07:55.156Z"
   },
   {
    "duration": 4,
    "start_time": "2022-11-23T10:07:55.312Z"
   },
   {
    "duration": 212,
    "start_time": "2022-11-23T10:07:55.317Z"
   },
   {
    "duration": 26,
    "start_time": "2022-11-23T10:07:55.531Z"
   },
   {
    "duration": 248,
    "start_time": "2022-11-23T10:07:55.564Z"
   },
   {
    "duration": 11,
    "start_time": "2022-11-23T10:07:55.813Z"
   },
   {
    "duration": 18,
    "start_time": "2022-11-23T10:07:55.825Z"
   },
   {
    "duration": 5,
    "start_time": "2022-11-23T10:07:55.845Z"
   },
   {
    "duration": 48,
    "start_time": "2022-11-23T10:07:55.854Z"
   },
   {
    "duration": 514,
    "start_time": "2022-11-23T10:07:55.903Z"
   },
   {
    "duration": 7,
    "start_time": "2022-11-23T10:07:56.419Z"
   },
   {
    "duration": 10,
    "start_time": "2022-11-23T10:07:56.429Z"
   },
   {
    "duration": 16,
    "start_time": "2022-11-23T10:07:56.441Z"
   },
   {
    "duration": 49,
    "start_time": "2022-11-23T10:07:56.459Z"
   },
   {
    "duration": 13,
    "start_time": "2022-11-23T10:07:56.509Z"
   },
   {
    "duration": 6,
    "start_time": "2022-11-23T10:07:56.523Z"
   },
   {
    "duration": 416,
    "start_time": "2022-11-23T10:07:56.530Z"
   },
   {
    "duration": 399,
    "start_time": "2022-11-23T10:07:56.948Z"
   },
   {
    "duration": 375,
    "start_time": "2022-11-23T10:07:57.349Z"
   },
   {
    "duration": 7,
    "start_time": "2022-11-23T10:07:57.726Z"
   },
   {
    "duration": 0,
    "start_time": "2022-11-23T10:07:57.782Z"
   },
   {
    "duration": 25,
    "start_time": "2022-11-23T10:08:12.805Z"
   },
   {
    "duration": 417,
    "start_time": "2022-11-23T10:08:25.901Z"
   },
   {
    "duration": 1292,
    "start_time": "2022-11-23T10:13:08.237Z"
   },
   {
    "duration": 1312,
    "start_time": "2022-11-23T10:13:30.204Z"
   },
   {
    "duration": 1538,
    "start_time": "2022-11-23T10:14:04.489Z"
   },
   {
    "duration": 5,
    "start_time": "2022-11-23T10:14:06.029Z"
   },
   {
    "duration": 59,
    "start_time": "2022-11-23T10:14:06.035Z"
   },
   {
    "duration": 13,
    "start_time": "2022-11-23T10:14:06.096Z"
   },
   {
    "duration": 14,
    "start_time": "2022-11-23T10:14:06.112Z"
   },
   {
    "duration": 8,
    "start_time": "2022-11-23T10:14:06.127Z"
   },
   {
    "duration": 134,
    "start_time": "2022-11-23T10:14:06.137Z"
   },
   {
    "duration": 29,
    "start_time": "2022-11-23T10:14:06.273Z"
   },
   {
    "duration": 18,
    "start_time": "2022-11-23T10:14:06.305Z"
   },
   {
    "duration": 10,
    "start_time": "2022-11-23T10:14:06.324Z"
   },
   {
    "duration": 74,
    "start_time": "2022-11-23T10:14:06.336Z"
   },
   {
    "duration": 826,
    "start_time": "2022-11-23T10:14:06.412Z"
   },
   {
    "duration": 10,
    "start_time": "2022-11-23T10:14:07.240Z"
   },
   {
    "duration": 102,
    "start_time": "2022-11-23T10:14:07.256Z"
   },
   {
    "duration": 61,
    "start_time": "2022-11-23T10:14:07.364Z"
   },
   {
    "duration": 246,
    "start_time": "2022-11-23T10:14:07.427Z"
   },
   {
    "duration": 50,
    "start_time": "2022-11-23T10:14:07.677Z"
   },
   {
    "duration": 8,
    "start_time": "2022-11-23T10:14:07.729Z"
   },
   {
    "duration": 29,
    "start_time": "2022-11-23T10:14:07.739Z"
   },
   {
    "duration": 35,
    "start_time": "2022-11-23T10:14:07.770Z"
   },
   {
    "duration": 11,
    "start_time": "2022-11-23T10:14:07.807Z"
   },
   {
    "duration": 59,
    "start_time": "2022-11-23T10:14:07.820Z"
   },
   {
    "duration": 195,
    "start_time": "2022-11-23T10:14:07.881Z"
   },
   {
    "duration": 45,
    "start_time": "2022-11-23T10:14:08.078Z"
   },
   {
    "duration": 210,
    "start_time": "2022-11-23T10:14:08.124Z"
   },
   {
    "duration": 25,
    "start_time": "2022-11-23T10:14:08.336Z"
   },
   {
    "duration": 40,
    "start_time": "2022-11-23T10:14:08.362Z"
   },
   {
    "duration": 28,
    "start_time": "2022-11-23T10:14:08.408Z"
   },
   {
    "duration": 89,
    "start_time": "2022-11-23T10:14:08.438Z"
   },
   {
    "duration": 72,
    "start_time": "2022-11-23T10:14:08.529Z"
   },
   {
    "duration": 11,
    "start_time": "2022-11-23T10:14:08.604Z"
   },
   {
    "duration": 16,
    "start_time": "2022-11-23T10:14:08.617Z"
   },
   {
    "duration": 155,
    "start_time": "2022-11-23T10:14:08.635Z"
   },
   {
    "duration": 10,
    "start_time": "2022-11-23T10:14:08.792Z"
   },
   {
    "duration": 230,
    "start_time": "2022-11-23T10:14:08.804Z"
   },
   {
    "duration": 47,
    "start_time": "2022-11-23T10:14:09.036Z"
   },
   {
    "duration": 245,
    "start_time": "2022-11-23T10:14:09.085Z"
   },
   {
    "duration": 11,
    "start_time": "2022-11-23T10:14:09.332Z"
   },
   {
    "duration": 35,
    "start_time": "2022-11-23T10:14:09.351Z"
   },
   {
    "duration": 26,
    "start_time": "2022-11-23T10:14:09.389Z"
   },
   {
    "duration": 6,
    "start_time": "2022-11-23T10:14:09.420Z"
   },
   {
    "duration": 473,
    "start_time": "2022-11-23T10:14:09.428Z"
   },
   {
    "duration": 11,
    "start_time": "2022-11-23T10:14:09.904Z"
   },
   {
    "duration": 75,
    "start_time": "2022-11-23T10:14:09.917Z"
   },
   {
    "duration": 26,
    "start_time": "2022-11-23T10:14:09.995Z"
   },
   {
    "duration": 84,
    "start_time": "2022-11-23T10:14:10.023Z"
   },
   {
    "duration": 17,
    "start_time": "2022-11-23T10:14:10.109Z"
   },
   {
    "duration": 14,
    "start_time": "2022-11-23T10:14:10.129Z"
   },
   {
    "duration": 531,
    "start_time": "2022-11-23T10:14:10.147Z"
   },
   {
    "duration": 514,
    "start_time": "2022-11-23T10:14:10.680Z"
   },
   {
    "duration": 448,
    "start_time": "2022-11-23T10:14:11.196Z"
   },
   {
    "duration": 469,
    "start_time": "2022-11-23T10:14:11.646Z"
   },
   {
    "duration": 7,
    "start_time": "2022-11-23T10:14:12.117Z"
   },
   {
    "duration": 1106,
    "start_time": "2022-11-23T10:14:12.127Z"
   },
   {
    "duration": 685,
    "start_time": "2022-11-23T10:14:13.235Z"
   },
   {
    "duration": 14,
    "start_time": "2022-11-23T10:14:13.922Z"
   },
   {
    "duration": 646,
    "start_time": "2022-11-23T10:14:13.938Z"
   },
   {
    "duration": 25,
    "start_time": "2022-11-23T10:14:14.586Z"
   },
   {
    "duration": 24,
    "start_time": "2022-11-23T10:14:14.613Z"
   },
   {
    "duration": 1163,
    "start_time": "2022-11-23T10:14:14.639Z"
   },
   {
    "duration": 792,
    "start_time": "2022-11-23T10:14:15.806Z"
   },
   {
    "duration": 896,
    "start_time": "2022-11-23T10:14:16.600Z"
   },
   {
    "duration": 18,
    "start_time": "2022-11-23T10:14:17.498Z"
   },
   {
    "duration": 66,
    "start_time": "2022-11-23T10:14:57.392Z"
   },
   {
    "duration": 25,
    "start_time": "2022-11-23T10:17:17.296Z"
   },
   {
    "duration": 29,
    "start_time": "2022-11-23T10:18:04.878Z"
   },
   {
    "duration": 20,
    "start_time": "2022-11-23T10:18:42.470Z"
   },
   {
    "duration": 39,
    "start_time": "2022-11-23T10:18:47.494Z"
   },
   {
    "duration": 61,
    "start_time": "2022-11-23T10:19:13.317Z"
   },
   {
    "duration": 36,
    "start_time": "2022-11-23T10:19:25.385Z"
   },
   {
    "duration": 31,
    "start_time": "2022-11-23T10:19:34.917Z"
   },
   {
    "duration": 24,
    "start_time": "2022-11-23T10:19:44.686Z"
   },
   {
    "duration": 52,
    "start_time": "2022-11-23T10:20:57.944Z"
   },
   {
    "duration": 5,
    "start_time": "2022-11-23T10:21:08.836Z"
   },
   {
    "duration": 4,
    "start_time": "2022-11-23T10:21:44.582Z"
   },
   {
    "duration": 14,
    "start_time": "2022-11-23T10:22:10.197Z"
   },
   {
    "duration": 5,
    "start_time": "2022-11-23T10:22:38.092Z"
   },
   {
    "duration": 7,
    "start_time": "2022-11-23T10:22:38.099Z"
   },
   {
    "duration": 31,
    "start_time": "2022-11-23T10:22:38.108Z"
   },
   {
    "duration": 9,
    "start_time": "2022-11-23T10:22:38.140Z"
   },
   {
    "duration": 69,
    "start_time": "2022-11-23T10:22:38.152Z"
   },
   {
    "duration": 15,
    "start_time": "2022-11-23T10:22:38.224Z"
   },
   {
    "duration": 107,
    "start_time": "2022-11-23T10:22:38.240Z"
   },
   {
    "duration": 19,
    "start_time": "2022-11-23T10:22:38.349Z"
   },
   {
    "duration": 46,
    "start_time": "2022-11-23T10:22:38.372Z"
   },
   {
    "duration": 14,
    "start_time": "2022-11-23T10:22:38.421Z"
   },
   {
    "duration": 44,
    "start_time": "2022-11-23T10:22:38.437Z"
   },
   {
    "duration": 657,
    "start_time": "2022-11-23T10:22:38.483Z"
   },
   {
    "duration": 16,
    "start_time": "2022-11-23T10:22:39.143Z"
   },
   {
    "duration": 74,
    "start_time": "2022-11-23T10:22:39.163Z"
   },
   {
    "duration": 82,
    "start_time": "2022-11-23T10:22:39.240Z"
   },
   {
    "duration": 203,
    "start_time": "2022-11-23T10:22:39.324Z"
   },
   {
    "duration": 72,
    "start_time": "2022-11-23T10:22:39.529Z"
   },
   {
    "duration": 10,
    "start_time": "2022-11-23T10:22:39.603Z"
   },
   {
    "duration": 27,
    "start_time": "2022-11-23T10:22:39.615Z"
   },
   {
    "duration": 55,
    "start_time": "2022-11-23T10:22:39.644Z"
   },
   {
    "duration": 37,
    "start_time": "2022-11-23T10:22:39.701Z"
   },
   {
    "duration": 99,
    "start_time": "2022-11-23T10:22:39.742Z"
   },
   {
    "duration": 180,
    "start_time": "2022-11-23T10:22:39.843Z"
   },
   {
    "duration": 71,
    "start_time": "2022-11-23T10:22:40.026Z"
   },
   {
    "duration": 202,
    "start_time": "2022-11-23T10:22:40.099Z"
   },
   {
    "duration": 16,
    "start_time": "2022-11-23T10:22:40.304Z"
   },
   {
    "duration": 30,
    "start_time": "2022-11-23T10:22:40.322Z"
   },
   {
    "duration": 78,
    "start_time": "2022-11-23T10:22:40.361Z"
   },
   {
    "duration": 107,
    "start_time": "2022-11-23T10:22:40.442Z"
   },
   {
    "duration": 78,
    "start_time": "2022-11-23T10:22:40.559Z"
   },
   {
    "duration": 20,
    "start_time": "2022-11-23T10:22:40.639Z"
   },
   {
    "duration": 67,
    "start_time": "2022-11-23T10:22:40.661Z"
   },
   {
    "duration": 154,
    "start_time": "2022-11-23T10:22:40.730Z"
   },
   {
    "duration": 5,
    "start_time": "2022-11-23T10:22:40.886Z"
   },
   {
    "duration": 216,
    "start_time": "2022-11-23T10:22:40.893Z"
   },
   {
    "duration": 22,
    "start_time": "2022-11-23T10:22:41.110Z"
   },
   {
    "duration": 237,
    "start_time": "2022-11-23T10:22:41.134Z"
   },
   {
    "duration": 25,
    "start_time": "2022-11-23T10:22:41.373Z"
   },
   {
    "duration": 22,
    "start_time": "2022-11-23T10:22:41.404Z"
   },
   {
    "duration": 7,
    "start_time": "2022-11-23T10:22:41.428Z"
   },
   {
    "duration": 3,
    "start_time": "2022-11-23T10:22:41.440Z"
   },
   {
    "duration": 436,
    "start_time": "2022-11-23T10:22:41.445Z"
   },
   {
    "duration": 16,
    "start_time": "2022-11-23T10:22:41.883Z"
   },
   {
    "duration": 11,
    "start_time": "2022-11-23T10:22:41.901Z"
   },
   {
    "duration": 9,
    "start_time": "2022-11-23T10:22:41.914Z"
   },
   {
    "duration": 15,
    "start_time": "2022-11-23T10:22:41.925Z"
   },
   {
    "duration": 13,
    "start_time": "2022-11-23T10:22:41.942Z"
   },
   {
    "duration": 40,
    "start_time": "2022-11-23T10:22:41.957Z"
   },
   {
    "duration": 460,
    "start_time": "2022-11-23T10:22:42.000Z"
   },
   {
    "duration": 439,
    "start_time": "2022-11-23T10:22:42.463Z"
   },
   {
    "duration": 474,
    "start_time": "2022-11-23T10:22:42.904Z"
   },
   {
    "duration": 429,
    "start_time": "2022-11-23T10:22:43.380Z"
   },
   {
    "duration": 8,
    "start_time": "2022-11-23T10:22:43.810Z"
   },
   {
    "duration": 1307,
    "start_time": "2022-11-23T10:22:43.819Z"
   },
   {
    "duration": 718,
    "start_time": "2022-11-23T10:22:45.128Z"
   },
   {
    "duration": 23,
    "start_time": "2022-11-23T10:22:45.848Z"
   },
   {
    "duration": 44,
    "start_time": "2022-11-23T10:22:45.874Z"
   },
   {
    "duration": 11,
    "start_time": "2022-11-23T10:23:19.905Z"
   },
   {
    "duration": 1121,
    "start_time": "2022-11-23T10:25:19.803Z"
   },
   {
    "duration": 20,
    "start_time": "2022-11-23T10:25:27.988Z"
   },
   {
    "duration": 23,
    "start_time": "2022-11-23T10:25:35.772Z"
   },
   {
    "duration": 6,
    "start_time": "2022-11-23T10:25:44.121Z"
   },
   {
    "duration": 16,
    "start_time": "2022-11-23T10:25:50.400Z"
   },
   {
    "duration": 21,
    "start_time": "2022-11-23T10:26:00.876Z"
   },
   {
    "duration": 32,
    "start_time": "2022-11-23T10:28:45.433Z"
   },
   {
    "duration": 27,
    "start_time": "2022-11-23T10:30:01.668Z"
   },
   {
    "duration": 28,
    "start_time": "2022-11-23T10:30:07.844Z"
   },
   {
    "duration": 15,
    "start_time": "2022-11-23T10:31:35.971Z"
   },
   {
    "duration": 9,
    "start_time": "2022-11-23T10:32:02.013Z"
   },
   {
    "duration": 18,
    "start_time": "2022-11-23T10:37:18.665Z"
   },
   {
    "duration": 610,
    "start_time": "2022-11-23T10:37:19.507Z"
   },
   {
    "duration": 24,
    "start_time": "2022-11-23T10:37:49.321Z"
   },
   {
    "duration": 18,
    "start_time": "2022-11-23T10:37:53.983Z"
   },
   {
    "duration": 120,
    "start_time": "2022-11-23T10:37:54.327Z"
   },
   {
    "duration": 762,
    "start_time": "2022-11-23T10:37:56.297Z"
   },
   {
    "duration": 1443,
    "start_time": "2022-11-23T10:38:35.350Z"
   },
   {
    "duration": 5,
    "start_time": "2022-11-23T10:38:36.795Z"
   },
   {
    "duration": 31,
    "start_time": "2022-11-23T10:38:36.802Z"
   },
   {
    "duration": 13,
    "start_time": "2022-11-23T10:38:36.835Z"
   },
   {
    "duration": 50,
    "start_time": "2022-11-23T10:38:36.850Z"
   },
   {
    "duration": 10,
    "start_time": "2022-11-23T10:38:36.903Z"
   },
   {
    "duration": 103,
    "start_time": "2022-11-23T10:38:36.916Z"
   },
   {
    "duration": 9,
    "start_time": "2022-11-23T10:38:37.020Z"
   },
   {
    "duration": 26,
    "start_time": "2022-11-23T10:38:37.031Z"
   },
   {
    "duration": 43,
    "start_time": "2022-11-23T10:38:37.060Z"
   },
   {
    "duration": 83,
    "start_time": "2022-11-23T10:38:37.105Z"
   },
   {
    "duration": 695,
    "start_time": "2022-11-23T10:38:37.190Z"
   },
   {
    "duration": 11,
    "start_time": "2022-11-23T10:38:37.889Z"
   },
   {
    "duration": 58,
    "start_time": "2022-11-23T10:38:37.902Z"
   },
   {
    "duration": 61,
    "start_time": "2022-11-23T10:38:37.961Z"
   },
   {
    "duration": 248,
    "start_time": "2022-11-23T10:38:38.023Z"
   },
   {
    "duration": 41,
    "start_time": "2022-11-23T10:38:38.280Z"
   },
   {
    "duration": 7,
    "start_time": "2022-11-23T10:38:38.323Z"
   },
   {
    "duration": 24,
    "start_time": "2022-11-23T10:38:38.331Z"
   },
   {
    "duration": 46,
    "start_time": "2022-11-23T10:38:38.357Z"
   },
   {
    "duration": 12,
    "start_time": "2022-11-23T10:38:38.405Z"
   },
   {
    "duration": 48,
    "start_time": "2022-11-23T10:38:38.419Z"
   },
   {
    "duration": 174,
    "start_time": "2022-11-23T10:38:38.469Z"
   },
   {
    "duration": 50,
    "start_time": "2022-11-23T10:38:38.645Z"
   },
   {
    "duration": 187,
    "start_time": "2022-11-23T10:38:38.697Z"
   },
   {
    "duration": 12,
    "start_time": "2022-11-23T10:38:38.891Z"
   },
   {
    "duration": 12,
    "start_time": "2022-11-23T10:38:38.905Z"
   },
   {
    "duration": 7,
    "start_time": "2022-11-23T10:38:38.919Z"
   },
   {
    "duration": 66,
    "start_time": "2022-11-23T10:38:38.927Z"
   },
   {
    "duration": 94,
    "start_time": "2022-11-23T10:38:38.995Z"
   },
   {
    "duration": 14,
    "start_time": "2022-11-23T10:38:39.091Z"
   },
   {
    "duration": 12,
    "start_time": "2022-11-23T10:38:39.106Z"
   },
   {
    "duration": 166,
    "start_time": "2022-11-23T10:38:39.120Z"
   },
   {
    "duration": 4,
    "start_time": "2022-11-23T10:38:39.291Z"
   },
   {
    "duration": 217,
    "start_time": "2022-11-23T10:38:39.309Z"
   },
   {
    "duration": 47,
    "start_time": "2022-11-23T10:38:39.528Z"
   },
   {
    "duration": 252,
    "start_time": "2022-11-23T10:38:39.588Z"
   },
   {
    "duration": 24,
    "start_time": "2022-11-23T10:38:39.842Z"
   },
   {
    "duration": 65,
    "start_time": "2022-11-23T10:38:39.867Z"
   },
   {
    "duration": 41,
    "start_time": "2022-11-23T10:38:39.935Z"
   },
   {
    "duration": 20,
    "start_time": "2022-11-23T10:38:39.986Z"
   },
   {
    "duration": 491,
    "start_time": "2022-11-23T10:38:40.009Z"
   },
   {
    "duration": 7,
    "start_time": "2022-11-23T10:38:40.502Z"
   },
   {
    "duration": 12,
    "start_time": "2022-11-23T10:38:40.510Z"
   },
   {
    "duration": 15,
    "start_time": "2022-11-23T10:38:40.524Z"
   },
   {
    "duration": 57,
    "start_time": "2022-11-23T10:38:40.541Z"
   },
   {
    "duration": 17,
    "start_time": "2022-11-23T10:38:40.600Z"
   },
   {
    "duration": 15,
    "start_time": "2022-11-23T10:38:40.620Z"
   },
   {
    "duration": 453,
    "start_time": "2022-11-23T10:38:40.637Z"
   },
   {
    "duration": 451,
    "start_time": "2022-11-23T10:38:41.092Z"
   },
   {
    "duration": 385,
    "start_time": "2022-11-23T10:38:41.545Z"
   },
   {
    "duration": 389,
    "start_time": "2022-11-23T10:38:41.931Z"
   },
   {
    "duration": 7,
    "start_time": "2022-11-23T10:38:42.321Z"
   },
   {
    "duration": 1179,
    "start_time": "2022-11-23T10:38:42.329Z"
   },
   {
    "duration": 681,
    "start_time": "2022-11-23T10:38:43.510Z"
   },
   {
    "duration": 19,
    "start_time": "2022-11-23T10:38:44.198Z"
   },
   {
    "duration": 274,
    "start_time": "2022-11-23T10:38:44.219Z"
   },
   {
    "duration": 14,
    "start_time": "2022-11-23T10:38:44.495Z"
   },
   {
    "duration": 11,
    "start_time": "2022-11-23T10:38:44.511Z"
   },
   {
    "duration": 50,
    "start_time": "2022-11-23T10:38:44.524Z"
   },
   {
    "duration": 28,
    "start_time": "2022-11-23T10:38:44.576Z"
   },
   {
    "duration": 48,
    "start_time": "2022-11-23T10:38:44.605Z"
   },
   {
    "duration": 959,
    "start_time": "2022-11-23T10:38:44.655Z"
   },
   {
    "duration": 821,
    "start_time": "2022-11-23T10:38:45.615Z"
   },
   {
    "duration": 785,
    "start_time": "2022-11-23T10:38:46.438Z"
   },
   {
    "duration": 8,
    "start_time": "2022-11-23T10:38:47.224Z"
   },
   {
    "duration": 1388,
    "start_time": "2022-11-23T10:39:09.919Z"
   },
   {
    "duration": 5,
    "start_time": "2022-11-23T10:39:11.309Z"
   },
   {
    "duration": 43,
    "start_time": "2022-11-23T10:39:11.316Z"
   },
   {
    "duration": 19,
    "start_time": "2022-11-23T10:39:11.362Z"
   },
   {
    "duration": 31,
    "start_time": "2022-11-23T10:39:11.383Z"
   },
   {
    "duration": 11,
    "start_time": "2022-11-23T10:39:11.416Z"
   },
   {
    "duration": 110,
    "start_time": "2022-11-23T10:39:11.428Z"
   },
   {
    "duration": 9,
    "start_time": "2022-11-23T10:39:11.540Z"
   },
   {
    "duration": 48,
    "start_time": "2022-11-23T10:39:11.560Z"
   },
   {
    "duration": 11,
    "start_time": "2022-11-23T10:39:11.610Z"
   },
   {
    "duration": 60,
    "start_time": "2022-11-23T10:39:11.622Z"
   },
   {
    "duration": 727,
    "start_time": "2022-11-23T10:39:11.689Z"
   },
   {
    "duration": 10,
    "start_time": "2022-11-23T10:39:12.418Z"
   },
   {
    "duration": 80,
    "start_time": "2022-11-23T10:39:12.429Z"
   },
   {
    "duration": 56,
    "start_time": "2022-11-23T10:39:12.511Z"
   },
   {
    "duration": 245,
    "start_time": "2022-11-23T10:39:12.569Z"
   },
   {
    "duration": 44,
    "start_time": "2022-11-23T10:39:12.816Z"
   },
   {
    "duration": 9,
    "start_time": "2022-11-23T10:39:12.862Z"
   },
   {
    "duration": 31,
    "start_time": "2022-11-23T10:39:12.873Z"
   },
   {
    "duration": 9,
    "start_time": "2022-11-23T10:39:12.906Z"
   },
   {
    "duration": 12,
    "start_time": "2022-11-23T10:39:12.917Z"
   },
   {
    "duration": 69,
    "start_time": "2022-11-23T10:39:12.931Z"
   },
   {
    "duration": 193,
    "start_time": "2022-11-23T10:39:13.002Z"
   },
   {
    "duration": 30,
    "start_time": "2022-11-23T10:39:13.197Z"
   },
   {
    "duration": 168,
    "start_time": "2022-11-23T10:39:13.229Z"
   },
   {
    "duration": 13,
    "start_time": "2022-11-23T10:39:13.399Z"
   },
   {
    "duration": 15,
    "start_time": "2022-11-23T10:39:13.414Z"
   },
   {
    "duration": 5,
    "start_time": "2022-11-23T10:39:13.455Z"
   },
   {
    "duration": 84,
    "start_time": "2022-11-23T10:39:13.462Z"
   },
   {
    "duration": 67,
    "start_time": "2022-11-23T10:39:13.548Z"
   },
   {
    "duration": 11,
    "start_time": "2022-11-23T10:39:13.616Z"
   },
   {
    "duration": 37,
    "start_time": "2022-11-23T10:39:13.629Z"
   },
   {
    "duration": 146,
    "start_time": "2022-11-23T10:39:13.668Z"
   },
   {
    "duration": 4,
    "start_time": "2022-11-23T10:39:13.815Z"
   },
   {
    "duration": 205,
    "start_time": "2022-11-23T10:39:13.821Z"
   },
   {
    "duration": 34,
    "start_time": "2022-11-23T10:39:14.027Z"
   },
   {
    "duration": 252,
    "start_time": "2022-11-23T10:39:14.063Z"
   },
   {
    "duration": 11,
    "start_time": "2022-11-23T10:39:14.317Z"
   },
   {
    "duration": 24,
    "start_time": "2022-11-23T10:39:14.330Z"
   },
   {
    "duration": 35,
    "start_time": "2022-11-23T10:39:14.356Z"
   },
   {
    "duration": 5,
    "start_time": "2022-11-23T10:39:14.394Z"
   },
   {
    "duration": 400,
    "start_time": "2022-11-23T10:39:14.400Z"
   },
   {
    "duration": 7,
    "start_time": "2022-11-23T10:39:14.801Z"
   },
   {
    "duration": 6,
    "start_time": "2022-11-23T10:39:14.809Z"
   },
   {
    "duration": 6,
    "start_time": "2022-11-23T10:39:14.816Z"
   },
   {
    "duration": 12,
    "start_time": "2022-11-23T10:39:14.823Z"
   },
   {
    "duration": 27,
    "start_time": "2022-11-23T10:39:14.854Z"
   },
   {
    "duration": 19,
    "start_time": "2022-11-23T10:39:14.883Z"
   },
   {
    "duration": 420,
    "start_time": "2022-11-23T10:39:14.904Z"
   },
   {
    "duration": 473,
    "start_time": "2022-11-23T10:39:15.326Z"
   },
   {
    "duration": 364,
    "start_time": "2022-11-23T10:39:15.802Z"
   },
   {
    "duration": 411,
    "start_time": "2022-11-23T10:39:16.168Z"
   },
   {
    "duration": 12,
    "start_time": "2022-11-23T10:39:16.585Z"
   },
   {
    "duration": 1137,
    "start_time": "2022-11-23T10:39:16.599Z"
   },
   {
    "duration": 681,
    "start_time": "2022-11-23T10:39:17.738Z"
   },
   {
    "duration": 19,
    "start_time": "2022-11-23T10:39:18.421Z"
   },
   {
    "duration": 264,
    "start_time": "2022-11-23T10:39:18.453Z"
   },
   {
    "duration": 10,
    "start_time": "2022-11-23T10:39:18.719Z"
   },
   {
    "duration": 35,
    "start_time": "2022-11-23T10:39:18.731Z"
   },
   {
    "duration": 92,
    "start_time": "2022-11-23T10:39:18.768Z"
   },
   {
    "duration": 46,
    "start_time": "2022-11-23T10:39:18.862Z"
   },
   {
    "duration": 9,
    "start_time": "2022-11-23T10:39:18.910Z"
   },
   {
    "duration": 1071,
    "start_time": "2022-11-23T10:39:18.920Z"
   },
   {
    "duration": 875,
    "start_time": "2022-11-23T10:39:19.993Z"
   },
   {
    "duration": 825,
    "start_time": "2022-11-23T10:39:20.870Z"
   },
   {
    "duration": 16,
    "start_time": "2022-11-23T10:39:21.697Z"
   },
   {
    "duration": 9,
    "start_time": "2022-11-23T10:42:48.702Z"
   },
   {
    "duration": 1430,
    "start_time": "2022-11-23T10:49:29.804Z"
   },
   {
    "duration": 4,
    "start_time": "2022-11-23T10:49:31.237Z"
   },
   {
    "duration": 90,
    "start_time": "2022-11-23T10:49:31.243Z"
   },
   {
    "duration": 16,
    "start_time": "2022-11-23T10:49:31.334Z"
   },
   {
    "duration": 43,
    "start_time": "2022-11-23T10:49:31.360Z"
   },
   {
    "duration": 16,
    "start_time": "2022-11-23T10:49:31.405Z"
   },
   {
    "duration": 104,
    "start_time": "2022-11-23T10:49:31.423Z"
   },
   {
    "duration": 8,
    "start_time": "2022-11-23T10:49:31.529Z"
   },
   {
    "duration": 41,
    "start_time": "2022-11-23T10:49:31.539Z"
   },
   {
    "duration": 32,
    "start_time": "2022-11-23T10:49:31.588Z"
   },
   {
    "duration": 72,
    "start_time": "2022-11-23T10:49:31.622Z"
   },
   {
    "duration": 709,
    "start_time": "2022-11-23T10:49:31.696Z"
   },
   {
    "duration": 10,
    "start_time": "2022-11-23T10:49:32.407Z"
   },
   {
    "duration": 82,
    "start_time": "2022-11-23T10:49:32.420Z"
   },
   {
    "duration": 45,
    "start_time": "2022-11-23T10:49:32.504Z"
   },
   {
    "duration": 248,
    "start_time": "2022-11-23T10:49:32.550Z"
   },
   {
    "duration": 39,
    "start_time": "2022-11-23T10:49:32.799Z"
   },
   {
    "duration": 8,
    "start_time": "2022-11-23T10:49:32.840Z"
   },
   {
    "duration": 56,
    "start_time": "2022-11-23T10:49:32.849Z"
   },
   {
    "duration": 5,
    "start_time": "2022-11-23T10:49:32.907Z"
   },
   {
    "duration": 16,
    "start_time": "2022-11-23T10:49:32.914Z"
   },
   {
    "duration": 65,
    "start_time": "2022-11-23T10:49:32.932Z"
   },
   {
    "duration": 191,
    "start_time": "2022-11-23T10:49:32.998Z"
   },
   {
    "duration": 31,
    "start_time": "2022-11-23T10:49:33.194Z"
   },
   {
    "duration": 195,
    "start_time": "2022-11-23T10:49:33.227Z"
   },
   {
    "duration": 11,
    "start_time": "2022-11-23T10:49:33.424Z"
   },
   {
    "duration": 20,
    "start_time": "2022-11-23T10:49:33.436Z"
   },
   {
    "duration": 33,
    "start_time": "2022-11-23T10:49:33.458Z"
   },
   {
    "duration": 70,
    "start_time": "2022-11-23T10:49:33.494Z"
   },
   {
    "duration": 63,
    "start_time": "2022-11-23T10:49:33.566Z"
   },
   {
    "duration": 19,
    "start_time": "2022-11-23T10:49:33.631Z"
   },
   {
    "duration": 50,
    "start_time": "2022-11-23T10:49:33.656Z"
   },
   {
    "duration": 132,
    "start_time": "2022-11-23T10:49:33.707Z"
   },
   {
    "duration": 12,
    "start_time": "2022-11-23T10:49:33.840Z"
   },
   {
    "duration": 251,
    "start_time": "2022-11-23T10:49:33.856Z"
   },
   {
    "duration": 23,
    "start_time": "2022-11-23T10:49:34.109Z"
   },
   {
    "duration": 254,
    "start_time": "2022-11-23T10:49:34.134Z"
   },
   {
    "duration": 18,
    "start_time": "2022-11-23T10:49:34.389Z"
   },
   {
    "duration": 14,
    "start_time": "2022-11-23T10:49:34.408Z"
   },
   {
    "duration": 2,
    "start_time": "2022-11-23T10:49:34.424Z"
   },
   {
    "duration": 3,
    "start_time": "2022-11-23T10:49:34.430Z"
   },
   {
    "duration": 473,
    "start_time": "2022-11-23T10:49:34.434Z"
   },
   {
    "duration": 8,
    "start_time": "2022-11-23T10:49:34.909Z"
   },
   {
    "duration": 7,
    "start_time": "2022-11-23T10:49:34.918Z"
   },
   {
    "duration": 7,
    "start_time": "2022-11-23T10:49:34.927Z"
   },
   {
    "duration": 35,
    "start_time": "2022-11-23T10:49:34.935Z"
   },
   {
    "duration": 121,
    "start_time": "2022-11-23T10:49:34.972Z"
   },
   {
    "duration": 6,
    "start_time": "2022-11-23T10:49:35.095Z"
   },
   {
    "duration": 499,
    "start_time": "2022-11-23T10:49:35.103Z"
   },
   {
    "duration": 514,
    "start_time": "2022-11-23T10:49:35.605Z"
   },
   {
    "duration": 390,
    "start_time": "2022-11-23T10:49:36.121Z"
   },
   {
    "duration": 426,
    "start_time": "2022-11-23T10:49:36.513Z"
   },
   {
    "duration": 14,
    "start_time": "2022-11-23T10:49:36.942Z"
   },
   {
    "duration": 1359,
    "start_time": "2022-11-23T10:49:36.958Z"
   },
   {
    "duration": 695,
    "start_time": "2022-11-23T10:49:38.319Z"
   },
   {
    "duration": 48,
    "start_time": "2022-11-23T10:49:39.016Z"
   },
   {
    "duration": 302,
    "start_time": "2022-11-23T10:49:39.066Z"
   },
   {
    "duration": 23,
    "start_time": "2022-11-23T10:49:39.370Z"
   },
   {
    "duration": 13,
    "start_time": "2022-11-23T10:49:39.395Z"
   },
   {
    "duration": 56,
    "start_time": "2022-11-23T10:49:39.409Z"
   },
   {
    "duration": 22,
    "start_time": "2022-11-23T10:49:39.467Z"
   },
   {
    "duration": 1063,
    "start_time": "2022-11-23T10:49:39.491Z"
   },
   {
    "duration": 839,
    "start_time": "2022-11-23T10:49:40.556Z"
   },
   {
    "duration": 792,
    "start_time": "2022-11-23T10:49:41.397Z"
   },
   {
    "duration": 12,
    "start_time": "2022-11-23T10:49:42.192Z"
   },
   {
    "duration": 1439,
    "start_time": "2022-11-23T10:50:15.978Z"
   },
   {
    "duration": 5,
    "start_time": "2022-11-23T10:50:17.419Z"
   },
   {
    "duration": 69,
    "start_time": "2022-11-23T10:50:17.426Z"
   },
   {
    "duration": 14,
    "start_time": "2022-11-23T10:50:17.496Z"
   },
   {
    "duration": 31,
    "start_time": "2022-11-23T10:50:17.513Z"
   },
   {
    "duration": 53,
    "start_time": "2022-11-23T10:50:17.545Z"
   },
   {
    "duration": 142,
    "start_time": "2022-11-23T10:50:17.600Z"
   },
   {
    "duration": 19,
    "start_time": "2022-11-23T10:50:17.744Z"
   },
   {
    "duration": 56,
    "start_time": "2022-11-23T10:50:17.766Z"
   },
   {
    "duration": 16,
    "start_time": "2022-11-23T10:50:17.824Z"
   },
   {
    "duration": 80,
    "start_time": "2022-11-23T10:50:17.842Z"
   },
   {
    "duration": 744,
    "start_time": "2022-11-23T10:50:17.924Z"
   },
   {
    "duration": 17,
    "start_time": "2022-11-23T10:50:18.673Z"
   },
   {
    "duration": 49,
    "start_time": "2022-11-23T10:50:18.697Z"
   },
   {
    "duration": 69,
    "start_time": "2022-11-23T10:50:18.748Z"
   },
   {
    "duration": 245,
    "start_time": "2022-11-23T10:50:18.819Z"
   },
   {
    "duration": 59,
    "start_time": "2022-11-23T10:50:19.067Z"
   },
   {
    "duration": 18,
    "start_time": "2022-11-23T10:50:19.128Z"
   },
   {
    "duration": 69,
    "start_time": "2022-11-23T10:50:19.148Z"
   },
   {
    "duration": 11,
    "start_time": "2022-11-23T10:50:19.219Z"
   },
   {
    "duration": 15,
    "start_time": "2022-11-23T10:50:19.232Z"
   },
   {
    "duration": 77,
    "start_time": "2022-11-23T10:50:19.253Z"
   },
   {
    "duration": 215,
    "start_time": "2022-11-23T10:50:19.332Z"
   },
   {
    "duration": 52,
    "start_time": "2022-11-23T10:50:19.548Z"
   },
   {
    "duration": 245,
    "start_time": "2022-11-23T10:50:19.602Z"
   },
   {
    "duration": 25,
    "start_time": "2022-11-23T10:50:19.849Z"
   },
   {
    "duration": 33,
    "start_time": "2022-11-23T10:50:19.883Z"
   },
   {
    "duration": 9,
    "start_time": "2022-11-23T10:50:19.919Z"
   },
   {
    "duration": 91,
    "start_time": "2022-11-23T10:50:19.930Z"
   },
   {
    "duration": 87,
    "start_time": "2022-11-23T10:50:20.023Z"
   },
   {
    "duration": 12,
    "start_time": "2022-11-23T10:50:20.112Z"
   },
   {
    "duration": 23,
    "start_time": "2022-11-23T10:50:20.126Z"
   },
   {
    "duration": 171,
    "start_time": "2022-11-23T10:50:20.154Z"
   },
   {
    "duration": 3,
    "start_time": "2022-11-23T10:50:20.327Z"
   },
   {
    "duration": 208,
    "start_time": "2022-11-23T10:50:20.332Z"
   },
   {
    "duration": 34,
    "start_time": "2022-11-23T10:50:20.541Z"
   },
   {
    "duration": 260,
    "start_time": "2022-11-23T10:50:20.576Z"
   },
   {
    "duration": 10,
    "start_time": "2022-11-23T10:50:20.838Z"
   },
   {
    "duration": 56,
    "start_time": "2022-11-23T10:50:20.851Z"
   },
   {
    "duration": 3,
    "start_time": "2022-11-23T10:50:20.909Z"
   },
   {
    "duration": 3,
    "start_time": "2022-11-23T10:50:20.916Z"
   },
   {
    "duration": 437,
    "start_time": "2022-11-23T10:50:20.920Z"
   },
   {
    "duration": 10,
    "start_time": "2022-11-23T10:50:21.359Z"
   },
   {
    "duration": 29,
    "start_time": "2022-11-23T10:50:21.371Z"
   },
   {
    "duration": 6,
    "start_time": "2022-11-23T10:50:21.402Z"
   },
   {
    "duration": 13,
    "start_time": "2022-11-23T10:50:21.410Z"
   },
   {
    "duration": 27,
    "start_time": "2022-11-23T10:50:21.425Z"
   },
   {
    "duration": 38,
    "start_time": "2022-11-23T10:50:21.453Z"
   },
   {
    "duration": 434,
    "start_time": "2022-11-23T10:50:21.493Z"
   },
   {
    "duration": 483,
    "start_time": "2022-11-23T10:50:21.929Z"
   },
   {
    "duration": 411,
    "start_time": "2022-11-23T10:50:22.414Z"
   },
   {
    "duration": 404,
    "start_time": "2022-11-23T10:50:22.827Z"
   },
   {
    "duration": 8,
    "start_time": "2022-11-23T10:50:23.233Z"
   },
   {
    "duration": 1263,
    "start_time": "2022-11-23T10:50:23.243Z"
   },
   {
    "duration": 685,
    "start_time": "2022-11-23T10:50:24.508Z"
   },
   {
    "duration": 27,
    "start_time": "2022-11-23T10:50:25.196Z"
   },
   {
    "duration": 273,
    "start_time": "2022-11-23T10:50:25.224Z"
   },
   {
    "duration": 11,
    "start_time": "2022-11-23T10:50:25.499Z"
   },
   {
    "duration": 10,
    "start_time": "2022-11-23T10:50:25.512Z"
   },
   {
    "duration": 36,
    "start_time": "2022-11-23T10:50:25.551Z"
   },
   {
    "duration": 16,
    "start_time": "2022-11-23T10:50:25.589Z"
   },
   {
    "duration": 996,
    "start_time": "2022-11-23T10:50:25.607Z"
   },
   {
    "duration": 821,
    "start_time": "2022-11-23T10:50:26.605Z"
   },
   {
    "duration": 838,
    "start_time": "2022-11-23T10:50:27.428Z"
   },
   {
    "duration": 21,
    "start_time": "2022-11-23T10:50:28.270Z"
   },
   {
    "duration": 1397,
    "start_time": "2022-11-23T10:55:47.609Z"
   },
   {
    "duration": 6,
    "start_time": "2022-11-23T10:55:49.009Z"
   },
   {
    "duration": 35,
    "start_time": "2022-11-23T10:55:49.016Z"
   },
   {
    "duration": 39,
    "start_time": "2022-11-23T10:55:49.056Z"
   },
   {
    "duration": 15,
    "start_time": "2022-11-23T10:55:49.101Z"
   },
   {
    "duration": 29,
    "start_time": "2022-11-23T10:55:49.118Z"
   },
   {
    "duration": 162,
    "start_time": "2022-11-23T10:55:49.150Z"
   },
   {
    "duration": 11,
    "start_time": "2022-11-23T10:55:49.314Z"
   },
   {
    "duration": 30,
    "start_time": "2022-11-23T10:55:49.328Z"
   },
   {
    "duration": 55,
    "start_time": "2022-11-23T10:55:49.361Z"
   },
   {
    "duration": 53,
    "start_time": "2022-11-23T10:55:49.418Z"
   },
   {
    "duration": 846,
    "start_time": "2022-11-23T10:55:49.473Z"
   },
   {
    "duration": 10,
    "start_time": "2022-11-23T10:55:50.321Z"
   },
   {
    "duration": 82,
    "start_time": "2022-11-23T10:55:50.335Z"
   },
   {
    "duration": 61,
    "start_time": "2022-11-23T10:55:50.419Z"
   },
   {
    "duration": 231,
    "start_time": "2022-11-23T10:55:50.482Z"
   },
   {
    "duration": 51,
    "start_time": "2022-11-23T10:55:50.715Z"
   },
   {
    "duration": 15,
    "start_time": "2022-11-23T10:55:50.768Z"
   },
   {
    "duration": 31,
    "start_time": "2022-11-23T10:55:50.785Z"
   },
   {
    "duration": 8,
    "start_time": "2022-11-23T10:55:50.817Z"
   },
   {
    "duration": 11,
    "start_time": "2022-11-23T10:55:50.826Z"
   },
   {
    "duration": 59,
    "start_time": "2022-11-23T10:55:50.838Z"
   },
   {
    "duration": 183,
    "start_time": "2022-11-23T10:55:50.899Z"
   },
   {
    "duration": 35,
    "start_time": "2022-11-23T10:55:51.084Z"
   },
   {
    "duration": 202,
    "start_time": "2022-11-23T10:55:51.120Z"
   },
   {
    "duration": 12,
    "start_time": "2022-11-23T10:55:51.324Z"
   },
   {
    "duration": 22,
    "start_time": "2022-11-23T10:55:51.338Z"
   },
   {
    "duration": 30,
    "start_time": "2022-11-23T10:55:51.364Z"
   },
   {
    "duration": 63,
    "start_time": "2022-11-23T10:55:51.396Z"
   },
   {
    "duration": 63,
    "start_time": "2022-11-23T10:55:51.461Z"
   },
   {
    "duration": 12,
    "start_time": "2022-11-23T10:55:51.526Z"
   },
   {
    "duration": 29,
    "start_time": "2022-11-23T10:55:51.539Z"
   },
   {
    "duration": 153,
    "start_time": "2022-11-23T10:55:51.572Z"
   },
   {
    "duration": 4,
    "start_time": "2022-11-23T10:55:51.726Z"
   },
   {
    "duration": 238,
    "start_time": "2022-11-23T10:55:51.733Z"
   },
   {
    "duration": 35,
    "start_time": "2022-11-23T10:55:51.973Z"
   },
   {
    "duration": 221,
    "start_time": "2022-11-23T10:55:52.011Z"
   },
   {
    "duration": 19,
    "start_time": "2022-11-23T10:55:52.235Z"
   },
   {
    "duration": 52,
    "start_time": "2022-11-23T10:55:52.259Z"
   },
   {
    "duration": 9,
    "start_time": "2022-11-23T10:55:52.313Z"
   },
   {
    "duration": 6,
    "start_time": "2022-11-23T10:55:52.327Z"
   },
   {
    "duration": 437,
    "start_time": "2022-11-23T10:55:52.335Z"
   },
   {
    "duration": 12,
    "start_time": "2022-11-23T10:55:52.774Z"
   },
   {
    "duration": 19,
    "start_time": "2022-11-23T10:55:52.792Z"
   },
   {
    "duration": 7,
    "start_time": "2022-11-23T10:55:52.813Z"
   },
   {
    "duration": 18,
    "start_time": "2022-11-23T10:55:52.822Z"
   },
   {
    "duration": 63,
    "start_time": "2022-11-23T10:55:52.842Z"
   },
   {
    "duration": 6,
    "start_time": "2022-11-23T10:55:52.907Z"
   },
   {
    "duration": 423,
    "start_time": "2022-11-23T10:55:52.914Z"
   },
   {
    "duration": 484,
    "start_time": "2022-11-23T10:55:53.339Z"
   },
   {
    "duration": 389,
    "start_time": "2022-11-23T10:55:53.825Z"
   },
   {
    "duration": 356,
    "start_time": "2022-11-23T10:55:54.216Z"
   },
   {
    "duration": 11,
    "start_time": "2022-11-23T10:55:54.574Z"
   },
   {
    "duration": 1163,
    "start_time": "2022-11-23T10:55:54.588Z"
   },
   {
    "duration": 683,
    "start_time": "2022-11-23T10:55:55.759Z"
   },
   {
    "duration": 51,
    "start_time": "2022-11-23T10:55:56.444Z"
   },
   {
    "duration": 288,
    "start_time": "2022-11-23T10:55:56.497Z"
   },
   {
    "duration": 11,
    "start_time": "2022-11-23T10:55:56.788Z"
   },
   {
    "duration": 10,
    "start_time": "2022-11-23T10:55:56.801Z"
   },
   {
    "duration": 17,
    "start_time": "2022-11-23T10:55:56.812Z"
   },
   {
    "duration": 16,
    "start_time": "2022-11-23T10:55:56.851Z"
   },
   {
    "duration": 987,
    "start_time": "2022-11-23T10:55:56.869Z"
   },
   {
    "duration": 827,
    "start_time": "2022-11-23T10:55:57.857Z"
   },
   {
    "duration": 811,
    "start_time": "2022-11-23T10:55:58.694Z"
   },
   {
    "duration": 9,
    "start_time": "2022-11-23T10:55:59.506Z"
   },
   {
    "duration": 79,
    "start_time": "2022-11-23T11:17:59.102Z"
   },
   {
    "duration": 1183,
    "start_time": "2022-11-23T11:18:03.307Z"
   },
   {
    "duration": 4,
    "start_time": "2022-11-23T11:18:04.491Z"
   },
   {
    "duration": 75,
    "start_time": "2022-11-23T11:18:04.497Z"
   },
   {
    "duration": 16,
    "start_time": "2022-11-23T11:18:04.575Z"
   },
   {
    "duration": 16,
    "start_time": "2022-11-23T11:18:04.592Z"
   },
   {
    "duration": 11,
    "start_time": "2022-11-23T11:18:04.609Z"
   },
   {
    "duration": 301,
    "start_time": "2022-11-23T11:18:04.622Z"
   },
   {
    "duration": 9,
    "start_time": "2022-11-23T11:18:04.925Z"
   },
   {
    "duration": 37,
    "start_time": "2022-11-23T11:18:04.935Z"
   },
   {
    "duration": 10,
    "start_time": "2022-11-23T11:18:04.975Z"
   },
   {
    "duration": 40,
    "start_time": "2022-11-23T11:18:04.987Z"
   },
   {
    "duration": 736,
    "start_time": "2022-11-23T11:18:05.029Z"
   },
   {
    "duration": 9,
    "start_time": "2022-11-23T11:18:05.767Z"
   },
   {
    "duration": 55,
    "start_time": "2022-11-23T11:18:05.778Z"
   },
   {
    "duration": 41,
    "start_time": "2022-11-23T11:18:05.835Z"
   },
   {
    "duration": 189,
    "start_time": "2022-11-23T11:18:05.877Z"
   },
   {
    "duration": 77,
    "start_time": "2022-11-23T11:18:06.067Z"
   },
   {
    "duration": 8,
    "start_time": "2022-11-23T11:18:06.145Z"
   },
   {
    "duration": 27,
    "start_time": "2022-11-23T11:18:06.155Z"
   },
   {
    "duration": 30,
    "start_time": "2022-11-23T11:18:06.183Z"
   },
   {
    "duration": 23,
    "start_time": "2022-11-23T11:18:06.214Z"
   },
   {
    "duration": 89,
    "start_time": "2022-11-23T11:18:06.239Z"
   },
   {
    "duration": 172,
    "start_time": "2022-11-23T11:18:06.330Z"
   },
   {
    "duration": 48,
    "start_time": "2022-11-23T11:18:06.504Z"
   },
   {
    "duration": 132,
    "start_time": "2022-11-23T11:18:06.555Z"
   },
   {
    "duration": 12,
    "start_time": "2022-11-23T11:18:06.689Z"
   },
   {
    "duration": 39,
    "start_time": "2022-11-23T11:18:06.703Z"
   },
   {
    "duration": 7,
    "start_time": "2022-11-23T11:18:06.746Z"
   },
   {
    "duration": 56,
    "start_time": "2022-11-23T11:18:06.755Z"
   },
   {
    "duration": 43,
    "start_time": "2022-11-23T11:18:06.812Z"
   },
   {
    "duration": 10,
    "start_time": "2022-11-23T11:18:06.856Z"
   },
   {
    "duration": 23,
    "start_time": "2022-11-23T11:18:06.868Z"
   },
   {
    "duration": 108,
    "start_time": "2022-11-23T11:18:06.893Z"
   },
   {
    "duration": 4,
    "start_time": "2022-11-23T11:18:07.003Z"
   },
   {
    "duration": 152,
    "start_time": "2022-11-23T11:18:07.016Z"
   },
   {
    "duration": 20,
    "start_time": "2022-11-23T11:18:07.170Z"
   },
   {
    "duration": 188,
    "start_time": "2022-11-23T11:18:07.191Z"
   },
   {
    "duration": 10,
    "start_time": "2022-11-23T11:18:07.381Z"
   },
   {
    "duration": 13,
    "start_time": "2022-11-23T11:18:07.392Z"
   },
   {
    "duration": 9,
    "start_time": "2022-11-23T11:18:07.407Z"
   },
   {
    "duration": 25,
    "start_time": "2022-11-23T11:18:07.418Z"
   },
   {
    "duration": 320,
    "start_time": "2022-11-23T11:18:07.445Z"
   },
   {
    "duration": 6,
    "start_time": "2022-11-23T11:18:07.767Z"
   },
   {
    "duration": 6,
    "start_time": "2022-11-23T11:18:07.775Z"
   },
   {
    "duration": 4,
    "start_time": "2022-11-23T11:18:07.782Z"
   },
   {
    "duration": 29,
    "start_time": "2022-11-23T11:18:07.788Z"
   },
   {
    "duration": 12,
    "start_time": "2022-11-23T11:18:07.819Z"
   },
   {
    "duration": 6,
    "start_time": "2022-11-23T11:18:07.833Z"
   },
   {
    "duration": 363,
    "start_time": "2022-11-23T11:18:07.840Z"
   },
   {
    "duration": 386,
    "start_time": "2022-11-23T11:18:08.205Z"
   },
   {
    "duration": 295,
    "start_time": "2022-11-23T11:18:08.593Z"
   },
   {
    "duration": 293,
    "start_time": "2022-11-23T11:18:08.889Z"
   },
   {
    "duration": 6,
    "start_time": "2022-11-23T11:18:09.184Z"
   },
   {
    "duration": 76,
    "start_time": "2022-11-23T11:18:09.191Z"
   },
   {
    "duration": 0,
    "start_time": "2022-11-23T11:18:09.268Z"
   },
   {
    "duration": 0,
    "start_time": "2022-11-23T11:18:09.269Z"
   },
   {
    "duration": 0,
    "start_time": "2022-11-23T11:18:09.270Z"
   },
   {
    "duration": 0,
    "start_time": "2022-11-23T11:18:09.271Z"
   },
   {
    "duration": 0,
    "start_time": "2022-11-23T11:18:09.272Z"
   },
   {
    "duration": 0,
    "start_time": "2022-11-23T11:18:09.274Z"
   },
   {
    "duration": 0,
    "start_time": "2022-11-23T11:18:09.275Z"
   },
   {
    "duration": 0,
    "start_time": "2022-11-23T11:18:09.276Z"
   },
   {
    "duration": 0,
    "start_time": "2022-11-23T11:18:09.277Z"
   },
   {
    "duration": 0,
    "start_time": "2022-11-23T11:18:09.278Z"
   },
   {
    "duration": 0,
    "start_time": "2022-11-23T11:18:09.279Z"
   },
   {
    "duration": 0,
    "start_time": "2022-11-23T11:18:09.280Z"
   },
   {
    "duration": 15,
    "start_time": "2022-11-23T11:18:11.771Z"
   },
   {
    "duration": 6,
    "start_time": "2022-11-23T11:18:21.214Z"
   },
   {
    "duration": 915,
    "start_time": "2022-11-23T11:20:31.343Z"
   },
   {
    "duration": 533,
    "start_time": "2022-11-23T11:20:32.260Z"
   },
   {
    "duration": 22,
    "start_time": "2022-11-23T11:20:32.795Z"
   },
   {
    "duration": 429,
    "start_time": "2022-11-23T11:20:32.819Z"
   },
   {
    "duration": 10,
    "start_time": "2022-11-23T11:20:38.013Z"
   },
   {
    "duration": 10,
    "start_time": "2022-11-23T11:20:38.312Z"
   },
   {
    "duration": 10,
    "start_time": "2022-11-23T11:24:23.436Z"
   },
   {
    "duration": 16,
    "start_time": "2022-11-23T11:24:29.921Z"
   },
   {
    "duration": 12,
    "start_time": "2022-11-23T11:24:54.793Z"
   },
   {
    "duration": 16,
    "start_time": "2022-11-23T11:25:11.273Z"
   },
   {
    "duration": 9,
    "start_time": "2022-11-23T11:25:22.707Z"
   },
   {
    "duration": 20,
    "start_time": "2022-11-23T11:26:00.784Z"
   }
  ],
  "kernelspec": {
   "display_name": "Python 3 (ipykernel)",
   "language": "python",
   "name": "python3"
  },
  "language_info": {
   "codemirror_mode": {
    "name": "ipython",
    "version": 3
   },
   "file_extension": ".py",
   "mimetype": "text/x-python",
   "name": "python",
   "nbconvert_exporter": "python",
   "pygments_lexer": "ipython3",
   "version": "3.9.7"
  },
  "toc": {
   "base_numbering": 1,
   "nav_menu": {
    "height": "131px",
    "width": "309px"
   },
   "number_sections": true,
   "sideBar": true,
   "skip_h1_title": true,
   "title_cell": "Table of Contents",
   "title_sidebar": "Contents",
   "toc_cell": false,
   "toc_position": {
    "height": "calc(100% - 180px)",
    "left": "10px",
    "top": "150px",
    "width": "296.8px"
   },
   "toc_section_display": true,
   "toc_window_display": true
  }
 },
 "nbformat": 4,
 "nbformat_minor": 5
}
