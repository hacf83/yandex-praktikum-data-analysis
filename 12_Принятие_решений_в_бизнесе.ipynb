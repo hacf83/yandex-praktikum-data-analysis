{
 "cells": [
  {
   "cell_type": "code",
   "execution_count": 1,
   "id": "db61c49c",
   "metadata": {},
   "outputs": [],
   "source": [
    "import pandas as pd\n",
    "pd.set_option('max_colwidth', None)\n",
    "import numpy as np\n",
    "from scipy.stats import mannwhitneyu\n",
    "import matplotlib.pyplot as plt\n",
    "import seaborn as sns\n",
    "sns.set_style('darkgrid')\n",
    "sns.set(font_scale=1.2)"
   ]
  },
  {
   "cell_type": "markdown",
   "id": "952ae653",
   "metadata": {},
   "source": [
    "# Анализ A/B-теста по увеличению выручки интернет-магазина"
   ]
  },
  {
   "cell_type": "markdown",
   "id": "a51f8437",
   "metadata": {},
   "source": [
    "- [Описание проекта](#project_description)\n",
    "- [Загрузка и подготовка данных](#data_upload_and_preparation)\n",
    "- [Часть 1. Приоритизация гипотез](#hypotheses_prioritization)\n",
    "    - [Фреймворк ICE](#ICE)\n",
    "    - [Фреймворк RICE](#RICE)\n",
    "- [Часть 2. Анализ A/B-теста](#AB_test_analysis)\n",
    "    - [Кумулятивная выручка](#cumulative_revenue)\n",
    "    - [Кумулятивное количество заказов](#cumulative_orders)\n",
    "    - [Кумулятивный средний чек](#cumulative_avg_revenue)\n",
    "    - [Кумулятивная конверсия](#cumulative_conversion)\n",
    "    - [Аномалии](#outliers)\n",
    "    - [Гипотеза о разнице в конверсии](#hypothesis_1)\n",
    "    - [Гипотеза о разнице в среднем чеке](#hypothesis_2)\n",
    "- [Выводы](#conclusions)"
   ]
  },
  {
   "cell_type": "markdown",
   "id": "f45b432a",
   "metadata": {},
   "source": [
    "## Описание проекта <a name='project_description'></a>"
   ]
  },
  {
   "cell_type": "markdown",
   "id": "ffca0aae",
   "metadata": {},
   "source": [
    "Вместе с отделом маркетинга нужно подготовить и приоритизировать гипотезы по увеличению выручки крупного интернет-магазина. Затем запустить A/B-тест и проанализировать результаты."
   ]
  },
  {
   "cell_type": "markdown",
   "id": "7053af2b",
   "metadata": {},
   "source": [
    "## Загрузка и подготовка данных <a name='data_upload_and_preparation'></a>"
   ]
  },
  {
   "cell_type": "code",
   "execution_count": 2,
   "id": "02f8b716",
   "metadata": {},
   "outputs": [
    {
     "data": {
      "text/html": [
       "<div>\n",
       "<style scoped>\n",
       "    .dataframe tbody tr th:only-of-type {\n",
       "        vertical-align: middle;\n",
       "    }\n",
       "\n",
       "    .dataframe tbody tr th {\n",
       "        vertical-align: top;\n",
       "    }\n",
       "\n",
       "    .dataframe thead th {\n",
       "        text-align: right;\n",
       "    }\n",
       "</style>\n",
       "<table border=\"1\" class=\"dataframe\">\n",
       "  <thead>\n",
       "    <tr style=\"text-align: right;\">\n",
       "      <th></th>\n",
       "      <th>Hypothesis</th>\n",
       "      <th>Reach</th>\n",
       "      <th>Impact</th>\n",
       "      <th>Confidence</th>\n",
       "      <th>Efforts</th>\n",
       "    </tr>\n",
       "  </thead>\n",
       "  <tbody>\n",
       "    <tr>\n",
       "      <th>0</th>\n",
       "      <td>Добавить два новых канала привлечения трафика, что позволит привлекать на 30% больше пользователей</td>\n",
       "      <td>3</td>\n",
       "      <td>10</td>\n",
       "      <td>8</td>\n",
       "      <td>6</td>\n",
       "    </tr>\n",
       "    <tr>\n",
       "      <th>1</th>\n",
       "      <td>Запустить собственную службу доставки, что сократит срок доставки заказов</td>\n",
       "      <td>2</td>\n",
       "      <td>5</td>\n",
       "      <td>4</td>\n",
       "      <td>10</td>\n",
       "    </tr>\n",
       "    <tr>\n",
       "      <th>2</th>\n",
       "      <td>Добавить блоки рекомендаций товаров на сайт интернет магазина, чтобы повысить конверсию и средний чек заказа</td>\n",
       "      <td>8</td>\n",
       "      <td>3</td>\n",
       "      <td>7</td>\n",
       "      <td>3</td>\n",
       "    </tr>\n",
       "    <tr>\n",
       "      <th>3</th>\n",
       "      <td>Изменить структура категорий, что увеличит конверсию, т.к. пользователи быстрее найдут нужный товар</td>\n",
       "      <td>8</td>\n",
       "      <td>3</td>\n",
       "      <td>3</td>\n",
       "      <td>8</td>\n",
       "    </tr>\n",
       "    <tr>\n",
       "      <th>4</th>\n",
       "      <td>Изменить цвет фона главной страницы, чтобы увеличить вовлеченность пользователей</td>\n",
       "      <td>3</td>\n",
       "      <td>1</td>\n",
       "      <td>1</td>\n",
       "      <td>1</td>\n",
       "    </tr>\n",
       "    <tr>\n",
       "      <th>5</th>\n",
       "      <td>Добавить страницу отзывов клиентов о магазине, что позволит увеличить количество заказов</td>\n",
       "      <td>3</td>\n",
       "      <td>2</td>\n",
       "      <td>2</td>\n",
       "      <td>3</td>\n",
       "    </tr>\n",
       "    <tr>\n",
       "      <th>6</th>\n",
       "      <td>Показать на главной странице баннеры с актуальными акциями и распродажами, чтобы увеличить конверсию</td>\n",
       "      <td>5</td>\n",
       "      <td>3</td>\n",
       "      <td>8</td>\n",
       "      <td>3</td>\n",
       "    </tr>\n",
       "    <tr>\n",
       "      <th>7</th>\n",
       "      <td>Добавить форму подписки на все основные страницы, чтобы собрать базу клиентов для email-рассылок</td>\n",
       "      <td>10</td>\n",
       "      <td>7</td>\n",
       "      <td>8</td>\n",
       "      <td>5</td>\n",
       "    </tr>\n",
       "    <tr>\n",
       "      <th>8</th>\n",
       "      <td>Запустить акцию, дающую скидку на товар в день рождения</td>\n",
       "      <td>1</td>\n",
       "      <td>9</td>\n",
       "      <td>9</td>\n",
       "      <td>5</td>\n",
       "    </tr>\n",
       "  </tbody>\n",
       "</table>\n",
       "</div>"
      ],
      "text/plain": [
       "                                                                                                     Hypothesis  \\\n",
       "0            Добавить два новых канала привлечения трафика, что позволит привлекать на 30% больше пользователей   \n",
       "1                                     Запустить собственную службу доставки, что сократит срок доставки заказов   \n",
       "2  Добавить блоки рекомендаций товаров на сайт интернет магазина, чтобы повысить конверсию и средний чек заказа   \n",
       "3           Изменить структура категорий, что увеличит конверсию, т.к. пользователи быстрее найдут нужный товар   \n",
       "4                              Изменить цвет фона главной страницы, чтобы увеличить вовлеченность пользователей   \n",
       "5                      Добавить страницу отзывов клиентов о магазине, что позволит увеличить количество заказов   \n",
       "6          Показать на главной странице баннеры с актуальными акциями и распродажами, чтобы увеличить конверсию   \n",
       "7              Добавить форму подписки на все основные страницы, чтобы собрать базу клиентов для email-рассылок   \n",
       "8                                                       Запустить акцию, дающую скидку на товар в день рождения   \n",
       "\n",
       "   Reach  Impact  Confidence  Efforts  \n",
       "0      3      10           8        6  \n",
       "1      2       5           4       10  \n",
       "2      8       3           7        3  \n",
       "3      8       3           3        8  \n",
       "4      3       1           1        1  \n",
       "5      3       2           2        3  \n",
       "6      5       3           8        3  \n",
       "7     10       7           8        5  \n",
       "8      1       9           9        5  "
      ]
     },
     "execution_count": 2,
     "metadata": {},
     "output_type": "execute_result"
    }
   ],
   "source": [
    "hypothesis = pd.read_csv('datasets/hypothesis.csv')\n",
    "hypothesis"
   ]
  },
  {
   "cell_type": "code",
   "execution_count": 3,
   "id": "535bb319",
   "metadata": {},
   "outputs": [
    {
     "data": {
      "text/html": [
       "<div>\n",
       "<style scoped>\n",
       "    .dataframe tbody tr th:only-of-type {\n",
       "        vertical-align: middle;\n",
       "    }\n",
       "\n",
       "    .dataframe tbody tr th {\n",
       "        vertical-align: top;\n",
       "    }\n",
       "\n",
       "    .dataframe thead th {\n",
       "        text-align: right;\n",
       "    }\n",
       "</style>\n",
       "<table border=\"1\" class=\"dataframe\">\n",
       "  <thead>\n",
       "    <tr style=\"text-align: right;\">\n",
       "      <th></th>\n",
       "      <th>transaction_id</th>\n",
       "      <th>visitor_id</th>\n",
       "      <th>date</th>\n",
       "      <th>revenue</th>\n",
       "      <th>group</th>\n",
       "    </tr>\n",
       "  </thead>\n",
       "  <tbody>\n",
       "    <tr>\n",
       "      <th>0</th>\n",
       "      <td>3667963787</td>\n",
       "      <td>3312258926</td>\n",
       "      <td>2019-08-15</td>\n",
       "      <td>1650</td>\n",
       "      <td>B</td>\n",
       "    </tr>\n",
       "    <tr>\n",
       "      <th>1</th>\n",
       "      <td>2804400009</td>\n",
       "      <td>3642806036</td>\n",
       "      <td>2019-08-15</td>\n",
       "      <td>730</td>\n",
       "      <td>B</td>\n",
       "    </tr>\n",
       "    <tr>\n",
       "      <th>2</th>\n",
       "      <td>2961555356</td>\n",
       "      <td>4069496402</td>\n",
       "      <td>2019-08-15</td>\n",
       "      <td>400</td>\n",
       "      <td>A</td>\n",
       "    </tr>\n",
       "    <tr>\n",
       "      <th>3</th>\n",
       "      <td>3797467345</td>\n",
       "      <td>1196621759</td>\n",
       "      <td>2019-08-15</td>\n",
       "      <td>9759</td>\n",
       "      <td>B</td>\n",
       "    </tr>\n",
       "    <tr>\n",
       "      <th>4</th>\n",
       "      <td>2282983706</td>\n",
       "      <td>2322279887</td>\n",
       "      <td>2019-08-15</td>\n",
       "      <td>2308</td>\n",
       "      <td>B</td>\n",
       "    </tr>\n",
       "  </tbody>\n",
       "</table>\n",
       "</div>"
      ],
      "text/plain": [
       "   transaction_id  visitor_id        date  revenue group\n",
       "0      3667963787  3312258926  2019-08-15     1650     B\n",
       "1      2804400009  3642806036  2019-08-15      730     B\n",
       "2      2961555356  4069496402  2019-08-15      400     A\n",
       "3      3797467345  1196621759  2019-08-15     9759     B\n",
       "4      2282983706  2322279887  2019-08-15     2308     B"
      ]
     },
     "execution_count": 3,
     "metadata": {},
     "output_type": "execute_result"
    }
   ],
   "source": [
    "orders = pd.read_csv('datasets/orders.csv')\n",
    "orders.rename(columns={'transactionId': 'transaction_id', 'visitorId': 'visitor_id'}, inplace=True)\n",
    "orders.head()"
   ]
  },
  {
   "cell_type": "code",
   "execution_count": 4,
   "id": "e9d0d642",
   "metadata": {},
   "outputs": [
    {
     "name": "stdout",
     "output_type": "stream",
     "text": [
      "<class 'pandas.core.frame.DataFrame'>\n",
      "RangeIndex: 1197 entries, 0 to 1196\n",
      "Data columns (total 5 columns):\n",
      " #   Column          Non-Null Count  Dtype \n",
      "---  ------          --------------  ----- \n",
      " 0   transaction_id  1197 non-null   int64 \n",
      " 1   visitor_id      1197 non-null   int64 \n",
      " 2   date            1197 non-null   object\n",
      " 3   revenue         1197 non-null   int64 \n",
      " 4   group           1197 non-null   object\n",
      "dtypes: int64(3), object(2)\n",
      "memory usage: 46.9+ KB\n"
     ]
    }
   ],
   "source": [
    "orders.info()"
   ]
  },
  {
   "cell_type": "code",
   "execution_count": 5,
   "id": "a89c12b4",
   "metadata": {},
   "outputs": [],
   "source": [
    "orders['date'] = pd.to_datetime(orders['date'])"
   ]
  },
  {
   "cell_type": "code",
   "execution_count": 6,
   "id": "3b36ad95",
   "metadata": {},
   "outputs": [
    {
     "data": {
      "text/html": [
       "<div>\n",
       "<style scoped>\n",
       "    .dataframe tbody tr th:only-of-type {\n",
       "        vertical-align: middle;\n",
       "    }\n",
       "\n",
       "    .dataframe tbody tr th {\n",
       "        vertical-align: top;\n",
       "    }\n",
       "\n",
       "    .dataframe thead th {\n",
       "        text-align: right;\n",
       "    }\n",
       "</style>\n",
       "<table border=\"1\" class=\"dataframe\">\n",
       "  <thead>\n",
       "    <tr style=\"text-align: right;\">\n",
       "      <th></th>\n",
       "      <th>date</th>\n",
       "      <th>group</th>\n",
       "      <th>visitors</th>\n",
       "    </tr>\n",
       "  </thead>\n",
       "  <tbody>\n",
       "    <tr>\n",
       "      <th>0</th>\n",
       "      <td>2019-08-01</td>\n",
       "      <td>A</td>\n",
       "      <td>719</td>\n",
       "    </tr>\n",
       "    <tr>\n",
       "      <th>1</th>\n",
       "      <td>2019-08-02</td>\n",
       "      <td>A</td>\n",
       "      <td>619</td>\n",
       "    </tr>\n",
       "    <tr>\n",
       "      <th>2</th>\n",
       "      <td>2019-08-03</td>\n",
       "      <td>A</td>\n",
       "      <td>507</td>\n",
       "    </tr>\n",
       "    <tr>\n",
       "      <th>3</th>\n",
       "      <td>2019-08-04</td>\n",
       "      <td>A</td>\n",
       "      <td>717</td>\n",
       "    </tr>\n",
       "    <tr>\n",
       "      <th>4</th>\n",
       "      <td>2019-08-05</td>\n",
       "      <td>A</td>\n",
       "      <td>756</td>\n",
       "    </tr>\n",
       "  </tbody>\n",
       "</table>\n",
       "</div>"
      ],
      "text/plain": [
       "         date group  visitors\n",
       "0  2019-08-01     A       719\n",
       "1  2019-08-02     A       619\n",
       "2  2019-08-03     A       507\n",
       "3  2019-08-04     A       717\n",
       "4  2019-08-05     A       756"
      ]
     },
     "execution_count": 6,
     "metadata": {},
     "output_type": "execute_result"
    }
   ],
   "source": [
    "visitors = pd.read_csv('datasets/visitors.csv')\n",
    "visitors.head()"
   ]
  },
  {
   "cell_type": "code",
   "execution_count": 7,
   "id": "f2d98cf2",
   "metadata": {},
   "outputs": [
    {
     "name": "stdout",
     "output_type": "stream",
     "text": [
      "<class 'pandas.core.frame.DataFrame'>\n",
      "RangeIndex: 62 entries, 0 to 61\n",
      "Data columns (total 3 columns):\n",
      " #   Column    Non-Null Count  Dtype \n",
      "---  ------    --------------  ----- \n",
      " 0   date      62 non-null     object\n",
      " 1   group     62 non-null     object\n",
      " 2   visitors  62 non-null     int64 \n",
      "dtypes: int64(1), object(2)\n",
      "memory usage: 1.6+ KB\n"
     ]
    }
   ],
   "source": [
    "visitors.info()"
   ]
  },
  {
   "cell_type": "code",
   "execution_count": 8,
   "id": "829dfc1c",
   "metadata": {},
   "outputs": [],
   "source": [
    "visitors['date'] = pd.to_datetime(visitors['date'])"
   ]
  },
  {
   "cell_type": "code",
   "execution_count": 9,
   "id": "eacac027",
   "metadata": {},
   "outputs": [
    {
     "data": {
      "text/plain": [
       "min   2019-08-01\n",
       "max   2019-08-31\n",
       "Name: date, dtype: datetime64[ns]"
      ]
     },
     "execution_count": 9,
     "metadata": {},
     "output_type": "execute_result"
    }
   ],
   "source": [
    "visitors['date'].agg(['min', 'max'])"
   ]
  },
  {
   "cell_type": "code",
   "execution_count": 10,
   "id": "f8627a81",
   "metadata": {},
   "outputs": [
    {
     "data": {
      "text/plain": [
       "group\n",
       "A    18736\n",
       "B    18916\n",
       "Name: visitors, dtype: int64"
      ]
     },
     "execution_count": 10,
     "metadata": {},
     "output_type": "execute_result"
    }
   ],
   "source": [
    "visitors.groupby('group')['visitors'].sum()"
   ]
  },
  {
   "cell_type": "markdown",
   "id": "a7d19295",
   "metadata": {},
   "source": [
    "В течение месяца был проведен сбалансированный A/B-тест."
   ]
  },
  {
   "cell_type": "code",
   "execution_count": 11,
   "id": "ec28098f",
   "metadata": {},
   "outputs": [
    {
     "data": {
      "text/plain": [
       "0.05625606207565471"
      ]
     },
     "execution_count": 11,
     "metadata": {},
     "output_type": "execute_result"
    }
   ],
   "source": [
    "visitors_groups = orders.groupby('visitor_id')['group'].nunique()\n",
    "sum(visitors_groups == 2) / len(visitors_groups)"
   ]
  },
  {
   "cell_type": "markdown",
   "id": "f83a2c36",
   "metadata": {},
   "source": [
    "Система сплитования сработала не совсем корректно, в результате чего некоторые пользователи попали в обе группы. Чем оставлять, удалим этих пользователей, так как их немного и это несильно повлияет на точность информации о количестве пользователей в таблице `visitors`. Но все равно это не очень хорошая практика и лучше заранее проверять систему сплитования, чтобы не возникало такой ситуации."
   ]
  },
  {
   "cell_type": "code",
   "execution_count": 12,
   "id": "add87b0f",
   "metadata": {},
   "outputs": [],
   "source": [
    "orders = orders[orders['visitor_id'].isin(visitors_groups[visitors_groups == 1].index)]"
   ]
  },
  {
   "cell_type": "markdown",
   "id": "e66eac7a",
   "metadata": {},
   "source": [
    "## Часть 1. Приоритизация гипотез <a name='hypotheses_prioritization'></a>"
   ]
  },
  {
   "cell_type": "markdown",
   "id": "f2fdab03",
   "metadata": {},
   "source": [
    "### Фреймворк `ICE` <a name='ICE'></a>"
   ]
  },
  {
   "cell_type": "markdown",
   "id": "3e879e9d",
   "metadata": {},
   "source": [
    "$ICE = \\frac{Impact \\; \\times \\; Confidence}{Efforts}$"
   ]
  },
  {
   "cell_type": "code",
   "execution_count": 13,
   "id": "bf8f54d1",
   "metadata": {},
   "outputs": [],
   "source": [
    "hypothesis['ICE'] = (hypothesis['Impact'] * hypothesis['Confidence']) / hypothesis['Efforts']"
   ]
  },
  {
   "cell_type": "code",
   "execution_count": 14,
   "id": "ea23759b",
   "metadata": {},
   "outputs": [
    {
     "data": {
      "text/html": [
       "<div>\n",
       "<style scoped>\n",
       "    .dataframe tbody tr th:only-of-type {\n",
       "        vertical-align: middle;\n",
       "    }\n",
       "\n",
       "    .dataframe tbody tr th {\n",
       "        vertical-align: top;\n",
       "    }\n",
       "\n",
       "    .dataframe thead th {\n",
       "        text-align: right;\n",
       "    }\n",
       "</style>\n",
       "<table border=\"1\" class=\"dataframe\">\n",
       "  <thead>\n",
       "    <tr style=\"text-align: right;\">\n",
       "      <th></th>\n",
       "      <th>Hypothesis</th>\n",
       "      <th>Impact</th>\n",
       "      <th>Confidence</th>\n",
       "      <th>Efforts</th>\n",
       "      <th>ICE</th>\n",
       "    </tr>\n",
       "  </thead>\n",
       "  <tbody>\n",
       "    <tr>\n",
       "      <th>8</th>\n",
       "      <td>Запустить акцию, дающую скидку на товар в день рождения</td>\n",
       "      <td>9</td>\n",
       "      <td>9</td>\n",
       "      <td>5</td>\n",
       "      <td>16.200</td>\n",
       "    </tr>\n",
       "    <tr>\n",
       "      <th>0</th>\n",
       "      <td>Добавить два новых канала привлечения трафика, что позволит привлекать на 30% больше пользователей</td>\n",
       "      <td>10</td>\n",
       "      <td>8</td>\n",
       "      <td>6</td>\n",
       "      <td>13.333</td>\n",
       "    </tr>\n",
       "    <tr>\n",
       "      <th>7</th>\n",
       "      <td>Добавить форму подписки на все основные страницы, чтобы собрать базу клиентов для email-рассылок</td>\n",
       "      <td>7</td>\n",
       "      <td>8</td>\n",
       "      <td>5</td>\n",
       "      <td>11.200</td>\n",
       "    </tr>\n",
       "    <tr>\n",
       "      <th>6</th>\n",
       "      <td>Показать на главной странице баннеры с актуальными акциями и распродажами, чтобы увеличить конверсию</td>\n",
       "      <td>3</td>\n",
       "      <td>8</td>\n",
       "      <td>3</td>\n",
       "      <td>8.000</td>\n",
       "    </tr>\n",
       "    <tr>\n",
       "      <th>2</th>\n",
       "      <td>Добавить блоки рекомендаций товаров на сайт интернет магазина, чтобы повысить конверсию и средний чек заказа</td>\n",
       "      <td>3</td>\n",
       "      <td>7</td>\n",
       "      <td>3</td>\n",
       "      <td>7.000</td>\n",
       "    </tr>\n",
       "    <tr>\n",
       "      <th>1</th>\n",
       "      <td>Запустить собственную службу доставки, что сократит срок доставки заказов</td>\n",
       "      <td>5</td>\n",
       "      <td>4</td>\n",
       "      <td>10</td>\n",
       "      <td>2.000</td>\n",
       "    </tr>\n",
       "    <tr>\n",
       "      <th>5</th>\n",
       "      <td>Добавить страницу отзывов клиентов о магазине, что позволит увеличить количество заказов</td>\n",
       "      <td>2</td>\n",
       "      <td>2</td>\n",
       "      <td>3</td>\n",
       "      <td>1.333</td>\n",
       "    </tr>\n",
       "    <tr>\n",
       "      <th>3</th>\n",
       "      <td>Изменить структура категорий, что увеличит конверсию, т.к. пользователи быстрее найдут нужный товар</td>\n",
       "      <td>3</td>\n",
       "      <td>3</td>\n",
       "      <td>8</td>\n",
       "      <td>1.125</td>\n",
       "    </tr>\n",
       "    <tr>\n",
       "      <th>4</th>\n",
       "      <td>Изменить цвет фона главной страницы, чтобы увеличить вовлеченность пользователей</td>\n",
       "      <td>1</td>\n",
       "      <td>1</td>\n",
       "      <td>1</td>\n",
       "      <td>1.000</td>\n",
       "    </tr>\n",
       "  </tbody>\n",
       "</table>\n",
       "</div>"
      ],
      "text/plain": [
       "                                                                                                     Hypothesis  \\\n",
       "8                                                       Запустить акцию, дающую скидку на товар в день рождения   \n",
       "0            Добавить два новых канала привлечения трафика, что позволит привлекать на 30% больше пользователей   \n",
       "7              Добавить форму подписки на все основные страницы, чтобы собрать базу клиентов для email-рассылок   \n",
       "6          Показать на главной странице баннеры с актуальными акциями и распродажами, чтобы увеличить конверсию   \n",
       "2  Добавить блоки рекомендаций товаров на сайт интернет магазина, чтобы повысить конверсию и средний чек заказа   \n",
       "1                                     Запустить собственную службу доставки, что сократит срок доставки заказов   \n",
       "5                      Добавить страницу отзывов клиентов о магазине, что позволит увеличить количество заказов   \n",
       "3           Изменить структура категорий, что увеличит конверсию, т.к. пользователи быстрее найдут нужный товар   \n",
       "4                              Изменить цвет фона главной страницы, чтобы увеличить вовлеченность пользователей   \n",
       "\n",
       "   Impact  Confidence  Efforts     ICE  \n",
       "8       9           9        5  16.200  \n",
       "0      10           8        6  13.333  \n",
       "7       7           8        5  11.200  \n",
       "6       3           8        3   8.000  \n",
       "2       3           7        3   7.000  \n",
       "1       5           4       10   2.000  \n",
       "5       2           2        3   1.333  \n",
       "3       3           3        8   1.125  \n",
       "4       1           1        1   1.000  "
      ]
     },
     "execution_count": 14,
     "metadata": {},
     "output_type": "execute_result"
    }
   ],
   "source": [
    "hypothesis.drop(columns='Reach').sort_values(by='ICE', ascending=False).round(3)"
   ]
  },
  {
   "cell_type": "markdown",
   "id": "d688b864",
   "metadata": {},
   "source": [
    "Самые перспективные гипотезы по `ICE`: 0, 2, 6, 7 и 8"
   ]
  },
  {
   "cell_type": "markdown",
   "id": "c2448d49",
   "metadata": {},
   "source": [
    "### Фреймворк `RICE` <a name='RICE'></a>"
   ]
  },
  {
   "cell_type": "markdown",
   "id": "9c4427bf",
   "metadata": {},
   "source": [
    "$RICE = \\frac{Rearch \\; \\times \\; Impact \\; \\times \\; Confidence}{Efforts}$"
   ]
  },
  {
   "cell_type": "code",
   "execution_count": 15,
   "id": "c98a70b9",
   "metadata": {},
   "outputs": [],
   "source": [
    "hypothesis['RICE'] = (hypothesis['Reach'] * hypothesis['Impact'] * hypothesis['Confidence']) / hypothesis['Efforts']"
   ]
  },
  {
   "cell_type": "code",
   "execution_count": 16,
   "id": "84041bde",
   "metadata": {},
   "outputs": [
    {
     "data": {
      "text/html": [
       "<div>\n",
       "<style scoped>\n",
       "    .dataframe tbody tr th:only-of-type {\n",
       "        vertical-align: middle;\n",
       "    }\n",
       "\n",
       "    .dataframe tbody tr th {\n",
       "        vertical-align: top;\n",
       "    }\n",
       "\n",
       "    .dataframe thead th {\n",
       "        text-align: right;\n",
       "    }\n",
       "</style>\n",
       "<table border=\"1\" class=\"dataframe\">\n",
       "  <thead>\n",
       "    <tr style=\"text-align: right;\">\n",
       "      <th></th>\n",
       "      <th>Hypothesis</th>\n",
       "      <th>Reach</th>\n",
       "      <th>Impact</th>\n",
       "      <th>Confidence</th>\n",
       "      <th>Efforts</th>\n",
       "      <th>ICE</th>\n",
       "      <th>RICE</th>\n",
       "    </tr>\n",
       "  </thead>\n",
       "  <tbody>\n",
       "    <tr>\n",
       "      <th>7</th>\n",
       "      <td>Добавить форму подписки на все основные страницы, чтобы собрать базу клиентов для email-рассылок</td>\n",
       "      <td>10</td>\n",
       "      <td>7</td>\n",
       "      <td>8</td>\n",
       "      <td>5</td>\n",
       "      <td>11.200</td>\n",
       "      <td>112.0</td>\n",
       "    </tr>\n",
       "    <tr>\n",
       "      <th>2</th>\n",
       "      <td>Добавить блоки рекомендаций товаров на сайт интернет магазина, чтобы повысить конверсию и средний чек заказа</td>\n",
       "      <td>8</td>\n",
       "      <td>3</td>\n",
       "      <td>7</td>\n",
       "      <td>3</td>\n",
       "      <td>7.000</td>\n",
       "      <td>56.0</td>\n",
       "    </tr>\n",
       "    <tr>\n",
       "      <th>0</th>\n",
       "      <td>Добавить два новых канала привлечения трафика, что позволит привлекать на 30% больше пользователей</td>\n",
       "      <td>3</td>\n",
       "      <td>10</td>\n",
       "      <td>8</td>\n",
       "      <td>6</td>\n",
       "      <td>13.333</td>\n",
       "      <td>40.0</td>\n",
       "    </tr>\n",
       "    <tr>\n",
       "      <th>6</th>\n",
       "      <td>Показать на главной странице баннеры с актуальными акциями и распродажами, чтобы увеличить конверсию</td>\n",
       "      <td>5</td>\n",
       "      <td>3</td>\n",
       "      <td>8</td>\n",
       "      <td>3</td>\n",
       "      <td>8.000</td>\n",
       "      <td>40.0</td>\n",
       "    </tr>\n",
       "    <tr>\n",
       "      <th>8</th>\n",
       "      <td>Запустить акцию, дающую скидку на товар в день рождения</td>\n",
       "      <td>1</td>\n",
       "      <td>9</td>\n",
       "      <td>9</td>\n",
       "      <td>5</td>\n",
       "      <td>16.200</td>\n",
       "      <td>16.2</td>\n",
       "    </tr>\n",
       "    <tr>\n",
       "      <th>3</th>\n",
       "      <td>Изменить структура категорий, что увеличит конверсию, т.к. пользователи быстрее найдут нужный товар</td>\n",
       "      <td>8</td>\n",
       "      <td>3</td>\n",
       "      <td>3</td>\n",
       "      <td>8</td>\n",
       "      <td>1.125</td>\n",
       "      <td>9.0</td>\n",
       "    </tr>\n",
       "    <tr>\n",
       "      <th>1</th>\n",
       "      <td>Запустить собственную службу доставки, что сократит срок доставки заказов</td>\n",
       "      <td>2</td>\n",
       "      <td>5</td>\n",
       "      <td>4</td>\n",
       "      <td>10</td>\n",
       "      <td>2.000</td>\n",
       "      <td>4.0</td>\n",
       "    </tr>\n",
       "    <tr>\n",
       "      <th>5</th>\n",
       "      <td>Добавить страницу отзывов клиентов о магазине, что позволит увеличить количество заказов</td>\n",
       "      <td>3</td>\n",
       "      <td>2</td>\n",
       "      <td>2</td>\n",
       "      <td>3</td>\n",
       "      <td>1.333</td>\n",
       "      <td>4.0</td>\n",
       "    </tr>\n",
       "    <tr>\n",
       "      <th>4</th>\n",
       "      <td>Изменить цвет фона главной страницы, чтобы увеличить вовлеченность пользователей</td>\n",
       "      <td>3</td>\n",
       "      <td>1</td>\n",
       "      <td>1</td>\n",
       "      <td>1</td>\n",
       "      <td>1.000</td>\n",
       "      <td>3.0</td>\n",
       "    </tr>\n",
       "  </tbody>\n",
       "</table>\n",
       "</div>"
      ],
      "text/plain": [
       "                                                                                                     Hypothesis  \\\n",
       "7              Добавить форму подписки на все основные страницы, чтобы собрать базу клиентов для email-рассылок   \n",
       "2  Добавить блоки рекомендаций товаров на сайт интернет магазина, чтобы повысить конверсию и средний чек заказа   \n",
       "0            Добавить два новых канала привлечения трафика, что позволит привлекать на 30% больше пользователей   \n",
       "6          Показать на главной странице баннеры с актуальными акциями и распродажами, чтобы увеличить конверсию   \n",
       "8                                                       Запустить акцию, дающую скидку на товар в день рождения   \n",
       "3           Изменить структура категорий, что увеличит конверсию, т.к. пользователи быстрее найдут нужный товар   \n",
       "1                                     Запустить собственную службу доставки, что сократит срок доставки заказов   \n",
       "5                      Добавить страницу отзывов клиентов о магазине, что позволит увеличить количество заказов   \n",
       "4                              Изменить цвет фона главной страницы, чтобы увеличить вовлеченность пользователей   \n",
       "\n",
       "   Reach  Impact  Confidence  Efforts     ICE   RICE  \n",
       "7     10       7           8        5  11.200  112.0  \n",
       "2      8       3           7        3   7.000   56.0  \n",
       "0      3      10           8        6  13.333   40.0  \n",
       "6      5       3           8        3   8.000   40.0  \n",
       "8      1       9           9        5  16.200   16.2  \n",
       "3      8       3           3        8   1.125    9.0  \n",
       "1      2       5           4       10   2.000    4.0  \n",
       "5      3       2           2        3   1.333    4.0  \n",
       "4      3       1           1        1   1.000    3.0  "
      ]
     },
     "execution_count": 16,
     "metadata": {},
     "output_type": "execute_result"
    }
   ],
   "source": [
    "hypothesis.sort_values(by='RICE', ascending=False).round(3)"
   ]
  },
  {
   "cell_type": "markdown",
   "id": "3f6042aa",
   "metadata": {},
   "source": [
    "По `RICE` перспективные гипотезы такие же, только изменились их приоритеты. Гипотеза 8, считавшаяся самой перспективной по `ICE`, заняла 5 место, так как почти не имеет влияния на пользователей. Большой охват пользователей вывел в топ гипотезы 2 и 7, ранее занимавшие 3 и 5 места по `ICE`."
   ]
  },
  {
   "cell_type": "markdown",
   "id": "1393acaf",
   "metadata": {},
   "source": [
    "## Часть 2. Анализ A/B-теста <a name='AB_test_analysis'></a>"
   ]
  },
  {
   "cell_type": "markdown",
   "id": "47add921",
   "metadata": {},
   "source": [
    "### Кумулятивная выручка <a name='cumulative_revenue'></a>"
   ]
  },
  {
   "cell_type": "code",
   "execution_count": 17,
   "id": "8a8835b9",
   "metadata": {},
   "outputs": [],
   "source": [
    "orders['day'] = orders['date'].dt.day\n",
    "visitors['day'] = visitors['date'].dt.day\n",
    "\n",
    "dates_groups = orders[['day', 'group']].drop_duplicates() \n",
    "orders_aggregated = (\n",
    "    dates_groups\n",
    "    .apply(\n",
    "        lambda x: orders[(orders['day'] <= x['day']) & (orders['group'] == x['group'])]\n",
    "        .agg({'day': 'max', 'group': 'max', 'transaction_id': 'count', 'visitor_id': 'nunique', 'revenue': 'sum'}), \n",
    "        axis=1\n",
    "    )\n",
    "    .sort_values(by=['day', 'group'])\n",
    ")\n",
    "orders_aggregated.rename(columns={'transaction_id': 'orders', 'visitor_id': 'buyers'}, inplace=True)\n",
    "\n",
    "visitors_aggregated = (\n",
    "    dates_groups\n",
    "    .apply(\n",
    "        lambda x: visitors[(visitors['day'] <= x['day']) & (visitors['group'] == x['group'])]\n",
    "        .agg({'day': 'max', 'group': 'max', 'visitors': 'sum'}),\n",
    "        axis=1\n",
    "    )\n",
    "    .sort_values(by=['day', 'group'])\n",
    ")\n",
    "\n",
    "cumulative_data = orders_aggregated.merge(visitors_aggregated, on=['day', 'group'])\n",
    "cumulative_data['avg_revenue'] = cumulative_data['revenue'] / cumulative_data['orders']"
   ]
  },
  {
   "cell_type": "code",
   "execution_count": 18,
   "id": "e7c83eb6",
   "metadata": {},
   "outputs": [
    {
     "data": {
      "image/png": "[encoded data removed]",
      "text/plain": [
       "<Figure size 720x360 with 1 Axes>"
      ]
     },
     "metadata": {},
     "output_type": "display_data"
    }
   ],
   "source": [
    "plt.figure(figsize=(10, 5))\n",
    "sns.lineplot(data=cumulative_data, x='day', y='revenue', hue='group')\n",
    "plt.xlabel('август 2019')\n",
    "plt.ylabel('выручка')\n",
    "plt.title('Кумулятивная выручка по группам')\n",
    "plt.legend(title=None);"
   ]
  },
  {
   "cell_type": "markdown",
   "id": "2c552655",
   "metadata": {},
   "source": [
    "* Выручка равномерно растет, за исключением резкого скачка у группы B с 18 по 19 день\n",
    "\n",
    "* В течение теста выручка в основном больше у группы B"
   ]
  },
  {
   "cell_type": "markdown",
   "id": "399d745f",
   "metadata": {},
   "source": [
    "### Кумулятивное количество заказов <a name='cumulative_orders'></a>"
   ]
  },
  {
   "cell_type": "code",
   "execution_count": 19,
   "id": "41bf93e7",
   "metadata": {},
   "outputs": [
    {
     "data": {
      "image/png": "[encoded data removed]",
      "text/plain": [
       "<Figure size 720x360 with 1 Axes>"
      ]
     },
     "metadata": {},
     "output_type": "display_data"
    }
   ],
   "source": [
    "plt.figure(figsize=(10, 5))\n",
    "sns.lineplot(data=cumulative_data, x='day', y='orders', hue='group')\n",
    "plt.xlabel('август 2019')\n",
    "plt.ylabel('количество заказов')\n",
    "plt.title('Кумулятивное количество заказов')\n",
    "plt.legend(title=None);"
   ]
  },
  {
   "cell_type": "markdown",
   "id": "ebc94b59",
   "metadata": {},
   "source": [
    "* В первую неделю количество заказов у группы B немного меньше. Со второй недели и до конца месяца разница постепенно увеличивается в пользу группы B\n",
    "\n",
    "* Нет всплеска числа заказов с 18 по 19 день, получается резкий скачек выручки у группы B обусловлен дорогими заказами\n",
    "\n"
   ]
  },
  {
   "cell_type": "markdown",
   "id": "14709dfe",
   "metadata": {},
   "source": [
    "### Кумулятивный средний чек <a name='cumulative_avg_revenue'></a>"
   ]
  },
  {
   "cell_type": "code",
   "execution_count": 20,
   "id": "3160da6c",
   "metadata": {},
   "outputs": [],
   "source": [
    "cumulative_avg_revenue_A = cumulative_data.loc[cumulative_data['group'] == 'A', ['day', 'avg_revenue']]\n",
    "cumulative_avg_revenue_B = cumulative_data.loc[cumulative_data['group'] == 'B', ['day', 'avg_revenue']]\n",
    "cumulative_avg_revenue = cumulative_avg_revenue_A.merge(cumulative_avg_revenue_B, on='day', suffixes=['_A', '_B'])"
   ]
  },
  {
   "cell_type": "code",
   "execution_count": 21,
   "id": "4a5d11ad",
   "metadata": {},
   "outputs": [
    {
     "data": {
      "image/png": "[encoded data removed]",
      "text/plain": [
       "<Figure size 720x360 with 1 Axes>"
      ]
     },
     "metadata": {},
     "output_type": "display_data"
    }
   ],
   "source": [
    "plt.figure(figsize=(10, 5))\n",
    "sns.lineplot(data=cumulative_data, x='day', y='avg_revenue', hue='group')\n",
    "plt.xlabel('август 2019')\n",
    "plt.ylabel('средний чек')\n",
    "plt.title('Кумулятивный средний чек по группам')\n",
    "plt.legend(title=None);"
   ]
  },
  {
   "cell_type": "markdown",
   "id": "cae670f5",
   "metadata": {},
   "source": [
    "До 19 августа средний чек нестабилен в обеих группах. Далее у котрольной группы он более-менее установился около 7000, а у тестовой группы после резкого скачка наблюдается отрицательный тренд."
   ]
  },
  {
   "cell_type": "code",
   "execution_count": 22,
   "id": "619b9d77",
   "metadata": {
    "scrolled": true
   },
   "outputs": [
    {
     "data": {
      "image/png": "[encoded data removed]",
      "text/plain": [
       "<Figure size 720x360 with 1 Axes>"
      ]
     },
     "metadata": {},
     "output_type": "display_data"
    }
   ],
   "source": [
    "plt.figure(figsize=(10, 5))\n",
    "plt.plot(range(1, 32), cumulative_avg_revenue['avg_revenue_B'] / cumulative_avg_revenue['avg_revenue_A'] - 1)\n",
    "plt.axhline(y=0, color='black', linestyle='--', alpha=0.7)\n",
    "plt.xlabel('август 2019')\n",
    "plt.title('Относительное изменение кумулятивного среднего чека группы B к группе A');"
   ]
  },
  {
   "cell_type": "markdown",
   "id": "55eca163",
   "metadata": {},
   "source": [
    "Много резких изменений до 19 августа, после наблюдается тренд на снижение отношения среднего чека."
   ]
  },
  {
   "cell_type": "markdown",
   "id": "e71c0b0e",
   "metadata": {},
   "source": [
    "### Кумулятивная конверсия <a name='cumulative_conversion'></a>"
   ]
  },
  {
   "cell_type": "code",
   "execution_count": 23,
   "id": "cc04044a",
   "metadata": {},
   "outputs": [],
   "source": [
    "cumulative_data['conversion'] = cumulative_data['orders'] / cumulative_data['visitors']"
   ]
  },
  {
   "cell_type": "code",
   "execution_count": 24,
   "id": "a0048b04",
   "metadata": {},
   "outputs": [
    {
     "data": {
      "image/png": "[encoded data removed]",
      "text/plain": [
       "<Figure size 720x360 with 1 Axes>"
      ]
     },
     "metadata": {},
     "output_type": "display_data"
    }
   ],
   "source": [
    "plt.figure(figsize=(10, 5))\n",
    "sns.lineplot(data=cumulative_data, x='day', y='conversion', hue='group')\n",
    "plt.axhline(y=0.0255, color='grey', linestyle='--', alpha=0.6)\n",
    "plt.axhline(y=0.0295, color='grey', linestyle='--', alpha=0.6)\n",
    "plt.xlabel('август 2019')\n",
    "plt.ylabel('конверсия')\n",
    "plt.ylim(0, 0.04)\n",
    "plt.title('Кумулятивная конверсия по группам')\n",
    "plt.legend(title=None);"
   ]
  },
  {
   "cell_type": "markdown",
   "id": "0ff1ca9a",
   "metadata": {},
   "source": [
    "Конверсии зафиксировались около 26% и 30% у групп A и B."
   ]
  },
  {
   "cell_type": "code",
   "execution_count": 25,
   "id": "8415b26b",
   "metadata": {},
   "outputs": [],
   "source": [
    "cumulative_conversion_A = cumulative_data.loc[cumulative_data['group'] == 'A', ['day', 'conversion']]\n",
    "cumulative_conversion_B = cumulative_data.loc[cumulative_data['group'] == 'B', ['day', 'conversion']]\n",
    "cumulative_conversion = cumulative_conversion_A.merge(cumulative_conversion_B, on='day', suffixes=['_A', '_B'])"
   ]
  },
  {
   "cell_type": "code",
   "execution_count": 26,
   "id": "ec958d1b",
   "metadata": {},
   "outputs": [
    {
     "data": {
      "image/png": "[encoded data removed]",
      "text/plain": [
       "<Figure size 720x360 with 1 Axes>"
      ]
     },
     "metadata": {},
     "output_type": "display_data"
    }
   ],
   "source": [
    "plt.figure(figsize=(10, 5))\n",
    "plt.plot(range(1, 32), cumulative_conversion['conversion_B'] / cumulative_conversion['conversion_A'] - 1)\n",
    "plt.axhline(y=0, color='black', linestyle='--', alpha=0.7)\n",
    "plt.axhline(y=0.15, color='grey', linestyle='--', alpha=0.6)\n",
    "plt.xlabel('август 2019')\n",
    "plt.ylim(-0.5, 0.5)\n",
    "plt.title('Относительное изменение кумулятивной конверсии группы B к группе A');"
   ]
  },
  {
   "cell_type": "markdown",
   "id": "8e6df46e",
   "metadata": {},
   "source": [
    "У группы B конверсия была хуже только первые 5 дней. Дальше конверсия группы B вырвалась вперед и начиная с середины второй недели была в среднем больше конверсии группы A на 15%."
   ]
  },
  {
   "cell_type": "markdown",
   "id": "69b87ce9",
   "metadata": {},
   "source": [
    "### Аномалии <a name='outliers'></a>"
   ]
  },
  {
   "cell_type": "code",
   "execution_count": 27,
   "id": "6caed2e3",
   "metadata": {},
   "outputs": [
    {
     "data": {
      "image/png": "[encoded data removed]",
      "text/plain": [
       "<Figure size 1080x360 with 2 Axes>"
      ]
     },
     "metadata": {},
     "output_type": "display_data"
    }
   ],
   "source": [
    "fig, axes = plt.subplots(nrows=1, ncols=2, figsize=(15, 5))\n",
    "axes[0].scatter(x=range(len(orders)), y=orders['revenue'])\n",
    "axes[0].set_ylabel('стоимость заказа')\n",
    "axes[1].scatter(x=range(sum(orders['revenue'] < 10**6)), y=orders.loc[orders['revenue'] < 10**6,'revenue'])\n",
    "plt.suptitle('Стоимость заказов');"
   ]
  },
  {
   "cell_type": "code",
   "execution_count": 28,
   "id": "a1d00fa8",
   "metadata": {},
   "outputs": [
    {
     "data": {
      "text/html": [
       "<div>\n",
       "<style scoped>\n",
       "    .dataframe tbody tr th:only-of-type {\n",
       "        vertical-align: middle;\n",
       "    }\n",
       "\n",
       "    .dataframe tbody tr th {\n",
       "        vertical-align: top;\n",
       "    }\n",
       "\n",
       "    .dataframe thead th {\n",
       "        text-align: right;\n",
       "    }\n",
       "</style>\n",
       "<table border=\"1\" class=\"dataframe\">\n",
       "  <thead>\n",
       "    <tr style=\"text-align: right;\">\n",
       "      <th></th>\n",
       "      <th>revenue</th>\n",
       "    </tr>\n",
       "  </thead>\n",
       "  <tbody>\n",
       "    <tr>\n",
       "      <th>0.90</th>\n",
       "      <td>17990.0</td>\n",
       "    </tr>\n",
       "    <tr>\n",
       "      <th>0.95</th>\n",
       "      <td>26785.0</td>\n",
       "    </tr>\n",
       "    <tr>\n",
       "      <th>0.99</th>\n",
       "      <td>53904.0</td>\n",
       "    </tr>\n",
       "  </tbody>\n",
       "</table>\n",
       "</div>"
      ],
      "text/plain": [
       "      revenue\n",
       "0.90  17990.0\n",
       "0.95  26785.0\n",
       "0.99  53904.0"
      ]
     },
     "execution_count": 28,
     "metadata": {},
     "output_type": "execute_result"
    }
   ],
   "source": [
    "orders['revenue'].quantile([0.9, 0.95, 0.99]).to_frame()"
   ]
  },
  {
   "cell_type": "code",
   "execution_count": 29,
   "id": "6bd940e9",
   "metadata": {},
   "outputs": [
    {
     "data": {
      "image/png": "[encoded data removed]",
      "text/plain": [
       "<Figure size 576x360 with 1 Axes>"
      ]
     },
     "metadata": {},
     "output_type": "display_data"
    }
   ],
   "source": [
    "orders_by_visitors = orders.groupby('visitor_id', as_index=False)['transaction_id'].count()\n",
    "orders_by_visitors.rename(columns={'transaction_id': 'orders'}, inplace=True)\n",
    "\n",
    "plt.figure(figsize=(8, 5))\n",
    "plt.scatter(x=range(len(orders_by_visitors)), y=orders_by_visitors['orders'])\n",
    "plt.ylabel('количество заказов')\n",
    "plt.title('Количество заказов по пользователям');"
   ]
  },
  {
   "cell_type": "code",
   "execution_count": 30,
   "id": "5ae9815b",
   "metadata": {},
   "outputs": [
    {
     "data": {
      "text/html": [
       "<div>\n",
       "<style scoped>\n",
       "    .dataframe tbody tr th:only-of-type {\n",
       "        vertical-align: middle;\n",
       "    }\n",
       "\n",
       "    .dataframe tbody tr th {\n",
       "        vertical-align: top;\n",
       "    }\n",
       "\n",
       "    .dataframe thead th {\n",
       "        text-align: right;\n",
       "    }\n",
       "</style>\n",
       "<table border=\"1\" class=\"dataframe\">\n",
       "  <thead>\n",
       "    <tr style=\"text-align: right;\">\n",
       "      <th></th>\n",
       "      <th>orders</th>\n",
       "    </tr>\n",
       "  </thead>\n",
       "  <tbody>\n",
       "    <tr>\n",
       "      <th>0.90</th>\n",
       "      <td>1.0</td>\n",
       "    </tr>\n",
       "    <tr>\n",
       "      <th>0.95</th>\n",
       "      <td>1.0</td>\n",
       "    </tr>\n",
       "    <tr>\n",
       "      <th>0.99</th>\n",
       "      <td>2.0</td>\n",
       "    </tr>\n",
       "  </tbody>\n",
       "</table>\n",
       "</div>"
      ],
      "text/plain": [
       "      orders\n",
       "0.90     1.0\n",
       "0.95     1.0\n",
       "0.99     2.0"
      ]
     },
     "execution_count": 30,
     "metadata": {},
     "output_type": "execute_result"
    }
   ],
   "source": [
    "orders_by_visitors['orders'].quantile([0.9, 0.95, 0.99]).to_frame()"
   ]
  },
  {
   "cell_type": "markdown",
   "id": "1d142d26",
   "metadata": {},
   "source": [
    "Будем считать аномальными пользователями тех, кто совершил заказы дороже 30 тыс. или сделал 3 заказа."
   ]
  },
  {
   "cell_type": "code",
   "execution_count": 31,
   "id": "8819852f",
   "metadata": {},
   "outputs": [],
   "source": [
    "visitors_with_many_orders = orders_by_visitors.loc[orders_by_visitors['orders'] == 3, 'visitor_id']\n",
    "visitors_with_expensive_orders = orders.loc[orders['revenue'] > 30000, 'visitor_id']\n",
    "abnormal_visitors = pd.concat([visitors_with_many_orders, visitors_with_expensive_orders], axis=0).drop_duplicates()"
   ]
  },
  {
   "cell_type": "code",
   "execution_count": 32,
   "id": "8a1fff3c",
   "metadata": {},
   "outputs": [
    {
     "name": "stdout",
     "output_type": "stream",
     "text": [
      "Всего 49 аномальных пользователей.\n"
     ]
    }
   ],
   "source": [
    "print(f'Всего {len(abnormal_visitors)} аномальных пользователей.')"
   ]
  },
  {
   "cell_type": "markdown",
   "id": "191ea56f",
   "metadata": {},
   "source": [
    "### Гипотеза о разнице в конверсии <a name='hypothesis_1'></a>"
   ]
  },
  {
   "cell_type": "markdown",
   "id": "21c0a858",
   "metadata": {},
   "source": [
    "**Нулевая:** кол-во заказов распределено одинаково в группах A и B\n",
    "\n",
    "**Альтернативная:** кол-во заказов распределено по-разному в группах A и B"
   ]
  },
  {
   "cell_type": "markdown",
   "id": "75dc3edc",
   "metadata": {},
   "source": [
    "#### До удаления аномальных пользователей"
   ]
  },
  {
   "cell_type": "code",
   "execution_count": 33,
   "id": "dc1586aa",
   "metadata": {},
   "outputs": [],
   "source": [
    "cumulative_data_A = cumulative_data.loc[cumulative_data['group'] == 'A', ['day', 'visitors', 'orders', 'revenue']]\n",
    "cumulative_data_B = cumulative_data.loc[cumulative_data['group'] == 'B', ['day', 'visitors', 'orders', 'revenue']]\n",
    "cumulative_data_2 = cumulative_data_A.merge(cumulative_data_B, on='day', suffixes=['_A', '_B'])\n",
    "\n",
    "orders_by_visitors = orders.groupby(['visitor_id', 'group'], as_index=False)['transaction_id'].count()\n",
    "orders_by_visitors.rename(columns={'transaction_id': 'orders'}, inplace=True)\n",
    "orders_by_visitors_A = orders_by_visitors[orders_by_visitors['group'] == 'A']\n",
    "orders_by_visitors_B = orders_by_visitors[orders_by_visitors['group'] == 'B']\n",
    "\n",
    "orders_A = pd.concat([orders_by_visitors_A['orders'], pd.Series(0, index=np.arange((cumulative_data_2.loc[cumulative_data_2['day'] == 31, 'visitors_A'] - len(orders_by_visitors_A['orders'])).values), name='orders')], axis=0)\n",
    "orders_B = pd.concat([orders_by_visitors_B['orders'], pd.Series(0, index=np.arange((cumulative_data_2.loc[cumulative_data_2['day'] == 31, 'visitors_B'] - len(orders_by_visitors_B['orders'])).values), name='orders')], axis=0)"
   ]
  },
  {
   "cell_type": "code",
   "execution_count": 34,
   "id": "8b747135",
   "metadata": {},
   "outputs": [
    {
     "name": "stdout",
     "output_type": "stream",
     "text": [
      "p-value: 0.011018084110014696\n",
      "Относительный прирост среднего числа заказов группы B: 0.1597977924896936\n"
     ]
    }
   ],
   "source": [
    "statistic, p_value = mannwhitneyu(orders_A, orders_B, alternative='two-sided')\n",
    "print(f'p-value: {p_value}')\n",
    "print(f'Относительный прирост среднего числа заказов группы B: {orders_B.mean() / orders_A.mean() - 1}')"
   ]
  },
  {
   "cell_type": "markdown",
   "id": "2fa707b8",
   "metadata": {},
   "source": [
    "#### После удаления аномальных пользователей"
   ]
  },
  {
   "cell_type": "code",
   "execution_count": 35,
   "id": "652d337a",
   "metadata": {},
   "outputs": [
    {
     "name": "stdout",
     "output_type": "stream",
     "text": [
      "p-value: 0.009707773706615004\n",
      "Относительный прирост среднего числа заказов группы B: 0.187256954721281\n"
     ]
    }
   ],
   "source": [
    "orders_filtered_A = pd.concat([orders_by_visitors_A.loc[~orders_by_visitors_A['visitor_id'].isin(abnormal_visitors), 'orders'], pd.Series(0, index=np.arange((cumulative_data_2.loc[cumulative_data_2['day'] == 31, 'visitors_A'] - len(orders_by_visitors_A['orders'])).values), name='orders')], axis=0)\n",
    "orders_filtered_B = pd.concat([orders_by_visitors_B.loc[~orders_by_visitors_B['visitor_id'].isin(abnormal_visitors), 'orders'], pd.Series(0, index=np.arange((cumulative_data_2.loc[cumulative_data_2['day'] == 31, 'visitors_B'] - len(orders_by_visitors_B['orders'])).values), name='orders')], axis=0)\n",
    "\n",
    "statistic, p_value = mannwhitneyu(orders_filtered_A, orders_filtered_B, alternative='two-sided')\n",
    "print(f'p-value: {p_value}')\n",
    "print(f'Относительный прирост среднего числа заказов группы B: {orders_filtered_B.mean() / orders_filtered_A.mean() - 1}')"
   ]
  },
  {
   "cell_type": "markdown",
   "id": "e183452b",
   "metadata": {},
   "source": [
    "<br>"
   ]
  },
  {
   "cell_type": "markdown",
   "id": "fecf418b",
   "metadata": {},
   "source": [
    "До и после удаления аномальных пользователей есть статистически значимое различие в конверсии по группам при $\\alpha = 5\\%$. После удаления аномальных пользователей разница в конверсии между группа увеличилась с 16% до 19%."
   ]
  },
  {
   "cell_type": "markdown",
   "id": "e94bf7c4",
   "metadata": {},
   "source": [
    "### Гипотеза о разнице в среднем чеке <a name='hypothesis_2'></a>"
   ]
  },
  {
   "cell_type": "markdown",
   "id": "43e9df1f",
   "metadata": {},
   "source": [
    "**Нулевая:** распределение чека одинаковое у групп A и B\n",
    "\n",
    "**Альтернативная:** распределение чека разное у групп A и B"
   ]
  },
  {
   "cell_type": "markdown",
   "id": "d9e3f00f",
   "metadata": {},
   "source": [
    "#### До удаления аномальных пользователей"
   ]
  },
  {
   "cell_type": "code",
   "execution_count": 36,
   "id": "a2cac455",
   "metadata": {},
   "outputs": [
    {
     "name": "stdout",
     "output_type": "stream",
     "text": [
      "p-value: 0.8294908998149533\n",
      "Относительное различие в среднем чеке между группами 0.28660287636871096\n"
     ]
    }
   ],
   "source": [
    "revenue_A = orders.loc[orders['group'] == 'A', 'revenue']\n",
    "revenue_B = orders.loc[orders['group'] == 'B', 'revenue']\n",
    "\n",
    "statistic, p_value = mannwhitneyu(revenue_A, revenue_B, alternative='two-sided')\n",
    "print(f'p-value: {p_value}')\n",
    "print(f'Относительное различие в среднем чеке между группами {revenue_B.mean() / revenue_A.mean() - 1}')"
   ]
  },
  {
   "cell_type": "markdown",
   "id": "dfed3a79",
   "metadata": {},
   "source": [
    "Нет оснований считать, что есть статистически значимая разница в среднем чеке. Средний чек группы B на 29% больше среднего чека группы A из-за дорогих заказов в группе B."
   ]
  },
  {
   "cell_type": "markdown",
   "id": "f4bbbcb7",
   "metadata": {},
   "source": [
    "#### После удаления аномальных пользователей "
   ]
  },
  {
   "cell_type": "code",
   "execution_count": 37,
   "id": "dde65012",
   "metadata": {},
   "outputs": [
    {
     "name": "stdout",
     "output_type": "stream",
     "text": [
      "p-value: 0.7408811467812091\n",
      "Относительное различие в среднем чеке между группами -0.02656692045947706\n"
     ]
    }
   ],
   "source": [
    "revenue_filtered_A = orders.loc[(~orders['visitor_id'].isin(abnormal_visitors)) & (orders['group'] == 'A'), 'revenue']\n",
    "revenue_filtered_B = orders.loc[(~orders['visitor_id'].isin(abnormal_visitors)) & (orders['group'] == 'B'), 'revenue']\n",
    "\n",
    "statistic, p_value = mannwhitneyu(revenue_filtered_A, revenue_filtered_B, alternative='two-sided')\n",
    "print(f'p-value: {p_value}')\n",
    "print(f'Относительное различие в среднем чеке между группами {revenue_filtered_B.mean() / revenue_filtered_A.mean() - 1}')"
   ]
  },
  {
   "cell_type": "markdown",
   "id": "9f2509a3",
   "metadata": {},
   "source": [
    "Нет статистически значимой разницы в среднем чеке. Относительной разницы в среднем чеке уже не балюдается."
   ]
  },
  {
   "cell_type": "markdown",
   "id": "614a3f2e",
   "metadata": {},
   "source": [
    "## Выводы <a name='conclusions'></a>"
   ]
  },
  {
   "cell_type": "markdown",
   "id": "0bf99742",
   "metadata": {},
   "source": [
    "* До и после удаления аномалий различие в конверсии статистически значимо, а в среднем чеке – нет\n",
    "\n",
    "* По графику конверсии видно, что с 6 дня конверсия в группе B стабильно лучше конверсии группы A\n",
    "\n",
    "* По графику среднего чека разница колеблется и нельзя сделать какие-то выводы\n",
    "\n",
    "Можно остановить тест и зафиксировать победу группы B."
   ]
  }
 ],
 "metadata": {
  "ExecuteTimeLog": [
   {
    "duration": 1429,
    "start_time": "2022-09-12T16:12:18.544Z"
   },
   {
    "duration": 80,
    "start_time": "2022-09-12T16:12:19.975Z"
   },
   {
    "duration": 87,
    "start_time": "2022-09-12T16:12:20.057Z"
   },
   {
    "duration": 4,
    "start_time": "2022-09-12T16:12:20.147Z"
   },
   {
    "duration": 40,
    "start_time": "2022-09-12T16:12:20.153Z"
   },
   {
    "duration": 17,
    "start_time": "2022-09-12T16:12:20.195Z"
   },
   {
    "duration": 67,
    "start_time": "2022-09-12T16:12:20.214Z"
   },
   {
    "duration": 4,
    "start_time": "2022-09-12T16:12:20.283Z"
   },
   {
    "duration": 38,
    "start_time": "2022-09-12T16:12:20.288Z"
   },
   {
    "duration": 12,
    "start_time": "2022-09-12T16:12:20.329Z"
   },
   {
    "duration": 38,
    "start_time": "2022-09-12T16:12:20.343Z"
   },
   {
    "duration": 28,
    "start_time": "2022-09-12T16:12:20.383Z"
   },
   {
    "duration": 23,
    "start_time": "2022-09-12T16:12:20.413Z"
   },
   {
    "duration": 19,
    "start_time": "2022-09-12T16:12:20.438Z"
   },
   {
    "duration": 41,
    "start_time": "2022-09-12T16:12:20.460Z"
   },
   {
    "duration": 20,
    "start_time": "2022-09-12T16:12:20.504Z"
   },
   {
    "duration": 35,
    "start_time": "2022-09-12T16:12:20.526Z"
   },
   {
    "duration": 29,
    "start_time": "2022-09-12T16:12:20.563Z"
   },
   {
    "duration": 313,
    "start_time": "2022-09-12T16:12:20.594Z"
   },
   {
    "duration": 276,
    "start_time": "2022-09-12T16:12:20.909Z"
   },
   {
    "duration": 259,
    "start_time": "2022-09-12T16:12:21.187Z"
   },
   {
    "duration": 12,
    "start_time": "2022-09-12T16:12:21.448Z"
   },
   {
    "duration": 337,
    "start_time": "2022-09-12T16:12:21.462Z"
   },
   {
    "duration": 392,
    "start_time": "2022-09-12T16:12:21.801Z"
   },
   {
    "duration": 5,
    "start_time": "2022-09-12T16:12:22.195Z"
   },
   {
    "duration": 291,
    "start_time": "2022-09-12T16:12:22.201Z"
   },
   {
    "duration": 11,
    "start_time": "2022-09-12T16:12:22.494Z"
   },
   {
    "duration": 306,
    "start_time": "2022-09-12T16:12:22.520Z"
   },
   {
    "duration": 351,
    "start_time": "2022-09-12T16:12:22.827Z"
   },
   {
    "duration": 10,
    "start_time": "2022-09-12T16:12:23.179Z"
   },
   {
    "duration": 210,
    "start_time": "2022-09-12T16:12:23.191Z"
   },
   {
    "duration": 9,
    "start_time": "2022-09-12T16:12:23.403Z"
   },
   {
    "duration": 33,
    "start_time": "2022-09-12T16:12:23.414Z"
   },
   {
    "duration": 26,
    "start_time": "2022-09-12T16:12:23.448Z"
   },
   {
    "duration": 6,
    "start_time": "2022-09-12T16:12:23.475Z"
   },
   {
    "duration": 44,
    "start_time": "2022-09-12T16:12:23.482Z"
   },
   {
    "duration": 6,
    "start_time": "2022-09-12T16:12:23.528Z"
   },
   {
    "duration": 12,
    "start_time": "2022-09-12T16:12:23.536Z"
   },
   {
    "duration": 1230,
    "start_time": "2022-09-13T19:09:28.548Z"
   },
   {
    "duration": 89,
    "start_time": "2022-09-13T19:10:25.512Z"
   },
   {
    "duration": 4,
    "start_time": "2022-09-13T19:11:03.100Z"
   },
   {
    "duration": 69,
    "start_time": "2022-09-13T19:11:06.115Z"
   },
   {
    "duration": 30,
    "start_time": "2022-09-13T19:11:14.755Z"
   },
   {
    "duration": 30,
    "start_time": "2022-09-13T19:12:24.959Z"
   },
   {
    "duration": 4,
    "start_time": "2022-09-13T19:23:11.560Z"
   },
   {
    "duration": 34,
    "start_time": "2022-09-13T19:23:11.566Z"
   },
   {
    "duration": 73,
    "start_time": "2022-09-13T19:23:11.602Z"
   },
   {
    "duration": 5,
    "start_time": "2022-09-13T19:23:11.676Z"
   },
   {
    "duration": 17,
    "start_time": "2022-09-13T19:23:11.683Z"
   },
   {
    "duration": 15,
    "start_time": "2022-09-13T19:23:11.702Z"
   },
   {
    "duration": 69,
    "start_time": "2022-09-13T19:23:11.719Z"
   },
   {
    "duration": 3,
    "start_time": "2022-09-13T19:23:11.791Z"
   },
   {
    "duration": 12,
    "start_time": "2022-09-13T19:23:11.796Z"
   },
   {
    "duration": 7,
    "start_time": "2022-09-13T19:23:11.809Z"
   },
   {
    "duration": 11,
    "start_time": "2022-09-13T19:23:11.817Z"
   },
   {
    "duration": 10,
    "start_time": "2022-09-13T19:23:11.829Z"
   },
   {
    "duration": 9,
    "start_time": "2022-09-13T19:23:11.841Z"
   },
   {
    "duration": 4,
    "start_time": "2022-09-13T19:23:11.852Z"
   },
   {
    "duration": 9,
    "start_time": "2022-09-13T19:23:11.857Z"
   },
   {
    "duration": 15,
    "start_time": "2022-09-13T19:23:11.867Z"
   },
   {
    "duration": 5,
    "start_time": "2022-09-13T19:23:11.883Z"
   },
   {
    "duration": 12,
    "start_time": "2022-09-13T19:23:11.889Z"
   },
   {
    "duration": 3,
    "start_time": "2022-09-13T20:21:38.655Z"
   },
   {
    "duration": 9,
    "start_time": "2022-09-13T20:21:58.700Z"
   },
   {
    "duration": 1045,
    "start_time": "2022-09-13T20:22:13.174Z"
   },
   {
    "duration": 34,
    "start_time": "2022-09-13T20:22:14.222Z"
   },
   {
    "duration": 42,
    "start_time": "2022-09-13T20:22:14.258Z"
   },
   {
    "duration": 4,
    "start_time": "2022-09-13T20:22:14.302Z"
   },
   {
    "duration": 11,
    "start_time": "2022-09-13T20:22:14.308Z"
   },
   {
    "duration": 5,
    "start_time": "2022-09-13T20:22:14.320Z"
   },
   {
    "duration": 21,
    "start_time": "2022-09-13T20:22:14.326Z"
   },
   {
    "duration": 3,
    "start_time": "2022-09-13T20:22:14.349Z"
   },
   {
    "duration": 15,
    "start_time": "2022-09-13T20:22:14.353Z"
   },
   {
    "duration": 14,
    "start_time": "2022-09-13T20:22:14.370Z"
   },
   {
    "duration": 6,
    "start_time": "2022-09-13T20:22:14.386Z"
   },
   {
    "duration": 10,
    "start_time": "2022-09-13T20:22:14.393Z"
   },
   {
    "duration": 8,
    "start_time": "2022-09-13T20:22:14.405Z"
   },
   {
    "duration": 3,
    "start_time": "2022-09-13T20:22:14.414Z"
   },
   {
    "duration": 5,
    "start_time": "2022-09-13T20:22:14.419Z"
   },
   {
    "duration": 12,
    "start_time": "2022-09-13T20:22:14.425Z"
   },
   {
    "duration": 5,
    "start_time": "2022-09-13T20:22:14.438Z"
   },
   {
    "duration": 11,
    "start_time": "2022-09-13T20:22:14.444Z"
   },
   {
    "duration": 240,
    "start_time": "2022-09-13T20:22:14.456Z"
   },
   {
    "duration": 192,
    "start_time": "2022-09-13T20:22:14.698Z"
   },
   {
    "duration": 193,
    "start_time": "2022-09-13T20:22:14.891Z"
   },
   {
    "duration": 8,
    "start_time": "2022-09-13T20:22:15.086Z"
   },
   {
    "duration": 191,
    "start_time": "2022-09-13T20:22:15.095Z"
   },
   {
    "duration": 245,
    "start_time": "2022-09-13T20:22:15.288Z"
   },
   {
    "duration": 5,
    "start_time": "2022-09-13T20:22:15.534Z"
   },
   {
    "duration": 197,
    "start_time": "2022-09-13T20:22:15.540Z"
   },
   {
    "duration": 9,
    "start_time": "2022-09-13T20:22:15.739Z"
   },
   {
    "duration": 247,
    "start_time": "2022-09-13T20:22:15.751Z"
   },
   {
    "duration": 312,
    "start_time": "2022-09-13T20:22:16.000Z"
   },
   {
    "duration": 13,
    "start_time": "2022-09-13T20:22:16.314Z"
   },
   {
    "duration": 147,
    "start_time": "2022-09-13T20:22:16.328Z"
   },
   {
    "duration": 8,
    "start_time": "2022-09-13T20:22:16.476Z"
   },
   {
    "duration": 16,
    "start_time": "2022-09-13T20:22:16.485Z"
   },
   {
    "duration": 35,
    "start_time": "2022-09-13T20:22:16.502Z"
   },
   {
    "duration": 4,
    "start_time": "2022-09-13T20:22:16.538Z"
   },
   {
    "duration": 24,
    "start_time": "2022-09-13T20:22:16.544Z"
   },
   {
    "duration": 6,
    "start_time": "2022-09-13T20:22:16.569Z"
   },
   {
    "duration": 8,
    "start_time": "2022-09-13T20:22:16.576Z"
   },
   {
    "duration": 1010,
    "start_time": "2022-09-13T20:25:15.872Z"
   },
   {
    "duration": 34,
    "start_time": "2022-09-13T20:25:16.884Z"
   },
   {
    "duration": 41,
    "start_time": "2022-09-13T20:25:16.919Z"
   },
   {
    "duration": 3,
    "start_time": "2022-09-13T20:25:16.962Z"
   },
   {
    "duration": 21,
    "start_time": "2022-09-13T20:25:16.966Z"
   },
   {
    "duration": 5,
    "start_time": "2022-09-13T20:25:16.989Z"
   },
   {
    "duration": 23,
    "start_time": "2022-09-13T20:25:16.995Z"
   },
   {
    "duration": 3,
    "start_time": "2022-09-13T20:25:17.019Z"
   },
   {
    "duration": 11,
    "start_time": "2022-09-13T20:25:17.024Z"
   },
   {
    "duration": 4,
    "start_time": "2022-09-13T20:25:17.037Z"
   },
   {
    "duration": 8,
    "start_time": "2022-09-13T20:25:17.042Z"
   },
   {
    "duration": 7,
    "start_time": "2022-09-13T20:25:17.051Z"
   },
   {
    "duration": 8,
    "start_time": "2022-09-13T20:25:17.059Z"
   },
   {
    "duration": 5,
    "start_time": "2022-09-13T20:25:17.068Z"
   },
   {
    "duration": 4,
    "start_time": "2022-09-13T20:25:17.075Z"
   },
   {
    "duration": 15,
    "start_time": "2022-09-13T20:25:17.080Z"
   },
   {
    "duration": 3,
    "start_time": "2022-09-13T20:25:17.121Z"
   },
   {
    "duration": 11,
    "start_time": "2022-09-13T20:25:17.126Z"
   },
   {
    "duration": 241,
    "start_time": "2022-09-13T20:25:17.138Z"
   },
   {
    "duration": 197,
    "start_time": "2022-09-13T20:25:17.381Z"
   },
   {
    "duration": 190,
    "start_time": "2022-09-13T20:25:17.580Z"
   },
   {
    "duration": 9,
    "start_time": "2022-09-13T20:25:17.771Z"
   },
   {
    "duration": 209,
    "start_time": "2022-09-13T20:25:17.782Z"
   },
   {
    "duration": 249,
    "start_time": "2022-09-13T20:25:17.992Z"
   },
   {
    "duration": 4,
    "start_time": "2022-09-13T20:25:18.242Z"
   },
   {
    "duration": 199,
    "start_time": "2022-09-13T20:25:18.247Z"
   },
   {
    "duration": 8,
    "start_time": "2022-09-13T20:25:18.447Z"
   },
   {
    "duration": 236,
    "start_time": "2022-09-13T20:25:18.458Z"
   },
   {
    "duration": 270,
    "start_time": "2022-09-13T20:25:18.695Z"
   },
   {
    "duration": 7,
    "start_time": "2022-09-13T20:25:18.966Z"
   },
   {
    "duration": 167,
    "start_time": "2022-09-13T20:25:18.975Z"
   },
   {
    "duration": 8,
    "start_time": "2022-09-13T20:25:19.143Z"
   },
   {
    "duration": 28,
    "start_time": "2022-09-13T20:25:19.152Z"
   },
   {
    "duration": 30,
    "start_time": "2022-09-13T20:25:19.182Z"
   },
   {
    "duration": 5,
    "start_time": "2022-09-13T20:25:19.214Z"
   },
   {
    "duration": 39,
    "start_time": "2022-09-13T20:25:19.220Z"
   },
   {
    "duration": 6,
    "start_time": "2022-09-13T20:25:19.260Z"
   },
   {
    "duration": 11,
    "start_time": "2022-09-13T20:25:19.267Z"
   },
   {
    "duration": 74,
    "start_time": "2022-09-13T20:29:36.908Z"
   },
   {
    "duration": 1039,
    "start_time": "2022-09-13T20:30:19.548Z"
   },
   {
    "duration": 34,
    "start_time": "2022-09-13T20:30:20.588Z"
   },
   {
    "duration": 42,
    "start_time": "2022-09-13T20:30:20.623Z"
   },
   {
    "duration": 3,
    "start_time": "2022-09-13T20:30:20.667Z"
   },
   {
    "duration": 15,
    "start_time": "2022-09-13T20:30:20.671Z"
   },
   {
    "duration": 5,
    "start_time": "2022-09-13T20:30:20.687Z"
   },
   {
    "duration": 22,
    "start_time": "2022-09-13T20:30:20.693Z"
   },
   {
    "duration": 3,
    "start_time": "2022-09-13T20:30:20.716Z"
   },
   {
    "duration": 11,
    "start_time": "2022-09-13T20:30:20.720Z"
   },
   {
    "duration": 5,
    "start_time": "2022-09-13T20:30:20.733Z"
   },
   {
    "duration": 7,
    "start_time": "2022-09-13T20:30:20.739Z"
   },
   {
    "duration": 7,
    "start_time": "2022-09-13T20:30:20.747Z"
   },
   {
    "duration": 9,
    "start_time": "2022-09-13T20:30:20.755Z"
   },
   {
    "duration": 4,
    "start_time": "2022-09-13T20:30:20.765Z"
   },
   {
    "duration": 8,
    "start_time": "2022-09-13T20:30:20.770Z"
   },
   {
    "duration": 17,
    "start_time": "2022-09-13T20:30:20.779Z"
   },
   {
    "duration": 5,
    "start_time": "2022-09-13T20:30:20.797Z"
   },
   {
    "duration": 23,
    "start_time": "2022-09-13T20:30:20.804Z"
   },
   {
    "duration": 241,
    "start_time": "2022-09-13T20:30:20.828Z"
   },
   {
    "duration": 191,
    "start_time": "2022-09-13T20:30:21.071Z"
   },
   {
    "duration": 199,
    "start_time": "2022-09-13T20:30:21.264Z"
   },
   {
    "duration": 8,
    "start_time": "2022-09-13T20:30:21.465Z"
   },
   {
    "duration": 197,
    "start_time": "2022-09-13T20:30:21.475Z"
   },
   {
    "duration": 227,
    "start_time": "2022-09-13T20:30:21.674Z"
   },
   {
    "duration": 5,
    "start_time": "2022-09-13T20:30:21.902Z"
   },
   {
    "duration": 197,
    "start_time": "2022-09-13T20:30:21.909Z"
   },
   {
    "duration": 14,
    "start_time": "2022-09-13T20:30:22.108Z"
   },
   {
    "duration": 261,
    "start_time": "2022-09-13T20:30:22.125Z"
   },
   {
    "duration": 286,
    "start_time": "2022-09-13T20:30:22.387Z"
   },
   {
    "duration": 9,
    "start_time": "2022-09-13T20:30:22.674Z"
   },
   {
    "duration": 171,
    "start_time": "2022-09-13T20:30:22.684Z"
   },
   {
    "duration": 9,
    "start_time": "2022-09-13T20:30:22.856Z"
   },
   {
    "duration": 18,
    "start_time": "2022-09-13T20:30:22.867Z"
   },
   {
    "duration": 40,
    "start_time": "2022-09-13T20:30:22.886Z"
   },
   {
    "duration": 6,
    "start_time": "2022-09-13T20:30:22.928Z"
   },
   {
    "duration": 48,
    "start_time": "2022-09-13T20:30:22.936Z"
   },
   {
    "duration": 7,
    "start_time": "2022-09-13T20:30:22.986Z"
   },
   {
    "duration": 8,
    "start_time": "2022-09-13T20:30:22.995Z"
   },
   {
    "duration": 1035,
    "start_time": "2022-09-13T20:35:58.857Z"
   },
   {
    "duration": 35,
    "start_time": "2022-09-13T20:35:59.894Z"
   },
   {
    "duration": 42,
    "start_time": "2022-09-13T20:35:59.930Z"
   },
   {
    "duration": 3,
    "start_time": "2022-09-13T20:35:59.974Z"
   },
   {
    "duration": 14,
    "start_time": "2022-09-13T20:35:59.978Z"
   },
   {
    "duration": 6,
    "start_time": "2022-09-13T20:35:59.993Z"
   },
   {
    "duration": 23,
    "start_time": "2022-09-13T20:36:00.000Z"
   },
   {
    "duration": 3,
    "start_time": "2022-09-13T20:36:00.024Z"
   },
   {
    "duration": 17,
    "start_time": "2022-09-13T20:36:00.028Z"
   },
   {
    "duration": 4,
    "start_time": "2022-09-13T20:36:00.047Z"
   },
   {
    "duration": 14,
    "start_time": "2022-09-13T20:36:00.052Z"
   },
   {
    "duration": 13,
    "start_time": "2022-09-13T20:36:00.068Z"
   },
   {
    "duration": 11,
    "start_time": "2022-09-13T20:36:00.082Z"
   },
   {
    "duration": 5,
    "start_time": "2022-09-13T20:36:00.094Z"
   },
   {
    "duration": 5,
    "start_time": "2022-09-13T20:36:00.101Z"
   },
   {
    "duration": 15,
    "start_time": "2022-09-13T20:36:00.107Z"
   },
   {
    "duration": 5,
    "start_time": "2022-09-13T20:36:00.123Z"
   },
   {
    "duration": 12,
    "start_time": "2022-09-13T20:36:00.129Z"
   },
   {
    "duration": 238,
    "start_time": "2022-09-13T20:36:00.143Z"
   },
   {
    "duration": 203,
    "start_time": "2022-09-13T20:36:00.383Z"
   },
   {
    "duration": 189,
    "start_time": "2022-09-13T20:36:00.588Z"
   },
   {
    "duration": 8,
    "start_time": "2022-09-13T20:36:00.779Z"
   },
   {
    "duration": 196,
    "start_time": "2022-09-13T20:36:00.788Z"
   },
   {
    "duration": 248,
    "start_time": "2022-09-13T20:36:00.986Z"
   },
   {
    "duration": 4,
    "start_time": "2022-09-13T20:36:01.235Z"
   },
   {
    "duration": 200,
    "start_time": "2022-09-13T20:36:01.240Z"
   },
   {
    "duration": 9,
    "start_time": "2022-09-13T20:36:01.442Z"
   },
   {
    "duration": 250,
    "start_time": "2022-09-13T20:36:01.454Z"
   },
   {
    "duration": 270,
    "start_time": "2022-09-13T20:36:01.706Z"
   },
   {
    "duration": 8,
    "start_time": "2022-09-13T20:36:01.977Z"
   },
   {
    "duration": 173,
    "start_time": "2022-09-13T20:36:01.987Z"
   },
   {
    "duration": 8,
    "start_time": "2022-09-13T20:36:02.161Z"
   },
   {
    "duration": 38,
    "start_time": "2022-09-13T20:36:02.171Z"
   },
   {
    "duration": 34,
    "start_time": "2022-09-13T20:36:02.210Z"
   },
   {
    "duration": 15,
    "start_time": "2022-09-13T20:36:02.246Z"
   },
   {
    "duration": 34,
    "start_time": "2022-09-13T20:36:02.263Z"
   },
   {
    "duration": 6,
    "start_time": "2022-09-13T20:36:02.299Z"
   },
   {
    "duration": 19,
    "start_time": "2022-09-13T20:36:02.307Z"
   },
   {
    "duration": 1269,
    "start_time": "2022-09-14T07:25:14.534Z"
   },
   {
    "duration": 71,
    "start_time": "2022-09-14T07:25:15.806Z"
   },
   {
    "duration": 86,
    "start_time": "2022-09-14T07:25:15.879Z"
   },
   {
    "duration": 4,
    "start_time": "2022-09-14T07:25:15.967Z"
   },
   {
    "duration": 12,
    "start_time": "2022-09-14T07:25:15.972Z"
   },
   {
    "duration": 7,
    "start_time": "2022-09-14T07:25:15.986Z"
   },
   {
    "duration": 63,
    "start_time": "2022-09-14T07:25:15.994Z"
   },
   {
    "duration": 3,
    "start_time": "2022-09-14T07:25:16.058Z"
   },
   {
    "duration": 14,
    "start_time": "2022-09-14T07:25:16.063Z"
   },
   {
    "duration": 4,
    "start_time": "2022-09-14T07:25:16.079Z"
   },
   {
    "duration": 8,
    "start_time": "2022-09-14T07:25:16.084Z"
   },
   {
    "duration": 8,
    "start_time": "2022-09-14T07:25:16.094Z"
   },
   {
    "duration": 8,
    "start_time": "2022-09-14T07:25:16.103Z"
   },
   {
    "duration": 4,
    "start_time": "2022-09-14T07:25:16.112Z"
   },
   {
    "duration": 5,
    "start_time": "2022-09-14T07:25:16.118Z"
   },
   {
    "duration": 15,
    "start_time": "2022-09-14T07:25:16.124Z"
   },
   {
    "duration": 5,
    "start_time": "2022-09-14T07:25:16.140Z"
   },
   {
    "duration": 12,
    "start_time": "2022-09-14T07:25:16.147Z"
   },
   {
    "duration": 269,
    "start_time": "2022-09-14T07:25:16.160Z"
   },
   {
    "duration": 209,
    "start_time": "2022-09-14T07:25:16.431Z"
   },
   {
    "duration": 203,
    "start_time": "2022-09-14T07:25:16.642Z"
   },
   {
    "duration": 8,
    "start_time": "2022-09-14T07:25:16.847Z"
   },
   {
    "duration": 208,
    "start_time": "2022-09-14T07:25:16.857Z"
   },
   {
    "duration": 277,
    "start_time": "2022-09-14T07:25:17.067Z"
   },
   {
    "duration": 4,
    "start_time": "2022-09-14T07:25:17.346Z"
   },
   {
    "duration": 228,
    "start_time": "2022-09-14T07:25:17.351Z"
   },
   {
    "duration": 8,
    "start_time": "2022-09-14T07:25:17.581Z"
   },
   {
    "duration": 306,
    "start_time": "2022-09-14T07:25:17.592Z"
   },
   {
    "duration": 305,
    "start_time": "2022-09-14T07:25:17.900Z"
   },
   {
    "duration": 15,
    "start_time": "2022-09-14T07:25:18.207Z"
   },
   {
    "duration": 168,
    "start_time": "2022-09-14T07:25:18.223Z"
   },
   {
    "duration": 9,
    "start_time": "2022-09-14T07:25:18.392Z"
   },
   {
    "duration": 32,
    "start_time": "2022-09-14T07:25:18.402Z"
   },
   {
    "duration": 23,
    "start_time": "2022-09-14T07:25:18.436Z"
   },
   {
    "duration": 5,
    "start_time": "2022-09-14T07:25:18.460Z"
   },
   {
    "duration": 32,
    "start_time": "2022-09-14T07:25:18.467Z"
   },
   {
    "duration": 7,
    "start_time": "2022-09-14T07:25:18.521Z"
   },
   {
    "duration": 11,
    "start_time": "2022-09-14T07:25:18.529Z"
   }
  ],
  "kernelspec": {
   "display_name": "Python 3 (ipykernel)",
   "language": "python",
   "name": "python3"
  },
  "language_info": {
   "codemirror_mode": {
    "name": "ipython",
    "version": 3
   },
   "file_extension": ".py",
   "mimetype": "text/x-python",
   "name": "python",
   "nbconvert_exporter": "python",
   "pygments_lexer": "ipython3",
   "version": "3.9.7"
  },
  "toc": {
   "base_numbering": 1,
   "nav_menu": {},
   "number_sections": true,
   "sideBar": true,
   "skip_h1_title": true,
   "title_cell": "Table of Contents",
   "title_sidebar": "Contents",
   "toc_cell": false,
   "toc_position": {},
   "toc_section_display": true,
   "toc_window_display": false
  }
 },
 "nbformat": 4,
 "nbformat_minor": 5
}
