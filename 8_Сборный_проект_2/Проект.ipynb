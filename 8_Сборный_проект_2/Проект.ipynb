{
 "cells": [
  {
   "cell_type": "code",
   "execution_count": 1,
   "id": "4044bb03",
   "metadata": {
    "tags": [
     "aa81075c-062f-4de0-b5fe-14c73dc7468e"
    ]
   },
   "outputs": [],
   "source": [
    "import pandas as pd\n",
    "import numpy as np\n",
    "from sqlalchemy import create_engine"
   ]
  },
  {
   "cell_type": "markdown",
   "id": "afbb6b49",
   "metadata": {},
   "source": [
    "# Исследование NPS телекоммуникационной компании среди клиентов России"
   ]
  },
  {
   "cell_type": "markdown",
   "id": "92151637",
   "metadata": {},
   "source": [
    "- [Описание проекта](#project_description)\n",
    "- [Выгрузка данных](#data_upload)\n",
    "- [Дашборды на сайте Tableau Public](#dashboards)\n",
    "- [pdf-файл с презентацией](#presentation)"
   ]
  },
  {
   "cell_type": "markdown",
   "id": "af5abac0",
   "metadata": {},
   "source": [
    "## Описание проекта <a name='project_description'></a>"
   ]
  },
  {
   "cell_type": "markdown",
   "id": "b75076b2",
   "metadata": {},
   "source": [
    "Используя дашборд, нужно ответить на вопросы:\n",
    "\n",
    "* Как распределены участники опроса по возрасту, полу и возрасту? Каких пользователей больше: новых или старых? Пользователи из каких городов активнее участвовали в опросе?\n",
    "\n",
    "* Какие группы пользователей наиболее лояльны к сервису? Какие менее?\n",
    "\n",
    "* Какой общий NPS среди всех опрошенных?\n",
    "\n",
    "* Как можно описать клиентов, которые относятся к группе cторонников?"
   ]
  },
  {
   "cell_type": "markdown",
   "id": "407846fa",
   "metadata": {},
   "source": [
    "## Выгрузка данных <a name='data_upload'></a>"
   ]
  },
  {
   "cell_type": "code",
   "execution_count": 2,
   "id": "2c79f3dc",
   "metadata": {},
   "outputs": [],
   "source": [
    "path_to_db = '../datasets/telecomm_csi.db'\n",
    "engine = create_engine(f'sqlite:///{path_to_db}', echo = False)"
   ]
  },
  {
   "cell_type": "code",
   "execution_count": 3,
   "id": "06cf5379",
   "metadata": {},
   "outputs": [],
   "source": [
    "query = \"\"\"\n",
    "        SELECT\n",
    "            u.user_id,\n",
    "            u.lt_day,\n",
    "            CASE \n",
    "                WHEN u.lt_day <= 365 THEN 1 \n",
    "                ELSE 0 \n",
    "            END AS is_new,\n",
    "            u.age,\n",
    "            CASE \n",
    "                WHEN u.gender_segment = 1 THEN 'женщина' \n",
    "                WHEN u.gender_segment = 0 THEN 'мужчина' \n",
    "                ELSE u.gender_segment\n",
    "            END AS gender_segment,\n",
    "            u.os_name,\n",
    "            u.cpe_type_name,\n",
    "            l.country,\n",
    "            l.city, \n",
    "            CASE \n",
    "                WHEN SUBSTR(a_s.title, INSTR(a_s.title, ' ') + 1) = 'n/a' THEN Null\n",
    "                ELSE SUBSTR(a_s.title, INSTR(a_s.title, ' ') + 1) \n",
    "            END AS age_segment, \n",
    "            SUBSTR(t_s.title, INSTR(t_s.title, ' ') + 1) AS traffic_segment,\n",
    "            SUBSTR(l_s.title, INSTR(l_s.title, ' ') + 1) AS lifetime_segment,\n",
    "            u.nps_score,\n",
    "            CASE\n",
    "                WHEN u.nps_score <= 6 THEN 'критик'\n",
    "                WHEN u.nps_score <= 8 THEN 'нейтрал'\n",
    "                ELSE 'сторонник'\n",
    "            END AS nps_group\n",
    "        FROM user AS u\n",
    "        JOIN location AS l USING (location_id)\n",
    "        JOIN age_segment AS a_s USING (age_gr_id)\n",
    "        JOIN traffic_segment AS t_s USING (tr_gr_id)\n",
    "        JOIN lifetime_segment AS l_s USING (lt_gr_id)\n",
    "\"\"\""
   ]
  },
  {
   "cell_type": "code",
   "execution_count": 4,
   "id": "9f6865c3",
   "metadata": {},
   "outputs": [
    {
     "data": {
      "text/html": [
       "<div>\n",
       "<style scoped>\n",
       "    .dataframe tbody tr th:only-of-type {\n",
       "        vertical-align: middle;\n",
       "    }\n",
       "\n",
       "    .dataframe tbody tr th {\n",
       "        vertical-align: top;\n",
       "    }\n",
       "\n",
       "    .dataframe thead th {\n",
       "        text-align: right;\n",
       "    }\n",
       "</style>\n",
       "<table border=\"1\" class=\"dataframe\">\n",
       "  <thead>\n",
       "    <tr style=\"text-align: right;\">\n",
       "      <th></th>\n",
       "      <th>user_id</th>\n",
       "      <th>lt_day</th>\n",
       "      <th>is_new</th>\n",
       "      <th>age</th>\n",
       "      <th>gender_segment</th>\n",
       "      <th>os_name</th>\n",
       "      <th>cpe_type_name</th>\n",
       "      <th>country</th>\n",
       "      <th>city</th>\n",
       "      <th>age_segment</th>\n",
       "      <th>traffic_segment</th>\n",
       "      <th>lifetime_segment</th>\n",
       "      <th>nps_score</th>\n",
       "      <th>nps_group</th>\n",
       "    </tr>\n",
       "  </thead>\n",
       "  <tbody>\n",
       "    <tr>\n",
       "      <th>0</th>\n",
       "      <td>A001A2</td>\n",
       "      <td>2320</td>\n",
       "      <td>0</td>\n",
       "      <td>45.0</td>\n",
       "      <td>женщина</td>\n",
       "      <td>ANDROID</td>\n",
       "      <td>SMARTPHONE</td>\n",
       "      <td>Россия</td>\n",
       "      <td>Уфа</td>\n",
       "      <td>45-54</td>\n",
       "      <td>1-5</td>\n",
       "      <td>36+</td>\n",
       "      <td>10</td>\n",
       "      <td>сторонник</td>\n",
       "    </tr>\n",
       "    <tr>\n",
       "      <th>1</th>\n",
       "      <td>A001WF</td>\n",
       "      <td>2344</td>\n",
       "      <td>0</td>\n",
       "      <td>53.0</td>\n",
       "      <td>мужчина</td>\n",
       "      <td>ANDROID</td>\n",
       "      <td>SMARTPHONE</td>\n",
       "      <td>Россия</td>\n",
       "      <td>Киров</td>\n",
       "      <td>45-54</td>\n",
       "      <td>1-5</td>\n",
       "      <td>36+</td>\n",
       "      <td>10</td>\n",
       "      <td>сторонник</td>\n",
       "    </tr>\n",
       "    <tr>\n",
       "      <th>2</th>\n",
       "      <td>A003Q7</td>\n",
       "      <td>467</td>\n",
       "      <td>0</td>\n",
       "      <td>57.0</td>\n",
       "      <td>мужчина</td>\n",
       "      <td>ANDROID</td>\n",
       "      <td>SMARTPHONE</td>\n",
       "      <td>Россия</td>\n",
       "      <td>Москва</td>\n",
       "      <td>55-64</td>\n",
       "      <td>20-25</td>\n",
       "      <td>13-24</td>\n",
       "      <td>10</td>\n",
       "      <td>сторонник</td>\n",
       "    </tr>\n",
       "    <tr>\n",
       "      <th>3</th>\n",
       "      <td>A004TB</td>\n",
       "      <td>4190</td>\n",
       "      <td>0</td>\n",
       "      <td>44.0</td>\n",
       "      <td>женщина</td>\n",
       "      <td>IOS</td>\n",
       "      <td>SMARTPHONE</td>\n",
       "      <td>Россия</td>\n",
       "      <td>РостовнаДону</td>\n",
       "      <td>35-44</td>\n",
       "      <td>0.1-1</td>\n",
       "      <td>36+</td>\n",
       "      <td>10</td>\n",
       "      <td>сторонник</td>\n",
       "    </tr>\n",
       "    <tr>\n",
       "      <th>4</th>\n",
       "      <td>A004XT</td>\n",
       "      <td>1163</td>\n",
       "      <td>0</td>\n",
       "      <td>24.0</td>\n",
       "      <td>мужчина</td>\n",
       "      <td>ANDROID</td>\n",
       "      <td>SMARTPHONE</td>\n",
       "      <td>Россия</td>\n",
       "      <td>Рязань</td>\n",
       "      <td>16-24</td>\n",
       "      <td>5-10</td>\n",
       "      <td>36+</td>\n",
       "      <td>10</td>\n",
       "      <td>сторонник</td>\n",
       "    </tr>\n",
       "  </tbody>\n",
       "</table>\n",
       "</div>"
      ],
      "text/plain": [
       "  user_id  lt_day  is_new   age gender_segment  os_name cpe_type_name country  \\\n",
       "0  A001A2    2320       0  45.0        женщина  ANDROID    SMARTPHONE  Россия   \n",
       "1  A001WF    2344       0  53.0        мужчина  ANDROID    SMARTPHONE  Россия   \n",
       "2  A003Q7     467       0  57.0        мужчина  ANDROID    SMARTPHONE  Россия   \n",
       "3  A004TB    4190       0  44.0        женщина      IOS    SMARTPHONE  Россия   \n",
       "4  A004XT    1163       0  24.0        мужчина  ANDROID    SMARTPHONE  Россия   \n",
       "\n",
       "           city age_segment traffic_segment lifetime_segment  nps_score  \\\n",
       "0           Уфа       45-54             1-5              36+         10   \n",
       "1         Киров       45-54             1-5              36+         10   \n",
       "2        Москва       55-64           20-25            13-24         10   \n",
       "3  РостовнаДону       35-44           0.1-1              36+         10   \n",
       "4        Рязань       16-24            5-10              36+         10   \n",
       "\n",
       "   nps_group  \n",
       "0  сторонник  \n",
       "1  сторонник  \n",
       "2  сторонник  \n",
       "3  сторонник  \n",
       "4  сторонник  "
      ]
     },
     "execution_count": 4,
     "metadata": {},
     "output_type": "execute_result"
    }
   ],
   "source": [
    "df = pd.read_sql(query, engine)\n",
    "df.head(5)"
   ]
  },
  {
   "cell_type": "code",
   "execution_count": 5,
   "id": "5a271721",
   "metadata": {},
   "outputs": [],
   "source": [
    "df.to_csv('../datasets/telecomm_csi_tableau.csv', index=False)"
   ]
  },
  {
   "cell_type": "markdown",
   "id": "77f2899a",
   "metadata": {},
   "source": [
    "## Дашборды на сайте Tableau Public <a name='dashboards'></a>\n",
    "\n",
    "https://public.tableau.com/views/2_16516078441580/1_?:language=en-US&:display_count=n&:origin=viz_share_link"
   ]
  },
  {
   "cell_type": "markdown",
   "id": "e5c987b4",
   "metadata": {},
   "source": [
    "## pdf-файл с презентацией <a name='presentation'></a>\n",
    "\n",
    "https://drive.google.com/file/d/1c86VfoLOJlqboG-Vrnw_63WwdsH-iCrA/view?usp=sharing"
   ]
  }
 ],
 "metadata": {
  "ExecuteTimeLog": [
   {
    "duration": 752,
    "start_time": "2021-10-03T17:40:52.731Z"
   },
   {
    "duration": 20,
    "start_time": "2021-10-03T17:40:53.486Z"
   },
   {
    "duration": 4,
    "start_time": "2021-10-03T17:41:04.638Z"
   },
   {
    "duration": 461,
    "start_time": "2021-10-03T17:41:04.912Z"
   },
   {
    "duration": 284,
    "start_time": "2021-10-03T17:41:05.376Z"
   },
   {
    "duration": 574,
    "start_time": "2021-10-06T07:55:05.029Z"
   },
   {
    "duration": 6,
    "start_time": "2021-10-06T07:55:05.605Z"
   },
   {
    "duration": 3,
    "start_time": "2021-10-06T07:55:14.685Z"
   },
   {
    "duration": 406,
    "start_time": "2021-10-06T07:55:15.522Z"
   },
   {
    "duration": 67,
    "start_time": "2021-10-06T07:55:15.929Z"
   },
   {
    "duration": 840,
    "start_time": "2021-10-07T07:54:04.647Z"
   },
   {
    "duration": 10,
    "start_time": "2021-10-07T07:54:05.490Z"
   },
   {
    "duration": 4,
    "start_time": "2021-10-07T07:54:05.544Z"
   },
   {
    "duration": 391,
    "start_time": "2021-10-07T07:54:06.237Z"
   },
   {
    "duration": 293,
    "start_time": "2021-10-07T07:54:06.654Z"
   },
   {
    "duration": 684,
    "start_time": "2022-05-04T15:05:46.001Z"
   },
   {
    "duration": 28,
    "start_time": "2022-05-04T15:05:47.478Z"
   },
   {
    "duration": 5,
    "start_time": "2022-05-04T15:05:48.030Z"
   },
   {
    "duration": 11568,
    "start_time": "2022-05-04T15:05:48.873Z"
   },
   {
    "duration": 7242,
    "start_time": "2022-05-04T15:06:50.952Z"
   },
   {
    "duration": 721,
    "start_time": "2022-05-05T08:24:32.432Z"
   },
   {
    "duration": 14,
    "start_time": "2022-05-05T08:24:33.156Z"
   },
   {
    "duration": 5,
    "start_time": "2022-05-05T08:24:33.172Z"
   },
   {
    "duration": 7446,
    "start_time": "2022-05-05T08:24:33.179Z"
   },
   {
    "duration": 6017,
    "start_time": "2022-05-05T08:24:40.629Z"
   },
   {
    "duration": 499,
    "start_time": "2022-05-05T16:47:39.315Z"
   },
   {
    "duration": 28,
    "start_time": "2022-05-05T16:47:39.816Z"
   },
   {
    "duration": 4,
    "start_time": "2022-05-05T16:47:39.949Z"
   },
   {
    "duration": 5547,
    "start_time": "2022-05-05T16:47:41.310Z"
   },
   {
    "duration": 3,
    "start_time": "2022-05-05T16:48:45.603Z"
   },
   {
    "duration": 5285,
    "start_time": "2022-05-05T16:48:47.518Z"
   },
   {
    "duration": 141,
    "start_time": "2022-05-05T16:49:07.621Z"
   },
   {
    "duration": 1847,
    "start_time": "2022-05-05T16:49:24.913Z"
   },
   {
    "duration": 210,
    "start_time": "2022-05-05T16:49:32.139Z"
   },
   {
    "duration": 101,
    "start_time": "2022-05-05T16:49:34.805Z"
   },
   {
    "duration": 78,
    "start_time": "2022-05-05T16:49:47.270Z"
   },
   {
    "duration": 68,
    "start_time": "2022-05-05T16:49:50.902Z"
   },
   {
    "duration": 592,
    "start_time": "2022-05-05T21:41:28.022Z"
   },
   {
    "duration": 23,
    "start_time": "2022-05-05T21:41:28.616Z"
   },
   {
    "duration": 4,
    "start_time": "2022-05-05T21:41:28.641Z"
   },
   {
    "duration": 6263,
    "start_time": "2022-05-05T21:41:28.975Z"
   },
   {
    "duration": 3434,
    "start_time": "2022-05-05T21:41:35.240Z"
   },
   {
    "duration": 464,
    "start_time": "2022-05-06T10:41:29.636Z"
   },
   {
    "duration": 18,
    "start_time": "2022-05-06T10:41:30.102Z"
   },
   {
    "duration": 4,
    "start_time": "2022-05-06T10:41:30.122Z"
   },
   {
    "duration": 7614,
    "start_time": "2022-05-06T10:41:30.128Z"
   },
   {
    "duration": 3610,
    "start_time": "2022-05-06T10:41:37.744Z"
   }
  ],
  "kernelspec": {
   "display_name": "Python 3 (ipykernel)",
   "language": "python",
   "name": "python3"
  },
  "language_info": {
   "codemirror_mode": {
    "name": "ipython",
    "version": 3
   },
   "file_extension": ".py",
   "mimetype": "text/x-python",
   "name": "python",
   "nbconvert_exporter": "python",
   "pygments_lexer": "ipython3",
   "version": "3.9.7"
  },
  "toc": {
   "base_numbering": 1,
   "nav_menu": {},
   "number_sections": true,
   "sideBar": true,
   "skip_h1_title": true,
   "title_cell": "Table of Contents",
   "title_sidebar": "Contents",
   "toc_cell": false,
   "toc_position": {},
   "toc_section_display": true,
   "toc_window_display": false
  }
 },
 "nbformat": 4,
 "nbformat_minor": 5
}
